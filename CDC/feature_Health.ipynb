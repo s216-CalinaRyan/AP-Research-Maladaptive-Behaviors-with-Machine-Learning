{
 "cells": [
  {
   "cell_type": "code",
   "execution_count": 1,
   "id": "e5bb97a2-eed5-4d77-8436-ef1ab22f2044",
   "metadata": {
    "scrolled": true
   },
   "outputs": [],
   "source": [
    "import numpy as np\n",
    "import pandas as pd\n",
    "\n",
    "import tensorflow as tf\n",
    "\n",
    "from tensorflow import feature_column\n",
    "from tensorflow.keras import layers\n",
    "from sklearn.model_selection import train_test_split\n",
    "from tensorflow.keras import regularizers\n",
    "from tensorflow.keras.callbacks import EarlyStopping\n",
    "from tensorflow.keras.callbacks import ReduceLROnPlateau\n",
    "\n",
    "from imblearn.over_sampling import SMOTE\n"
   ]
  },
  {
   "cell_type": "markdown",
   "id": "232e49dd-4e90-4bcd-bc87-1ef5d3ccc058",
   "metadata": {},
   "source": [
    "Tutorial link: https://www.tensorflow.org/tutorials/structured_data/feature_columns"
   ]
  },
  {
   "cell_type": "code",
   "execution_count": 3,
   "id": "7359ca0b-3b25-4299-bcc5-abb0fee14063",
   "metadata": {},
   "outputs": [],
   "source": [
    "dataframe = pd.read_csv(\"health.csv\")"
   ]
  },
  {
   "cell_type": "code",
   "execution_count": 4,
   "id": "7af47d76-395c-447c-95ef-4b3fa3f003d9",
   "metadata": {},
   "outputs": [],
   "source": [
    "dataframe.dropna(inplace=True)"
   ]
  },
  {
   "cell_type": "code",
   "execution_count": 5,
   "id": "73235cb3-dfd8-4f35-b5d6-3960d748ab82",
   "metadata": {
    "scrolled": true
   },
   "outputs": [
    {
     "name": "stdout",
     "output_type": "stream",
     "text": [
      "<class 'pandas.core.frame.DataFrame'>\n",
      "RangeIndex: 19046 entries, 0 to 19045\n",
      "Data columns (total 53 columns):\n",
      " #   Column  Non-Null Count  Dtype  \n",
      "---  ------  --------------  -----  \n",
      " 0   q66     19046 non-null  float64\n",
      " 1   q67     19046 non-null  float64\n",
      " 2   q68     19046 non-null  float64\n",
      " 3   q69     19046 non-null  float64\n",
      " 4   q70     19046 non-null  float64\n",
      " 5   q71     19046 non-null  float64\n",
      " 6   q72     19046 non-null  float64\n",
      " 7   q73     19046 non-null  float64\n",
      " 8   q76     19046 non-null  float64\n",
      " 9   q78     19046 non-null  float64\n",
      " 10  q83     19046 non-null  float64\n",
      " 11  q96     19046 non-null  float64\n",
      " 12  q97     19046 non-null  float64\n",
      " 13  q106    19046 non-null  float64\n",
      " 14  q8      19046 non-null  float64\n",
      " 15  q9      19046 non-null  float64\n",
      " 16  q10     19046 non-null  float64\n",
      " 17  q11     19046 non-null  float64\n",
      " 18  q12     19046 non-null  float64\n",
      " 19  q17     19046 non-null  float64\n",
      " 20  q19     19046 non-null  float64\n",
      " 21  q26     19046 non-null  float64\n",
      " 22  q27     19046 non-null  float64\n",
      " 23  q28     19046 non-null  float64\n",
      " 24  q29     19046 non-null  float64\n",
      " 25  q30     19046 non-null  float64\n",
      " 26  q31     19046 non-null  float64\n",
      " 27  q35     19046 non-null  float64\n",
      " 28  q38     19046 non-null  float64\n",
      " 29  q39     19046 non-null  float64\n",
      " 30  q46     19046 non-null  float64\n",
      " 31  q49     19046 non-null  float64\n",
      " 32  q50     19046 non-null  float64\n",
      " 33  q51     19046 non-null  float64\n",
      " 34  q52     19046 non-null  float64\n",
      " 35  q53     19046 non-null  float64\n",
      " 36  q54     19046 non-null  float64\n",
      " 37  q55     19046 non-null  float64\n",
      " 38  q58     19046 non-null  float64\n",
      " 39  q59     19046 non-null  float64\n",
      " 40  q60     19046 non-null  float64\n",
      " 41  q61     19046 non-null  float64\n",
      " 42  q74     19046 non-null  float64\n",
      " 43  q75     19046 non-null  float64\n",
      " 44  q79     19046 non-null  float64\n",
      " 45  q80     19046 non-null  float64\n",
      " 46  q81     19046 non-null  float64\n",
      " 47  q82     19046 non-null  float64\n",
      " 48  q84     19046 non-null  float64\n",
      " 49  q85     19046 non-null  float64\n",
      " 50  q87     19046 non-null  float64\n",
      " 51  q92     19046 non-null  float64\n",
      " 52  MB      19046 non-null  float64\n",
      "dtypes: float64(53)\n",
      "memory usage: 7.7 MB\n"
     ]
    }
   ],
   "source": [
    "dataframe.info()"
   ]
  },
  {
   "cell_type": "code",
   "execution_count": 6,
   "id": "b2afeff0-b551-4b83-8889-62405afdc9f1",
   "metadata": {},
   "outputs": [],
   "source": [
    "dataframe['target'] = dataframe['MB']\n"
   ]
  },
  {
   "cell_type": "code",
   "execution_count": 7,
   "id": "a212c76a-dc8c-480a-bc83-a9552a7a7d6c",
   "metadata": {},
   "outputs": [
    {
     "data": {
      "text/html": [
       "<div>\n",
       "<style scoped>\n",
       "    .dataframe tbody tr th:only-of-type {\n",
       "        vertical-align: middle;\n",
       "    }\n",
       "\n",
       "    .dataframe tbody tr th {\n",
       "        vertical-align: top;\n",
       "    }\n",
       "\n",
       "    .dataframe thead th {\n",
       "        text-align: right;\n",
       "    }\n",
       "</style>\n",
       "<table border=\"1\" class=\"dataframe\">\n",
       "  <thead>\n",
       "    <tr style=\"text-align: right;\">\n",
       "      <th></th>\n",
       "      <th>q66</th>\n",
       "      <th>q67</th>\n",
       "      <th>q68</th>\n",
       "      <th>q69</th>\n",
       "      <th>q70</th>\n",
       "      <th>q71</th>\n",
       "      <th>q72</th>\n",
       "      <th>q73</th>\n",
       "      <th>q76</th>\n",
       "      <th>q78</th>\n",
       "      <th>...</th>\n",
       "      <th>q79</th>\n",
       "      <th>q80</th>\n",
       "      <th>q81</th>\n",
       "      <th>q82</th>\n",
       "      <th>q84</th>\n",
       "      <th>q85</th>\n",
       "      <th>q87</th>\n",
       "      <th>q92</th>\n",
       "      <th>MB</th>\n",
       "      <th>target</th>\n",
       "    </tr>\n",
       "  </thead>\n",
       "  <tbody>\n",
       "    <tr>\n",
       "      <th>0</th>\n",
       "      <td>0.25</td>\n",
       "      <td>0.000000</td>\n",
       "      <td>0.166667</td>\n",
       "      <td>0.333333</td>\n",
       "      <td>0.0</td>\n",
       "      <td>0.000000</td>\n",
       "      <td>0.0</td>\n",
       "      <td>0.000000</td>\n",
       "      <td>0.000000</td>\n",
       "      <td>0.333333</td>\n",
       "      <td>...</td>\n",
       "      <td>0.00</td>\n",
       "      <td>0.714286</td>\n",
       "      <td>0.0</td>\n",
       "      <td>0.0</td>\n",
       "      <td>0.00</td>\n",
       "      <td>0.666667</td>\n",
       "      <td>0.200804</td>\n",
       "      <td>0.2</td>\n",
       "      <td>0.0</td>\n",
       "      <td>0.0</td>\n",
       "    </tr>\n",
       "    <tr>\n",
       "      <th>1</th>\n",
       "      <td>0.75</td>\n",
       "      <td>0.000000</td>\n",
       "      <td>0.000000</td>\n",
       "      <td>0.000000</td>\n",
       "      <td>0.0</td>\n",
       "      <td>0.000000</td>\n",
       "      <td>0.0</td>\n",
       "      <td>0.000000</td>\n",
       "      <td>0.571429</td>\n",
       "      <td>0.333333</td>\n",
       "      <td>...</td>\n",
       "      <td>0.00</td>\n",
       "      <td>0.428571</td>\n",
       "      <td>0.0</td>\n",
       "      <td>0.0</td>\n",
       "      <td>0.50</td>\n",
       "      <td>0.333333</td>\n",
       "      <td>0.500000</td>\n",
       "      <td>0.0</td>\n",
       "      <td>0.0</td>\n",
       "      <td>0.0</td>\n",
       "    </tr>\n",
       "    <tr>\n",
       "      <th>2</th>\n",
       "      <td>0.75</td>\n",
       "      <td>0.000000</td>\n",
       "      <td>0.333333</td>\n",
       "      <td>0.166667</td>\n",
       "      <td>0.0</td>\n",
       "      <td>0.166667</td>\n",
       "      <td>0.0</td>\n",
       "      <td>0.166667</td>\n",
       "      <td>1.000000</td>\n",
       "      <td>0.000000</td>\n",
       "      <td>...</td>\n",
       "      <td>0.00</td>\n",
       "      <td>1.000000</td>\n",
       "      <td>0.0</td>\n",
       "      <td>0.0</td>\n",
       "      <td>0.25</td>\n",
       "      <td>1.000000</td>\n",
       "      <td>0.333333</td>\n",
       "      <td>0.0</td>\n",
       "      <td>1.0</td>\n",
       "      <td>1.0</td>\n",
       "    </tr>\n",
       "    <tr>\n",
       "      <th>3</th>\n",
       "      <td>0.50</td>\n",
       "      <td>0.333333</td>\n",
       "      <td>0.833333</td>\n",
       "      <td>0.833333</td>\n",
       "      <td>0.0</td>\n",
       "      <td>0.000000</td>\n",
       "      <td>0.0</td>\n",
       "      <td>0.000000</td>\n",
       "      <td>0.285714</td>\n",
       "      <td>0.333333</td>\n",
       "      <td>...</td>\n",
       "      <td>0.00</td>\n",
       "      <td>1.000000</td>\n",
       "      <td>0.0</td>\n",
       "      <td>0.0</td>\n",
       "      <td>0.50</td>\n",
       "      <td>0.500000</td>\n",
       "      <td>0.333333</td>\n",
       "      <td>0.0</td>\n",
       "      <td>1.0</td>\n",
       "      <td>1.0</td>\n",
       "    </tr>\n",
       "    <tr>\n",
       "      <th>4</th>\n",
       "      <td>0.50</td>\n",
       "      <td>0.666667</td>\n",
       "      <td>0.333333</td>\n",
       "      <td>0.333333</td>\n",
       "      <td>0.5</td>\n",
       "      <td>0.166667</td>\n",
       "      <td>0.0</td>\n",
       "      <td>0.166667</td>\n",
       "      <td>1.000000</td>\n",
       "      <td>0.000000</td>\n",
       "      <td>...</td>\n",
       "      <td>0.25</td>\n",
       "      <td>0.714286</td>\n",
       "      <td>0.0</td>\n",
       "      <td>0.0</td>\n",
       "      <td>0.50</td>\n",
       "      <td>0.666667</td>\n",
       "      <td>0.500000</td>\n",
       "      <td>0.0</td>\n",
       "      <td>1.0</td>\n",
       "      <td>1.0</td>\n",
       "    </tr>\n",
       "  </tbody>\n",
       "</table>\n",
       "<p>5 rows × 54 columns</p>\n",
       "</div>"
      ],
      "text/plain": [
       "    q66       q67       q68       q69  q70       q71  q72       q73       q76  \\\n",
       "0  0.25  0.000000  0.166667  0.333333  0.0  0.000000  0.0  0.000000  0.000000   \n",
       "1  0.75  0.000000  0.000000  0.000000  0.0  0.000000  0.0  0.000000  0.571429   \n",
       "2  0.75  0.000000  0.333333  0.166667  0.0  0.166667  0.0  0.166667  1.000000   \n",
       "3  0.50  0.333333  0.833333  0.833333  0.0  0.000000  0.0  0.000000  0.285714   \n",
       "4  0.50  0.666667  0.333333  0.333333  0.5  0.166667  0.0  0.166667  1.000000   \n",
       "\n",
       "        q78  ...   q79       q80  q81  q82   q84       q85       q87  q92  \\\n",
       "0  0.333333  ...  0.00  0.714286  0.0  0.0  0.00  0.666667  0.200804  0.2   \n",
       "1  0.333333  ...  0.00  0.428571  0.0  0.0  0.50  0.333333  0.500000  0.0   \n",
       "2  0.000000  ...  0.00  1.000000  0.0  0.0  0.25  1.000000  0.333333  0.0   \n",
       "3  0.333333  ...  0.00  1.000000  0.0  0.0  0.50  0.500000  0.333333  0.0   \n",
       "4  0.000000  ...  0.25  0.714286  0.0  0.0  0.50  0.666667  0.500000  0.0   \n",
       "\n",
       "    MB  target  \n",
       "0  0.0     0.0  \n",
       "1  0.0     0.0  \n",
       "2  1.0     1.0  \n",
       "3  1.0     1.0  \n",
       "4  1.0     1.0  \n",
       "\n",
       "[5 rows x 54 columns]"
      ]
     },
     "execution_count": 7,
     "metadata": {},
     "output_type": "execute_result"
    }
   ],
   "source": [
    "dataframe.head()"
   ]
  },
  {
   "cell_type": "code",
   "execution_count": 8,
   "id": "31d9a5a7-62df-43d8-8334-09adcfab0ece",
   "metadata": {},
   "outputs": [],
   "source": [
    "dataframe = dataframe.drop(['MB'], axis=1)"
   ]
  },
  {
   "cell_type": "code",
   "execution_count": 9,
   "id": "97aa5eec-70eb-4fd2-8486-f5b40082cc36",
   "metadata": {},
   "outputs": [
    {
     "name": "stdout",
     "output_type": "stream",
     "text": [
      "13331 train examples\n",
      "1905 validation examples\n",
      "3810 test examples\n"
     ]
    }
   ],
   "source": [
    "train, test = train_test_split(dataframe, test_size=0.2)\n",
    "train, val = train_test_split(train, test_size=0.125)\n",
    "print(len(train), 'train examples')\n",
    "print(len(val), 'validation examples')\n",
    "print(len(test), 'test examples')"
   ]
  },
  {
   "cell_type": "code",
   "execution_count": 10,
   "id": "38d45025-859b-464d-8ab3-dbeba961f1d1",
   "metadata": {},
   "outputs": [],
   "source": [
    "def df_to_dataset(dataframe, shuffle=True, batch_size=32):\n",
    "  dataframe = dataframe.copy()\n",
    "  labels = dataframe.pop('target')\n",
    "  ds = tf.data.Dataset.from_tensor_slices((dict(dataframe), labels))\n",
    "  if shuffle:\n",
    "    ds = ds.shuffle(buffer_size=len(dataframe))\n",
    "  ds = ds.batch(batch_size)\n",
    "  return ds"
   ]
  },
  {
   "cell_type": "code",
   "execution_count": 11,
   "id": "f1cd5d6f-2d73-49b4-845b-10172c3043c6",
   "metadata": {},
   "outputs": [],
   "source": [
    "X_train = train.drop('target', axis=1)  \n",
    "y_train = train['target']  "
   ]
  },
  {
   "cell_type": "code",
   "execution_count": 12,
   "id": "e97f06a0-e300-4971-956d-3aadd161b163",
   "metadata": {},
   "outputs": [],
   "source": [
    "smote = SMOTE(random_state=42)\n",
    "X_train_resampled, y_train_resampled = smote.fit_resample(X_train, y_train)"
   ]
  },
  {
   "cell_type": "code",
   "execution_count": 13,
   "id": "16d4fd1c-f0f4-4d5f-a45c-6988384b9149",
   "metadata": {},
   "outputs": [],
   "source": [
    "train_resampled = X_train_resampled.copy()\n",
    "train_resampled['target'] = y_train_resampled"
   ]
  },
  {
   "cell_type": "code",
   "execution_count": 14,
   "id": "7e16ac64-1bc2-4c0f-b149-3d4ee3b26e93",
   "metadata": {
    "scrolled": true
   },
   "outputs": [
    {
     "name": "stdout",
     "output_type": "stream",
     "text": [
      "WARNING:tensorflow:From /var/folders/33/vm1_lx1125x3s7gmdn1y15r40000gn/T/ipykernel_38264/3848122508.py:4: numeric_column (from tensorflow.python.feature_column.feature_column_v2) is deprecated and will be removed in a future version.\n",
      "Instructions for updating:\n",
      "Use Keras preprocessing layers instead, either directly or via the `tf.keras.utils.FeatureSpace` utility. Each of `tf.feature_column.*` has a functional equivalent in `tf.keras.layers` for feature preprocessing when training a Keras model.\n"
     ]
    }
   ],
   "source": [
    "feature_columns = []\n",
    "\n",
    "for header in [\"q66\", \"q67\", \"q68\", \"q69\", \"q70\", \"q71\", \"q72\", \"q73\", \"q76\", \"q78\", \"q83\", \"q96\", \"q97\", \"q106\", \"q8\", \"q9\", \"q10\", \"q11\", \"q12\", \"q17\",\t\"q19\", \"q26\", \"q27\", \"q28\",\t\"q29\", \"q30\", \"q31\", \"q35\", \"q38\", \"q39\", \"q46\", \"q49\", \"q50\", \"q51\", \"q52\", \"q53\", \"q54\", \"q55\",\t\"q58\", \"q59\", \"q60\", \"q61\",\t\"q74\", \"q75\", \"q79\", \"q80\", \"q81\", \"q82\", \"q84\", \"q85\", \"q87\", \"q92\"]:\n",
    "    feature_columns.append(feature_column.numeric_column(header))\n"
   ]
  },
  {
   "cell_type": "code",
   "execution_count": 15,
   "id": "869c24f2-fd6e-406d-8b1a-b70b0a5ad61b",
   "metadata": {},
   "outputs": [],
   "source": [
    "feature_layer = tf.keras.layers.DenseFeatures(feature_columns)"
   ]
  },
  {
   "cell_type": "code",
   "execution_count": 16,
   "id": "cdc285bb-b0c0-4197-a053-fe99434affe8",
   "metadata": {},
   "outputs": [],
   "source": [
    "batch_size = 32\n",
    "train_ds = df_to_dataset(train_resampled, batch_size=batch_size)\n",
    "val_ds = df_to_dataset(val, shuffle=False, batch_size=batch_size)\n",
    "test_ds = df_to_dataset(test, shuffle=False, batch_size=batch_size)"
   ]
  },
  {
   "cell_type": "code",
   "execution_count": 17,
   "id": "f34c3f2a-1aee-46b4-88d9-cc73d40e8457",
   "metadata": {
    "scrolled": true
   },
   "outputs": [],
   "source": [
    "model = tf.keras.Sequential([\n",
    "    feature_layer,\n",
    "    layers.Dense(128, activation='relu', kernel_regularizer=regularizers.l2(0.001)),\n",
    "    layers.Dense(128, activation='relu', kernel_regularizer=regularizers.l2(0.001)),\n",
    "    layers.Dropout(.3),\n",
    "    layers.Dense(1)\n",
    "])"
   ]
  },
  {
   "cell_type": "code",
   "execution_count": 18,
   "id": "41b6b544-5185-47c4-9992-a870039e14c3",
   "metadata": {},
   "outputs": [
    {
     "name": "stdout",
     "output_type": "stream",
     "text": [
      "Class weights: {0: 1.5915711556829035, 1: 0.7290276714426337}\n"
     ]
    }
   ],
   "source": [
    "from sklearn.utils.class_weight import compute_class_weight\n",
    "\n",
    "classes = np.unique(train['target'])\n",
    "class_weights = compute_class_weight(\n",
    "    class_weight='balanced', \n",
    "    classes=classes, \n",
    "    y=train['target']\n",
    ")\n",
    "class_weight_dict = {i: class_weights[i] for i in range(len(classes))}\n",
    "print(f\"Class weights: {class_weight_dict}\")"
   ]
  },
  {
   "cell_type": "code",
   "execution_count": 19,
   "id": "aa64f10a-675d-477d-bc58-a928f744727e",
   "metadata": {},
   "outputs": [],
   "source": [
    "def specificity(y_true, y_pred):\n",
    "    y_pred = tf.round(tf.nn.sigmoid(y_pred))  \n",
    "    true_negatives = tf.reduce_sum(tf.cast((y_true == 0) & (y_pred == 0), 'float'))\n",
    "    false_positives = tf.reduce_sum(tf.cast((y_true == 0) & (y_pred == 1), 'float'))\n",
    "    \n",
    "    specificity = true_negatives / (true_negatives + false_positives + tf.keras.backend.epsilon())\n",
    "    return specificity"
   ]
  },
  {
   "cell_type": "code",
   "execution_count": 20,
   "id": "aef23ce5-f6c4-4503-a557-026f55bb84a6",
   "metadata": {},
   "outputs": [],
   "source": [
    "def f1_score(y_true, y_pred):\n",
    "    y_pred = tf.round(tf.nn.sigmoid(y_pred))  \n",
    "    tp = tf.reduce_sum(tf.cast(y_true * y_pred, 'float'))\n",
    "    fp = tf.reduce_sum(tf.cast((1 - y_true) * y_pred, 'float'))\n",
    "    fn = tf.reduce_sum(tf.cast(y_true * (1 - y_pred), 'float'))\n",
    "\n",
    "    precision = tp / (tp + fp + tf.keras.backend.epsilon())\n",
    "    recall = tp / (tp + fn + tf.keras.backend.epsilon())\n",
    "    f1 = 2 * (precision * recall) / (precision + recall + tf.keras.backend.epsilon())\n",
    "    return f1"
   ]
  },
  {
   "cell_type": "code",
   "execution_count": 21,
   "id": "1a27d760-c5d7-422d-bb9e-739f32788904",
   "metadata": {},
   "outputs": [],
   "source": [
    "model.compile(optimizer='adam',\n",
    "              loss=tf.keras.losses.BinaryCrossentropy(from_logits=True),\n",
    "              metrics=[\n",
    "                  'accuracy',\n",
    "                  tf.keras.metrics.AUC(name='auc'),\n",
    "                  specificity,\n",
    "                  tf.keras.metrics.Recall(name='sensitivity'),\n",
    "                  f1_score\n",
    "                      ]\n",
    "             )"
   ]
  },
  {
   "cell_type": "code",
   "execution_count": 22,
   "id": "6a682b9b-5bb3-4460-a61b-7c2c01477151",
   "metadata": {},
   "outputs": [],
   "source": [
    "early_stopping = EarlyStopping(monitor='val_loss', patience=5, restore_best_weights=True)"
   ]
  },
  {
   "cell_type": "code",
   "execution_count": 23,
   "id": "3aca9a71-09a5-461b-be02-2fcf8bdf0677",
   "metadata": {},
   "outputs": [],
   "source": [
    "lr_scheduler = ReduceLROnPlateau(monitor='val_loss', factor=0.1, patience=3, min_lr=1e-6)\n"
   ]
  },
  {
   "cell_type": "code",
   "execution_count": 24,
   "id": "659bfe70-f194-4f96-a9e8-21b30655f7ac",
   "metadata": {
    "scrolled": true
   },
   "outputs": [
    {
     "name": "stdout",
     "output_type": "stream",
     "text": [
      "Epoch 1/50\n"
     ]
    },
    {
     "name": "stderr",
     "output_type": "stream",
     "text": [
      "2025-01-11 15:47:46.801016: I tensorflow/core/kernels/data/shuffle_dataset_op.cc:422] ShuffleDatasetV3:1: Filling up shuffle buffer (this may take a while): 8702 of 18286\n",
      "2025-01-11 15:47:56.818828: I tensorflow/core/kernels/data/shuffle_dataset_op.cc:422] ShuffleDatasetV3:1: Filling up shuffle buffer (this may take a while): 10460 of 18286\n",
      "2025-01-11 15:48:16.818037: I tensorflow/core/kernels/data/shuffle_dataset_op.cc:422] ShuffleDatasetV3:1: Filling up shuffle buffer (this may take a while): 12672 of 18286\n",
      "2025-01-11 15:48:36.801745: I tensorflow/core/kernels/data/shuffle_dataset_op.cc:422] ShuffleDatasetV3:1: Filling up shuffle buffer (this may take a while): 14304 of 18286\n",
      "2025-01-11 15:48:46.825421: I tensorflow/core/kernels/data/shuffle_dataset_op.cc:422] ShuffleDatasetV3:1: Filling up shuffle buffer (this may take a while): 15109 of 18286\n",
      "2025-01-11 15:49:06.794602: I tensorflow/core/kernels/data/shuffle_dataset_op.cc:422] ShuffleDatasetV3:1: Filling up shuffle buffer (this may take a while): 16247 of 18286\n",
      "2025-01-11 15:49:16.803032: I tensorflow/core/kernels/data/shuffle_dataset_op.cc:422] ShuffleDatasetV3:1: Filling up shuffle buffer (this may take a while): 16842 of 18286\n",
      "2025-01-11 15:49:26.805683: I tensorflow/core/kernels/data/shuffle_dataset_op.cc:422] ShuffleDatasetV3:1: Filling up shuffle buffer (this may take a while): 17304 of 18286\n"
     ]
    },
    {
     "name": "stdout",
     "output_type": "stream",
     "text": [
      "134/572 [======>.......................] - ETA: 0s - loss: 0.5223 - accuracy: 0.8263 - auc: 0.8777 - specificity: 0.8551 - sensitivity: 0.7027 - f1_score: 0.8342       "
     ]
    },
    {
     "name": "stderr",
     "output_type": "stream",
     "text": [
      "2025-01-11 15:49:44.173068: I tensorflow/core/kernels/data/shuffle_dataset_op.cc:452] Shuffle buffer filled.\n"
     ]
    },
    {
     "name": "stdout",
     "output_type": "stream",
     "text": [
      "572/572 [==============================] - 129s 1ms/step - loss: 0.3600 - accuracy: 0.8838 - auc: 0.9159 - specificity: 0.9059 - sensitivity: 0.8155 - f1_score: 0.8855 - val_loss: 0.2215 - val_accuracy: 0.9265 - val_auc: 0.9545 - val_specificity: 0.9282 - val_sensitivity: 0.9162 - val_f1_score: 0.9561 - lr: 0.0010\n",
      "Epoch 2/50\n"
     ]
    },
    {
     "name": "stderr",
     "output_type": "stream",
     "text": [
      "2025-01-11 15:49:54.948795: I tensorflow/core/kernels/data/shuffle_dataset_op.cc:422] ShuffleDatasetV3:1: Filling up shuffle buffer (this may take a while): 7935 of 18286\n",
      "2025-01-11 15:50:14.929500: I tensorflow/core/kernels/data/shuffle_dataset_op.cc:422] ShuffleDatasetV3:1: Filling up shuffle buffer (this may take a while): 9346 of 18286\n",
      "2025-01-11 15:50:34.945186: I tensorflow/core/kernels/data/shuffle_dataset_op.cc:422] ShuffleDatasetV3:1: Filling up shuffle buffer (this may take a while): 10408 of 18286\n",
      "2025-01-11 15:50:54.940557: I tensorflow/core/kernels/data/shuffle_dataset_op.cc:422] ShuffleDatasetV3:1: Filling up shuffle buffer (this may take a while): 11603 of 18286\n",
      "2025-01-11 15:51:04.951516: I tensorflow/core/kernels/data/shuffle_dataset_op.cc:422] ShuffleDatasetV3:1: Filling up shuffle buffer (this may take a while): 12630 of 18286\n",
      "2025-01-11 15:51:24.925880: I tensorflow/core/kernels/data/shuffle_dataset_op.cc:422] ShuffleDatasetV3:1: Filling up shuffle buffer (this may take a while): 14179 of 18286\n",
      "2025-01-11 15:51:34.936701: I tensorflow/core/kernels/data/shuffle_dataset_op.cc:422] ShuffleDatasetV3:1: Filling up shuffle buffer (this may take a while): 14747 of 18286\n",
      "2025-01-11 15:51:54.928273: I tensorflow/core/kernels/data/shuffle_dataset_op.cc:422] ShuffleDatasetV3:1: Filling up shuffle buffer (this may take a while): 15812 of 18286\n",
      "2025-01-11 15:52:14.930268: I tensorflow/core/kernels/data/shuffle_dataset_op.cc:422] ShuffleDatasetV3:1: Filling up shuffle buffer (this may take a while): 16959 of 18286\n",
      "2025-01-11 15:52:34.922968: I tensorflow/core/kernels/data/shuffle_dataset_op.cc:422] ShuffleDatasetV3:1: Filling up shuffle buffer (this may take a while): 17926 of 18286\n"
     ]
    },
    {
     "name": "stdout",
     "output_type": "stream",
     "text": [
      "172/572 [========>.....................] - ETA: 0s - loss: 0.2262 - accuracy: 0.9310 - auc: 0.9498 - specificity: 0.9530 - sensitivity: 0.8864 - f1_score: 0.9320    "
     ]
    },
    {
     "name": "stderr",
     "output_type": "stream",
     "text": [
      "2025-01-11 15:52:41.819672: I tensorflow/core/kernels/data/shuffle_dataset_op.cc:452] Shuffle buffer filled.\n"
     ]
    },
    {
     "name": "stdout",
     "output_type": "stream",
     "text": [
      "572/572 [==============================] - 177s 812us/step - loss: 0.1922 - accuracy: 0.9437 - auc: 0.9606 - specificity: 0.9624 - sensitivity: 0.9071 - f1_score: 0.9455 - val_loss: 0.1425 - val_accuracy: 0.9554 - val_auc: 0.9808 - val_specificity: 0.9642 - val_sensitivity: 0.9426 - val_f1_score: 0.9757 - lr: 0.0010\n",
      "Epoch 3/50\n"
     ]
    },
    {
     "name": "stderr",
     "output_type": "stream",
     "text": [
      "2025-01-11 15:52:52.313356: I tensorflow/core/kernels/data/shuffle_dataset_op.cc:422] ShuffleDatasetV3:1: Filling up shuffle buffer (this may take a while): 9556 of 18286\n",
      "2025-01-11 15:53:02.322008: I tensorflow/core/kernels/data/shuffle_dataset_op.cc:422] ShuffleDatasetV3:1: Filling up shuffle buffer (this may take a while): 10284 of 18286\n",
      "2025-01-11 15:53:22.302792: I tensorflow/core/kernels/data/shuffle_dataset_op.cc:422] ShuffleDatasetV3:1: Filling up shuffle buffer (this may take a while): 11598 of 18286\n",
      "2025-01-11 15:53:32.308669: I tensorflow/core/kernels/data/shuffle_dataset_op.cc:422] ShuffleDatasetV3:1: Filling up shuffle buffer (this may take a while): 12075 of 18286\n",
      "2025-01-11 15:53:42.314745: I tensorflow/core/kernels/data/shuffle_dataset_op.cc:422] ShuffleDatasetV3:1: Filling up shuffle buffer (this may take a while): 12670 of 18286\n",
      "2025-01-11 15:54:02.323138: I tensorflow/core/kernels/data/shuffle_dataset_op.cc:422] ShuffleDatasetV3:1: Filling up shuffle buffer (this may take a while): 13717 of 18286\n",
      "2025-01-11 15:54:22.312647: I tensorflow/core/kernels/data/shuffle_dataset_op.cc:422] ShuffleDatasetV3:1: Filling up shuffle buffer (this may take a while): 14779 of 18286\n",
      "2025-01-11 15:54:42.299488: I tensorflow/core/kernels/data/shuffle_dataset_op.cc:422] ShuffleDatasetV3:1: Filling up shuffle buffer (this may take a while): 15836 of 18286\n",
      "2025-01-11 15:54:52.325386: I tensorflow/core/kernels/data/shuffle_dataset_op.cc:422] ShuffleDatasetV3:1: Filling up shuffle buffer (this may take a while): 16438 of 18286\n",
      "2025-01-11 15:55:12.311442: I tensorflow/core/kernels/data/shuffle_dataset_op.cc:422] ShuffleDatasetV3:1: Filling up shuffle buffer (this may take a while): 17653 of 18286\n"
     ]
    },
    {
     "name": "stdout",
     "output_type": "stream",
     "text": [
      " 92/572 [===>..........................] - ETA: 0s - loss: 0.1475 - accuracy: 0.9592 - auc: 0.9751 - specificity: 0.9721 - sensitivity: 0.9323 - f1_score: 0.9639    "
     ]
    },
    {
     "name": "stderr",
     "output_type": "stream",
     "text": [
      "2025-01-11 15:55:20.667896: I tensorflow/core/kernels/data/shuffle_dataset_op.cc:452] Shuffle buffer filled.\n"
     ]
    },
    {
     "name": "stdout",
     "output_type": "stream",
     "text": [
      "572/572 [==============================] - 159s 877us/step - loss: 0.1339 - accuracy: 0.9640 - auc: 0.9757 - specificity: 0.9786 - sensitivity: 0.9382 - f1_score: 0.9672 - val_loss: 0.1211 - val_accuracy: 0.9538 - val_auc: 0.9777 - val_specificity: 0.9915 - val_sensitivity: 0.9351 - val_f1_score: 0.9741 - lr: 0.0010\n",
      "Epoch 4/50\n"
     ]
    },
    {
     "name": "stderr",
     "output_type": "stream",
     "text": [
      "2025-01-11 15:55:31.197685: I tensorflow/core/kernels/data/shuffle_dataset_op.cc:422] ShuffleDatasetV3:1: Filling up shuffle buffer (this may take a while): 8548 of 18286\n",
      "2025-01-11 15:55:51.204018: I tensorflow/core/kernels/data/shuffle_dataset_op.cc:422] ShuffleDatasetV3:1: Filling up shuffle buffer (this may take a while): 10933 of 18286\n",
      "2025-01-11 15:56:11.181814: I tensorflow/core/kernels/data/shuffle_dataset_op.cc:422] ShuffleDatasetV3:1: Filling up shuffle buffer (this may take a while): 12074 of 18286\n",
      "2025-01-11 15:56:21.184143: I tensorflow/core/kernels/data/shuffle_dataset_op.cc:422] ShuffleDatasetV3:1: Filling up shuffle buffer (this may take a while): 12788 of 18286\n",
      "2025-01-11 15:56:31.208705: I tensorflow/core/kernels/data/shuffle_dataset_op.cc:422] ShuffleDatasetV3:1: Filling up shuffle buffer (this may take a while): 13314 of 18286\n",
      "2025-01-11 15:56:51.198981: I tensorflow/core/kernels/data/shuffle_dataset_op.cc:422] ShuffleDatasetV3:1: Filling up shuffle buffer (this may take a while): 14543 of 18286\n",
      "2025-01-11 15:57:01.206440: I tensorflow/core/kernels/data/shuffle_dataset_op.cc:422] ShuffleDatasetV3:1: Filling up shuffle buffer (this may take a while): 15031 of 18286\n",
      "2025-01-11 15:57:21.206092: I tensorflow/core/kernels/data/shuffle_dataset_op.cc:422] ShuffleDatasetV3:1: Filling up shuffle buffer (this may take a while): 16094 of 18286\n",
      "2025-01-11 15:57:41.203852: I tensorflow/core/kernels/data/shuffle_dataset_op.cc:422] ShuffleDatasetV3:1: Filling up shuffle buffer (this may take a while): 17159 of 18286\n",
      "2025-01-11 15:58:01.190334: I tensorflow/core/kernels/data/shuffle_dataset_op.cc:422] ShuffleDatasetV3:1: Filling up shuffle buffer (this may take a while): 18264 of 18286\n"
     ]
    },
    {
     "name": "stdout",
     "output_type": "stream",
     "text": [
      "155/572 [=======>......................] - ETA: 0s - loss: 0.1160 - accuracy: 0.9704 - auc: 0.9827 - specificity: 0.9794 - sensitivity: 0.9486 - f1_score: 0.9743    "
     ]
    },
    {
     "name": "stderr",
     "output_type": "stream",
     "text": [
      "2025-01-11 15:58:01.847912: I tensorflow/core/kernels/data/shuffle_dataset_op.cc:452] Shuffle buffer filled.\n"
     ]
    },
    {
     "name": "stdout",
     "output_type": "stream",
     "text": [
      "572/572 [==============================] - 161s 813us/step - loss: 0.1081 - accuracy: 0.9720 - auc: 0.9824 - specificity: 0.9815 - sensitivity: 0.9525 - f1_score: 0.9752 - val_loss: 0.0925 - val_accuracy: 0.9769 - val_auc: 0.9866 - val_specificity: 0.9712 - val_sensitivity: 0.9713 - val_f1_score: 0.9866 - lr: 0.0010\n",
      "Epoch 5/50\n"
     ]
    },
    {
     "name": "stderr",
     "output_type": "stream",
     "text": [
      "2025-01-11 15:58:12.329555: I tensorflow/core/kernels/data/shuffle_dataset_op.cc:422] ShuffleDatasetV3:1: Filling up shuffle buffer (this may take a while): 2740 of 18286\n",
      "2025-01-11 15:58:22.335668: I tensorflow/core/kernels/data/shuffle_dataset_op.cc:422] ShuffleDatasetV3:1: Filling up shuffle buffer (this may take a while): 8847 of 18286\n",
      "2025-01-11 15:58:32.341051: I tensorflow/core/kernels/data/shuffle_dataset_op.cc:422] ShuffleDatasetV3:1: Filling up shuffle buffer (this may take a while): 9788 of 18286\n",
      "2025-01-11 15:58:52.331348: I tensorflow/core/kernels/data/shuffle_dataset_op.cc:422] ShuffleDatasetV3:1: Filling up shuffle buffer (this may take a while): 12384 of 18286\n",
      "2025-01-11 15:59:02.342033: I tensorflow/core/kernels/data/shuffle_dataset_op.cc:422] ShuffleDatasetV3:1: Filling up shuffle buffer (this may take a while): 12983 of 18286\n",
      "2025-01-11 15:59:22.340218: I tensorflow/core/kernels/data/shuffle_dataset_op.cc:422] ShuffleDatasetV3:1: Filling up shuffle buffer (this may take a while): 14086 of 18286\n",
      "2025-01-11 15:59:32.345965: I tensorflow/core/kernels/data/shuffle_dataset_op.cc:422] ShuffleDatasetV3:1: Filling up shuffle buffer (this may take a while): 14771 of 18286\n",
      "2025-01-11 15:59:52.350068: I tensorflow/core/kernels/data/shuffle_dataset_op.cc:422] ShuffleDatasetV3:1: Filling up shuffle buffer (this may take a while): 15879 of 18286\n",
      "2025-01-11 16:00:12.339984: I tensorflow/core/kernels/data/shuffle_dataset_op.cc:422] ShuffleDatasetV3:1: Filling up shuffle buffer (this may take a while): 17240 of 18286\n",
      "2025-01-11 16:00:22.350952: I tensorflow/core/kernels/data/shuffle_dataset_op.cc:422] ShuffleDatasetV3:1: Filling up shuffle buffer (this may take a while): 17855 of 18286\n"
     ]
    },
    {
     "name": "stdout",
     "output_type": "stream",
     "text": [
      "199/572 [=========>....................] - ETA: 0s - loss: 0.0945 - accuracy: 0.9777 - auc: 0.9852 - specificity: 0.9900 - sensitivity: 0.9607 - f1_score: 0.9814    "
     ]
    },
    {
     "name": "stderr",
     "output_type": "stream",
     "text": [
      "2025-01-11 16:00:28.855234: I tensorflow/core/kernels/data/shuffle_dataset_op.cc:452] Shuffle buffer filled.\n"
     ]
    },
    {
     "name": "stdout",
     "output_type": "stream",
     "text": [
      "572/572 [==============================] - 147s 753us/step - loss: 0.0967 - accuracy: 0.9756 - auc: 0.9841 - specificity: 0.9848 - sensitivity: 0.9591 - f1_score: 0.9784 - val_loss: 0.1031 - val_accuracy: 0.9554 - val_auc: 0.9767 - val_specificity: 0.9940 - val_sensitivity: 0.9374 - val_f1_score: 0.9748 - lr: 0.0010\n",
      "Epoch 6/50\n"
     ]
    },
    {
     "name": "stderr",
     "output_type": "stream",
     "text": [
      "2025-01-11 16:00:39.297334: I tensorflow/core/kernels/data/shuffle_dataset_op.cc:422] ShuffleDatasetV3:1: Filling up shuffle buffer (this may take a while): 8443 of 18286\n",
      "2025-01-11 16:00:49.332739: I tensorflow/core/kernels/data/shuffle_dataset_op.cc:422] ShuffleDatasetV3:1: Filling up shuffle buffer (this may take a while): 9271 of 18286\n",
      "2025-01-11 16:01:09.301420: I tensorflow/core/kernels/data/shuffle_dataset_op.cc:422] ShuffleDatasetV3:1: Filling up shuffle buffer (this may take a while): 10564 of 18286\n",
      "2025-01-11 16:01:19.306095: I tensorflow/core/kernels/data/shuffle_dataset_op.cc:422] ShuffleDatasetV3:1: Filling up shuffle buffer (this may take a while): 11259 of 18286\n",
      "2025-01-11 16:01:29.313065: I tensorflow/core/kernels/data/shuffle_dataset_op.cc:422] ShuffleDatasetV3:1: Filling up shuffle buffer (this may take a while): 11933 of 18286\n",
      "2025-01-11 16:01:49.303215: I tensorflow/core/kernels/data/shuffle_dataset_op.cc:422] ShuffleDatasetV3:1: Filling up shuffle buffer (this may take a while): 12991 of 18286\n",
      "2025-01-11 16:01:59.319745: I tensorflow/core/kernels/data/shuffle_dataset_op.cc:422] ShuffleDatasetV3:1: Filling up shuffle buffer (this may take a while): 13590 of 18286\n",
      "2025-01-11 16:02:19.297176: I tensorflow/core/kernels/data/shuffle_dataset_op.cc:422] ShuffleDatasetV3:1: Filling up shuffle buffer (this may take a while): 15002 of 18286\n",
      "2025-01-11 16:02:29.317801: I tensorflow/core/kernels/data/shuffle_dataset_op.cc:422] ShuffleDatasetV3:1: Filling up shuffle buffer (this may take a while): 15687 of 18286\n",
      "2025-01-11 16:02:49.325433: I tensorflow/core/kernels/data/shuffle_dataset_op.cc:422] ShuffleDatasetV3:1: Filling up shuffle buffer (this may take a while): 16904 of 18286\n",
      "2025-01-11 16:03:09.324981: I tensorflow/core/kernels/data/shuffle_dataset_op.cc:422] ShuffleDatasetV3:1: Filling up shuffle buffer (this may take a while): 17966 of 18286\n"
     ]
    },
    {
     "name": "stdout",
     "output_type": "stream",
     "text": [
      "151/572 [======>.......................] - ETA: 0s - loss: 0.0891 - accuracy: 0.9766 - auc: 0.9855 - specificity: 0.9846 - sensitivity: 0.9596 - f1_score: 0.9782    "
     ]
    },
    {
     "name": "stderr",
     "output_type": "stream",
     "text": [
      "2025-01-11 16:03:13.277685: I tensorflow/core/kernels/data/shuffle_dataset_op.cc:452] Shuffle buffer filled.\n"
     ]
    },
    {
     "name": "stdout",
     "output_type": "stream",
     "text": [
      "572/572 [==============================] - 164s 809us/step - loss: 0.0891 - accuracy: 0.9768 - auc: 0.9842 - specificity: 0.9837 - sensitivity: 0.9614 - f1_score: 0.9773 - val_loss: 0.0949 - val_accuracy: 0.9654 - val_auc: 0.9778 - val_specificity: 0.9854 - val_sensitivity: 0.9540 - val_f1_score: 0.9756 - lr: 0.0010\n",
      "Epoch 7/50\n"
     ]
    },
    {
     "name": "stderr",
     "output_type": "stream",
     "text": [
      "2025-01-11 16:03:23.791713: I tensorflow/core/kernels/data/shuffle_dataset_op.cc:422] ShuffleDatasetV3:1: Filling up shuffle buffer (this may take a while): 8983 of 18286\n",
      "2025-01-11 16:03:43.813313: I tensorflow/core/kernels/data/shuffle_dataset_op.cc:422] ShuffleDatasetV3:1: Filling up shuffle buffer (this may take a while): 10651 of 18286\n",
      "2025-01-11 16:04:03.791265: I tensorflow/core/kernels/data/shuffle_dataset_op.cc:422] ShuffleDatasetV3:1: Filling up shuffle buffer (this may take a while): 12016 of 18286\n",
      "2025-01-11 16:04:23.785522: I tensorflow/core/kernels/data/shuffle_dataset_op.cc:422] ShuffleDatasetV3:1: Filling up shuffle buffer (this may take a while): 13634 of 18286\n",
      "2025-01-11 16:04:33.804765: I tensorflow/core/kernels/data/shuffle_dataset_op.cc:422] ShuffleDatasetV3:1: Filling up shuffle buffer (this may take a while): 14095 of 18286\n",
      "2025-01-11 16:04:53.793763: I tensorflow/core/kernels/data/shuffle_dataset_op.cc:422] ShuffleDatasetV3:1: Filling up shuffle buffer (this may take a while): 15151 of 18286\n",
      "2025-01-11 16:05:03.795140: I tensorflow/core/kernels/data/shuffle_dataset_op.cc:422] ShuffleDatasetV3:1: Filling up shuffle buffer (this may take a while): 15709 of 18286\n",
      "2025-01-11 16:05:23.782553: I tensorflow/core/kernels/data/shuffle_dataset_op.cc:422] ShuffleDatasetV3:1: Filling up shuffle buffer (this may take a while): 16763 of 18286\n",
      "2025-01-11 16:05:33.792929: I tensorflow/core/kernels/data/shuffle_dataset_op.cc:422] ShuffleDatasetV3:1: Filling up shuffle buffer (this may take a while): 17248 of 18286\n",
      "2025-01-11 16:05:43.795458: I tensorflow/core/kernels/data/shuffle_dataset_op.cc:422] ShuffleDatasetV3:1: Filling up shuffle buffer (this may take a while): 17832 of 18286\n"
     ]
    },
    {
     "name": "stdout",
     "output_type": "stream",
     "text": [
      "155/572 [=======>......................] - ETA: 0s - loss: 0.0801 - accuracy: 0.9784 - auc: 0.9863 - specificity: 0.9870 - sensitivity: 0.9639 - f1_score: 0.9814    "
     ]
    },
    {
     "name": "stderr",
     "output_type": "stream",
     "text": [
      "2025-01-11 16:05:48.596813: I tensorflow/core/kernels/data/shuffle_dataset_op.cc:452] Shuffle buffer filled.\n"
     ]
    },
    {
     "name": "stdout",
     "output_type": "stream",
     "text": [
      "572/572 [==============================] - 155s 810us/step - loss: 0.0822 - accuracy: 0.9777 - auc: 0.9857 - specificity: 0.9853 - sensitivity: 0.9637 - f1_score: 0.9801 - val_loss: 0.0725 - val_accuracy: 0.9774 - val_auc: 0.9885 - val_specificity: 0.9850 - val_sensitivity: 0.9721 - val_f1_score: 0.9874 - lr: 0.0010\n",
      "Epoch 8/50\n"
     ]
    },
    {
     "name": "stderr",
     "output_type": "stream",
     "text": [
      "2025-01-11 16:05:59.077339: I tensorflow/core/kernels/data/shuffle_dataset_op.cc:422] ShuffleDatasetV3:1: Filling up shuffle buffer (this may take a while): 8495 of 18286\n",
      "2025-01-11 16:06:09.100822: I tensorflow/core/kernels/data/shuffle_dataset_op.cc:422] ShuffleDatasetV3:1: Filling up shuffle buffer (this may take a while): 9923 of 18286\n",
      "2025-01-11 16:06:29.085248: I tensorflow/core/kernels/data/shuffle_dataset_op.cc:422] ShuffleDatasetV3:1: Filling up shuffle buffer (this may take a while): 11759 of 18286\n",
      "2025-01-11 16:06:39.085343: I tensorflow/core/kernels/data/shuffle_dataset_op.cc:422] ShuffleDatasetV3:1: Filling up shuffle buffer (this may take a while): 12667 of 18286\n",
      "2025-01-11 16:06:59.094940: I tensorflow/core/kernels/data/shuffle_dataset_op.cc:422] ShuffleDatasetV3:1: Filling up shuffle buffer (this may take a while): 13763 of 18286\n",
      "2025-01-11 16:07:19.073684: I tensorflow/core/kernels/data/shuffle_dataset_op.cc:422] ShuffleDatasetV3:1: Filling up shuffle buffer (this may take a while): 14818 of 18286\n",
      "2025-01-11 16:07:29.079332: I tensorflow/core/kernels/data/shuffle_dataset_op.cc:422] ShuffleDatasetV3:1: Filling up shuffle buffer (this may take a while): 15397 of 18286\n",
      "2025-01-11 16:07:39.103002: I tensorflow/core/kernels/data/shuffle_dataset_op.cc:422] ShuffleDatasetV3:1: Filling up shuffle buffer (this may take a while): 15872 of 18286\n",
      "2025-01-11 16:07:59.094800: I tensorflow/core/kernels/data/shuffle_dataset_op.cc:422] ShuffleDatasetV3:1: Filling up shuffle buffer (this may take a while): 16924 of 18286\n",
      "2025-01-11 16:08:19.110301: I tensorflow/core/kernels/data/shuffle_dataset_op.cc:422] ShuffleDatasetV3:1: Filling up shuffle buffer (this may take a while): 17975 of 18286\n"
     ]
    },
    {
     "name": "stdout",
     "output_type": "stream",
     "text": [
      "209/572 [=========>....................] - ETA: 0s - loss: 0.0764 - accuracy: 0.9785 - auc: 0.9862 - specificity: 0.9864 - sensitivity: 0.9626 - f1_score: 0.9806    "
     ]
    },
    {
     "name": "stderr",
     "output_type": "stream",
     "text": [
      "2025-01-11 16:08:24.385070: I tensorflow/core/kernels/data/shuffle_dataset_op.cc:452] Shuffle buffer filled.\n"
     ]
    },
    {
     "name": "stdout",
     "output_type": "stream",
     "text": [
      "572/572 [==============================] - 156s 742us/step - loss: 0.0729 - accuracy: 0.9808 - auc: 0.9879 - specificity: 0.9879 - sensitivity: 0.9674 - f1_score: 0.9827 - val_loss: 0.0661 - val_accuracy: 0.9837 - val_auc: 0.9925 - val_specificity: 0.9834 - val_sensitivity: 0.9789 - val_f1_score: 0.9911 - lr: 0.0010\n",
      "Epoch 9/50\n"
     ]
    },
    {
     "name": "stderr",
     "output_type": "stream",
     "text": [
      "2025-01-11 16:08:34.848594: I tensorflow/core/kernels/data/shuffle_dataset_op.cc:422] ShuffleDatasetV3:1: Filling up shuffle buffer (this may take a while): 8146 of 18286\n",
      "2025-01-11 16:08:54.838519: I tensorflow/core/kernels/data/shuffle_dataset_op.cc:422] ShuffleDatasetV3:1: Filling up shuffle buffer (this may take a while): 10167 of 18286\n",
      "2025-01-11 16:09:14.830903: I tensorflow/core/kernels/data/shuffle_dataset_op.cc:422] ShuffleDatasetV3:1: Filling up shuffle buffer (this may take a while): 12124 of 18286\n",
      "2025-01-11 16:09:34.848455: I tensorflow/core/kernels/data/shuffle_dataset_op.cc:422] ShuffleDatasetV3:1: Filling up shuffle buffer (this may take a while): 13548 of 18286\n",
      "2025-01-11 16:09:54.847148: I tensorflow/core/kernels/data/shuffle_dataset_op.cc:422] ShuffleDatasetV3:1: Filling up shuffle buffer (this may take a while): 14971 of 18286\n",
      "2025-01-11 16:10:14.823219: I tensorflow/core/kernels/data/shuffle_dataset_op.cc:422] ShuffleDatasetV3:1: Filling up shuffle buffer (this may take a while): 16046 of 18286\n",
      "2025-01-11 16:10:24.831705: I tensorflow/core/kernels/data/shuffle_dataset_op.cc:422] ShuffleDatasetV3:1: Filling up shuffle buffer (this may take a while): 16626 of 18286\n",
      "2025-01-11 16:10:44.836214: I tensorflow/core/kernels/data/shuffle_dataset_op.cc:422] ShuffleDatasetV3:1: Filling up shuffle buffer (this may take a while): 17708 of 18286\n"
     ]
    },
    {
     "name": "stdout",
     "output_type": "stream",
     "text": [
      "150/572 [======>.......................] - ETA: 0s - loss: 0.0702 - accuracy: 0.9810 - auc: 0.9882 - specificity: 0.9861 - sensitivity: 0.9707 - f1_score: 0.9830    "
     ]
    },
    {
     "name": "stderr",
     "output_type": "stream",
     "text": [
      "2025-01-11 16:10:52.197317: I tensorflow/core/kernels/data/shuffle_dataset_op.cc:452] Shuffle buffer filled.\n"
     ]
    },
    {
     "name": "stdout",
     "output_type": "stream",
     "text": [
      "572/572 [==============================] - 148s 807us/step - loss: 0.0720 - accuracy: 0.9808 - auc: 0.9877 - specificity: 0.9851 - sensitivity: 0.9689 - f1_score: 0.9819 - val_loss: 0.0681 - val_accuracy: 0.9832 - val_auc: 0.9902 - val_specificity: 0.9613 - val_sensitivity: 0.9864 - val_f1_score: 0.9893 - lr: 0.0010\n",
      "Epoch 10/50\n"
     ]
    },
    {
     "name": "stderr",
     "output_type": "stream",
     "text": [
      "2025-01-11 16:11:02.668404: I tensorflow/core/kernels/data/shuffle_dataset_op.cc:422] ShuffleDatasetV3:1: Filling up shuffle buffer (this may take a while): 7744 of 18286\n",
      "2025-01-11 16:11:12.693500: I tensorflow/core/kernels/data/shuffle_dataset_op.cc:422] ShuffleDatasetV3:1: Filling up shuffle buffer (this may take a while): 8570 of 18286\n",
      "2025-01-11 16:11:32.698621: I tensorflow/core/kernels/data/shuffle_dataset_op.cc:422] ShuffleDatasetV3:1: Filling up shuffle buffer (this may take a while): 10924 of 18286\n",
      "2025-01-11 16:11:52.703359: I tensorflow/core/kernels/data/shuffle_dataset_op.cc:422] ShuffleDatasetV3:1: Filling up shuffle buffer (this may take a while): 12035 of 18286\n",
      "2025-01-11 16:12:12.667850: I tensorflow/core/kernels/data/shuffle_dataset_op.cc:422] ShuffleDatasetV3:1: Filling up shuffle buffer (this may take a while): 13157 of 18286\n",
      "2025-01-11 16:12:22.676335: I tensorflow/core/kernels/data/shuffle_dataset_op.cc:422] ShuffleDatasetV3:1: Filling up shuffle buffer (this may take a while): 13824 of 18286\n",
      "2025-01-11 16:12:42.678123: I tensorflow/core/kernels/data/shuffle_dataset_op.cc:422] ShuffleDatasetV3:1: Filling up shuffle buffer (this may take a while): 14784 of 18286\n",
      "2025-01-11 16:13:02.698622: I tensorflow/core/kernels/data/shuffle_dataset_op.cc:422] ShuffleDatasetV3:1: Filling up shuffle buffer (this may take a while): 15845 of 18286\n",
      "2025-01-11 16:13:22.672810: I tensorflow/core/kernels/data/shuffle_dataset_op.cc:422] ShuffleDatasetV3:1: Filling up shuffle buffer (this may take a while): 16894 of 18286\n",
      "2025-01-11 16:13:32.678509: I tensorflow/core/kernels/data/shuffle_dataset_op.cc:422] ShuffleDatasetV3:1: Filling up shuffle buffer (this may take a while): 17469 of 18286\n",
      "2025-01-11 16:13:42.679325: I tensorflow/core/kernels/data/shuffle_dataset_op.cc:422] ShuffleDatasetV3:1: Filling up shuffle buffer (this may take a while): 17950 of 18286\n"
     ]
    },
    {
     "name": "stdout",
     "output_type": "stream",
     "text": [
      "218/572 [==========>...................] - ETA: 0s - loss: 0.0645 - accuracy: 0.9849 - auc: 0.9891 - specificity: 0.9903 - sensitivity: 0.9744 - f1_score: 0.9843    "
     ]
    },
    {
     "name": "stderr",
     "output_type": "stream",
     "text": [
      "2025-01-11 16:13:48.864448: I tensorflow/core/kernels/data/shuffle_dataset_op.cc:452] Shuffle buffer filled.\n"
     ]
    },
    {
     "name": "stdout",
     "output_type": "stream",
     "text": [
      "572/572 [==============================] - 177s 732us/step - loss: 0.0700 - accuracy: 0.9813 - auc: 0.9868 - specificity: 0.9870 - sensitivity: 0.9695 - f1_score: 0.9818 - val_loss: 0.0614 - val_accuracy: 0.9879 - val_auc: 0.9953 - val_specificity: 0.9587 - val_sensitivity: 0.9909 - val_f1_score: 0.9899 - lr: 0.0010\n",
      "Epoch 11/50\n"
     ]
    },
    {
     "name": "stderr",
     "output_type": "stream",
     "text": [
      "2025-01-11 16:13:59.308557: I tensorflow/core/kernels/data/shuffle_dataset_op.cc:422] ShuffleDatasetV3:1: Filling up shuffle buffer (this may take a while): 9152 of 18286\n",
      "2025-01-11 16:14:19.309876: I tensorflow/core/kernels/data/shuffle_dataset_op.cc:422] ShuffleDatasetV3:1: Filling up shuffle buffer (this may take a while): 11095 of 18286\n",
      "2025-01-11 16:14:39.314526: I tensorflow/core/kernels/data/shuffle_dataset_op.cc:422] ShuffleDatasetV3:1: Filling up shuffle buffer (this may take a while): 12458 of 18286\n",
      "2025-01-11 16:14:49.332401: I tensorflow/core/kernels/data/shuffle_dataset_op.cc:422] ShuffleDatasetV3:1: Filling up shuffle buffer (this may take a while): 12978 of 18286\n",
      "2025-01-11 16:15:09.306106: I tensorflow/core/kernels/data/shuffle_dataset_op.cc:422] ShuffleDatasetV3:1: Filling up shuffle buffer (this may take a while): 14035 of 18286\n",
      "2025-01-11 16:15:19.313710: I tensorflow/core/kernels/data/shuffle_dataset_op.cc:422] ShuffleDatasetV3:1: Filling up shuffle buffer (this may take a while): 14588 of 18286\n",
      "2025-01-11 16:15:39.294629: I tensorflow/core/kernels/data/shuffle_dataset_op.cc:422] ShuffleDatasetV3:1: Filling up shuffle buffer (this may take a while): 15558 of 18286\n",
      "2025-01-11 16:15:49.316493: I tensorflow/core/kernels/data/shuffle_dataset_op.cc:422] ShuffleDatasetV3:1: Filling up shuffle buffer (this may take a while): 16158 of 18286\n",
      "2025-01-11 16:16:09.318705: I tensorflow/core/kernels/data/shuffle_dataset_op.cc:422] ShuffleDatasetV3:1: Filling up shuffle buffer (this may take a while): 17216 of 18286\n"
     ]
    },
    {
     "name": "stdout",
     "output_type": "stream",
     "text": [
      "209/572 [=========>....................] - ETA: 0s - loss: 0.0653 - accuracy: 0.9827 - auc: 0.9893 - specificity: 0.9850 - sensitivity: 0.9729 - f1_score: 0.9827    "
     ]
    },
    {
     "name": "stderr",
     "output_type": "stream",
     "text": [
      "2025-01-11 16:16:29.304824: I tensorflow/core/kernels/data/shuffle_dataset_op.cc:422] ShuffleDatasetV3:1: Filling up shuffle buffer (this may take a while): 18274 of 18286\n",
      "2025-01-11 16:16:29.325616: I tensorflow/core/kernels/data/shuffle_dataset_op.cc:452] Shuffle buffer filled.\n"
     ]
    },
    {
     "name": "stdout",
     "output_type": "stream",
     "text": [
      "572/572 [==============================] - 160s 733us/step - loss: 0.0646 - accuracy: 0.9830 - auc: 0.9886 - specificity: 0.9864 - sensitivity: 0.9725 - f1_score: 0.9830 - val_loss: 0.0938 - val_accuracy: 0.9585 - val_auc: 0.9762 - val_specificity: 1.0000 - val_sensitivity: 0.9404 - val_f1_score: 0.9743 - lr: 0.0010\n",
      "Epoch 12/50\n"
     ]
    },
    {
     "name": "stderr",
     "output_type": "stream",
     "text": [
      "2025-01-11 16:16:39.782775: I tensorflow/core/kernels/data/shuffle_dataset_op.cc:422] ShuffleDatasetV3:1: Filling up shuffle buffer (this may take a while): 9711 of 18286\n",
      "2025-01-11 16:16:59.779498: I tensorflow/core/kernels/data/shuffle_dataset_op.cc:422] ShuffleDatasetV3:1: Filling up shuffle buffer (this may take a while): 11184 of 18286\n",
      "2025-01-11 16:17:19.766884: I tensorflow/core/kernels/data/shuffle_dataset_op.cc:422] ShuffleDatasetV3:1: Filling up shuffle buffer (this may take a while): 12709 of 18286\n",
      "2025-01-11 16:17:39.764139: I tensorflow/core/kernels/data/shuffle_dataset_op.cc:422] ShuffleDatasetV3:1: Filling up shuffle buffer (this may take a while): 13893 of 18286\n",
      "2025-01-11 16:17:49.779611: I tensorflow/core/kernels/data/shuffle_dataset_op.cc:422] ShuffleDatasetV3:1: Filling up shuffle buffer (this may take a while): 14430 of 18286\n",
      "2025-01-11 16:18:09.761050: I tensorflow/core/kernels/data/shuffle_dataset_op.cc:422] ShuffleDatasetV3:1: Filling up shuffle buffer (this may take a while): 15487 of 18286\n",
      "2025-01-11 16:18:19.764079: I tensorflow/core/kernels/data/shuffle_dataset_op.cc:422] ShuffleDatasetV3:1: Filling up shuffle buffer (this may take a while): 17271 of 18286\n"
     ]
    },
    {
     "name": "stdout",
     "output_type": "stream",
     "text": [
      "104/572 [====>.........................] - ETA: 0s - loss: 0.0600 - accuracy: 0.9850 - auc: 0.9905 - specificity: 0.9914 - sensitivity: 0.9762 - f1_score: 0.9881    "
     ]
    },
    {
     "name": "stderr",
     "output_type": "stream",
     "text": [
      "2025-01-11 16:18:35.490289: I tensorflow/core/kernels/data/shuffle_dataset_op.cc:452] Shuffle buffer filled.\n"
     ]
    },
    {
     "name": "stdout",
     "output_type": "stream",
     "text": [
      "572/572 [==============================] - 126s 865us/step - loss: 0.0611 - accuracy: 0.9850 - auc: 0.9902 - specificity: 0.9894 - sensitivity: 0.9751 - f1_score: 0.9858 - val_loss: 0.0703 - val_accuracy: 0.9774 - val_auc: 0.9864 - val_specificity: 0.9866 - val_sensitivity: 0.9698 - val_f1_score: 0.9852 - lr: 0.0010\n",
      "Epoch 13/50\n"
     ]
    },
    {
     "name": "stderr",
     "output_type": "stream",
     "text": [
      "2025-01-11 16:18:46.004779: I tensorflow/core/kernels/data/shuffle_dataset_op.cc:422] ShuffleDatasetV3:1: Filling up shuffle buffer (this may take a while): 10925 of 18286\n",
      "2025-01-11 16:18:56.032229: I tensorflow/core/kernels/data/shuffle_dataset_op.cc:422] ShuffleDatasetV3:1: Filling up shuffle buffer (this may take a while): 11645 of 18286\n",
      "2025-01-11 16:19:16.016320: I tensorflow/core/kernels/data/shuffle_dataset_op.cc:422] ShuffleDatasetV3:1: Filling up shuffle buffer (this may take a while): 12696 of 18286\n",
      "2025-01-11 16:19:36.009156: I tensorflow/core/kernels/data/shuffle_dataset_op.cc:422] ShuffleDatasetV3:1: Filling up shuffle buffer (this may take a while): 13740 of 18286\n",
      "2025-01-11 16:19:56.026133: I tensorflow/core/kernels/data/shuffle_dataset_op.cc:422] ShuffleDatasetV3:1: Filling up shuffle buffer (this may take a while): 14795 of 18286\n",
      "2025-01-11 16:20:16.009490: I tensorflow/core/kernels/data/shuffle_dataset_op.cc:422] ShuffleDatasetV3:1: Filling up shuffle buffer (this may take a while): 15845 of 18286\n",
      "2025-01-11 16:20:26.011290: I tensorflow/core/kernels/data/shuffle_dataset_op.cc:422] ShuffleDatasetV3:1: Filling up shuffle buffer (this may take a while): 16413 of 18286\n",
      "2025-01-11 16:20:36.018732: I tensorflow/core/kernels/data/shuffle_dataset_op.cc:422] ShuffleDatasetV3:1: Filling up shuffle buffer (this may take a while): 16898 of 18286\n",
      "2025-01-11 16:20:56.030715: I tensorflow/core/kernels/data/shuffle_dataset_op.cc:422] ShuffleDatasetV3:1: Filling up shuffle buffer (this may take a while): 17958 of 18286\n"
     ]
    },
    {
     "name": "stdout",
     "output_type": "stream",
     "text": [
      "205/572 [=========>....................] - ETA: 0s - loss: 0.0670 - accuracy: 0.9809 - auc: 0.9881 - specificity: 0.9842 - sensitivity: 0.9718 - f1_score: 0.9823    "
     ]
    },
    {
     "name": "stderr",
     "output_type": "stream",
     "text": [
      "2025-01-11 16:21:01.873940: I tensorflow/core/kernels/data/shuffle_dataset_op.cc:452] Shuffle buffer filled.\n"
     ]
    },
    {
     "name": "stdout",
     "output_type": "stream",
     "text": [
      "572/572 [==============================] - 146s 745us/step - loss: 0.0630 - accuracy: 0.9832 - auc: 0.9886 - specificity: 0.9872 - sensitivity: 0.9734 - f1_score: 0.9836 - val_loss: 0.0546 - val_accuracy: 0.9864 - val_auc: 0.9931 - val_specificity: 0.9789 - val_sensitivity: 0.9857 - val_f1_score: 0.9915 - lr: 0.0010\n",
      "Epoch 14/50\n"
     ]
    },
    {
     "name": "stderr",
     "output_type": "stream",
     "text": [
      "2025-01-11 16:21:12.343497: I tensorflow/core/kernels/data/shuffle_dataset_op.cc:422] ShuffleDatasetV3:1: Filling up shuffle buffer (this may take a while): 8520 of 18286\n",
      "2025-01-11 16:21:32.329983: I tensorflow/core/kernels/data/shuffle_dataset_op.cc:422] ShuffleDatasetV3:1: Filling up shuffle buffer (this may take a while): 10812 of 18286\n",
      "2025-01-11 16:21:42.338248: I tensorflow/core/kernels/data/shuffle_dataset_op.cc:422] ShuffleDatasetV3:1: Filling up shuffle buffer (this may take a while): 11370 of 18286\n",
      "2025-01-11 16:22:02.333977: I tensorflow/core/kernels/data/shuffle_dataset_op.cc:422] ShuffleDatasetV3:1: Filling up shuffle buffer (this may take a while): 12470 of 18286\n",
      "2025-01-11 16:22:22.329091: I tensorflow/core/kernels/data/shuffle_dataset_op.cc:422] ShuffleDatasetV3:1: Filling up shuffle buffer (this may take a while): 13685 of 18286\n",
      "2025-01-11 16:22:32.329345: I tensorflow/core/kernels/data/shuffle_dataset_op.cc:422] ShuffleDatasetV3:1: Filling up shuffle buffer (this may take a while): 14288 of 18286\n",
      "2025-01-11 16:22:42.337312: I tensorflow/core/kernels/data/shuffle_dataset_op.cc:422] ShuffleDatasetV3:1: Filling up shuffle buffer (this may take a while): 14775 of 18286\n",
      "2025-01-11 16:22:52.348370: I tensorflow/core/kernels/data/shuffle_dataset_op.cc:422] ShuffleDatasetV3:1: Filling up shuffle buffer (this may take a while): 15362 of 18286\n",
      "2025-01-11 16:23:12.346335: I tensorflow/core/kernels/data/shuffle_dataset_op.cc:422] ShuffleDatasetV3:1: Filling up shuffle buffer (this may take a while): 16471 of 18286\n",
      "2025-01-11 16:23:32.333022: I tensorflow/core/kernels/data/shuffle_dataset_op.cc:422] ShuffleDatasetV3:1: Filling up shuffle buffer (this may take a while): 17524 of 18286\n",
      "2025-01-11 16:23:42.351950: I tensorflow/core/kernels/data/shuffle_dataset_op.cc:422] ShuffleDatasetV3:1: Filling up shuffle buffer (this may take a while): 17987 of 18286\n"
     ]
    },
    {
     "name": "stdout",
     "output_type": "stream",
     "text": [
      "213/572 [==========>...................] - ETA: 0s - loss: 0.0609 - accuracy: 0.9837 - auc: 0.9888 - specificity: 0.9874 - sensitivity: 0.9739 - f1_score: 0.9841    "
     ]
    },
    {
     "name": "stderr",
     "output_type": "stream",
     "text": [
      "2025-01-11 16:23:46.384478: I tensorflow/core/kernels/data/shuffle_dataset_op.cc:452] Shuffle buffer filled.\n"
     ]
    },
    {
     "name": "stdout",
     "output_type": "stream",
     "text": [
      "572/572 [==============================] - 165s 726us/step - loss: 0.0615 - accuracy: 0.9837 - auc: 0.9889 - specificity: 0.9868 - sensitivity: 0.9744 - f1_score: 0.9840 - val_loss: 0.0900 - val_accuracy: 0.9570 - val_auc: 0.9743 - val_specificity: 1.0000 - val_sensitivity: 0.9381 - val_f1_score: 0.9727 - lr: 0.0010\n",
      "Epoch 15/50\n"
     ]
    },
    {
     "name": "stderr",
     "output_type": "stream",
     "text": [
      "2025-01-11 16:23:56.852425: I tensorflow/core/kernels/data/shuffle_dataset_op.cc:422] ShuffleDatasetV3:1: Filling up shuffle buffer (this may take a while): 9054 of 18286\n",
      "2025-01-11 16:24:06.860847: I tensorflow/core/kernels/data/shuffle_dataset_op.cc:422] ShuffleDatasetV3:1: Filling up shuffle buffer (this may take a while): 9816 of 18286\n",
      "2025-01-11 16:24:26.858998: I tensorflow/core/kernels/data/shuffle_dataset_op.cc:422] ShuffleDatasetV3:1: Filling up shuffle buffer (this may take a while): 11232 of 18286\n",
      "2025-01-11 16:24:46.849158: I tensorflow/core/kernels/data/shuffle_dataset_op.cc:422] ShuffleDatasetV3:1: Filling up shuffle buffer (this may take a while): 12330 of 18286\n",
      "2025-01-11 16:25:06.857842: I tensorflow/core/kernels/data/shuffle_dataset_op.cc:422] ShuffleDatasetV3:1: Filling up shuffle buffer (this may take a while): 13390 of 18286\n",
      "2025-01-11 16:25:26.845287: I tensorflow/core/kernels/data/shuffle_dataset_op.cc:422] ShuffleDatasetV3:1: Filling up shuffle buffer (this may take a while): 14438 of 18286\n",
      "2025-01-11 16:25:46.837955: I tensorflow/core/kernels/data/shuffle_dataset_op.cc:422] ShuffleDatasetV3:1: Filling up shuffle buffer (this may take a while): 15496 of 18286\n",
      "2025-01-11 16:25:56.852810: I tensorflow/core/kernels/data/shuffle_dataset_op.cc:422] ShuffleDatasetV3:1: Filling up shuffle buffer (this may take a while): 16054 of 18286\n",
      "2025-01-11 16:26:06.856932: I tensorflow/core/kernels/data/shuffle_dataset_op.cc:422] ShuffleDatasetV3:1: Filling up shuffle buffer (this may take a while): 16543 of 18286\n",
      "2025-01-11 16:26:26.852916: I tensorflow/core/kernels/data/shuffle_dataset_op.cc:422] ShuffleDatasetV3:1: Filling up shuffle buffer (this may take a while): 17594 of 18286\n"
     ]
    },
    {
     "name": "stdout",
     "output_type": "stream",
     "text": [
      "166/572 [=======>......................] - ETA: 0s - loss: 0.0519 - accuracy: 0.9881 - auc: 0.9920 - specificity: 0.9925 - sensitivity: 0.9807 - f1_score: 0.9890    "
     ]
    },
    {
     "name": "stderr",
     "output_type": "stream",
     "text": [
      "2025-01-11 16:26:39.757448: I tensorflow/core/kernels/data/shuffle_dataset_op.cc:452] Shuffle buffer filled.\n"
     ]
    },
    {
     "name": "stdout",
     "output_type": "stream",
     "text": [
      "572/572 [==============================] - 173s 789us/step - loss: 0.0571 - accuracy: 0.9849 - auc: 0.9901 - specificity: 0.9891 - sensitivity: 0.9759 - f1_score: 0.9860 - val_loss: 0.0787 - val_accuracy: 0.9795 - val_auc: 0.9732 - val_specificity: 0.9040 - val_sensitivity: 1.0000 - val_f1_score: 0.9823 - lr: 0.0010\n",
      "Epoch 16/50\n"
     ]
    },
    {
     "name": "stderr",
     "output_type": "stream",
     "text": [
      "2025-01-11 16:26:50.246216: I tensorflow/core/kernels/data/shuffle_dataset_op.cc:422] ShuffleDatasetV3:1: Filling up shuffle buffer (this may take a while): 8699 of 18286\n",
      "2025-01-11 16:27:10.232816: I tensorflow/core/kernels/data/shuffle_dataset_op.cc:422] ShuffleDatasetV3:1: Filling up shuffle buffer (this may take a while): 10339 of 18286\n",
      "2025-01-11 16:27:30.227237: I tensorflow/core/kernels/data/shuffle_dataset_op.cc:422] ShuffleDatasetV3:1: Filling up shuffle buffer (this may take a while): 11639 of 18286\n",
      "2025-01-11 16:27:40.236867: I tensorflow/core/kernels/data/shuffle_dataset_op.cc:422] ShuffleDatasetV3:1: Filling up shuffle buffer (this may take a while): 12219 of 18286\n",
      "2025-01-11 16:28:00.229805: I tensorflow/core/kernels/data/shuffle_dataset_op.cc:422] ShuffleDatasetV3:1: Filling up shuffle buffer (this may take a while): 13285 of 18286\n",
      "2025-01-11 16:28:20.241650: I tensorflow/core/kernels/data/shuffle_dataset_op.cc:422] ShuffleDatasetV3:1: Filling up shuffle buffer (this may take a while): 14351 of 18286\n",
      "2025-01-11 16:28:40.239102: I tensorflow/core/kernels/data/shuffle_dataset_op.cc:422] ShuffleDatasetV3:1: Filling up shuffle buffer (this may take a while): 15412 of 18286\n",
      "2025-01-11 16:29:00.226025: I tensorflow/core/kernels/data/shuffle_dataset_op.cc:422] ShuffleDatasetV3:1: Filling up shuffle buffer (this may take a while): 16557 of 18286\n",
      "2025-01-11 16:29:20.229583: I tensorflow/core/kernels/data/shuffle_dataset_op.cc:422] ShuffleDatasetV3:1: Filling up shuffle buffer (this may take a while): 17885 of 18286\n"
     ]
    },
    {
     "name": "stdout",
     "output_type": "stream",
     "text": [
      "153/572 [=======>......................] - ETA: 0s - loss: 0.0576 - accuracy: 0.9841 - auc: 0.9898 - specificity: 0.9857 - sensitivity: 0.9765 - f1_score: 0.9855    "
     ]
    },
    {
     "name": "stderr",
     "output_type": "stream",
     "text": [
      "2025-01-11 16:29:23.289690: I tensorflow/core/kernels/data/shuffle_dataset_op.cc:452] Shuffle buffer filled.\n"
     ]
    },
    {
     "name": "stdout",
     "output_type": "stream",
     "text": [
      "572/572 [==============================] - 164s 810us/step - loss: 0.0556 - accuracy: 0.9856 - auc: 0.9906 - specificity: 0.9896 - sensitivity: 0.9767 - f1_score: 0.9869 - val_loss: 0.0478 - val_accuracy: 0.9879 - val_auc: 0.9948 - val_specificity: 0.9823 - val_sensitivity: 0.9864 - val_f1_score: 0.9928 - lr: 0.0010\n",
      "Epoch 17/50\n"
     ]
    },
    {
     "name": "stderr",
     "output_type": "stream",
     "text": [
      "2025-01-11 16:29:33.772710: I tensorflow/core/kernels/data/shuffle_dataset_op.cc:422] ShuffleDatasetV3:1: Filling up shuffle buffer (this may take a while): 966 of 18286\n",
      "2025-01-11 16:29:53.782042: I tensorflow/core/kernels/data/shuffle_dataset_op.cc:422] ShuffleDatasetV3:1: Filling up shuffle buffer (this may take a while): 9790 of 18286\n",
      "2025-01-11 16:30:13.771385: I tensorflow/core/kernels/data/shuffle_dataset_op.cc:422] ShuffleDatasetV3:1: Filling up shuffle buffer (this may take a while): 11210 of 18286\n",
      "2025-01-11 16:30:33.769731: I tensorflow/core/kernels/data/shuffle_dataset_op.cc:422] ShuffleDatasetV3:1: Filling up shuffle buffer (this may take a while): 13242 of 18286\n",
      "2025-01-11 16:30:43.772891: I tensorflow/core/kernels/data/shuffle_dataset_op.cc:422] ShuffleDatasetV3:1: Filling up shuffle buffer (this may take a while): 14236 of 18286\n",
      "2025-01-11 16:31:03.763173: I tensorflow/core/kernels/data/shuffle_dataset_op.cc:422] ShuffleDatasetV3:1: Filling up shuffle buffer (this may take a while): 15466 of 18286\n",
      "2025-01-11 16:31:23.793350: I tensorflow/core/kernels/data/shuffle_dataset_op.cc:422] ShuffleDatasetV3:1: Filling up shuffle buffer (this may take a while): 16526 of 18286\n",
      "2025-01-11 16:31:43.771032: I tensorflow/core/kernels/data/shuffle_dataset_op.cc:422] ShuffleDatasetV3:1: Filling up shuffle buffer (this may take a while): 17580 of 18286\n"
     ]
    },
    {
     "name": "stdout",
     "output_type": "stream",
     "text": [
      "126/572 [=====>........................] - ETA: 0s - loss: 0.0555 - accuracy: 0.9846 - auc: 0.9896 - specificity: 0.9905 - sensitivity: 0.9752 - f1_score: 0.9857    "
     ]
    },
    {
     "name": "stderr",
     "output_type": "stream",
     "text": [
      "2025-01-11 16:31:55.221156: I tensorflow/core/kernels/data/shuffle_dataset_op.cc:452] Shuffle buffer filled.\n"
     ]
    },
    {
     "name": "stdout",
     "output_type": "stream",
     "text": [
      "572/572 [==============================] - 152s 851us/step - loss: 0.0530 - accuracy: 0.9867 - auc: 0.9912 - specificity: 0.9907 - sensitivity: 0.9778 - f1_score: 0.9878 - val_loss: 0.0533 - val_accuracy: 0.9895 - val_auc: 0.9931 - val_specificity: 0.9441 - val_sensitivity: 0.9970 - val_f1_score: 0.9891 - lr: 0.0010\n",
      "Epoch 18/50\n"
     ]
    },
    {
     "name": "stderr",
     "output_type": "stream",
     "text": [
      "2025-01-11 16:32:05.738093: I tensorflow/core/kernels/data/shuffle_dataset_op.cc:422] ShuffleDatasetV3:1: Filling up shuffle buffer (this may take a while): 8799 of 18286\n",
      "2025-01-11 16:32:15.752514: I tensorflow/core/kernels/data/shuffle_dataset_op.cc:422] ShuffleDatasetV3:1: Filling up shuffle buffer (this may take a while): 9560 of 18286\n",
      "2025-01-11 16:32:35.743286: I tensorflow/core/kernels/data/shuffle_dataset_op.cc:422] ShuffleDatasetV3:1: Filling up shuffle buffer (this may take a while): 10990 of 18286\n",
      "2025-01-11 16:32:45.746617: I tensorflow/core/kernels/data/shuffle_dataset_op.cc:422] ShuffleDatasetV3:1: Filling up shuffle buffer (this may take a while): 11907 of 18286\n",
      "2025-01-11 16:32:55.751503: I tensorflow/core/kernels/data/shuffle_dataset_op.cc:422] ShuffleDatasetV3:1: Filling up shuffle buffer (this may take a while): 12630 of 18286\n",
      "2025-01-11 16:33:05.752548: I tensorflow/core/kernels/data/shuffle_dataset_op.cc:422] ShuffleDatasetV3:1: Filling up shuffle buffer (this may take a while): 13344 of 18286\n",
      "2025-01-11 16:33:25.737413: I tensorflow/core/kernels/data/shuffle_dataset_op.cc:422] ShuffleDatasetV3:1: Filling up shuffle buffer (this may take a while): 14573 of 18286\n",
      "2025-01-11 16:33:35.742971: I tensorflow/core/kernels/data/shuffle_dataset_op.cc:422] ShuffleDatasetV3:1: Filling up shuffle buffer (this may take a while): 15176 of 18286\n",
      "2025-01-11 16:33:45.743989: I tensorflow/core/kernels/data/shuffle_dataset_op.cc:422] ShuffleDatasetV3:1: Filling up shuffle buffer (this may take a while): 16020 of 18286\n",
      "2025-01-11 16:33:55.768975: I tensorflow/core/kernels/data/shuffle_dataset_op.cc:422] ShuffleDatasetV3:1: Filling up shuffle buffer (this may take a while): 16539 of 18286\n",
      "2025-01-11 16:34:15.754600: I tensorflow/core/kernels/data/shuffle_dataset_op.cc:422] ShuffleDatasetV3:1: Filling up shuffle buffer (this may take a while): 17600 of 18286\n",
      "2025-01-11 16:34:25.755774: I tensorflow/core/kernels/data/shuffle_dataset_op.cc:422] ShuffleDatasetV3:1: Filling up shuffle buffer (this may take a while): 18186 of 18286\n"
     ]
    },
    {
     "name": "stdout",
     "output_type": "stream",
     "text": [
      "221/572 [==========>...................] - ETA: 0s - loss: 0.0545 - accuracy: 0.9863 - auc: 0.9914 - specificity: 0.9875 - sensitivity: 0.9795 - f1_score: 0.9869    "
     ]
    },
    {
     "name": "stderr",
     "output_type": "stream",
     "text": [
      "2025-01-11 16:34:27.190562: I tensorflow/core/kernels/data/shuffle_dataset_op.cc:452] Shuffle buffer filled.\n"
     ]
    },
    {
     "name": "stdout",
     "output_type": "stream",
     "text": [
      "572/572 [==============================] - 152s 739us/step - loss: 0.0561 - accuracy: 0.9851 - auc: 0.9902 - specificity: 0.9880 - sensitivity: 0.9770 - f1_score: 0.9859 - val_loss: 0.0625 - val_accuracy: 0.9769 - val_auc: 0.9853 - val_specificity: 0.9880 - val_sensitivity: 0.9713 - val_f1_score: 0.9872 - lr: 0.0010\n",
      "Epoch 19/50\n"
     ]
    },
    {
     "name": "stderr",
     "output_type": "stream",
     "text": [
      "2025-01-11 16:34:37.664610: I tensorflow/core/kernels/data/shuffle_dataset_op.cc:422] ShuffleDatasetV3:1: Filling up shuffle buffer (this may take a while): 8421 of 18286\n",
      "2025-01-11 16:34:47.664939: I tensorflow/core/kernels/data/shuffle_dataset_op.cc:422] ShuffleDatasetV3:1: Filling up shuffle buffer (this may take a while): 9216 of 18286\n",
      "2025-01-11 16:35:07.677454: I tensorflow/core/kernels/data/shuffle_dataset_op.cc:422] ShuffleDatasetV3:1: Filling up shuffle buffer (this may take a while): 11792 of 18286\n",
      "2025-01-11 16:35:27.656734: I tensorflow/core/kernels/data/shuffle_dataset_op.cc:422] ShuffleDatasetV3:1: Filling up shuffle buffer (this may take a while): 13164 of 18286\n",
      "2025-01-11 16:35:47.650077: I tensorflow/core/kernels/data/shuffle_dataset_op.cc:422] ShuffleDatasetV3:1: Filling up shuffle buffer (this may take a while): 14267 of 18286\n",
      "2025-01-11 16:35:57.672595: I tensorflow/core/kernels/data/shuffle_dataset_op.cc:422] ShuffleDatasetV3:1: Filling up shuffle buffer (this may take a while): 14899 of 18286\n",
      "2025-01-11 16:36:17.656428: I tensorflow/core/kernels/data/shuffle_dataset_op.cc:422] ShuffleDatasetV3:1: Filling up shuffle buffer (this may take a while): 15859 of 18286\n",
      "2025-01-11 16:36:27.665760: I tensorflow/core/kernels/data/shuffle_dataset_op.cc:422] ShuffleDatasetV3:1: Filling up shuffle buffer (this may take a while): 16434 of 18286\n",
      "2025-01-11 16:36:47.666647: I tensorflow/core/kernels/data/shuffle_dataset_op.cc:422] ShuffleDatasetV3:1: Filling up shuffle buffer (this may take a while): 17476 of 18286\n",
      "2025-01-11 16:36:57.679686: I tensorflow/core/kernels/data/shuffle_dataset_op.cc:422] ShuffleDatasetV3:1: Filling up shuffle buffer (this may take a while): 17956 of 18286\n"
     ]
    },
    {
     "name": "stdout",
     "output_type": "stream",
     "text": [
      " 78/572 [===>..........................] - ETA: 0s - loss: 0.0779 - accuracy: 0.9748 - auc: 0.9819 - specificity: 0.9796 - sensitivity: 0.9601 - f1_score: 0.9756   "
     ]
    },
    {
     "name": "stderr",
     "output_type": "stream",
     "text": [
      "2025-01-11 16:37:03.629001: I tensorflow/core/kernels/data/shuffle_dataset_op.cc:452] Shuffle buffer filled.\n"
     ]
    },
    {
     "name": "stdout",
     "output_type": "stream",
     "text": [
      "572/572 [==============================] - 157s 904us/step - loss: 0.0544 - accuracy: 0.9860 - auc: 0.9904 - specificity: 0.9884 - sensitivity: 0.9777 - f1_score: 0.9861 - val_loss: 0.0497 - val_accuracy: 0.9895 - val_auc: 0.9932 - val_specificity: 0.9640 - val_sensitivity: 0.9947 - val_f1_score: 0.9915 - lr: 0.0010\n",
      "Epoch 20/50\n"
     ]
    },
    {
     "name": "stderr",
     "output_type": "stream",
     "text": [
      "2025-01-11 16:37:14.167381: I tensorflow/core/kernels/data/shuffle_dataset_op.cc:422] ShuffleDatasetV3:1: Filling up shuffle buffer (this may take a while): 5078 of 18286\n",
      "2025-01-11 16:37:34.170554: I tensorflow/core/kernels/data/shuffle_dataset_op.cc:422] ShuffleDatasetV3:1: Filling up shuffle buffer (this may take a while): 9819 of 18286\n",
      "2025-01-11 16:37:54.167698: I tensorflow/core/kernels/data/shuffle_dataset_op.cc:422] ShuffleDatasetV3:1: Filling up shuffle buffer (this may take a while): 11075 of 18286\n",
      "2025-01-11 16:38:04.172219: I tensorflow/core/kernels/data/shuffle_dataset_op.cc:422] ShuffleDatasetV3:1: Filling up shuffle buffer (this may take a while): 11944 of 18286\n",
      "2025-01-11 16:38:24.190404: I tensorflow/core/kernels/data/shuffle_dataset_op.cc:422] ShuffleDatasetV3:1: Filling up shuffle buffer (this may take a while): 14463 of 18286\n",
      "2025-01-11 16:38:44.188259: I tensorflow/core/kernels/data/shuffle_dataset_op.cc:422] ShuffleDatasetV3:1: Filling up shuffle buffer (this may take a while): 15528 of 18286\n",
      "2025-01-11 16:39:04.161484: I tensorflow/core/kernels/data/shuffle_dataset_op.cc:422] ShuffleDatasetV3:1: Filling up shuffle buffer (this may take a while): 16690 of 18286\n",
      "2025-01-11 16:39:14.164796: I tensorflow/core/kernels/data/shuffle_dataset_op.cc:422] ShuffleDatasetV3:1: Filling up shuffle buffer (this may take a while): 17712 of 18286\n"
     ]
    },
    {
     "name": "stdout",
     "output_type": "stream",
     "text": [
      "  9/572 [..............................] - ETA: 8s - loss: 0.0358 - accuracy: 1.0000 - auc: 1.0000 - specificity: 0.9931 - sensitivity: 1.0000 - f1_score: 0.9966    "
     ]
    },
    {
     "name": "stderr",
     "output_type": "stream",
     "text": [
      "2025-01-11 16:39:24.378705: I tensorflow/core/kernels/data/shuffle_dataset_op.cc:452] Shuffle buffer filled.\n"
     ]
    },
    {
     "name": "stdout",
     "output_type": "stream",
     "text": [
      "572/572 [==============================] - 141s 927us/step - loss: 0.0407 - accuracy: 0.9925 - auc: 0.9961 - specificity: 0.9956 - sensitivity: 0.9867 - f1_score: 0.9941 - val_loss: 0.0430 - val_accuracy: 0.9900 - val_auc: 0.9953 - val_specificity: 0.9927 - val_sensitivity: 0.9872 - val_f1_score: 0.9946 - lr: 1.0000e-04\n",
      "Epoch 21/50\n"
     ]
    },
    {
     "name": "stderr",
     "output_type": "stream",
     "text": [
      "2025-01-11 16:39:34.967039: I tensorflow/core/kernels/data/shuffle_dataset_op.cc:422] ShuffleDatasetV3:1: Filling up shuffle buffer (this may take a while): 9629 of 18286\n",
      "2025-01-11 16:39:45.003546: I tensorflow/core/kernels/data/shuffle_dataset_op.cc:422] ShuffleDatasetV3:1: Filling up shuffle buffer (this may take a while): 10514 of 18286\n",
      "2025-01-11 16:40:04.971926: I tensorflow/core/kernels/data/shuffle_dataset_op.cc:422] ShuffleDatasetV3:1: Filling up shuffle buffer (this may take a while): 12742 of 18286\n",
      "2025-01-11 16:40:14.990732: I tensorflow/core/kernels/data/shuffle_dataset_op.cc:422] ShuffleDatasetV3:1: Filling up shuffle buffer (this may take a while): 13671 of 18286\n",
      "2025-01-11 16:40:34.966074: I tensorflow/core/kernels/data/shuffle_dataset_op.cc:422] ShuffleDatasetV3:1: Filling up shuffle buffer (this may take a while): 14770 of 18286\n",
      "2025-01-11 16:40:54.994151: I tensorflow/core/kernels/data/shuffle_dataset_op.cc:422] ShuffleDatasetV3:1: Filling up shuffle buffer (this may take a while): 16182 of 18286\n",
      "2025-01-11 16:41:14.979010: I tensorflow/core/kernels/data/shuffle_dataset_op.cc:422] ShuffleDatasetV3:1: Filling up shuffle buffer (this may take a while): 17230 of 18286\n"
     ]
    },
    {
     "name": "stdout",
     "output_type": "stream",
     "text": [
      "119/572 [=====>........................] - ETA: 0s - loss: 0.0381 - accuracy: 0.9934 - auc: 0.9977 - specificity: 0.9980 - sensitivity: 0.9881 - f1_score: 0.9964     "
     ]
    },
    {
     "name": "stderr",
     "output_type": "stream",
     "text": [
      "2025-01-11 16:41:34.967683: I tensorflow/core/kernels/data/shuffle_dataset_op.cc:422] ShuffleDatasetV3:1: Filling up shuffle buffer (this may take a while): 18266 of 18286\n",
      "2025-01-11 16:41:35.008570: I tensorflow/core/kernels/data/shuffle_dataset_op.cc:452] Shuffle buffer filled.\n"
     ]
    },
    {
     "name": "stdout",
     "output_type": "stream",
     "text": [
      "572/572 [==============================] - 130s 753us/step - loss: 0.0385 - accuracy: 0.9939 - auc: 0.9972 - specificity: 0.9976 - sensitivity: 0.9886 - f1_score: 0.9957 - val_loss: 0.0414 - val_accuracy: 0.9906 - val_auc: 0.9988 - val_specificity: 0.9873 - val_sensitivity: 0.9887 - val_f1_score: 0.9966 - lr: 1.0000e-04\n",
      "Epoch 22/50\n"
     ]
    },
    {
     "name": "stderr",
     "output_type": "stream",
     "text": [
      "2025-01-11 16:41:45.480902: I tensorflow/core/kernels/data/shuffle_dataset_op.cc:422] ShuffleDatasetV3:1: Filling up shuffle buffer (this may take a while): 8493 of 18286\n",
      "2025-01-11 16:42:05.468138: I tensorflow/core/kernels/data/shuffle_dataset_op.cc:422] ShuffleDatasetV3:1: Filling up shuffle buffer (this may take a while): 10082 of 18286\n",
      "2025-01-11 16:42:25.490277: I tensorflow/core/kernels/data/shuffle_dataset_op.cc:422] ShuffleDatasetV3:1: Filling up shuffle buffer (this may take a while): 11927 of 18286\n",
      "2025-01-11 16:42:45.464951: I tensorflow/core/kernels/data/shuffle_dataset_op.cc:422] ShuffleDatasetV3:1: Filling up shuffle buffer (this may take a while): 13084 of 18286\n",
      "2025-01-11 16:43:05.466373: I tensorflow/core/kernels/data/shuffle_dataset_op.cc:422] ShuffleDatasetV3:1: Filling up shuffle buffer (this may take a while): 14222 of 18286\n",
      "2025-01-11 16:43:25.460898: I tensorflow/core/kernels/data/shuffle_dataset_op.cc:422] ShuffleDatasetV3:1: Filling up shuffle buffer (this may take a while): 15320 of 18286\n",
      "2025-01-11 16:43:35.472997: I tensorflow/core/kernels/data/shuffle_dataset_op.cc:422] ShuffleDatasetV3:1: Filling up shuffle buffer (this may take a while): 15796 of 18286\n",
      "2025-01-11 16:43:55.475319: I tensorflow/core/kernels/data/shuffle_dataset_op.cc:422] ShuffleDatasetV3:1: Filling up shuffle buffer (this may take a while): 16918 of 18286\n",
      "2025-01-11 16:44:15.478793: I tensorflow/core/kernels/data/shuffle_dataset_op.cc:422] ShuffleDatasetV3:1: Filling up shuffle buffer (this may take a while): 17973 of 18286\n"
     ]
    },
    {
     "name": "stdout",
     "output_type": "stream",
     "text": [
      "192/572 [=========>....................] - ETA: 0s - loss: 0.0376 - accuracy: 0.9946 - auc: 0.9980 - specificity: 0.9983 - sensitivity: 0.9900 - f1_score: 0.9971    "
     ]
    },
    {
     "name": "stderr",
     "output_type": "stream",
     "text": [
      "2025-01-11 16:44:20.867770: I tensorflow/core/kernels/data/shuffle_dataset_op.cc:452] Shuffle buffer filled.\n"
     ]
    },
    {
     "name": "stdout",
     "output_type": "stream",
     "text": [
      "572/572 [==============================] - 166s 765us/step - loss: 0.0382 - accuracy: 0.9937 - auc: 0.9972 - specificity: 0.9978 - sensitivity: 0.9883 - f1_score: 0.9962 - val_loss: 0.0412 - val_accuracy: 0.9932 - val_auc: 0.9992 - val_specificity: 0.9825 - val_sensitivity: 0.9925 - val_f1_score: 0.9953 - lr: 1.0000e-04\n",
      "Epoch 23/50\n"
     ]
    },
    {
     "name": "stderr",
     "output_type": "stream",
     "text": [
      "2025-01-11 16:44:31.342977: I tensorflow/core/kernels/data/shuffle_dataset_op.cc:422] ShuffleDatasetV3:1: Filling up shuffle buffer (this may take a while): 8674 of 18286\n",
      "2025-01-11 16:44:41.350544: I tensorflow/core/kernels/data/shuffle_dataset_op.cc:422] ShuffleDatasetV3:1: Filling up shuffle buffer (this may take a while): 9588 of 18286\n",
      "2025-01-11 16:45:01.353200: I tensorflow/core/kernels/data/shuffle_dataset_op.cc:422] ShuffleDatasetV3:1: Filling up shuffle buffer (this may take a while): 11090 of 18286\n",
      "2025-01-11 16:45:21.353136: I tensorflow/core/kernels/data/shuffle_dataset_op.cc:422] ShuffleDatasetV3:1: Filling up shuffle buffer (this may take a while): 12479 of 18286\n",
      "2025-01-11 16:45:31.372119: I tensorflow/core/kernels/data/shuffle_dataset_op.cc:422] ShuffleDatasetV3:1: Filling up shuffle buffer (this may take a while): 13038 of 18286\n",
      "2025-01-11 16:45:51.374072: I tensorflow/core/kernels/data/shuffle_dataset_op.cc:422] ShuffleDatasetV3:1: Filling up shuffle buffer (this may take a while): 14136 of 18286\n",
      "2025-01-11 16:46:11.348393: I tensorflow/core/kernels/data/shuffle_dataset_op.cc:422] ShuffleDatasetV3:1: Filling up shuffle buffer (this may take a while): 15202 of 18286\n",
      "2025-01-11 16:46:21.372700: I tensorflow/core/kernels/data/shuffle_dataset_op.cc:422] ShuffleDatasetV3:1: Filling up shuffle buffer (this may take a while): 15803 of 18286\n",
      "2025-01-11 16:46:41.351247: I tensorflow/core/kernels/data/shuffle_dataset_op.cc:422] ShuffleDatasetV3:1: Filling up shuffle buffer (this may take a while): 16853 of 18286\n",
      "2025-01-11 16:47:01.370793: I tensorflow/core/kernels/data/shuffle_dataset_op.cc:422] ShuffleDatasetV3:1: Filling up shuffle buffer (this may take a while): 17914 of 18286\n"
     ]
    },
    {
     "name": "stdout",
     "output_type": "stream",
     "text": [
      "141/572 [======>.......................] - ETA: 0s - loss: 0.0366 - accuracy: 0.9947 - auc: 0.9978 - specificity: 0.9992 - sensitivity: 0.9894 - f1_score: 0.9973    "
     ]
    },
    {
     "name": "stderr",
     "output_type": "stream",
     "text": [
      "2025-01-11 16:47:08.852394: I tensorflow/core/kernels/data/shuffle_dataset_op.cc:452] Shuffle buffer filled.\n"
     ]
    },
    {
     "name": "stdout",
     "output_type": "stream",
     "text": [
      "572/572 [==============================] - 168s 817us/step - loss: 0.0378 - accuracy: 0.9944 - auc: 0.9973 - specificity: 0.9982 - sensitivity: 0.9894 - f1_score: 0.9964 - val_loss: 0.0406 - val_accuracy: 0.9911 - val_auc: 0.9979 - val_specificity: 0.9927 - val_sensitivity: 0.9894 - val_f1_score: 0.9973 - lr: 1.0000e-04\n",
      "Epoch 24/50\n"
     ]
    },
    {
     "name": "stderr",
     "output_type": "stream",
     "text": [
      "2025-01-11 16:47:19.340708: I tensorflow/core/kernels/data/shuffle_dataset_op.cc:422] ShuffleDatasetV3:1: Filling up shuffle buffer (this may take a while): 9214 of 18286\n",
      "2025-01-11 16:47:39.348275: I tensorflow/core/kernels/data/shuffle_dataset_op.cc:422] ShuffleDatasetV3:1: Filling up shuffle buffer (this may take a while): 11551 of 18286\n",
      "2025-01-11 16:47:59.357889: I tensorflow/core/kernels/data/shuffle_dataset_op.cc:422] ShuffleDatasetV3:1: Filling up shuffle buffer (this may take a while): 12635 of 18286\n",
      "2025-01-11 16:48:19.363998: I tensorflow/core/kernels/data/shuffle_dataset_op.cc:422] ShuffleDatasetV3:1: Filling up shuffle buffer (this may take a while): 13698 of 18286\n",
      "2025-01-11 16:48:39.344131: I tensorflow/core/kernels/data/shuffle_dataset_op.cc:422] ShuffleDatasetV3:1: Filling up shuffle buffer (this may take a while): 14855 of 18286\n",
      "2025-01-11 16:48:49.356417: I tensorflow/core/kernels/data/shuffle_dataset_op.cc:422] ShuffleDatasetV3:1: Filling up shuffle buffer (this may take a while): 15427 of 18286\n",
      "2025-01-11 16:48:59.365537: I tensorflow/core/kernels/data/shuffle_dataset_op.cc:422] ShuffleDatasetV3:1: Filling up shuffle buffer (this may take a while): 15894 of 18286\n",
      "2025-01-11 16:49:19.334054: I tensorflow/core/kernels/data/shuffle_dataset_op.cc:422] ShuffleDatasetV3:1: Filling up shuffle buffer (this may take a while): 16946 of 18286\n",
      "2025-01-11 16:49:29.337455: I tensorflow/core/kernels/data/shuffle_dataset_op.cc:422] ShuffleDatasetV3:1: Filling up shuffle buffer (this may take a while): 18111 of 18286\n"
     ]
    },
    {
     "name": "stdout",
     "output_type": "stream",
     "text": [
      "192/572 [=========>....................] - ETA: 0s - loss: 0.0356 - accuracy: 0.9954 - auc: 0.9982 - specificity: 0.9987 - sensitivity: 0.9907 - f1_score: 0.9975    "
     ]
    },
    {
     "name": "stderr",
     "output_type": "stream",
     "text": [
      "2025-01-11 16:49:31.013217: I tensorflow/core/kernels/data/shuffle_dataset_op.cc:452] Shuffle buffer filled.\n"
     ]
    },
    {
     "name": "stdout",
     "output_type": "stream",
     "text": [
      "572/572 [==============================] - 142s 1ms/step - loss: 0.0371 - accuracy: 0.9944 - auc: 0.9970 - specificity: 0.9978 - sensitivity: 0.9892 - f1_score: 0.9957 - val_loss: 0.0431 - val_accuracy: 0.9953 - val_auc: 0.9965 - val_specificity: 0.9691 - val_sensitivity: 1.0000 - val_f1_score: 0.9936 - lr: 1.0000e-04\n",
      "Epoch 25/50\n"
     ]
    },
    {
     "name": "stderr",
     "output_type": "stream",
     "text": [
      "2025-01-11 16:49:41.628636: I tensorflow/core/kernels/data/shuffle_dataset_op.cc:422] ShuffleDatasetV3:1: Filling up shuffle buffer (this may take a while): 7642 of 18286\n",
      "2025-01-11 16:49:51.639095: I tensorflow/core/kernels/data/shuffle_dataset_op.cc:422] ShuffleDatasetV3:1: Filling up shuffle buffer (this may take a while): 8122 of 18286\n",
      "2025-01-11 16:50:11.620824: I tensorflow/core/kernels/data/shuffle_dataset_op.cc:422] ShuffleDatasetV3:1: Filling up shuffle buffer (this may take a while): 9248 of 18286\n",
      "2025-01-11 16:50:31.622669: I tensorflow/core/kernels/data/shuffle_dataset_op.cc:422] ShuffleDatasetV3:1: Filling up shuffle buffer (this may take a while): 10846 of 18286\n",
      "2025-01-11 16:50:51.625513: I tensorflow/core/kernels/data/shuffle_dataset_op.cc:422] ShuffleDatasetV3:1: Filling up shuffle buffer (this may take a while): 12391 of 18286\n",
      "2025-01-11 16:51:11.633855: I tensorflow/core/kernels/data/shuffle_dataset_op.cc:422] ShuffleDatasetV3:1: Filling up shuffle buffer (this may take a while): 13528 of 18286\n",
      "2025-01-11 16:51:21.638801: I tensorflow/core/kernels/data/shuffle_dataset_op.cc:422] ShuffleDatasetV3:1: Filling up shuffle buffer (this may take a while): 14015 of 18286\n",
      "2025-01-11 16:51:41.650274: I tensorflow/core/kernels/data/shuffle_dataset_op.cc:422] ShuffleDatasetV3:1: Filling up shuffle buffer (this may take a while): 15087 of 18286\n",
      "2025-01-11 16:52:01.623376: I tensorflow/core/kernels/data/shuffle_dataset_op.cc:422] ShuffleDatasetV3:1: Filling up shuffle buffer (this may take a while): 16167 of 18286\n",
      "2025-01-11 16:52:11.633379: I tensorflow/core/kernels/data/shuffle_dataset_op.cc:422] ShuffleDatasetV3:1: Filling up shuffle buffer (this may take a while): 16827 of 18286\n",
      "2025-01-11 16:52:21.650629: I tensorflow/core/kernels/data/shuffle_dataset_op.cc:422] ShuffleDatasetV3:1: Filling up shuffle buffer (this may take a while): 17290 of 18286\n"
     ]
    },
    {
     "name": "stdout",
     "output_type": "stream",
     "text": [
      " 14/572 [..............................] - ETA: 4s - loss: 0.0385 - accuracy: 0.9933 - auc: 0.9977 - specificity: 0.9925 - sensitivity: 0.9911 - f1_score: 0.9926     "
     ]
    },
    {
     "name": "stderr",
     "output_type": "stream",
     "text": [
      "2025-01-11 16:52:39.784649: I tensorflow/core/kernels/data/shuffle_dataset_op.cc:452] Shuffle buffer filled.\n"
     ]
    },
    {
     "name": "stdout",
     "output_type": "stream",
     "text": [
      "572/572 [==============================] - 189s 1ms/step - loss: 0.0377 - accuracy: 0.9943 - auc: 0.9973 - specificity: 0.9980 - sensitivity: 0.9892 - f1_score: 0.9961 - val_loss: 0.0406 - val_accuracy: 0.9916 - val_auc: 0.9979 - val_specificity: 0.9890 - val_sensitivity: 0.9902 - val_f1_score: 0.9966 - lr: 1.0000e-04\n",
      "Epoch 26/50\n"
     ]
    },
    {
     "name": "stderr",
     "output_type": "stream",
     "text": [
      "2025-01-11 16:52:50.447371: I tensorflow/core/kernels/data/shuffle_dataset_op.cc:422] ShuffleDatasetV3:1: Filling up shuffle buffer (this may take a while): 8357 of 18286\n",
      "2025-01-11 16:53:10.467946: I tensorflow/core/kernels/data/shuffle_dataset_op.cc:422] ShuffleDatasetV3:1: Filling up shuffle buffer (this may take a while): 9450 of 18286\n",
      "2025-01-11 16:53:30.445722: I tensorflow/core/kernels/data/shuffle_dataset_op.cc:422] ShuffleDatasetV3:1: Filling up shuffle buffer (this may take a while): 10511 of 18286\n",
      "2025-01-11 16:53:50.463598: I tensorflow/core/kernels/data/shuffle_dataset_op.cc:422] ShuffleDatasetV3:1: Filling up shuffle buffer (this may take a while): 11670 of 18286\n",
      "2025-01-11 16:54:10.454277: I tensorflow/core/kernels/data/shuffle_dataset_op.cc:422] ShuffleDatasetV3:1: Filling up shuffle buffer (this may take a while): 12725 of 18286\n",
      "2025-01-11 16:54:30.467302: I tensorflow/core/kernels/data/shuffle_dataset_op.cc:422] ShuffleDatasetV3:1: Filling up shuffle buffer (this may take a while): 13786 of 18286\n",
      "2025-01-11 16:54:50.451507: I tensorflow/core/kernels/data/shuffle_dataset_op.cc:422] ShuffleDatasetV3:1: Filling up shuffle buffer (this may take a while): 14846 of 18286\n",
      "2025-01-11 16:55:00.457193: I tensorflow/core/kernels/data/shuffle_dataset_op.cc:422] ShuffleDatasetV3:1: Filling up shuffle buffer (this may take a while): 15445 of 18286\n",
      "2025-01-11 16:55:20.445208: I tensorflow/core/kernels/data/shuffle_dataset_op.cc:422] ShuffleDatasetV3:1: Filling up shuffle buffer (this may take a while): 16499 of 18286\n",
      "2025-01-11 16:55:40.450554: I tensorflow/core/kernels/data/shuffle_dataset_op.cc:422] ShuffleDatasetV3:1: Filling up shuffle buffer (this may take a while): 17504 of 18286\n",
      "2025-01-11 16:55:50.458749: I tensorflow/core/kernels/data/shuffle_dataset_op.cc:422] ShuffleDatasetV3:1: Filling up shuffle buffer (this may take a while): 17972 of 18286\n"
     ]
    },
    {
     "name": "stdout",
     "output_type": "stream",
     "text": [
      "218/572 [==========>...................] - ETA: 0s - loss: 0.0364 - accuracy: 0.9946 - auc: 0.9972 - specificity: 0.9976 - sensitivity: 0.9899 - f1_score: 0.9958    "
     ]
    },
    {
     "name": "stderr",
     "output_type": "stream",
     "text": [
      "2025-01-11 16:55:55.912729: I tensorflow/core/kernels/data/shuffle_dataset_op.cc:452] Shuffle buffer filled.\n"
     ]
    },
    {
     "name": "stdout",
     "output_type": "stream",
     "text": [
      "572/572 [==============================] - 196s 742us/step - loss: 0.0367 - accuracy: 0.9949 - auc: 0.9973 - specificity: 0.9979 - sensitivity: 0.9904 - f1_score: 0.9963 - val_loss: 0.0406 - val_accuracy: 0.9900 - val_auc: 0.9972 - val_specificity: 0.9951 - val_sensitivity: 0.9879 - val_f1_score: 0.9969 - lr: 1.0000e-04\n",
      "Epoch 27/50\n"
     ]
    },
    {
     "name": "stderr",
     "output_type": "stream",
     "text": [
      "2025-01-11 16:56:06.362587: I tensorflow/core/kernels/data/shuffle_dataset_op.cc:422] ShuffleDatasetV3:1: Filling up shuffle buffer (this may take a while): 7350 of 18286\n",
      "2025-01-11 16:56:26.366161: I tensorflow/core/kernels/data/shuffle_dataset_op.cc:422] ShuffleDatasetV3:1: Filling up shuffle buffer (this may take a while): 9213 of 18286\n",
      "2025-01-11 16:56:46.353355: I tensorflow/core/kernels/data/shuffle_dataset_op.cc:422] ShuffleDatasetV3:1: Filling up shuffle buffer (this may take a while): 10464 of 18286\n",
      "2025-01-11 16:56:56.366595: I tensorflow/core/kernels/data/shuffle_dataset_op.cc:422] ShuffleDatasetV3:1: Filling up shuffle buffer (this may take a while): 11023 of 18286\n",
      "2025-01-11 16:57:16.366985: I tensorflow/core/kernels/data/shuffle_dataset_op.cc:422] ShuffleDatasetV3:1: Filling up shuffle buffer (this may take a while): 13813 of 18286\n",
      "2025-01-11 16:57:26.387754: I tensorflow/core/kernels/data/shuffle_dataset_op.cc:422] ShuffleDatasetV3:1: Filling up shuffle buffer (this may take a while): 14989 of 18286\n",
      "2025-01-11 16:57:46.372888: I tensorflow/core/kernels/data/shuffle_dataset_op.cc:422] ShuffleDatasetV3:1: Filling up shuffle buffer (this may take a while): 16373 of 18286\n",
      "2025-01-11 16:58:06.378377: I tensorflow/core/kernels/data/shuffle_dataset_op.cc:422] ShuffleDatasetV3:1: Filling up shuffle buffer (this may take a while): 17906 of 18286\n"
     ]
    },
    {
     "name": "stdout",
     "output_type": "stream",
     "text": [
      "185/572 [========>.....................] - ETA: 0s - loss: 0.0373 - accuracy: 0.9953 - auc: 0.9976 - specificity: 0.9996 - sensitivity: 0.9905 - f1_score: 0.9971    "
     ]
    },
    {
     "name": "stderr",
     "output_type": "stream",
     "text": [
      "2025-01-11 16:58:13.888713: I tensorflow/core/kernels/data/shuffle_dataset_op.cc:452] Shuffle buffer filled.\n"
     ]
    },
    {
     "name": "stdout",
     "output_type": "stream",
     "text": [
      "572/572 [==============================] - 138s 788us/step - loss: 0.0352 - accuracy: 0.9961 - auc: 0.9983 - specificity: 0.9993 - sensitivity: 0.9922 - f1_score: 0.9978 - val_loss: 0.0400 - val_accuracy: 0.9911 - val_auc: 0.9975 - val_specificity: 0.9927 - val_sensitivity: 0.9894 - val_f1_score: 0.9978 - lr: 1.0000e-05\n",
      "Epoch 28/50\n"
     ]
    },
    {
     "name": "stderr",
     "output_type": "stream",
     "text": [
      "2025-01-11 16:58:24.416751: I tensorflow/core/kernels/data/shuffle_dataset_op.cc:422] ShuffleDatasetV3:1: Filling up shuffle buffer (this may take a while): 8679 of 18286\n",
      "2025-01-11 16:58:44.397765: I tensorflow/core/kernels/data/shuffle_dataset_op.cc:422] ShuffleDatasetV3:1: Filling up shuffle buffer (this may take a while): 9886 of 18286\n",
      "2025-01-11 16:59:04.388686: I tensorflow/core/kernels/data/shuffle_dataset_op.cc:422] ShuffleDatasetV3:1: Filling up shuffle buffer (this may take a while): 11246 of 18286\n",
      "2025-01-11 16:59:14.400677: I tensorflow/core/kernels/data/shuffle_dataset_op.cc:422] ShuffleDatasetV3:1: Filling up shuffle buffer (this may take a while): 11702 of 18286\n",
      "2025-01-11 16:59:24.407419: I tensorflow/core/kernels/data/shuffle_dataset_op.cc:422] ShuffleDatasetV3:1: Filling up shuffle buffer (this may take a while): 12200 of 18286\n",
      "2025-01-11 16:59:44.407387: I tensorflow/core/kernels/data/shuffle_dataset_op.cc:422] ShuffleDatasetV3:1: Filling up shuffle buffer (this may take a while): 13357 of 18286\n",
      "2025-01-11 16:59:54.408762: I tensorflow/core/kernels/data/shuffle_dataset_op.cc:422] ShuffleDatasetV3:1: Filling up shuffle buffer (this may take a while): 13944 of 18286\n",
      "2025-01-11 17:00:04.416170: I tensorflow/core/kernels/data/shuffle_dataset_op.cc:422] ShuffleDatasetV3:1: Filling up shuffle buffer (this may take a while): 14414 of 18286\n",
      "2025-01-11 17:00:24.386105: I tensorflow/core/kernels/data/shuffle_dataset_op.cc:422] ShuffleDatasetV3:1: Filling up shuffle buffer (this may take a while): 15476 of 18286\n",
      "2025-01-11 17:00:34.387929: I tensorflow/core/kernels/data/shuffle_dataset_op.cc:422] ShuffleDatasetV3:1: Filling up shuffle buffer (this may take a while): 16136 of 18286\n",
      "2025-01-11 17:00:44.389811: I tensorflow/core/kernels/data/shuffle_dataset_op.cc:422] ShuffleDatasetV3:1: Filling up shuffle buffer (this may take a while): 16646 of 18286\n",
      "2025-01-11 17:00:54.394179: I tensorflow/core/kernels/data/shuffle_dataset_op.cc:422] ShuffleDatasetV3:1: Filling up shuffle buffer (this may take a while): 17204 of 18286\n"
     ]
    },
    {
     "name": "stdout",
     "output_type": "stream",
     "text": [
      "149/572 [======>.......................] - ETA: 0s - loss: 0.0364 - accuracy: 0.9937 - auc: 0.9964 - specificity: 0.9993 - sensitivity: 0.9879 - f1_score: 0.9960    "
     ]
    },
    {
     "name": "stderr",
     "output_type": "stream",
     "text": [
      "2025-01-11 17:01:14.406620: I tensorflow/core/kernels/data/shuffle_dataset_op.cc:422] ShuffleDatasetV3:1: Filling up shuffle buffer (this may take a while): 18268 of 18286\n",
      "2025-01-11 17:01:14.441440: I tensorflow/core/kernels/data/shuffle_dataset_op.cc:452] Shuffle buffer filled.\n"
     ]
    },
    {
     "name": "stdout",
     "output_type": "stream",
     "text": [
      "572/572 [==============================] - 181s 817us/step - loss: 0.0352 - accuracy: 0.9958 - auc: 0.9981 - specificity: 0.9990 - sensitivity: 0.9919 - f1_score: 0.9976 - val_loss: 0.0399 - val_accuracy: 0.9906 - val_auc: 0.9984 - val_specificity: 0.9951 - val_sensitivity: 0.9887 - val_f1_score: 0.9973 - lr: 1.0000e-05\n",
      "Epoch 29/50\n"
     ]
    },
    {
     "name": "stderr",
     "output_type": "stream",
     "text": [
      "2025-01-11 17:01:24.935426: I tensorflow/core/kernels/data/shuffle_dataset_op.cc:422] ShuffleDatasetV3:1: Filling up shuffle buffer (this may take a while): 7480 of 18286\n",
      "2025-01-11 17:01:44.944772: I tensorflow/core/kernels/data/shuffle_dataset_op.cc:422] ShuffleDatasetV3:1: Filling up shuffle buffer (this may take a while): 10054 of 18286\n",
      "2025-01-11 17:02:04.945379: I tensorflow/core/kernels/data/shuffle_dataset_op.cc:422] ShuffleDatasetV3:1: Filling up shuffle buffer (this may take a while): 11471 of 18286\n",
      "2025-01-11 17:02:24.956512: I tensorflow/core/kernels/data/shuffle_dataset_op.cc:422] ShuffleDatasetV3:1: Filling up shuffle buffer (this may take a while): 12718 of 18286\n",
      "2025-01-11 17:02:44.940374: I tensorflow/core/kernels/data/shuffle_dataset_op.cc:422] ShuffleDatasetV3:1: Filling up shuffle buffer (this may take a while): 14306 of 18286\n",
      "2025-01-11 17:03:04.941882: I tensorflow/core/kernels/data/shuffle_dataset_op.cc:422] ShuffleDatasetV3:1: Filling up shuffle buffer (this may take a while): 15502 of 18286\n",
      "2025-01-11 17:03:24.929330: I tensorflow/core/kernels/data/shuffle_dataset_op.cc:422] ShuffleDatasetV3:1: Filling up shuffle buffer (this may take a while): 16652 of 18286\n",
      "2025-01-11 17:03:34.944116: I tensorflow/core/kernels/data/shuffle_dataset_op.cc:422] ShuffleDatasetV3:1: Filling up shuffle buffer (this may take a while): 17196 of 18286\n"
     ]
    },
    {
     "name": "stdout",
     "output_type": "stream",
     "text": [
      "149/572 [======>.......................] - ETA: 0s - loss: 0.0339 - accuracy: 0.9964 - auc: 0.9981 - specificity: 0.9996 - sensitivity: 0.9933 - f1_score: 0.9981    "
     ]
    },
    {
     "name": "stderr",
     "output_type": "stream",
     "text": [
      "2025-01-11 17:03:54.946316: I tensorflow/core/kernels/data/shuffle_dataset_op.cc:422] ShuffleDatasetV3:1: Filling up shuffle buffer (this may take a while): 18272 of 18286\n",
      "2025-01-11 17:03:54.967659: I tensorflow/core/kernels/data/shuffle_dataset_op.cc:452] Shuffle buffer filled.\n"
     ]
    },
    {
     "name": "stdout",
     "output_type": "stream",
     "text": [
      "572/572 [==============================] - 161s 820us/step - loss: 0.0352 - accuracy: 0.9962 - auc: 0.9981 - specificity: 0.9991 - sensitivity: 0.9926 - f1_score: 0.9976 - val_loss: 0.0407 - val_accuracy: 0.9879 - val_auc: 0.9954 - val_specificity: 0.9951 - val_sensitivity: 0.9842 - val_f1_score: 0.9940 - lr: 1.0000e-05\n",
      "Epoch 30/50\n"
     ]
    },
    {
     "name": "stderr",
     "output_type": "stream",
     "text": [
      "2025-01-11 17:04:05.466355: I tensorflow/core/kernels/data/shuffle_dataset_op.cc:422] ShuffleDatasetV3:1: Filling up shuffle buffer (this may take a while): 8181 of 18286\n",
      "2025-01-11 17:04:15.473010: I tensorflow/core/kernels/data/shuffle_dataset_op.cc:422] ShuffleDatasetV3:1: Filling up shuffle buffer (this may take a while): 8710 of 18286\n",
      "2025-01-11 17:04:35.481254: I tensorflow/core/kernels/data/shuffle_dataset_op.cc:422] ShuffleDatasetV3:1: Filling up shuffle buffer (this may take a while): 9967 of 18286\n",
      "2025-01-11 17:04:55.449320: I tensorflow/core/kernels/data/shuffle_dataset_op.cc:422] ShuffleDatasetV3:1: Filling up shuffle buffer (this may take a while): 11335 of 18286\n",
      "2025-01-11 17:05:05.469915: I tensorflow/core/kernels/data/shuffle_dataset_op.cc:422] ShuffleDatasetV3:1: Filling up shuffle buffer (this may take a while): 11989 of 18286\n",
      "2025-01-11 17:05:25.463607: I tensorflow/core/kernels/data/shuffle_dataset_op.cc:422] ShuffleDatasetV3:1: Filling up shuffle buffer (this may take a while): 13235 of 18286\n",
      "2025-01-11 17:05:45.453355: I tensorflow/core/kernels/data/shuffle_dataset_op.cc:422] ShuffleDatasetV3:1: Filling up shuffle buffer (this may take a while): 14563 of 18286\n",
      "2025-01-11 17:05:55.477678: I tensorflow/core/kernels/data/shuffle_dataset_op.cc:422] ShuffleDatasetV3:1: Filling up shuffle buffer (this may take a while): 15115 of 18286\n",
      "2025-01-11 17:06:15.469949: I tensorflow/core/kernels/data/shuffle_dataset_op.cc:422] ShuffleDatasetV3:1: Filling up shuffle buffer (this may take a while): 16166 of 18286\n",
      "2025-01-11 17:06:35.479468: I tensorflow/core/kernels/data/shuffle_dataset_op.cc:422] ShuffleDatasetV3:1: Filling up shuffle buffer (this may take a while): 17222 of 18286\n"
     ]
    },
    {
     "name": "stdout",
     "output_type": "stream",
     "text": [
      "114/572 [====>.........................] - ETA: 0s - loss: 0.0363 - accuracy: 0.9953 - auc: 0.9975 - specificity: 0.9995 - sensitivity: 0.9912 - f1_score: 0.9971   "
     ]
    },
    {
     "name": "stderr",
     "output_type": "stream",
     "text": [
      "2025-01-11 17:06:55.477076: I tensorflow/core/kernels/data/shuffle_dataset_op.cc:452] Shuffle buffer filled.\n"
     ]
    },
    {
     "name": "stdout",
     "output_type": "stream",
     "text": [
      "572/572 [==============================] - 181s 892us/step - loss: 0.0350 - accuracy: 0.9954 - auc: 0.9980 - specificity: 0.9993 - sensitivity: 0.9908 - f1_score: 0.9976 - val_loss: 0.0397 - val_accuracy: 0.9911 - val_auc: 0.9984 - val_specificity: 0.9951 - val_sensitivity: 0.9894 - val_f1_score: 0.9973 - lr: 1.0000e-05\n",
      "Epoch 31/50\n"
     ]
    },
    {
     "name": "stderr",
     "output_type": "stream",
     "text": [
      "2025-01-11 17:07:06.018164: I tensorflow/core/kernels/data/shuffle_dataset_op.cc:422] ShuffleDatasetV3:1: Filling up shuffle buffer (this may take a while): 7114 of 18286\n",
      "2025-01-11 17:07:26.042019: I tensorflow/core/kernels/data/shuffle_dataset_op.cc:422] ShuffleDatasetV3:1: Filling up shuffle buffer (this may take a while): 8260 of 18286\n",
      "2025-01-11 17:07:46.027285: I tensorflow/core/kernels/data/shuffle_dataset_op.cc:422] ShuffleDatasetV3:1: Filling up shuffle buffer (this may take a while): 10914 of 18286\n",
      "2025-01-11 17:08:06.016877: I tensorflow/core/kernels/data/shuffle_dataset_op.cc:422] ShuffleDatasetV3:1: Filling up shuffle buffer (this may take a while): 12154 of 18286\n",
      "2025-01-11 17:08:16.038880: I tensorflow/core/kernels/data/shuffle_dataset_op.cc:422] ShuffleDatasetV3:1: Filling up shuffle buffer (this may take a while): 12693 of 18286\n",
      "2025-01-11 17:08:36.039487: I tensorflow/core/kernels/data/shuffle_dataset_op.cc:422] ShuffleDatasetV3:1: Filling up shuffle buffer (this may take a while): 14106 of 18286\n",
      "2025-01-11 17:08:56.049191: I tensorflow/core/kernels/data/shuffle_dataset_op.cc:422] ShuffleDatasetV3:1: Filling up shuffle buffer (this may take a while): 15168 of 18286\n",
      "2025-01-11 17:09:16.036411: I tensorflow/core/kernels/data/shuffle_dataset_op.cc:422] ShuffleDatasetV3:1: Filling up shuffle buffer (this may take a while): 16229 of 18286\n",
      "2025-01-11 17:09:36.047141: I tensorflow/core/kernels/data/shuffle_dataset_op.cc:422] ShuffleDatasetV3:1: Filling up shuffle buffer (this may take a while): 17637 of 18286\n"
     ]
    },
    {
     "name": "stdout",
     "output_type": "stream",
     "text": [
      " 55/572 [=>............................] - ETA: 1s - loss: 0.0331 - accuracy: 0.9983 - auc: 0.9994 - specificity: 0.9988 - sensitivity: 0.9966 - f1_score: 0.9990     "
     ]
    },
    {
     "name": "stderr",
     "output_type": "stream",
     "text": [
      "2025-01-11 17:09:47.406915: I tensorflow/core/kernels/data/shuffle_dataset_op.cc:452] Shuffle buffer filled.\n"
     ]
    },
    {
     "name": "stdout",
     "output_type": "stream",
     "text": [
      "572/572 [==============================] - 172s 847us/step - loss: 0.0351 - accuracy: 0.9960 - auc: 0.9981 - specificity: 0.9993 - sensitivity: 0.9919 - f1_score: 0.9977 - val_loss: 0.0397 - val_accuracy: 0.9906 - val_auc: 0.9984 - val_specificity: 0.9951 - val_sensitivity: 0.9887 - val_f1_score: 0.9976 - lr: 1.0000e-05\n",
      "Epoch 32/50\n"
     ]
    },
    {
     "name": "stderr",
     "output_type": "stream",
     "text": [
      "2025-01-11 17:09:57.948934: I tensorflow/core/kernels/data/shuffle_dataset_op.cc:422] ShuffleDatasetV3:1: Filling up shuffle buffer (this may take a while): 7150 of 18286\n",
      "2025-01-11 17:10:07.949474: I tensorflow/core/kernels/data/shuffle_dataset_op.cc:422] ShuffleDatasetV3:1: Filling up shuffle buffer (this may take a while): 8368 of 18286\n",
      "2025-01-11 17:10:17.971584: I tensorflow/core/kernels/data/shuffle_dataset_op.cc:422] ShuffleDatasetV3:1: Filling up shuffle buffer (this may take a while): 8852 of 18286\n",
      "2025-01-11 17:10:37.967731: I tensorflow/core/kernels/data/shuffle_dataset_op.cc:422] ShuffleDatasetV3:1: Filling up shuffle buffer (this may take a while): 10267 of 18286\n",
      "2025-01-11 17:10:57.943782: I tensorflow/core/kernels/data/shuffle_dataset_op.cc:422] ShuffleDatasetV3:1: Filling up shuffle buffer (this may take a while): 11437 of 18286\n",
      "2025-01-11 17:11:07.961672: I tensorflow/core/kernels/data/shuffle_dataset_op.cc:422] ShuffleDatasetV3:1: Filling up shuffle buffer (this may take a while): 12276 of 18286\n",
      "2025-01-11 17:11:27.943335: I tensorflow/core/kernels/data/shuffle_dataset_op.cc:422] ShuffleDatasetV3:1: Filling up shuffle buffer (this may take a while): 13513 of 18286\n",
      "2025-01-11 17:11:37.954629: I tensorflow/core/kernels/data/shuffle_dataset_op.cc:422] ShuffleDatasetV3:1: Filling up shuffle buffer (this may take a while): 14166 of 18286\n",
      "2025-01-11 17:11:57.957329: I tensorflow/core/kernels/data/shuffle_dataset_op.cc:422] ShuffleDatasetV3:1: Filling up shuffle buffer (this may take a while): 15736 of 18286\n",
      "2025-01-11 17:12:07.966231: I tensorflow/core/kernels/data/shuffle_dataset_op.cc:422] ShuffleDatasetV3:1: Filling up shuffle buffer (this may take a while): 16349 of 18286\n"
     ]
    },
    {
     "name": "stdout",
     "output_type": "stream",
     "text": [
      "141/572 [======>.......................] - ETA: 0s - loss: 0.0343 - accuracy: 0.9962 - auc: 0.9980 - specificity: 0.9995 - sensitivity: 0.9925 - f1_score: 0.9976     "
     ]
    },
    {
     "name": "stderr",
     "output_type": "stream",
     "text": [
      "2025-01-11 17:12:27.956225: I tensorflow/core/kernels/data/shuffle_dataset_op.cc:422] ShuffleDatasetV3:1: Filling up shuffle buffer (this may take a while): 18254 of 18286\n",
      "2025-01-11 17:12:28.035355: I tensorflow/core/kernels/data/shuffle_dataset_op.cc:452] Shuffle buffer filled.\n"
     ]
    },
    {
     "name": "stdout",
     "output_type": "stream",
     "text": [
      "572/572 [==============================] - 161s 837us/step - loss: 0.0352 - accuracy: 0.9956 - auc: 0.9981 - specificity: 0.9988 - sensitivity: 0.9914 - f1_score: 0.9973 - val_loss: 0.0398 - val_accuracy: 0.9911 - val_auc: 0.9984 - val_specificity: 0.9951 - val_sensitivity: 0.9887 - val_f1_score: 0.9973 - lr: 1.0000e-05\n",
      "Epoch 33/50\n"
     ]
    },
    {
     "name": "stderr",
     "output_type": "stream",
     "text": [
      "2025-01-11 17:12:38.538726: I tensorflow/core/kernels/data/shuffle_dataset_op.cc:422] ShuffleDatasetV3:1: Filling up shuffle buffer (this may take a while): 8567 of 18286\n",
      "2025-01-11 17:12:58.540619: I tensorflow/core/kernels/data/shuffle_dataset_op.cc:422] ShuffleDatasetV3:1: Filling up shuffle buffer (this may take a while): 10079 of 18286\n",
      "2025-01-11 17:13:18.535733: I tensorflow/core/kernels/data/shuffle_dataset_op.cc:422] ShuffleDatasetV3:1: Filling up shuffle buffer (this may take a while): 11259 of 18286\n",
      "2025-01-11 17:13:38.527839: I tensorflow/core/kernels/data/shuffle_dataset_op.cc:422] ShuffleDatasetV3:1: Filling up shuffle buffer (this may take a while): 12448 of 18286\n",
      "2025-01-11 17:13:48.539672: I tensorflow/core/kernels/data/shuffle_dataset_op.cc:422] ShuffleDatasetV3:1: Filling up shuffle buffer (this may take a while): 13178 of 18286\n",
      "2025-01-11 17:13:58.558769: I tensorflow/core/kernels/data/shuffle_dataset_op.cc:422] ShuffleDatasetV3:1: Filling up shuffle buffer (this may take a while): 13658 of 18286\n",
      "2025-01-11 17:14:18.531332: I tensorflow/core/kernels/data/shuffle_dataset_op.cc:422] ShuffleDatasetV3:1: Filling up shuffle buffer (this may take a while): 14832 of 18286\n",
      "2025-01-11 17:14:28.548093: I tensorflow/core/kernels/data/shuffle_dataset_op.cc:422] ShuffleDatasetV3:1: Filling up shuffle buffer (this may take a while): 15690 of 18286\n",
      "2025-01-11 17:14:48.526829: I tensorflow/core/kernels/data/shuffle_dataset_op.cc:422] ShuffleDatasetV3:1: Filling up shuffle buffer (this may take a while): 16930 of 18286\n",
      "2025-01-11 17:14:58.553508: I tensorflow/core/kernels/data/shuffle_dataset_op.cc:422] ShuffleDatasetV3:1: Filling up shuffle buffer (this may take a while): 17832 of 18286\n"
     ]
    },
    {
     "name": "stdout",
     "output_type": "stream",
     "text": [
      "214/572 [==========>...................] - ETA: 0s - loss: 0.0335 - accuracy: 0.9969 - auc: 0.9984 - specificity: 0.9993 - sensitivity: 0.9938 - f1_score: 0.9981    "
     ]
    },
    {
     "name": "stderr",
     "output_type": "stream",
     "text": [
      "2025-01-11 17:15:04.959387: I tensorflow/core/kernels/data/shuffle_dataset_op.cc:452] Shuffle buffer filled.\n"
     ]
    },
    {
     "name": "stdout",
     "output_type": "stream",
     "text": [
      "572/572 [==============================] - 157s 744us/step - loss: 0.0349 - accuracy: 0.9962 - auc: 0.9982 - specificity: 0.9990 - sensitivity: 0.9926 - f1_score: 0.9976 - val_loss: 0.0396 - val_accuracy: 0.9911 - val_auc: 0.9988 - val_specificity: 0.9927 - val_sensitivity: 0.9894 - val_f1_score: 0.9978 - lr: 1.0000e-05\n",
      "Epoch 34/50\n"
     ]
    },
    {
     "name": "stderr",
     "output_type": "stream",
     "text": [
      "2025-01-11 17:15:15.408130: I tensorflow/core/kernels/data/shuffle_dataset_op.cc:422] ShuffleDatasetV3:1: Filling up shuffle buffer (this may take a while): 8126 of 18286\n",
      "2025-01-11 17:15:35.401224: I tensorflow/core/kernels/data/shuffle_dataset_op.cc:422] ShuffleDatasetV3:1: Filling up shuffle buffer (this may take a while): 10146 of 18286\n",
      "2025-01-11 17:15:45.419698: I tensorflow/core/kernels/data/shuffle_dataset_op.cc:422] ShuffleDatasetV3:1: Filling up shuffle buffer (this may take a while): 10928 of 18286\n",
      "2025-01-11 17:16:05.427644: I tensorflow/core/kernels/data/shuffle_dataset_op.cc:422] ShuffleDatasetV3:1: Filling up shuffle buffer (this may take a while): 12347 of 18286\n",
      "2025-01-11 17:16:25.403997: I tensorflow/core/kernels/data/shuffle_dataset_op.cc:422] ShuffleDatasetV3:1: Filling up shuffle buffer (this may take a while): 13592 of 18286\n",
      "2025-01-11 17:16:45.423001: I tensorflow/core/kernels/data/shuffle_dataset_op.cc:422] ShuffleDatasetV3:1: Filling up shuffle buffer (this may take a while): 14688 of 18286\n",
      "2025-01-11 17:17:05.398780: I tensorflow/core/kernels/data/shuffle_dataset_op.cc:422] ShuffleDatasetV3:1: Filling up shuffle buffer (this may take a while): 15759 of 18286\n",
      "2025-01-11 17:17:25.397063: I tensorflow/core/kernels/data/shuffle_dataset_op.cc:422] ShuffleDatasetV3:1: Filling up shuffle buffer (this may take a while): 16866 of 18286\n",
      "2025-01-11 17:17:35.405295: I tensorflow/core/kernels/data/shuffle_dataset_op.cc:422] ShuffleDatasetV3:1: Filling up shuffle buffer (this may take a while): 17468 of 18286\n"
     ]
    },
    {
     "name": "stdout",
     "output_type": "stream",
     "text": [
      " 68/572 [==>...........................] - ETA: 0s - loss: 0.0357 - accuracy: 0.9963 - auc: 0.9982 - specificity: 0.9969 - sensitivity: 0.9937 - f1_score: 0.9970     "
     ]
    },
    {
     "name": "stderr",
     "output_type": "stream",
     "text": [
      "2025-01-11 17:17:48.364930: I tensorflow/core/kernels/data/shuffle_dataset_op.cc:452] Shuffle buffer filled.\n"
     ]
    },
    {
     "name": "stdout",
     "output_type": "stream",
     "text": [
      "572/572 [==============================] - 164s 821us/step - loss: 0.0348 - accuracy: 0.9964 - auc: 0.9982 - specificity: 0.9992 - sensitivity: 0.9931 - f1_score: 0.9978 - val_loss: 0.0397 - val_accuracy: 0.9911 - val_auc: 0.9984 - val_specificity: 0.9927 - val_sensitivity: 0.9894 - val_f1_score: 0.9969 - lr: 1.0000e-06\n",
      "Epoch 35/50\n"
     ]
    },
    {
     "name": "stderr",
     "output_type": "stream",
     "text": [
      "2025-01-11 17:17:58.912588: I tensorflow/core/kernels/data/shuffle_dataset_op.cc:422] ShuffleDatasetV3:1: Filling up shuffle buffer (this may take a while): 7608 of 18286\n",
      "2025-01-11 17:18:08.912133: I tensorflow/core/kernels/data/shuffle_dataset_op.cc:422] ShuffleDatasetV3:1: Filling up shuffle buffer (this may take a while): 8358 of 18286\n",
      "2025-01-11 17:18:18.912163: I tensorflow/core/kernels/data/shuffle_dataset_op.cc:422] ShuffleDatasetV3:1: Filling up shuffle buffer (this may take a while): 9011 of 18286\n",
      "2025-01-11 17:18:38.902702: I tensorflow/core/kernels/data/shuffle_dataset_op.cc:422] ShuffleDatasetV3:1: Filling up shuffle buffer (this may take a while): 10400 of 18286\n",
      "2025-01-11 17:18:48.908831: I tensorflow/core/kernels/data/shuffle_dataset_op.cc:422] ShuffleDatasetV3:1: Filling up shuffle buffer (this may take a while): 11077 of 18286\n",
      "2025-01-11 17:18:58.934955: I tensorflow/core/kernels/data/shuffle_dataset_op.cc:422] ShuffleDatasetV3:1: Filling up shuffle buffer (this may take a while): 11671 of 18286\n",
      "2025-01-11 17:19:18.906075: I tensorflow/core/kernels/data/shuffle_dataset_op.cc:422] ShuffleDatasetV3:1: Filling up shuffle buffer (this may take a while): 13066 of 18286\n",
      "2025-01-11 17:19:28.917880: I tensorflow/core/kernels/data/shuffle_dataset_op.cc:422] ShuffleDatasetV3:1: Filling up shuffle buffer (this may take a while): 13645 of 18286\n",
      "2025-01-11 17:19:38.923168: I tensorflow/core/kernels/data/shuffle_dataset_op.cc:422] ShuffleDatasetV3:1: Filling up shuffle buffer (this may take a while): 14248 of 18286\n",
      "2025-01-11 17:19:58.907636: I tensorflow/core/kernels/data/shuffle_dataset_op.cc:422] ShuffleDatasetV3:1: Filling up shuffle buffer (this may take a while): 15189 of 18286\n",
      "2025-01-11 17:20:18.906820: I tensorflow/core/kernels/data/shuffle_dataset_op.cc:422] ShuffleDatasetV3:1: Filling up shuffle buffer (this may take a while): 16386 of 18286\n",
      "2025-01-11 17:20:28.920763: I tensorflow/core/kernels/data/shuffle_dataset_op.cc:422] ShuffleDatasetV3:1: Filling up shuffle buffer (this may take a while): 16848 of 18286\n",
      "2025-01-11 17:20:48.914470: I tensorflow/core/kernels/data/shuffle_dataset_op.cc:422] ShuffleDatasetV3:1: Filling up shuffle buffer (this may take a while): 17911 of 18286\n"
     ]
    },
    {
     "name": "stdout",
     "output_type": "stream",
     "text": [
      " 90/572 [===>..........................] - ETA: 0s - loss: 0.0323 - accuracy: 0.9986 - auc: 0.9990 - specificity: 1.0000 - sensitivity: 0.9972 - f1_score: 0.9989     "
     ]
    },
    {
     "name": "stderr",
     "output_type": "stream",
     "text": [
      "2025-01-11 17:20:56.196570: I tensorflow/core/kernels/data/shuffle_dataset_op.cc:452] Shuffle buffer filled.\n"
     ]
    },
    {
     "name": "stdout",
     "output_type": "stream",
     "text": [
      "572/572 [==============================] - 188s 912us/step - loss: 0.0351 - accuracy: 0.9959 - auc: 0.9984 - specificity: 0.9991 - sensitivity: 0.9919 - f1_score: 0.9978 - val_loss: 0.0397 - val_accuracy: 0.9911 - val_auc: 0.9984 - val_specificity: 0.9927 - val_sensitivity: 0.9894 - val_f1_score: 0.9969 - lr: 1.0000e-06\n",
      "Epoch 36/50\n"
     ]
    },
    {
     "name": "stderr",
     "output_type": "stream",
     "text": [
      "2025-01-11 17:21:06.773963: I tensorflow/core/kernels/data/shuffle_dataset_op.cc:422] ShuffleDatasetV3:1: Filling up shuffle buffer (this may take a while): 7756 of 18286\n",
      "2025-01-11 17:21:16.781618: I tensorflow/core/kernels/data/shuffle_dataset_op.cc:422] ShuffleDatasetV3:1: Filling up shuffle buffer (this may take a while): 8534 of 18286\n",
      "2025-01-11 17:21:26.788136: I tensorflow/core/kernels/data/shuffle_dataset_op.cc:422] ShuffleDatasetV3:1: Filling up shuffle buffer (this may take a while): 9114 of 18286\n",
      "2025-01-11 17:21:46.790117: I tensorflow/core/kernels/data/shuffle_dataset_op.cc:422] ShuffleDatasetV3:1: Filling up shuffle buffer (this may take a while): 10950 of 18286\n",
      "2025-01-11 17:22:06.776853: I tensorflow/core/kernels/data/shuffle_dataset_op.cc:422] ShuffleDatasetV3:1: Filling up shuffle buffer (this may take a while): 12030 of 18286\n",
      "2025-01-11 17:22:16.799387: I tensorflow/core/kernels/data/shuffle_dataset_op.cc:422] ShuffleDatasetV3:1: Filling up shuffle buffer (this may take a while): 12573 of 18286\n",
      "2025-01-11 17:22:36.808988: I tensorflow/core/kernels/data/shuffle_dataset_op.cc:422] ShuffleDatasetV3:1: Filling up shuffle buffer (this may take a while): 13812 of 18286\n",
      "2025-01-11 17:22:56.783993: I tensorflow/core/kernels/data/shuffle_dataset_op.cc:422] ShuffleDatasetV3:1: Filling up shuffle buffer (this may take a while): 14846 of 18286\n",
      "2025-01-11 17:23:16.779703: I tensorflow/core/kernels/data/shuffle_dataset_op.cc:422] ShuffleDatasetV3:1: Filling up shuffle buffer (this may take a while): 15866 of 18286\n",
      "2025-01-11 17:23:26.808870: I tensorflow/core/kernels/data/shuffle_dataset_op.cc:422] ShuffleDatasetV3:1: Filling up shuffle buffer (this may take a while): 16447 of 18286\n",
      "2025-01-11 17:23:46.790238: I tensorflow/core/kernels/data/shuffle_dataset_op.cc:422] ShuffleDatasetV3:1: Filling up shuffle buffer (this may take a while): 17464 of 18286\n",
      "2025-01-11 17:23:56.804094: I tensorflow/core/kernels/data/shuffle_dataset_op.cc:422] ShuffleDatasetV3:1: Filling up shuffle buffer (this may take a while): 17948 of 18286\n"
     ]
    },
    {
     "name": "stdout",
     "output_type": "stream",
     "text": [
      "172/572 [========>.....................] - ETA: 0s - loss: 0.0352 - accuracy: 0.9960 - auc: 0.9980 - specificity: 0.9993 - sensitivity: 0.9924 - f1_score: 0.9977    "
     ]
    },
    {
     "name": "stderr",
     "output_type": "stream",
     "text": [
      "2025-01-11 17:24:02.990928: I tensorflow/core/kernels/data/shuffle_dataset_op.cc:452] Shuffle buffer filled.\n"
     ]
    },
    {
     "name": "stdout",
     "output_type": "stream",
     "text": [
      "572/572 [==============================] - 187s 777us/step - loss: 0.0349 - accuracy: 0.9963 - auc: 0.9982 - specificity: 0.9990 - sensitivity: 0.9930 - f1_score: 0.9976 - val_loss: 0.0397 - val_accuracy: 0.9911 - val_auc: 0.9984 - val_specificity: 0.9927 - val_sensitivity: 0.9894 - val_f1_score: 0.9969 - lr: 1.0000e-06\n",
      "Epoch 37/50\n"
     ]
    },
    {
     "name": "stderr",
     "output_type": "stream",
     "text": [
      "2025-01-11 17:24:13.449406: I tensorflow/core/kernels/data/shuffle_dataset_op.cc:422] ShuffleDatasetV3:1: Filling up shuffle buffer (this may take a while): 8193 of 18286\n",
      "2025-01-11 17:24:23.454842: I tensorflow/core/kernels/data/shuffle_dataset_op.cc:422] ShuffleDatasetV3:1: Filling up shuffle buffer (this may take a while): 9327 of 18286\n",
      "2025-01-11 17:24:43.479732: I tensorflow/core/kernels/data/shuffle_dataset_op.cc:422] ShuffleDatasetV3:1: Filling up shuffle buffer (this may take a while): 10919 of 18286\n",
      "2025-01-11 17:25:03.454473: I tensorflow/core/kernels/data/shuffle_dataset_op.cc:422] ShuffleDatasetV3:1: Filling up shuffle buffer (this may take a while): 12245 of 18286\n",
      "2025-01-11 17:25:13.469128: I tensorflow/core/kernels/data/shuffle_dataset_op.cc:422] ShuffleDatasetV3:1: Filling up shuffle buffer (this may take a while): 13102 of 18286\n",
      "2025-01-11 17:25:33.451332: I tensorflow/core/kernels/data/shuffle_dataset_op.cc:422] ShuffleDatasetV3:1: Filling up shuffle buffer (this may take a while): 14588 of 18286\n",
      "2025-01-11 17:25:43.455366: I tensorflow/core/kernels/data/shuffle_dataset_op.cc:422] ShuffleDatasetV3:1: Filling up shuffle buffer (this may take a while): 15124 of 18286\n",
      "2025-01-11 17:26:03.463855: I tensorflow/core/kernels/data/shuffle_dataset_op.cc:422] ShuffleDatasetV3:1: Filling up shuffle buffer (this may take a while): 16181 of 18286\n",
      "2025-01-11 17:26:23.461130: I tensorflow/core/kernels/data/shuffle_dataset_op.cc:422] ShuffleDatasetV3:1: Filling up shuffle buffer (this may take a while): 17228 of 18286\n"
     ]
    },
    {
     "name": "stdout",
     "output_type": "stream",
     "text": [
      "213/572 [==========>...................] - ETA: 0s - loss: 0.0340 - accuracy: 0.9963 - auc: 0.9988 - specificity: 0.9994 - sensitivity: 0.9926 - f1_score: 0.9985    "
     ]
    },
    {
     "name": "stderr",
     "output_type": "stream",
     "text": [
      "2025-01-11 17:26:43.478830: I tensorflow/core/kernels/data/shuffle_dataset_op.cc:422] ShuffleDatasetV3:1: Filling up shuffle buffer (this may take a while): 18282 of 18286\n",
      "2025-01-11 17:26:43.483495: I tensorflow/core/kernels/data/shuffle_dataset_op.cc:452] Shuffle buffer filled.\n"
     ]
    },
    {
     "name": "stdout",
     "output_type": "stream",
     "text": [
      "572/572 [==============================] - 160s 739us/step - loss: 0.0346 - accuracy: 0.9960 - auc: 0.9984 - specificity: 0.9997 - sensitivity: 0.9919 - f1_score: 0.9981 - val_loss: 0.0397 - val_accuracy: 0.9911 - val_auc: 0.9984 - val_specificity: 0.9927 - val_sensitivity: 0.9894 - val_f1_score: 0.9974 - lr: 1.0000e-06\n",
      "Epoch 38/50\n"
     ]
    },
    {
     "name": "stderr",
     "output_type": "stream",
     "text": [
      "2025-01-11 17:26:53.927781: I tensorflow/core/kernels/data/shuffle_dataset_op.cc:422] ShuffleDatasetV3:1: Filling up shuffle buffer (this may take a while): 8163 of 18286\n",
      "2025-01-11 17:27:03.953000: I tensorflow/core/kernels/data/shuffle_dataset_op.cc:422] ShuffleDatasetV3:1: Filling up shuffle buffer (this may take a while): 8635 of 18286\n",
      "2025-01-11 17:27:23.949621: I tensorflow/core/kernels/data/shuffle_dataset_op.cc:422] ShuffleDatasetV3:1: Filling up shuffle buffer (this may take a while): 11867 of 18286\n",
      "2025-01-11 17:27:43.946955: I tensorflow/core/kernels/data/shuffle_dataset_op.cc:422] ShuffleDatasetV3:1: Filling up shuffle buffer (this may take a while): 13398 of 18286\n",
      "2025-01-11 17:28:03.922626: I tensorflow/core/kernels/data/shuffle_dataset_op.cc:422] ShuffleDatasetV3:1: Filling up shuffle buffer (this may take a while): 14509 of 18286\n",
      "2025-01-11 17:28:23.917301: I tensorflow/core/kernels/data/shuffle_dataset_op.cc:422] ShuffleDatasetV3:1: Filling up shuffle buffer (this may take a while): 15646 of 18286\n",
      "2025-01-11 17:28:33.940321: I tensorflow/core/kernels/data/shuffle_dataset_op.cc:422] ShuffleDatasetV3:1: Filling up shuffle buffer (this may take a while): 16178 of 18286\n",
      "2025-01-11 17:28:53.940445: I tensorflow/core/kernels/data/shuffle_dataset_op.cc:422] ShuffleDatasetV3:1: Filling up shuffle buffer (this may take a while): 17238 of 18286\n"
     ]
    },
    {
     "name": "stdout",
     "output_type": "stream",
     "text": [
      "173/572 [========>.....................] - ETA: 0s - loss: 0.0344 - accuracy: 0.9962 - auc: 0.9984 - specificity: 0.9997 - sensitivity: 0.9924 - f1_score: 0.9982    "
     ]
    },
    {
     "name": "stderr",
     "output_type": "stream",
     "text": [
      "2025-01-11 17:29:13.742801: I tensorflow/core/kernels/data/shuffle_dataset_op.cc:452] Shuffle buffer filled.\n"
     ]
    },
    {
     "name": "stdout",
     "output_type": "stream",
     "text": [
      "572/572 [==============================] - 150s 833us/step - loss: 0.0346 - accuracy: 0.9967 - auc: 0.9985 - specificity: 0.9992 - sensitivity: 0.9934 - f1_score: 0.9981 - val_loss: 0.0397 - val_accuracy: 0.9911 - val_auc: 0.9984 - val_specificity: 0.9927 - val_sensitivity: 0.9894 - val_f1_score: 0.9969 - lr: 1.0000e-06\n"
     ]
    },
    {
     "data": {
      "text/plain": [
       "<keras.src.callbacks.History at 0x17a39f1d0>"
      ]
     },
     "execution_count": 24,
     "metadata": {},
     "output_type": "execute_result"
    }
   ],
   "source": [
    "model.fit(\n",
    "    train_ds,\n",
    "    validation_data=val_ds,\n",
    "    epochs=50,\n",
    "    callbacks=[early_stopping, lr_scheduler]\n",
    ")"
   ]
  },
  {
   "cell_type": "code",
   "execution_count": 54,
   "id": "a05a2bd7-271d-42bf-b984-b6f5c28cf272",
   "metadata": {
    "scrolled": true
   },
   "outputs": [
    {
     "name": "stdout",
     "output_type": "stream",
     "text": [
      "Epoch 1/38\n",
      "120/120 [==============================] - 0s 719us/step - loss: 0.0431 - accuracy: 0.9916 - auc: 0.9967 - specificity: 0.9929 - sensitivity: 0.9888 - f1_score: 0.9950\n",
      "Epoch 2/38\n",
      "120/120 [==============================] - 0s 696us/step - loss: 0.0428 - accuracy: 0.9924 - auc: 0.9964 - specificity: 0.9930 - sensitivity: 0.9900 - f1_score: 0.9953\n",
      "Epoch 3/38\n",
      "120/120 [==============================] - 0s 665us/step - loss: 0.0426 - accuracy: 0.9927 - auc: 0.9972 - specificity: 0.9912 - sensitivity: 0.9904 - f1_score: 0.9957\n",
      "Epoch 4/38\n",
      "120/120 [==============================] - 0s 649us/step - loss: 0.0428 - accuracy: 0.9913 - auc: 0.9972 - specificity: 0.9918 - sensitivity: 0.9900 - f1_score: 0.9958\n",
      "Epoch 5/38\n",
      "120/120 [==============================] - 0s 666us/step - loss: 0.0429 - accuracy: 0.9927 - auc: 0.9966 - specificity: 0.9896 - sensitivity: 0.9911 - f1_score: 0.9954\n",
      "Epoch 6/38\n",
      "120/120 [==============================] - 0s 676us/step - loss: 0.0432 - accuracy: 0.9908 - auc: 0.9974 - specificity: 0.9899 - sensitivity: 0.9877 - f1_score: 0.9947\n",
      "Epoch 7/38\n",
      "120/120 [==============================] - 0s 695us/step - loss: 0.0427 - accuracy: 0.9913 - auc: 0.9968 - specificity: 0.9904 - sensitivity: 0.9892 - f1_score: 0.9949\n",
      "Epoch 8/38\n",
      "120/120 [==============================] - 0s 649us/step - loss: 0.0431 - accuracy: 0.9921 - auc: 0.9964 - specificity: 0.9873 - sensitivity: 0.9904 - f1_score: 0.9944\n",
      "Epoch 9/38\n",
      "120/120 [==============================] - 0s 676us/step - loss: 0.0423 - accuracy: 0.9924 - auc: 0.9976 - specificity: 0.9871 - sensitivity: 0.9904 - f1_score: 0.9946\n",
      "Epoch 10/38\n",
      "120/120 [==============================] - 0s 656us/step - loss: 0.0429 - accuracy: 0.9919 - auc: 0.9970 - specificity: 0.9897 - sensitivity: 0.9904 - f1_score: 0.9952\n",
      "Epoch 11/38\n",
      "120/120 [==============================] - 0s 641us/step - loss: 0.0426 - accuracy: 0.9921 - auc: 0.9984 - specificity: 0.9910 - sensitivity: 0.9900 - f1_score: 0.9959\n",
      "Epoch 12/38\n",
      "120/120 [==============================] - 0s 637us/step - loss: 0.0425 - accuracy: 0.9929 - auc: 0.9984 - specificity: 0.9904 - sensitivity: 0.9915 - f1_score: 0.9961\n",
      "Epoch 13/38\n",
      "120/120 [==============================] - 0s 643us/step - loss: 0.0424 - accuracy: 0.9927 - auc: 0.9976 - specificity: 0.9904 - sensitivity: 0.9911 - f1_score: 0.9953\n",
      "Epoch 14/38\n",
      "120/120 [==============================] - 0s 654us/step - loss: 0.0421 - accuracy: 0.9934 - auc: 0.9976 - specificity: 0.9896 - sensitivity: 0.9919 - f1_score: 0.9958\n",
      "Epoch 15/38\n",
      "120/120 [==============================] - 0s 670us/step - loss: 0.0427 - accuracy: 0.9903 - auc: 0.9972 - specificity: 0.9914 - sensitivity: 0.9881 - f1_score: 0.9959\n",
      "Epoch 16/38\n",
      "120/120 [==============================] - 0s 651us/step - loss: 0.0420 - accuracy: 0.9929 - auc: 0.9980 - specificity: 0.9937 - sensitivity: 0.9904 - f1_score: 0.9966\n",
      "Epoch 17/38\n",
      "120/120 [==============================] - 0s 643us/step - loss: 0.0425 - accuracy: 0.9937 - auc: 0.9974 - specificity: 0.9876 - sensitivity: 0.9923 - f1_score: 0.9949\n",
      "Epoch 18/38\n",
      "120/120 [==============================] - 0s 651us/step - loss: 0.0424 - accuracy: 0.9927 - auc: 0.9980 - specificity: 0.9903 - sensitivity: 0.9911 - f1_score: 0.9960\n",
      "Epoch 19/38\n",
      "120/120 [==============================] - 0s 645us/step - loss: 0.0433 - accuracy: 0.9919 - auc: 0.9966 - specificity: 0.9889 - sensitivity: 0.9900 - f1_score: 0.9949\n",
      "Epoch 20/38\n",
      "120/120 [==============================] - 0s 635us/step - loss: 0.0426 - accuracy: 0.9927 - auc: 0.9982 - specificity: 0.9899 - sensitivity: 0.9911 - f1_score: 0.9960\n",
      "Epoch 21/38\n",
      "120/120 [==============================] - 0s 640us/step - loss: 0.0421 - accuracy: 0.9937 - auc: 0.9970 - specificity: 0.9912 - sensitivity: 0.9923 - f1_score: 0.9957\n",
      "Epoch 22/38\n",
      "120/120 [==============================] - 0s 685us/step - loss: 0.0424 - accuracy: 0.9924 - auc: 0.9966 - specificity: 0.9896 - sensitivity: 0.9908 - f1_score: 0.9948\n",
      "Epoch 23/38\n",
      "120/120 [==============================] - 0s 656us/step - loss: 0.0427 - accuracy: 0.9921 - auc: 0.9976 - specificity: 0.9921 - sensitivity: 0.9896 - f1_score: 0.9963\n",
      "Epoch 24/38\n",
      "120/120 [==============================] - 0s 645us/step - loss: 0.0430 - accuracy: 0.9916 - auc: 0.9980 - specificity: 0.9897 - sensitivity: 0.9908 - f1_score: 0.9954\n",
      "Epoch 25/38\n",
      "120/120 [==============================] - 0s 648us/step - loss: 0.0421 - accuracy: 0.9921 - auc: 0.9980 - specificity: 0.9886 - sensitivity: 0.9904 - f1_score: 0.9957\n",
      "Epoch 26/38\n",
      "120/120 [==============================] - 0s 989us/step - loss: 0.0421 - accuracy: 0.9921 - auc: 0.9978 - specificity: 0.9897 - sensitivity: 0.9911 - f1_score: 0.9953\n",
      "Epoch 27/38\n",
      "120/120 [==============================] - 0s 685us/step - loss: 0.0422 - accuracy: 0.9927 - auc: 0.9982 - specificity: 0.9884 - sensitivity: 0.9911 - f1_score: 0.9954\n",
      "Epoch 28/38\n",
      "120/120 [==============================] - 0s 651us/step - loss: 0.0423 - accuracy: 0.9927 - auc: 0.9972 - specificity: 0.9914 - sensitivity: 0.9915 - f1_score: 0.9959\n",
      "Epoch 29/38\n",
      "120/120 [==============================] - 0s 652us/step - loss: 0.0430 - accuracy: 0.9921 - auc: 0.9970 - specificity: 0.9869 - sensitivity: 0.9911 - f1_score: 0.9946\n",
      "Epoch 30/38\n",
      "120/120 [==============================] - 0s 646us/step - loss: 0.0431 - accuracy: 0.9919 - auc: 0.9986 - specificity: 0.9867 - sensitivity: 0.9904 - f1_score: 0.9954\n",
      "Epoch 31/38\n",
      "120/120 [==============================] - 0s 648us/step - loss: 0.0422 - accuracy: 0.9924 - auc: 0.9984 - specificity: 0.9878 - sensitivity: 0.9904 - f1_score: 0.9955\n",
      "Epoch 32/38\n",
      "120/120 [==============================] - 0s 664us/step - loss: 0.0422 - accuracy: 0.9921 - auc: 0.9986 - specificity: 0.9920 - sensitivity: 0.9904 - f1_score: 0.9967\n",
      "Epoch 33/38\n",
      "120/120 [==============================] - 0s 660us/step - loss: 0.0425 - accuracy: 0.9911 - auc: 0.9978 - specificity: 0.9925 - sensitivity: 0.9892 - f1_score: 0.9961\n",
      "Epoch 34/38\n",
      "120/120 [==============================] - 0s 648us/step - loss: 0.0427 - accuracy: 0.9911 - auc: 0.9982 - specificity: 0.9890 - sensitivity: 0.9884 - f1_score: 0.9957\n",
      "Epoch 35/38\n",
      "120/120 [==============================] - 0s 648us/step - loss: 0.0416 - accuracy: 0.9927 - auc: 0.9976 - specificity: 0.9918 - sensitivity: 0.9908 - f1_score: 0.9961\n",
      "Epoch 36/38\n",
      "120/120 [==============================] - 0s 661us/step - loss: 0.0420 - accuracy: 0.9924 - auc: 0.9974 - specificity: 0.9890 - sensitivity: 0.9904 - f1_score: 0.9960\n",
      "Epoch 37/38\n",
      "120/120 [==============================] - 0s 651us/step - loss: 0.0422 - accuracy: 0.9934 - auc: 0.9982 - specificity: 0.9932 - sensitivity: 0.9919 - f1_score: 0.9966\n",
      "Epoch 38/38\n",
      "120/120 [==============================] - 0s 657us/step - loss: 0.0419 - accuracy: 0.9924 - auc: 0.9982 - specificity: 0.9907 - sensitivity: 0.9908 - f1_score: 0.9958\n"
     ]
    },
    {
     "data": {
      "text/plain": [
       "<keras.src.callbacks.History at 0x178d5e550>"
      ]
     },
     "execution_count": 54,
     "metadata": {},
     "output_type": "execute_result"
    }
   ],
   "source": [
    "model.fit(\n",
    "    test_ds,\n",
    "    epochs=38,\n",
    ")"
   ]
  },
  {
   "cell_type": "code",
   "execution_count": 56,
   "id": "ceea8f46-a401-4b44-b8f0-877a5b6539fe",
   "metadata": {},
   "outputs": [],
   "source": [
    "weights = model.get_weights()\n"
   ]
  },
  {
   "cell_type": "code",
   "execution_count": 58,
   "id": "fbd6dc80-9a05-4c93-b82d-74beff4a2122",
   "metadata": {
    "scrolled": true
   },
   "outputs": [],
   "source": [
    "first_layer_weights = weights[0]  \n",
    "\n",
    "weight_df = pd.DataFrame(\n",
    "    first_layer_weights[:13],  \n",
    "    columns=[f'Hidden_Node_{i}' for i in range(first_layer_weights.shape[1])], \n",
    "    index=X_train.columns[:13]  \n",
    ")"
   ]
  },
  {
   "cell_type": "code",
   "execution_count": 60,
   "id": "3b5ea296-8767-4479-9dff-f4a34b1c8cb3",
   "metadata": {},
   "outputs": [
    {
     "name": "stdout",
     "output_type": "stream",
     "text": [
      "q67    4.221607\n",
      "q97    4.126722\n",
      "q72    3.920302\n",
      "q73    3.880244\n",
      "q76    3.876490\n",
      "q66    3.763830\n",
      "q68    3.714168\n",
      "q69    3.710713\n",
      "q96    3.689796\n",
      "q71    3.449429\n",
      "q83    3.378315\n",
      "q70    2.952023\n",
      "q78    2.877127\n",
      "dtype: float32\n"
     ]
    }
   ],
   "source": [
    "feature_importance = weight_df.abs().sum(axis=1).sort_values(ascending=False)\n",
    "\n",
    "print(feature_importance)"
   ]
  },
  {
   "cell_type": "code",
   "execution_count": 63,
   "id": "8b178ee2-8710-45be-8491-ab4fe628b59b",
   "metadata": {},
   "outputs": [
    {
     "name": "stdout",
     "output_type": "stream",
     "text": [
      "q60     5.299533\n",
      "q87     4.927851\n",
      "q35     4.795099\n",
      "q61     4.793812\n",
      "q81     4.694726\n",
      "q55     4.402696\n",
      "q92     4.369410\n",
      "q54     4.304658\n",
      "q80     4.251403\n",
      "q67     4.221607\n",
      "q97     4.126722\n",
      "q58     4.104058\n",
      "q46     4.074771\n",
      "q38     4.025519\n",
      "q52     4.022034\n",
      "q82     3.999923\n",
      "q28     3.943447\n",
      "q30     3.926598\n",
      "q72     3.920302\n",
      "q73     3.880244\n",
      "q9      3.878940\n",
      "q76     3.876490\n",
      "q53     3.869617\n",
      "q51     3.766945\n",
      "q66     3.763830\n",
      "q31     3.723319\n",
      "q68     3.714168\n",
      "q39     3.713171\n",
      "q69     3.710713\n",
      "q96     3.689796\n",
      "q74     3.685955\n",
      "q59     3.660229\n",
      "q50     3.649377\n",
      "q79     3.641234\n",
      "q75     3.569131\n",
      "q10     3.505089\n",
      "q71     3.449429\n",
      "q84     3.413808\n",
      "q49     3.405173\n",
      "q83     3.378315\n",
      "q70     2.952023\n",
      "q78     2.877127\n",
      "q12     2.761600\n",
      "q29     2.753660\n",
      "q85     2.700336\n",
      "q106    2.218318\n",
      "q17     2.071753\n",
      "q26     1.975042\n",
      "q8      1.413758\n",
      "q11     1.407523\n",
      "q19     0.678832\n",
      "q27     0.471366\n",
      "dtype: float32\n"
     ]
    }
   ],
   "source": [
    "weight_mb = pd.DataFrame(first_layer_weights, columns=[f'Hidden_Node_{i}' for i in range(first_layer_weights.shape[1])], index=X_train.columns)\n",
    "\n",
    "mb_importance = weight_mb.abs().sum(axis=1).sort_values(ascending=False)\n",
    "print(mb_importance)"
   ]
  },
  {
   "cell_type": "code",
   "execution_count": null,
   "id": "717846bb-3a0a-4d38-b750-5688b72e5ff9",
   "metadata": {},
   "outputs": [],
   "source": []
  }
 ],
 "metadata": {
  "kernelspec": {
   "display_name": "Python [conda env:base] *",
   "language": "python",
   "name": "conda-base-py"
  },
  "language_info": {
   "codemirror_mode": {
    "name": "ipython",
    "version": 3
   },
   "file_extension": ".py",
   "mimetype": "text/x-python",
   "name": "python",
   "nbconvert_exporter": "python",
   "pygments_lexer": "ipython3",
   "version": "3.11.5"
  }
 },
 "nbformat": 4,
 "nbformat_minor": 5
}
