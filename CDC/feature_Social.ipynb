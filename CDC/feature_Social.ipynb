{
 "cells": [
  {
   "cell_type": "code",
   "execution_count": 1,
   "id": "e5bb97a2-eed5-4d77-8436-ef1ab22f2044",
   "metadata": {
    "scrolled": true
   },
   "outputs": [],
   "source": [
    "import numpy as np\n",
    "import pandas as pd\n",
    "\n",
    "import tensorflow as tf\n",
    "\n",
    "from tensorflow import feature_column\n",
    "from tensorflow.keras import layers\n",
    "from sklearn.model_selection import train_test_split\n",
    "from tensorflow.keras import regularizers\n",
    "from tensorflow.keras.callbacks import EarlyStopping\n",
    "from tensorflow.keras.callbacks import ReduceLROnPlateau\n",
    "\n",
    "from imblearn.over_sampling import SMOTE\n"
   ]
  },
  {
   "cell_type": "markdown",
   "id": "232e49dd-4e90-4bcd-bc87-1ef5d3ccc058",
   "metadata": {},
   "source": [
    "Tutorial link: https://www.tensorflow.org/tutorials/structured_data/feature_columns"
   ]
  },
  {
   "cell_type": "code",
   "execution_count": 3,
   "id": "7359ca0b-3b25-4299-bcc5-abb0fee14063",
   "metadata": {},
   "outputs": [],
   "source": [
    "dataframe = pd.read_csv(\"social.csv\")"
   ]
  },
  {
   "cell_type": "code",
   "execution_count": 4,
   "id": "7af47d76-395c-447c-95ef-4b3fa3f003d9",
   "metadata": {},
   "outputs": [],
   "source": [
    "dataframe.dropna(inplace=True)"
   ]
  },
  {
   "cell_type": "code",
   "execution_count": 5,
   "id": "73235cb3-dfd8-4f35-b5d6-3960d748ab82",
   "metadata": {
    "scrolled": true
   },
   "outputs": [
    {
     "name": "stdout",
     "output_type": "stream",
     "text": [
      "<class 'pandas.core.frame.DataFrame'>\n",
      "RangeIndex: 19451 entries, 0 to 19450\n",
      "Data columns (total 59 columns):\n",
      " #   Column  Non-Null Count  Dtype  \n",
      "---  ------  --------------  -----  \n",
      " 0   q14     19451 non-null  float64\n",
      " 1   q15     19451 non-null  float64\n",
      " 2   q16     19451 non-null  float64\n",
      " 3   q18     19451 non-null  float64\n",
      " 4   q21     19451 non-null  float64\n",
      " 5   q22     19451 non-null  float64\n",
      " 6   q23     19451 non-null  float64\n",
      " 7   q24     19451 non-null  float64\n",
      " 8   q25     19451 non-null  float64\n",
      " 9   q45     19451 non-null  float64\n",
      " 10  q86     19451 non-null  float64\n",
      " 11  q88     19451 non-null  float64\n",
      " 12  q89     19451 non-null  float64\n",
      " 13  q90     19451 non-null  float64\n",
      " 14  q91     19451 non-null  float64\n",
      " 15  q99     19451 non-null  float64\n",
      " 16  q100    19451 non-null  float64\n",
      " 17  q102    19451 non-null  float64\n",
      " 18  q103    19451 non-null  float64\n",
      " 19  q105    19451 non-null  float64\n",
      " 20  q8      19451 non-null  float64\n",
      " 21  q9      19451 non-null  float64\n",
      " 22  q10     19451 non-null  float64\n",
      " 23  q11     19451 non-null  float64\n",
      " 24  q12     19451 non-null  float64\n",
      " 25  q17     19451 non-null  float64\n",
      " 26  q19     19451 non-null  float64\n",
      " 27  q26     19451 non-null  float64\n",
      " 28  q27     19451 non-null  float64\n",
      " 29  q28     19451 non-null  float64\n",
      " 30  q29     19451 non-null  float64\n",
      " 31  q30     19451 non-null  float64\n",
      " 32  q31     19451 non-null  float64\n",
      " 33  q35     19451 non-null  float64\n",
      " 34  q38     19451 non-null  float64\n",
      " 35  q39     19451 non-null  float64\n",
      " 36  q46     19451 non-null  float64\n",
      " 37  q49     19451 non-null  float64\n",
      " 38  q50     19451 non-null  float64\n",
      " 39  q51     19451 non-null  float64\n",
      " 40  q52     19451 non-null  float64\n",
      " 41  q53     19451 non-null  float64\n",
      " 42  q54     19451 non-null  float64\n",
      " 43  q55     19451 non-null  float64\n",
      " 44  q58     19451 non-null  float64\n",
      " 45  q59     19451 non-null  float64\n",
      " 46  q60     19451 non-null  float64\n",
      " 47  q61     19451 non-null  float64\n",
      " 48  q74     19451 non-null  float64\n",
      " 49  q75     19451 non-null  float64\n",
      " 50  q79     19451 non-null  float64\n",
      " 51  q80     19451 non-null  float64\n",
      " 52  q81     19451 non-null  float64\n",
      " 53  q82     19451 non-null  float64\n",
      " 54  q84     19451 non-null  float64\n",
      " 55  q85     19451 non-null  float64\n",
      " 56  q87     19451 non-null  float64\n",
      " 57  q92     19451 non-null  float64\n",
      " 58  MB      19451 non-null  float64\n",
      "dtypes: float64(59)\n",
      "memory usage: 8.8 MB\n"
     ]
    }
   ],
   "source": [
    "dataframe.info()"
   ]
  },
  {
   "cell_type": "code",
   "execution_count": 6,
   "id": "b2afeff0-b551-4b83-8889-62405afdc9f1",
   "metadata": {},
   "outputs": [],
   "source": [
    "dataframe['target'] = dataframe['MB']\n"
   ]
  },
  {
   "cell_type": "code",
   "execution_count": 7,
   "id": "a212c76a-dc8c-480a-bc83-a9552a7a7d6c",
   "metadata": {},
   "outputs": [
    {
     "data": {
      "text/html": [
       "<div>\n",
       "<style scoped>\n",
       "    .dataframe tbody tr th:only-of-type {\n",
       "        vertical-align: middle;\n",
       "    }\n",
       "\n",
       "    .dataframe tbody tr th {\n",
       "        vertical-align: top;\n",
       "    }\n",
       "\n",
       "    .dataframe thead th {\n",
       "        text-align: right;\n",
       "    }\n",
       "</style>\n",
       "<table border=\"1\" class=\"dataframe\">\n",
       "  <thead>\n",
       "    <tr style=\"text-align: right;\">\n",
       "      <th></th>\n",
       "      <th>q14</th>\n",
       "      <th>q15</th>\n",
       "      <th>q16</th>\n",
       "      <th>q18</th>\n",
       "      <th>q21</th>\n",
       "      <th>q22</th>\n",
       "      <th>q23</th>\n",
       "      <th>q24</th>\n",
       "      <th>q25</th>\n",
       "      <th>q45</th>\n",
       "      <th>...</th>\n",
       "      <th>q79</th>\n",
       "      <th>q80</th>\n",
       "      <th>q81</th>\n",
       "      <th>q82</th>\n",
       "      <th>q84</th>\n",
       "      <th>q85</th>\n",
       "      <th>q87</th>\n",
       "      <th>q92</th>\n",
       "      <th>MB</th>\n",
       "      <th>target</th>\n",
       "    </tr>\n",
       "  </thead>\n",
       "  <tbody>\n",
       "    <tr>\n",
       "      <th>0</th>\n",
       "      <td>0.5</td>\n",
       "      <td>0.0</td>\n",
       "      <td>0.000000</td>\n",
       "      <td>1.0</td>\n",
       "      <td>0.2</td>\n",
       "      <td>0.2</td>\n",
       "      <td>0.0</td>\n",
       "      <td>1.0</td>\n",
       "      <td>1.0</td>\n",
       "      <td>0.000000</td>\n",
       "      <td>...</td>\n",
       "      <td>0.00</td>\n",
       "      <td>0.714286</td>\n",
       "      <td>0.0</td>\n",
       "      <td>0.0</td>\n",
       "      <td>0.00</td>\n",
       "      <td>0.666667</td>\n",
       "      <td>0.200328</td>\n",
       "      <td>0.2</td>\n",
       "      <td>1.0</td>\n",
       "      <td>1.0</td>\n",
       "    </tr>\n",
       "    <tr>\n",
       "      <th>1</th>\n",
       "      <td>0.0</td>\n",
       "      <td>0.0</td>\n",
       "      <td>0.142857</td>\n",
       "      <td>1.0</td>\n",
       "      <td>0.2</td>\n",
       "      <td>0.2</td>\n",
       "      <td>0.5</td>\n",
       "      <td>0.0</td>\n",
       "      <td>1.0</td>\n",
       "      <td>0.000000</td>\n",
       "      <td>...</td>\n",
       "      <td>0.00</td>\n",
       "      <td>0.428571</td>\n",
       "      <td>0.0</td>\n",
       "      <td>0.0</td>\n",
       "      <td>0.50</td>\n",
       "      <td>0.333333</td>\n",
       "      <td>0.500000</td>\n",
       "      <td>0.0</td>\n",
       "      <td>1.0</td>\n",
       "      <td>1.0</td>\n",
       "    </tr>\n",
       "    <tr>\n",
       "      <th>2</th>\n",
       "      <td>0.0</td>\n",
       "      <td>0.0</td>\n",
       "      <td>0.000000</td>\n",
       "      <td>1.0</td>\n",
       "      <td>0.2</td>\n",
       "      <td>0.2</td>\n",
       "      <td>0.0</td>\n",
       "      <td>1.0</td>\n",
       "      <td>1.0</td>\n",
       "      <td>0.000000</td>\n",
       "      <td>...</td>\n",
       "      <td>0.00</td>\n",
       "      <td>1.000000</td>\n",
       "      <td>0.0</td>\n",
       "      <td>0.0</td>\n",
       "      <td>0.25</td>\n",
       "      <td>1.000000</td>\n",
       "      <td>0.333333</td>\n",
       "      <td>0.0</td>\n",
       "      <td>1.0</td>\n",
       "      <td>1.0</td>\n",
       "    </tr>\n",
       "    <tr>\n",
       "      <th>3</th>\n",
       "      <td>0.5</td>\n",
       "      <td>0.0</td>\n",
       "      <td>0.000000</td>\n",
       "      <td>1.0</td>\n",
       "      <td>0.2</td>\n",
       "      <td>0.2</td>\n",
       "      <td>0.0</td>\n",
       "      <td>1.0</td>\n",
       "      <td>1.0</td>\n",
       "      <td>1.000000</td>\n",
       "      <td>...</td>\n",
       "      <td>0.00</td>\n",
       "      <td>1.000000</td>\n",
       "      <td>0.0</td>\n",
       "      <td>0.0</td>\n",
       "      <td>0.50</td>\n",
       "      <td>0.500000</td>\n",
       "      <td>0.333333</td>\n",
       "      <td>0.0</td>\n",
       "      <td>1.0</td>\n",
       "      <td>1.0</td>\n",
       "    </tr>\n",
       "    <tr>\n",
       "      <th>4</th>\n",
       "      <td>0.0</td>\n",
       "      <td>0.0</td>\n",
       "      <td>0.285714</td>\n",
       "      <td>1.0</td>\n",
       "      <td>0.2</td>\n",
       "      <td>0.0</td>\n",
       "      <td>0.0</td>\n",
       "      <td>1.0</td>\n",
       "      <td>1.0</td>\n",
       "      <td>0.142857</td>\n",
       "      <td>...</td>\n",
       "      <td>0.25</td>\n",
       "      <td>0.714286</td>\n",
       "      <td>0.0</td>\n",
       "      <td>0.0</td>\n",
       "      <td>0.50</td>\n",
       "      <td>0.666667</td>\n",
       "      <td>0.500000</td>\n",
       "      <td>0.0</td>\n",
       "      <td>1.0</td>\n",
       "      <td>1.0</td>\n",
       "    </tr>\n",
       "  </tbody>\n",
       "</table>\n",
       "<p>5 rows × 60 columns</p>\n",
       "</div>"
      ],
      "text/plain": [
       "   q14  q15       q16  q18  q21  q22  q23  q24  q25       q45  ...   q79  \\\n",
       "0  0.5  0.0  0.000000  1.0  0.2  0.2  0.0  1.0  1.0  0.000000  ...  0.00   \n",
       "1  0.0  0.0  0.142857  1.0  0.2  0.2  0.5  0.0  1.0  0.000000  ...  0.00   \n",
       "2  0.0  0.0  0.000000  1.0  0.2  0.2  0.0  1.0  1.0  0.000000  ...  0.00   \n",
       "3  0.5  0.0  0.000000  1.0  0.2  0.2  0.0  1.0  1.0  1.000000  ...  0.00   \n",
       "4  0.0  0.0  0.285714  1.0  0.2  0.0  0.0  1.0  1.0  0.142857  ...  0.25   \n",
       "\n",
       "        q80  q81  q82   q84       q85       q87  q92   MB  target  \n",
       "0  0.714286  0.0  0.0  0.00  0.666667  0.200328  0.2  1.0     1.0  \n",
       "1  0.428571  0.0  0.0  0.50  0.333333  0.500000  0.0  1.0     1.0  \n",
       "2  1.000000  0.0  0.0  0.25  1.000000  0.333333  0.0  1.0     1.0  \n",
       "3  1.000000  0.0  0.0  0.50  0.500000  0.333333  0.0  1.0     1.0  \n",
       "4  0.714286  0.0  0.0  0.50  0.666667  0.500000  0.0  1.0     1.0  \n",
       "\n",
       "[5 rows x 60 columns]"
      ]
     },
     "execution_count": 7,
     "metadata": {},
     "output_type": "execute_result"
    }
   ],
   "source": [
    "dataframe.head()"
   ]
  },
  {
   "cell_type": "code",
   "execution_count": 8,
   "id": "31d9a5a7-62df-43d8-8334-09adcfab0ece",
   "metadata": {},
   "outputs": [],
   "source": [
    "dataframe = dataframe.drop(['MB'], axis=1)"
   ]
  },
  {
   "cell_type": "code",
   "execution_count": 9,
   "id": "97aa5eec-70eb-4fd2-8486-f5b40082cc36",
   "metadata": {},
   "outputs": [
    {
     "name": "stdout",
     "output_type": "stream",
     "text": [
      "13615 train examples\n",
      "1945 validation examples\n",
      "3891 test examples\n"
     ]
    }
   ],
   "source": [
    "train, test = train_test_split(dataframe, test_size=0.2)\n",
    "train, val = train_test_split(train, test_size=0.125)\n",
    "print(len(train), 'train examples')\n",
    "print(len(val), 'validation examples')\n",
    "print(len(test), 'test examples')"
   ]
  },
  {
   "cell_type": "code",
   "execution_count": 10,
   "id": "38d45025-859b-464d-8ab3-dbeba961f1d1",
   "metadata": {},
   "outputs": [],
   "source": [
    "def df_to_dataset(dataframe, shuffle=True, batch_size=32):\n",
    "  dataframe = dataframe.copy()\n",
    "  labels = dataframe.pop('target')\n",
    "  ds = tf.data.Dataset.from_tensor_slices((dict(dataframe), labels))\n",
    "  if shuffle:\n",
    "    ds = ds.shuffle(buffer_size=len(dataframe))\n",
    "  ds = ds.batch(batch_size)\n",
    "  return ds"
   ]
  },
  {
   "cell_type": "code",
   "execution_count": 11,
   "id": "f1cd5d6f-2d73-49b4-845b-10172c3043c6",
   "metadata": {},
   "outputs": [],
   "source": [
    "X_train = train.drop('target', axis=1)  \n",
    "y_train = train['target']  "
   ]
  },
  {
   "cell_type": "code",
   "execution_count": 12,
   "id": "e97f06a0-e300-4971-956d-3aadd161b163",
   "metadata": {},
   "outputs": [],
   "source": [
    "smote = SMOTE(random_state=42)\n",
    "X_train_resampled, y_train_resampled = smote.fit_resample(X_train, y_train)"
   ]
  },
  {
   "cell_type": "code",
   "execution_count": 13,
   "id": "16d4fd1c-f0f4-4d5f-a45c-6988384b9149",
   "metadata": {},
   "outputs": [],
   "source": [
    "train_resampled = X_train_resampled.copy()\n",
    "train_resampled['target'] = y_train_resampled"
   ]
  },
  {
   "cell_type": "code",
   "execution_count": 14,
   "id": "7e16ac64-1bc2-4c0f-b149-3d4ee3b26e93",
   "metadata": {
    "scrolled": true
   },
   "outputs": [
    {
     "name": "stdout",
     "output_type": "stream",
     "text": [
      "WARNING:tensorflow:From /var/folders/33/vm1_lx1125x3s7gmdn1y15r40000gn/T/ipykernel_42719/1134271070.py:4: numeric_column (from tensorflow.python.feature_column.feature_column_v2) is deprecated and will be removed in a future version.\n",
      "Instructions for updating:\n",
      "Use Keras preprocessing layers instead, either directly or via the `tf.keras.utils.FeatureSpace` utility. Each of `tf.feature_column.*` has a functional equivalent in `tf.keras.layers` for feature preprocessing when training a Keras model.\n"
     ]
    }
   ],
   "source": [
    "feature_columns = []\n",
    "\n",
    "for header in [\"q14\", \"q15\", \"q16\", \"q18\", \"q21\", \"q22\", \"q23\", \"q24\", \"q25\", \"q45\", \"q86\", \"q88\", \"q89\", \"q90\", \"q91\", \"q99\", \"q100\", \"q102\", \"q103\", \"q105\", \"q8\", \"q9\", \"q10\", \"q11\", \"q12\", \"q17\",\t\"q19\", \"q26\", \"q27\", \"q28\",\t\"q29\", \"q30\", \"q31\", \"q35\", \"q38\", \"q39\", \"q46\", \"q49\", \"q50\", \"q51\", \"q52\", \"q53\", \"q54\", \"q55\",\t\"q58\", \"q59\", \"q60\", \"q61\",\t\"q74\", \"q75\", \"q79\", \"q80\", \"q81\", \"q82\", \"q84\", \"q85\", \"q87\", \"q92\"]:\n",
    "    feature_columns.append(feature_column.numeric_column(header))\n"
   ]
  },
  {
   "cell_type": "code",
   "execution_count": 15,
   "id": "869c24f2-fd6e-406d-8b1a-b70b0a5ad61b",
   "metadata": {},
   "outputs": [],
   "source": [
    "feature_layer = tf.keras.layers.DenseFeatures(feature_columns)"
   ]
  },
  {
   "cell_type": "code",
   "execution_count": 16,
   "id": "cdc285bb-b0c0-4197-a053-fe99434affe8",
   "metadata": {},
   "outputs": [],
   "source": [
    "batch_size = 32\n",
    "train_ds = df_to_dataset(train_resampled, batch_size=batch_size)\n",
    "val_ds = df_to_dataset(val, shuffle=False, batch_size=batch_size)\n",
    "test_ds = df_to_dataset(test, shuffle=False, batch_size=batch_size)"
   ]
  },
  {
   "cell_type": "code",
   "execution_count": 17,
   "id": "f34c3f2a-1aee-46b4-88d9-cc73d40e8457",
   "metadata": {
    "scrolled": true
   },
   "outputs": [],
   "source": [
    "model = tf.keras.Sequential([\n",
    "    feature_layer,\n",
    "    layers.Dense(128, activation='relu', kernel_regularizer=regularizers.l2(0.001)),\n",
    "    layers.Dense(128, activation='relu', kernel_regularizer=regularizers.l2(0.001)),\n",
    "    layers.Dropout(.3),\n",
    "    layers.Dense(1)\n",
    "])"
   ]
  },
  {
   "cell_type": "code",
   "execution_count": 18,
   "id": "41b6b544-5185-47c4-9992-a870039e14c3",
   "metadata": {},
   "outputs": [
    {
     "name": "stdout",
     "output_type": "stream",
     "text": [
      "Class weights: {0: 83.01829268292683, 1: 0.5030296312717062}\n"
     ]
    }
   ],
   "source": [
    "from sklearn.utils.class_weight import compute_class_weight\n",
    "\n",
    "classes = np.unique(train['target'])\n",
    "class_weights = compute_class_weight(\n",
    "    class_weight='balanced', \n",
    "    classes=classes, \n",
    "    y=train['target']\n",
    ")\n",
    "class_weight_dict = {i: class_weights[i] for i in range(len(classes))}\n",
    "print(f\"Class weights: {class_weight_dict}\")"
   ]
  },
  {
   "cell_type": "code",
   "execution_count": 19,
   "id": "aa64f10a-675d-477d-bc58-a928f744727e",
   "metadata": {},
   "outputs": [],
   "source": [
    "def specificity(y_true, y_pred):\n",
    "    y_pred = tf.round(tf.nn.sigmoid(y_pred))  \n",
    "    true_negatives = tf.reduce_sum(tf.cast((y_true == 0) & (y_pred == 0), 'float'))\n",
    "    false_positives = tf.reduce_sum(tf.cast((y_true == 0) & (y_pred == 1), 'float'))\n",
    "    \n",
    "    specificity = true_negatives / (true_negatives + false_positives + tf.keras.backend.epsilon())\n",
    "    return specificity"
   ]
  },
  {
   "cell_type": "code",
   "execution_count": 20,
   "id": "aef23ce5-f6c4-4503-a557-026f55bb84a6",
   "metadata": {},
   "outputs": [],
   "source": [
    "def f1_score(y_true, y_pred):\n",
    "    y_pred = tf.round(tf.nn.sigmoid(y_pred))  \n",
    "    tp = tf.reduce_sum(tf.cast(y_true * y_pred, 'float'))\n",
    "    fp = tf.reduce_sum(tf.cast((1 - y_true) * y_pred, 'float'))\n",
    "    fn = tf.reduce_sum(tf.cast(y_true * (1 - y_pred), 'float'))\n",
    "\n",
    "    precision = tp / (tp + fp + tf.keras.backend.epsilon())\n",
    "    recall = tp / (tp + fn + tf.keras.backend.epsilon())\n",
    "    f1 = 2 * (precision * recall) / (precision + recall + tf.keras.backend.epsilon())\n",
    "    return f1"
   ]
  },
  {
   "cell_type": "code",
   "execution_count": 21,
   "id": "1a27d760-c5d7-422d-bb9e-739f32788904",
   "metadata": {},
   "outputs": [],
   "source": [
    "model.compile(optimizer='adam',\n",
    "              loss=tf.keras.losses.BinaryCrossentropy(from_logits=True),\n",
    "              metrics=[\n",
    "                  'accuracy',\n",
    "                  tf.keras.metrics.AUC(name='auc'),\n",
    "                  specificity,\n",
    "                  tf.keras.metrics.Recall(name='sensitivity'),\n",
    "                  f1_score\n",
    "                      ]\n",
    "             )"
   ]
  },
  {
   "cell_type": "code",
   "execution_count": 22,
   "id": "6a682b9b-5bb3-4460-a61b-7c2c01477151",
   "metadata": {},
   "outputs": [],
   "source": [
    "early_stopping = EarlyStopping(monitor='val_loss', patience=5, restore_best_weights=True)"
   ]
  },
  {
   "cell_type": "code",
   "execution_count": 23,
   "id": "3aca9a71-09a5-461b-be02-2fcf8bdf0677",
   "metadata": {},
   "outputs": [],
   "source": [
    "lr_scheduler = ReduceLROnPlateau(monitor='val_loss', factor=0.1, patience=3, min_lr=1e-6)\n"
   ]
  },
  {
   "cell_type": "code",
   "execution_count": 24,
   "id": "659bfe70-f194-4f96-a9e8-21b30655f7ac",
   "metadata": {
    "scrolled": true
   },
   "outputs": [
    {
     "name": "stdout",
     "output_type": "stream",
     "text": [
      "Epoch 1/50\n"
     ]
    },
    {
     "name": "stderr",
     "output_type": "stream",
     "text": [
      "2025-01-11 18:03:23.564548: I tensorflow/core/kernels/data/shuffle_dataset_op.cc:422] ShuffleDatasetV3:1: Filling up shuffle buffer (this may take a while): 7245 of 27066\n",
      "2025-01-11 18:03:43.573833: I tensorflow/core/kernels/data/shuffle_dataset_op.cc:422] ShuffleDatasetV3:1: Filling up shuffle buffer (this may take a while): 8298 of 27066\n",
      "2025-01-11 18:04:03.543927: I tensorflow/core/kernels/data/shuffle_dataset_op.cc:422] ShuffleDatasetV3:1: Filling up shuffle buffer (this may take a while): 8926 of 27066\n",
      "2025-01-11 18:04:13.552328: I tensorflow/core/kernels/data/shuffle_dataset_op.cc:422] ShuffleDatasetV3:1: Filling up shuffle buffer (this may take a while): 9198 of 27066\n",
      "2025-01-11 18:04:33.600758: I tensorflow/core/kernels/data/shuffle_dataset_op.cc:422] ShuffleDatasetV3:1: Filling up shuffle buffer (this may take a while): 9702 of 27066\n",
      "2025-01-11 18:04:53.542395: I tensorflow/core/kernels/data/shuffle_dataset_op.cc:422] ShuffleDatasetV3:1: Filling up shuffle buffer (this may take a while): 10390 of 27066\n",
      "2025-01-11 18:05:03.557708: I tensorflow/core/kernels/data/shuffle_dataset_op.cc:422] ShuffleDatasetV3:1: Filling up shuffle buffer (this may take a while): 10581 of 27066\n",
      "2025-01-11 18:05:23.546947: I tensorflow/core/kernels/data/shuffle_dataset_op.cc:422] ShuffleDatasetV3:1: Filling up shuffle buffer (this may take a while): 11158 of 27066\n",
      "2025-01-11 18:05:33.562553: I tensorflow/core/kernels/data/shuffle_dataset_op.cc:422] ShuffleDatasetV3:1: Filling up shuffle buffer (this may take a while): 11438 of 27066\n",
      "2025-01-11 18:05:43.586015: I tensorflow/core/kernels/data/shuffle_dataset_op.cc:422] ShuffleDatasetV3:1: Filling up shuffle buffer (this may take a while): 11754 of 27066\n",
      "2025-01-11 18:06:03.549909: I tensorflow/core/kernels/data/shuffle_dataset_op.cc:422] ShuffleDatasetV3:1: Filling up shuffle buffer (this may take a while): 12170 of 27066\n",
      "2025-01-11 18:06:23.543073: I tensorflow/core/kernels/data/shuffle_dataset_op.cc:422] ShuffleDatasetV3:1: Filling up shuffle buffer (this may take a while): 14427 of 27066\n",
      "2025-01-11 18:06:33.552320: I tensorflow/core/kernels/data/shuffle_dataset_op.cc:422] ShuffleDatasetV3:1: Filling up shuffle buffer (this may take a while): 15031 of 27066\n",
      "2025-01-11 18:06:43.595365: I tensorflow/core/kernels/data/shuffle_dataset_op.cc:422] ShuffleDatasetV3:1: Filling up shuffle buffer (this may take a while): 15330 of 27066\n",
      "2025-01-11 18:07:03.555155: I tensorflow/core/kernels/data/shuffle_dataset_op.cc:422] ShuffleDatasetV3:1: Filling up shuffle buffer (this may take a while): 16239 of 27066\n",
      "2025-01-11 18:07:23.573160: I tensorflow/core/kernels/data/shuffle_dataset_op.cc:422] ShuffleDatasetV3:1: Filling up shuffle buffer (this may take a while): 17150 of 27066\n",
      "2025-01-11 18:07:33.587130: I tensorflow/core/kernels/data/shuffle_dataset_op.cc:422] ShuffleDatasetV3:1: Filling up shuffle buffer (this may take a while): 17445 of 27066\n",
      "2025-01-11 18:07:53.556574: I tensorflow/core/kernels/data/shuffle_dataset_op.cc:422] ShuffleDatasetV3:1: Filling up shuffle buffer (this may take a while): 18015 of 27066\n",
      "2025-01-11 18:08:03.558622: I tensorflow/core/kernels/data/shuffle_dataset_op.cc:422] ShuffleDatasetV3:1: Filling up shuffle buffer (this may take a while): 18295 of 27066\n",
      "2025-01-11 18:08:23.585780: I tensorflow/core/kernels/data/shuffle_dataset_op.cc:422] ShuffleDatasetV3:1: Filling up shuffle buffer (this may take a while): 18775 of 27066\n",
      "2025-01-11 18:08:43.551366: I tensorflow/core/kernels/data/shuffle_dataset_op.cc:422] ShuffleDatasetV3:1: Filling up shuffle buffer (this may take a while): 19461 of 27066\n",
      "2025-01-11 18:08:53.574160: I tensorflow/core/kernels/data/shuffle_dataset_op.cc:422] ShuffleDatasetV3:1: Filling up shuffle buffer (this may take a while): 19654 of 27066\n",
      "2025-01-11 18:09:13.574541: I tensorflow/core/kernels/data/shuffle_dataset_op.cc:422] ShuffleDatasetV3:1: Filling up shuffle buffer (this may take a while): 20228 of 27066\n",
      "2025-01-11 18:09:33.540639: I tensorflow/core/kernels/data/shuffle_dataset_op.cc:422] ShuffleDatasetV3:1: Filling up shuffle buffer (this may take a while): 20787 of 27066\n",
      "2025-01-11 18:09:43.548342: I tensorflow/core/kernels/data/shuffle_dataset_op.cc:422] ShuffleDatasetV3:1: Filling up shuffle buffer (this may take a while): 21054 of 27066\n",
      "2025-01-11 18:09:53.596328: I tensorflow/core/kernels/data/shuffle_dataset_op.cc:422] ShuffleDatasetV3:1: Filling up shuffle buffer (this may take a while): 21311 of 27066\n",
      "2025-01-11 18:10:13.601177: I tensorflow/core/kernels/data/shuffle_dataset_op.cc:422] ShuffleDatasetV3:1: Filling up shuffle buffer (this may take a while): 21864 of 27066\n",
      "2025-01-11 18:10:33.549005: I tensorflow/core/kernels/data/shuffle_dataset_op.cc:422] ShuffleDatasetV3:1: Filling up shuffle buffer (this may take a while): 22448 of 27066\n",
      "2025-01-11 18:10:43.561599: I tensorflow/core/kernels/data/shuffle_dataset_op.cc:422] ShuffleDatasetV3:1: Filling up shuffle buffer (this may take a while): 22802 of 27066\n",
      "2025-01-11 18:11:03.561901: I tensorflow/core/kernels/data/shuffle_dataset_op.cc:422] ShuffleDatasetV3:1: Filling up shuffle buffer (this may take a while): 23290 of 27066\n",
      "2025-01-11 18:11:23.580114: I tensorflow/core/kernels/data/shuffle_dataset_op.cc:422] ShuffleDatasetV3:1: Filling up shuffle buffer (this may take a while): 23771 of 27066\n",
      "2025-01-11 18:11:33.585004: I tensorflow/core/kernels/data/shuffle_dataset_op.cc:422] ShuffleDatasetV3:1: Filling up shuffle buffer (this may take a while): 24066 of 27066\n",
      "2025-01-11 18:11:53.579580: I tensorflow/core/kernels/data/shuffle_dataset_op.cc:422] ShuffleDatasetV3:1: Filling up shuffle buffer (this may take a while): 24687 of 27066\n",
      "2025-01-11 18:12:13.559547: I tensorflow/core/kernels/data/shuffle_dataset_op.cc:422] ShuffleDatasetV3:1: Filling up shuffle buffer (this may take a while): 25232 of 27066\n",
      "2025-01-11 18:12:23.578376: I tensorflow/core/kernels/data/shuffle_dataset_op.cc:422] ShuffleDatasetV3:1: Filling up shuffle buffer (this may take a while): 25516 of 27066\n",
      "2025-01-11 18:12:43.566572: I tensorflow/core/kernels/data/shuffle_dataset_op.cc:422] ShuffleDatasetV3:1: Filling up shuffle buffer (this may take a while): 26106 of 27066\n",
      "2025-01-11 18:12:53.579715: I tensorflow/core/kernels/data/shuffle_dataset_op.cc:422] ShuffleDatasetV3:1: Filling up shuffle buffer (this may take a while): 26274 of 27066\n",
      "2025-01-11 18:13:13.585420: I tensorflow/core/kernels/data/shuffle_dataset_op.cc:422] ShuffleDatasetV3:1: Filling up shuffle buffer (this may take a while): 26858 of 27066\n"
     ]
    },
    {
     "name": "stdout",
     "output_type": "stream",
     "text": [
      "  3/846 [..............................] - ETA: 22s - loss: 0.8964 - accuracy: 0.4583 - auc: 0.5588 - specificity: 0.4296 - sensitivity: 0.0000e+00 - f1_score: 0.5664      "
     ]
    },
    {
     "name": "stderr",
     "output_type": "stream",
     "text": [
      "2025-01-11 18:13:19.602547: I tensorflow/core/kernels/data/shuffle_dataset_op.cc:452] Shuffle buffer filled.\n"
     ]
    },
    {
     "name": "stdout",
     "output_type": "stream",
     "text": [
      "846/846 [==============================] - 609s 2ms/step - loss: 0.1792 - accuracy: 0.9678 - auc: 0.9799 - specificity: 0.9741 - sensitivity: 0.9410 - f1_score: 0.9700 - val_loss: 0.0873 - val_accuracy: 0.9794 - val_auc: 0.9925 - val_specificity: 0.1311 - val_sensitivity: 0.9793 - val_f1_score: 0.9924 - lr: 0.0010\n",
      "Epoch 2/50\n"
     ]
    },
    {
     "name": "stderr",
     "output_type": "stream",
     "text": [
      "2025-01-11 18:13:31.365818: I tensorflow/core/kernels/data/shuffle_dataset_op.cc:422] ShuffleDatasetV3:1: Filling up shuffle buffer (this may take a while): 8728 of 27066\n",
      "2025-01-11 18:13:51.345724: I tensorflow/core/kernels/data/shuffle_dataset_op.cc:422] ShuffleDatasetV3:1: Filling up shuffle buffer (this may take a while): 9285 of 27066\n",
      "2025-01-11 18:14:01.393846: I tensorflow/core/kernels/data/shuffle_dataset_op.cc:422] ShuffleDatasetV3:1: Filling up shuffle buffer (this may take a while): 9528 of 27066\n",
      "2025-01-11 18:14:21.364184: I tensorflow/core/kernels/data/shuffle_dataset_op.cc:422] ShuffleDatasetV3:1: Filling up shuffle buffer (this may take a while): 10150 of 27066\n",
      "2025-01-11 18:14:31.390042: I tensorflow/core/kernels/data/shuffle_dataset_op.cc:422] ShuffleDatasetV3:1: Filling up shuffle buffer (this may take a while): 10427 of 27066\n",
      "2025-01-11 18:14:51.340308: I tensorflow/core/kernels/data/shuffle_dataset_op.cc:422] ShuffleDatasetV3:1: Filling up shuffle buffer (this may take a while): 11018 of 27066\n",
      "2025-01-11 18:15:01.380516: I tensorflow/core/kernels/data/shuffle_dataset_op.cc:422] ShuffleDatasetV3:1: Filling up shuffle buffer (this may take a while): 11437 of 27066\n",
      "2025-01-11 18:15:21.350682: I tensorflow/core/kernels/data/shuffle_dataset_op.cc:422] ShuffleDatasetV3:1: Filling up shuffle buffer (this may take a while): 12087 of 27066\n",
      "2025-01-11 18:15:41.338961: I tensorflow/core/kernels/data/shuffle_dataset_op.cc:422] ShuffleDatasetV3:1: Filling up shuffle buffer (this may take a while): 12659 of 27066\n",
      "2025-01-11 18:15:51.380301: I tensorflow/core/kernels/data/shuffle_dataset_op.cc:422] ShuffleDatasetV3:1: Filling up shuffle buffer (this may take a while): 13036 of 27066\n",
      "2025-01-11 18:16:11.398717: I tensorflow/core/kernels/data/shuffle_dataset_op.cc:422] ShuffleDatasetV3:1: Filling up shuffle buffer (this may take a while): 13522 of 27066\n",
      "2025-01-11 18:16:31.375204: I tensorflow/core/kernels/data/shuffle_dataset_op.cc:422] ShuffleDatasetV3:1: Filling up shuffle buffer (this may take a while): 14091 of 27066\n",
      "2025-01-11 18:16:41.375279: I tensorflow/core/kernels/data/shuffle_dataset_op.cc:422] ShuffleDatasetV3:1: Filling up shuffle buffer (this may take a while): 14375 of 27066\n",
      "2025-01-11 18:17:01.390170: I tensorflow/core/kernels/data/shuffle_dataset_op.cc:422] ShuffleDatasetV3:1: Filling up shuffle buffer (this may take a while): 14970 of 27066\n",
      "2025-01-11 18:17:11.409770: I tensorflow/core/kernels/data/shuffle_dataset_op.cc:422] ShuffleDatasetV3:1: Filling up shuffle buffer (this may take a while): 15136 of 27066\n",
      "2025-01-11 18:17:31.339877: I tensorflow/core/kernels/data/shuffle_dataset_op.cc:422] ShuffleDatasetV3:1: Filling up shuffle buffer (this may take a while): 15722 of 27066\n",
      "2025-01-11 18:17:41.374240: I tensorflow/core/kernels/data/shuffle_dataset_op.cc:422] ShuffleDatasetV3:1: Filling up shuffle buffer (this may take a while): 16013 of 27066\n",
      "2025-01-11 18:17:51.382553: I tensorflow/core/kernels/data/shuffle_dataset_op.cc:422] ShuffleDatasetV3:1: Filling up shuffle buffer (this may take a while): 16308 of 27066\n",
      "2025-01-11 18:18:11.340016: I tensorflow/core/kernels/data/shuffle_dataset_op.cc:422] ShuffleDatasetV3:1: Filling up shuffle buffer (this may take a while): 16872 of 27066\n",
      "2025-01-11 18:18:21.341382: I tensorflow/core/kernels/data/shuffle_dataset_op.cc:422] ShuffleDatasetV3:1: Filling up shuffle buffer (this may take a while): 17183 of 27066\n",
      "2025-01-11 18:18:41.362879: I tensorflow/core/kernels/data/shuffle_dataset_op.cc:422] ShuffleDatasetV3:1: Filling up shuffle buffer (this may take a while): 17639 of 27066\n",
      "2025-01-11 18:19:01.353136: I tensorflow/core/kernels/data/shuffle_dataset_op.cc:422] ShuffleDatasetV3:1: Filling up shuffle buffer (this may take a while): 18227 of 27066\n",
      "2025-01-11 18:19:11.396990: I tensorflow/core/kernels/data/shuffle_dataset_op.cc:422] ShuffleDatasetV3:1: Filling up shuffle buffer (this may take a while): 18516 of 27066\n",
      "2025-01-11 18:19:31.340266: I tensorflow/core/kernels/data/shuffle_dataset_op.cc:422] ShuffleDatasetV3:1: Filling up shuffle buffer (this may take a while): 19094 of 27066\n",
      "2025-01-11 18:19:41.377494: I tensorflow/core/kernels/data/shuffle_dataset_op.cc:422] ShuffleDatasetV3:1: Filling up shuffle buffer (this may take a while): 19378 of 27066\n",
      "2025-01-11 18:20:01.359738: I tensorflow/core/kernels/data/shuffle_dataset_op.cc:422] ShuffleDatasetV3:1: Filling up shuffle buffer (this may take a while): 19912 of 27066\n",
      "2025-01-11 18:20:11.398663: I tensorflow/core/kernels/data/shuffle_dataset_op.cc:422] ShuffleDatasetV3:1: Filling up shuffle buffer (this may take a while): 20138 of 27066\n",
      "2025-01-11 18:20:21.409538: I tensorflow/core/kernels/data/shuffle_dataset_op.cc:422] ShuffleDatasetV3:1: Filling up shuffle buffer (this may take a while): 20430 of 27066\n",
      "2025-01-11 18:20:41.375487: I tensorflow/core/kernels/data/shuffle_dataset_op.cc:422] ShuffleDatasetV3:1: Filling up shuffle buffer (this may take a while): 21011 of 27066\n",
      "2025-01-11 18:21:01.341226: I tensorflow/core/kernels/data/shuffle_dataset_op.cc:422] ShuffleDatasetV3:1: Filling up shuffle buffer (this may take a while): 21586 of 27066\n",
      "2025-01-11 18:21:11.370134: I tensorflow/core/kernels/data/shuffle_dataset_op.cc:422] ShuffleDatasetV3:1: Filling up shuffle buffer (this may take a while): 21870 of 27066\n",
      "2025-01-11 18:21:31.351103: I tensorflow/core/kernels/data/shuffle_dataset_op.cc:422] ShuffleDatasetV3:1: Filling up shuffle buffer (this may take a while): 22412 of 27066\n",
      "2025-01-11 18:21:41.396934: I tensorflow/core/kernels/data/shuffle_dataset_op.cc:422] ShuffleDatasetV3:1: Filling up shuffle buffer (this may take a while): 22756 of 27066\n",
      "2025-01-11 18:21:51.405723: I tensorflow/core/kernels/data/shuffle_dataset_op.cc:422] ShuffleDatasetV3:1: Filling up shuffle buffer (this may take a while): 22930 of 27066\n",
      "2025-01-11 18:22:11.359495: I tensorflow/core/kernels/data/shuffle_dataset_op.cc:422] ShuffleDatasetV3:1: Filling up shuffle buffer (this may take a while): 23514 of 27066\n",
      "2025-01-11 18:22:21.393898: I tensorflow/core/kernels/data/shuffle_dataset_op.cc:422] ShuffleDatasetV3:1: Filling up shuffle buffer (this may take a while): 23804 of 27066\n",
      "2025-01-11 18:22:41.369233: I tensorflow/core/kernels/data/shuffle_dataset_op.cc:422] ShuffleDatasetV3:1: Filling up shuffle buffer (this may take a while): 24375 of 27066\n",
      "2025-01-11 18:22:51.380791: I tensorflow/core/kernels/data/shuffle_dataset_op.cc:422] ShuffleDatasetV3:1: Filling up shuffle buffer (this may take a while): 24682 of 27066\n",
      "2025-01-11 18:23:11.394777: I tensorflow/core/kernels/data/shuffle_dataset_op.cc:422] ShuffleDatasetV3:1: Filling up shuffle buffer (this may take a while): 25130 of 27066\n",
      "2025-01-11 18:23:31.347226: I tensorflow/core/kernels/data/shuffle_dataset_op.cc:422] ShuffleDatasetV3:1: Filling up shuffle buffer (this may take a while): 25712 of 27066\n",
      "2025-01-11 18:23:41.379077: I tensorflow/core/kernels/data/shuffle_dataset_op.cc:422] ShuffleDatasetV3:1: Filling up shuffle buffer (this may take a while): 26005 of 27066\n",
      "2025-01-11 18:24:01.358430: I tensorflow/core/kernels/data/shuffle_dataset_op.cc:422] ShuffleDatasetV3:1: Filling up shuffle buffer (this may take a while): 26575 of 27066\n"
     ]
    },
    {
     "name": "stdout",
     "output_type": "stream",
     "text": [
      " 61/846 [=>............................] - ETA: 1s - loss: 0.0944 - accuracy: 0.9887 - auc: 0.9922 - specificity: 0.9979 - sensitivity: 0.9771 - f1_score: 0.9909     "
     ]
    },
    {
     "name": "stderr",
     "output_type": "stream",
     "text": [
      "2025-01-11 18:24:20.007071: I tensorflow/core/kernels/data/shuffle_dataset_op.cc:452] Shuffle buffer filled.\n"
     ]
    },
    {
     "name": "stdout",
     "output_type": "stream",
     "text": [
      "846/846 [==============================] - 660s 1ms/step - loss: 0.0699 - accuracy: 0.9912 - auc: 0.9933 - specificity: 0.9995 - sensitivity: 0.9826 - f1_score: 0.9928 - val_loss: 0.0583 - val_accuracy: 0.9861 - val_auc: 0.9938 - val_specificity: 0.1311 - val_sensitivity: 0.9861 - val_f1_score: 0.9937 - lr: 0.0010\n",
      "Epoch 3/50\n"
     ]
    },
    {
     "name": "stderr",
     "output_type": "stream",
     "text": [
      "2025-01-11 18:24:31.170174: I tensorflow/core/kernels/data/shuffle_dataset_op.cc:422] ShuffleDatasetV3:1: Filling up shuffle buffer (this may take a while): 7464 of 27066\n",
      "2025-01-11 18:24:41.176510: I tensorflow/core/kernels/data/shuffle_dataset_op.cc:422] ShuffleDatasetV3:1: Filling up shuffle buffer (this may take a while): 8492 of 27066\n",
      "2025-01-11 18:24:51.188847: I tensorflow/core/kernels/data/shuffle_dataset_op.cc:422] ShuffleDatasetV3:1: Filling up shuffle buffer (this may take a while): 9876 of 27066\n",
      "2025-01-11 18:25:11.202055: I tensorflow/core/kernels/data/shuffle_dataset_op.cc:422] ShuffleDatasetV3:1: Filling up shuffle buffer (this may take a while): 10450 of 27066\n",
      "2025-01-11 18:25:31.192857: I tensorflow/core/kernels/data/shuffle_dataset_op.cc:422] ShuffleDatasetV3:1: Filling up shuffle buffer (this may take a while): 11034 of 27066\n",
      "2025-01-11 18:25:51.185389: I tensorflow/core/kernels/data/shuffle_dataset_op.cc:422] ShuffleDatasetV3:1: Filling up shuffle buffer (this may take a while): 11621 of 27066\n",
      "2025-01-11 18:26:01.205121: I tensorflow/core/kernels/data/shuffle_dataset_op.cc:422] ShuffleDatasetV3:1: Filling up shuffle buffer (this may take a while): 11906 of 27066\n",
      "2025-01-11 18:26:21.185777: I tensorflow/core/kernels/data/shuffle_dataset_op.cc:422] ShuffleDatasetV3:1: Filling up shuffle buffer (this may take a while): 12492 of 27066\n",
      "2025-01-11 18:26:41.170276: I tensorflow/core/kernels/data/shuffle_dataset_op.cc:422] ShuffleDatasetV3:1: Filling up shuffle buffer (this may take a while): 12946 of 27066\n",
      "2025-01-11 18:27:01.173269: I tensorflow/core/kernels/data/shuffle_dataset_op.cc:422] ShuffleDatasetV3:1: Filling up shuffle buffer (this may take a while): 13640 of 27066\n",
      "2025-01-11 18:27:11.211879: I tensorflow/core/kernels/data/shuffle_dataset_op.cc:422] ShuffleDatasetV3:1: Filling up shuffle buffer (this may take a while): 13915 of 27066\n",
      "2025-01-11 18:27:31.202588: I tensorflow/core/kernels/data/shuffle_dataset_op.cc:422] ShuffleDatasetV3:1: Filling up shuffle buffer (this may take a while): 14404 of 27066\n",
      "2025-01-11 18:27:51.202600: I tensorflow/core/kernels/data/shuffle_dataset_op.cc:422] ShuffleDatasetV3:1: Filling up shuffle buffer (this may take a while): 14960 of 27066\n",
      "2025-01-11 18:28:01.233384: I tensorflow/core/kernels/data/shuffle_dataset_op.cc:422] ShuffleDatasetV3:1: Filling up shuffle buffer (this may take a while): 15132 of 27066\n",
      "2025-01-11 18:28:21.216982: I tensorflow/core/kernels/data/shuffle_dataset_op.cc:422] ShuffleDatasetV3:1: Filling up shuffle buffer (this may take a while): 15718 of 27066\n",
      "2025-01-11 18:28:41.160419: I tensorflow/core/kernels/data/shuffle_dataset_op.cc:422] ShuffleDatasetV3:1: Filling up shuffle buffer (this may take a while): 16297 of 27066\n",
      "2025-01-11 18:28:51.177374: I tensorflow/core/kernels/data/shuffle_dataset_op.cc:422] ShuffleDatasetV3:1: Filling up shuffle buffer (this may take a while): 16628 of 27066\n",
      "2025-01-11 18:29:11.176296: I tensorflow/core/kernels/data/shuffle_dataset_op.cc:422] ShuffleDatasetV3:1: Filling up shuffle buffer (this may take a while): 17111 of 27066\n",
      "2025-01-11 18:29:21.187302: I tensorflow/core/kernels/data/shuffle_dataset_op.cc:422] ShuffleDatasetV3:1: Filling up shuffle buffer (this may take a while): 17352 of 27066\n",
      "2025-01-11 18:29:31.190187: I tensorflow/core/kernels/data/shuffle_dataset_op.cc:422] ShuffleDatasetV3:1: Filling up shuffle buffer (this may take a while): 17612 of 27066\n",
      "2025-01-11 18:29:51.179092: I tensorflow/core/kernels/data/shuffle_dataset_op.cc:422] ShuffleDatasetV3:1: Filling up shuffle buffer (this may take a while): 18198 of 27066\n",
      "2025-01-11 18:30:01.204302: I tensorflow/core/kernels/data/shuffle_dataset_op.cc:422] ShuffleDatasetV3:1: Filling up shuffle buffer (this may take a while): 18483 of 27066\n",
      "2025-01-11 18:30:21.188553: I tensorflow/core/kernels/data/shuffle_dataset_op.cc:422] ShuffleDatasetV3:1: Filling up shuffle buffer (this may take a while): 19052 of 27066\n",
      "2025-01-11 18:30:41.171261: I tensorflow/core/kernels/data/shuffle_dataset_op.cc:422] ShuffleDatasetV3:1: Filling up shuffle buffer (this may take a while): 19587 of 27066\n",
      "2025-01-11 18:30:51.177257: I tensorflow/core/kernels/data/shuffle_dataset_op.cc:422] ShuffleDatasetV3:1: Filling up shuffle buffer (this may take a while): 19934 of 27066\n",
      "2025-01-11 18:31:01.230199: I tensorflow/core/kernels/data/shuffle_dataset_op.cc:422] ShuffleDatasetV3:1: Filling up shuffle buffer (this may take a while): 20116 of 27066\n",
      "2025-01-11 18:31:21.187661: I tensorflow/core/kernels/data/shuffle_dataset_op.cc:422] ShuffleDatasetV3:1: Filling up shuffle buffer (this may take a while): 20700 of 27066\n",
      "2025-01-11 18:31:31.210666: I tensorflow/core/kernels/data/shuffle_dataset_op.cc:422] ShuffleDatasetV3:1: Filling up shuffle buffer (this may take a while): 20990 of 27066\n",
      "2025-01-11 18:31:51.162675: I tensorflow/core/kernels/data/shuffle_dataset_op.cc:422] ShuffleDatasetV3:1: Filling up shuffle buffer (this may take a while): 21627 of 27066\n",
      "2025-01-11 18:32:01.200956: I tensorflow/core/kernels/data/shuffle_dataset_op.cc:422] ShuffleDatasetV3:1: Filling up shuffle buffer (this may take a while): 21848 of 27066\n",
      "2025-01-11 18:32:21.161865: I tensorflow/core/kernels/data/shuffle_dataset_op.cc:422] ShuffleDatasetV3:1: Filling up shuffle buffer (this may take a while): 22354 of 27066\n",
      "2025-01-11 18:32:31.188975: I tensorflow/core/kernels/data/shuffle_dataset_op.cc:422] ShuffleDatasetV3:1: Filling up shuffle buffer (this may take a while): 22742 of 27066\n",
      "2025-01-11 18:32:41.196999: I tensorflow/core/kernels/data/shuffle_dataset_op.cc:422] ShuffleDatasetV3:1: Filling up shuffle buffer (this may take a while): 22918 of 27066\n",
      "2025-01-11 18:33:01.161671: I tensorflow/core/kernels/data/shuffle_dataset_op.cc:422] ShuffleDatasetV3:1: Filling up shuffle buffer (this may take a while): 23498 of 27066\n",
      "2025-01-11 18:33:11.199435: I tensorflow/core/kernels/data/shuffle_dataset_op.cc:422] ShuffleDatasetV3:1: Filling up shuffle buffer (this may take a while): 23788 of 27066\n",
      "2025-01-11 18:33:21.203525: I tensorflow/core/kernels/data/shuffle_dataset_op.cc:422] ShuffleDatasetV3:1: Filling up shuffle buffer (this may take a while): 24075 of 27066\n",
      "2025-01-11 18:33:41.171882: I tensorflow/core/kernels/data/shuffle_dataset_op.cc:422] ShuffleDatasetV3:1: Filling up shuffle buffer (this may take a while): 24631 of 27066\n",
      "2025-01-11 18:34:01.219920: I tensorflow/core/kernels/data/shuffle_dataset_op.cc:422] ShuffleDatasetV3:1: Filling up shuffle buffer (this may take a while): 25130 of 27066\n",
      "2025-01-11 18:34:21.169806: I tensorflow/core/kernels/data/shuffle_dataset_op.cc:422] ShuffleDatasetV3:1: Filling up shuffle buffer (this may take a while): 25718 of 27066\n",
      "2025-01-11 18:34:31.194946: I tensorflow/core/kernels/data/shuffle_dataset_op.cc:422] ShuffleDatasetV3:1: Filling up shuffle buffer (this may take a while): 26011 of 27066\n",
      "2025-01-11 18:34:41.206524: I tensorflow/core/kernels/data/shuffle_dataset_op.cc:422] ShuffleDatasetV3:1: Filling up shuffle buffer (this may take a while): 26302 of 27066\n",
      "2025-01-11 18:35:01.178096: I tensorflow/core/kernels/data/shuffle_dataset_op.cc:422] ShuffleDatasetV3:1: Filling up shuffle buffer (this may take a while): 26886 of 27066\n"
     ]
    },
    {
     "name": "stdout",
     "output_type": "stream",
     "text": [
      " 21/846 [..............................] - ETA: 6s - loss: 0.0559 - accuracy: 0.9911 - auc: 0.9955 - specificity: 1.0000 - sensitivity: 0.9820 - f1_score: 0.9957   "
     ]
    },
    {
     "name": "stderr",
     "output_type": "stream",
     "text": [
      "2025-01-11 18:35:09.030697: I tensorflow/core/kernels/data/shuffle_dataset_op.cc:452] Shuffle buffer filled.\n"
     ]
    },
    {
     "name": "stdout",
     "output_type": "stream",
     "text": [
      "846/846 [==============================] - 649s 1ms/step - loss: 0.0532 - accuracy: 0.9928 - auc: 0.9942 - specificity: 0.9998 - sensitivity: 0.9857 - f1_score: 0.9937 - val_loss: 0.0439 - val_accuracy: 0.9928 - val_auc: 0.9972 - val_specificity: 0.1311 - val_sensitivity: 0.9928 - val_f1_score: 0.9971 - lr: 0.0010\n",
      "Epoch 4/50\n"
     ]
    },
    {
     "name": "stderr",
     "output_type": "stream",
     "text": [
      "2025-01-11 18:35:20.273496: I tensorflow/core/kernels/data/shuffle_dataset_op.cc:422] ShuffleDatasetV3:1: Filling up shuffle buffer (this may take a while): 7045 of 27066\n",
      "2025-01-11 18:35:40.339946: I tensorflow/core/kernels/data/shuffle_dataset_op.cc:422] ShuffleDatasetV3:1: Filling up shuffle buffer (this may take a while): 8836 of 27066\n",
      "2025-01-11 18:36:00.340493: I tensorflow/core/kernels/data/shuffle_dataset_op.cc:422] ShuffleDatasetV3:1: Filling up shuffle buffer (this may take a while): 10372 of 27066\n",
      "2025-01-11 18:36:20.278053: I tensorflow/core/kernels/data/shuffle_dataset_op.cc:422] ShuffleDatasetV3:1: Filling up shuffle buffer (this may take a while): 12143 of 27066\n",
      "2025-01-11 18:36:30.303677: I tensorflow/core/kernels/data/shuffle_dataset_op.cc:422] ShuffleDatasetV3:1: Filling up shuffle buffer (this may take a while): 12426 of 27066\n",
      "2025-01-11 18:36:50.275507: I tensorflow/core/kernels/data/shuffle_dataset_op.cc:422] ShuffleDatasetV3:1: Filling up shuffle buffer (this may take a while): 13341 of 27066\n",
      "2025-01-11 18:37:00.323914: I tensorflow/core/kernels/data/shuffle_dataset_op.cc:422] ShuffleDatasetV3:1: Filling up shuffle buffer (this may take a while): 13660 of 27066\n",
      "2025-01-11 18:37:20.295078: I tensorflow/core/kernels/data/shuffle_dataset_op.cc:422] ShuffleDatasetV3:1: Filling up shuffle buffer (this may take a while): 14419 of 27066\n",
      "2025-01-11 18:37:40.279551: I tensorflow/core/kernels/data/shuffle_dataset_op.cc:422] ShuffleDatasetV3:1: Filling up shuffle buffer (this may take a while): 15011 of 27066\n",
      "2025-01-11 18:37:50.307431: I tensorflow/core/kernels/data/shuffle_dataset_op.cc:422] ShuffleDatasetV3:1: Filling up shuffle buffer (this may take a while): 15300 of 27066\n",
      "2025-01-11 18:38:10.280429: I tensorflow/core/kernels/data/shuffle_dataset_op.cc:422] ShuffleDatasetV3:1: Filling up shuffle buffer (this may take a while): 15866 of 27066\n",
      "2025-01-11 18:38:20.285341: I tensorflow/core/kernels/data/shuffle_dataset_op.cc:422] ShuffleDatasetV3:1: Filling up shuffle buffer (this may take a while): 16139 of 27066\n",
      "2025-01-11 18:38:40.272031: I tensorflow/core/kernels/data/shuffle_dataset_op.cc:422] ShuffleDatasetV3:1: Filling up shuffle buffer (this may take a while): 17063 of 27066\n",
      "2025-01-11 18:38:50.289694: I tensorflow/core/kernels/data/shuffle_dataset_op.cc:422] ShuffleDatasetV3:1: Filling up shuffle buffer (this may take a while): 17295 of 27066\n",
      "2025-01-11 18:39:00.293160: I tensorflow/core/kernels/data/shuffle_dataset_op.cc:422] ShuffleDatasetV3:1: Filling up shuffle buffer (this may take a while): 17589 of 27066\n",
      "2025-01-11 18:39:10.321711: I tensorflow/core/kernels/data/shuffle_dataset_op.cc:422] ShuffleDatasetV3:1: Filling up shuffle buffer (this may take a while): 17882 of 27066\n",
      "2025-01-11 18:39:30.299781: I tensorflow/core/kernels/data/shuffle_dataset_op.cc:422] ShuffleDatasetV3:1: Filling up shuffle buffer (this may take a while): 18460 of 27066\n",
      "2025-01-11 18:39:40.309934: I tensorflow/core/kernels/data/shuffle_dataset_op.cc:422] ShuffleDatasetV3:1: Filling up shuffle buffer (this may take a while): 18742 of 27066\n",
      "2025-01-11 18:39:50.328687: I tensorflow/core/kernels/data/shuffle_dataset_op.cc:422] ShuffleDatasetV3:1: Filling up shuffle buffer (this may take a while): 19022 of 27066\n",
      "2025-01-11 18:40:10.305920: I tensorflow/core/kernels/data/shuffle_dataset_op.cc:422] ShuffleDatasetV3:1: Filling up shuffle buffer (this may take a while): 19511 of 27066\n",
      "2025-01-11 18:40:20.318810: I tensorflow/core/kernels/data/shuffle_dataset_op.cc:422] ShuffleDatasetV3:1: Filling up shuffle buffer (this may take a while): 19799 of 27066\n",
      "2025-01-11 18:40:40.282490: I tensorflow/core/kernels/data/shuffle_dataset_op.cc:422] ShuffleDatasetV3:1: Filling up shuffle buffer (this may take a while): 20372 of 27066\n",
      "2025-01-11 18:41:00.279460: I tensorflow/core/kernels/data/shuffle_dataset_op.cc:422] ShuffleDatasetV3:1: Filling up shuffle buffer (this may take a while): 20939 of 27066\n",
      "2025-01-11 18:41:10.289953: I tensorflow/core/kernels/data/shuffle_dataset_op.cc:422] ShuffleDatasetV3:1: Filling up shuffle buffer (this may take a while): 21220 of 27066\n",
      "2025-01-11 18:41:20.292467: I tensorflow/core/kernels/data/shuffle_dataset_op.cc:422] ShuffleDatasetV3:1: Filling up shuffle buffer (this may take a while): 21492 of 27066\n",
      "2025-01-11 18:41:30.321605: I tensorflow/core/kernels/data/shuffle_dataset_op.cc:422] ShuffleDatasetV3:1: Filling up shuffle buffer (this may take a while): 21830 of 27066\n",
      "2025-01-11 18:41:50.304009: I tensorflow/core/kernels/data/shuffle_dataset_op.cc:422] ShuffleDatasetV3:1: Filling up shuffle buffer (this may take a while): 22293 of 27066\n",
      "2025-01-11 18:42:00.304543: I tensorflow/core/kernels/data/shuffle_dataset_op.cc:422] ShuffleDatasetV3:1: Filling up shuffle buffer (this may take a while): 22587 of 27066\n",
      "2025-01-11 18:42:20.304415: I tensorflow/core/kernels/data/shuffle_dataset_op.cc:422] ShuffleDatasetV3:1: Filling up shuffle buffer (this may take a while): 23155 of 27066\n",
      "2025-01-11 18:42:40.284812: I tensorflow/core/kernels/data/shuffle_dataset_op.cc:422] ShuffleDatasetV3:1: Filling up shuffle buffer (this may take a while): 23758 of 27066\n",
      "2025-01-11 18:42:50.297552: I tensorflow/core/kernels/data/shuffle_dataset_op.cc:422] ShuffleDatasetV3:1: Filling up shuffle buffer (this may take a while): 24028 of 27066\n",
      "2025-01-11 18:43:00.333422: I tensorflow/core/kernels/data/shuffle_dataset_op.cc:422] ShuffleDatasetV3:1: Filling up shuffle buffer (this may take a while): 24194 of 27066\n",
      "2025-01-11 18:43:20.336004: I tensorflow/core/kernels/data/shuffle_dataset_op.cc:422] ShuffleDatasetV3:1: Filling up shuffle buffer (this may take a while): 24782 of 27066\n",
      "2025-01-11 18:43:40.322562: I tensorflow/core/kernels/data/shuffle_dataset_op.cc:422] ShuffleDatasetV3:1: Filling up shuffle buffer (this may take a while): 25367 of 27066\n",
      "2025-01-11 18:44:00.296724: I tensorflow/core/kernels/data/shuffle_dataset_op.cc:422] ShuffleDatasetV3:1: Filling up shuffle buffer (this may take a while): 25930 of 27066\n",
      "2025-01-11 18:44:20.277309: I tensorflow/core/kernels/data/shuffle_dataset_op.cc:422] ShuffleDatasetV3:1: Filling up shuffle buffer (this may take a while): 26475 of 27066\n",
      "2025-01-11 18:44:30.294465: I tensorflow/core/kernels/data/shuffle_dataset_op.cc:422] ShuffleDatasetV3:1: Filling up shuffle buffer (this may take a while): 26816 of 27066\n",
      "2025-01-11 18:44:40.333106: I tensorflow/core/kernels/data/shuffle_dataset_op.cc:422] ShuffleDatasetV3:1: Filling up shuffle buffer (this may take a while): 26992 of 27066\n"
     ]
    },
    {
     "name": "stdout",
     "output_type": "stream",
     "text": [
      "  1/846 [..............................] - ETA: 134:00:32 - loss: 0.0341 - accuracy: 1.0000 - auc: 1.0000 - specificity: 1.0000 - sensitivity: 1.0000 - f1_score: 1.0000"
     ]
    },
    {
     "name": "stderr",
     "output_type": "stream",
     "text": [
      "2025-01-11 18:44:41.030991: I tensorflow/core/kernels/data/shuffle_dataset_op.cc:452] Shuffle buffer filled.\n"
     ]
    },
    {
     "name": "stdout",
     "output_type": "stream",
     "text": [
      "846/846 [==============================] - 572s 1ms/step - loss: 0.0447 - accuracy: 0.9938 - auc: 0.9952 - specificity: 0.9998 - sensitivity: 0.9876 - f1_score: 0.9950 - val_loss: 0.0762 - val_accuracy: 0.9769 - val_auc: 0.9897 - val_specificity: 0.1311 - val_sensitivity: 0.9768 - val_f1_score: 0.9894 - lr: 0.0010\n",
      "Epoch 5/50\n"
     ]
    },
    {
     "name": "stderr",
     "output_type": "stream",
     "text": [
      "2025-01-11 18:44:52.433598: I tensorflow/core/kernels/data/shuffle_dataset_op.cc:422] ShuffleDatasetV3:1: Filling up shuffle buffer (this may take a while): 7559 of 27066\n",
      "2025-01-11 18:45:02.497352: I tensorflow/core/kernels/data/shuffle_dataset_op.cc:422] ShuffleDatasetV3:1: Filling up shuffle buffer (this may take a while): 8476 of 27066\n",
      "2025-01-11 18:45:22.438781: I tensorflow/core/kernels/data/shuffle_dataset_op.cc:422] ShuffleDatasetV3:1: Filling up shuffle buffer (this may take a while): 9375 of 27066\n",
      "2025-01-11 18:45:32.453634: I tensorflow/core/kernels/data/shuffle_dataset_op.cc:422] ShuffleDatasetV3:1: Filling up shuffle buffer (this may take a while): 9679 of 27066\n",
      "2025-01-11 18:45:42.474736: I tensorflow/core/kernels/data/shuffle_dataset_op.cc:422] ShuffleDatasetV3:1: Filling up shuffle buffer (this may take a while): 10036 of 27066\n",
      "2025-01-11 18:46:02.461418: I tensorflow/core/kernels/data/shuffle_dataset_op.cc:422] ShuffleDatasetV3:1: Filling up shuffle buffer (this may take a while): 10602 of 27066\n",
      "2025-01-11 18:46:12.477613: I tensorflow/core/kernels/data/shuffle_dataset_op.cc:422] ShuffleDatasetV3:1: Filling up shuffle buffer (this may take a while): 10918 of 27066\n",
      "2025-01-11 18:46:32.494379: I tensorflow/core/kernels/data/shuffle_dataset_op.cc:422] ShuffleDatasetV3:1: Filling up shuffle buffer (this may take a while): 11380 of 27066\n",
      "2025-01-11 18:46:52.443536: I tensorflow/core/kernels/data/shuffle_dataset_op.cc:422] ShuffleDatasetV3:1: Filling up shuffle buffer (this may take a while): 11966 of 27066\n",
      "2025-01-11 18:47:02.477395: I tensorflow/core/kernels/data/shuffle_dataset_op.cc:422] ShuffleDatasetV3:1: Filling up shuffle buffer (this may take a while): 12259 of 27066\n",
      "2025-01-11 18:47:22.441142: I tensorflow/core/kernels/data/shuffle_dataset_op.cc:422] ShuffleDatasetV3:1: Filling up shuffle buffer (this may take a while): 12835 of 27066\n",
      "2025-01-11 18:47:42.444803: I tensorflow/core/kernels/data/shuffle_dataset_op.cc:422] ShuffleDatasetV3:1: Filling up shuffle buffer (this may take a while): 13397 of 27066\n",
      "2025-01-11 18:47:52.446421: I tensorflow/core/kernels/data/shuffle_dataset_op.cc:422] ShuffleDatasetV3:1: Filling up shuffle buffer (this may take a while): 13666 of 27066\n",
      "2025-01-11 18:48:02.455809: I tensorflow/core/kernels/data/shuffle_dataset_op.cc:422] ShuffleDatasetV3:1: Filling up shuffle buffer (this may take a while): 13998 of 27066\n",
      "2025-01-11 18:48:22.467662: I tensorflow/core/kernels/data/shuffle_dataset_op.cc:422] ShuffleDatasetV3:1: Filling up shuffle buffer (this may take a while): 14471 of 27066\n",
      "2025-01-11 18:48:42.439051: I tensorflow/core/kernels/data/shuffle_dataset_op.cc:422] ShuffleDatasetV3:1: Filling up shuffle buffer (this may take a while): 15053 of 27066\n",
      "2025-01-11 18:48:52.454207: I tensorflow/core/kernels/data/shuffle_dataset_op.cc:422] ShuffleDatasetV3:1: Filling up shuffle buffer (this may take a while): 15342 of 27066\n",
      "2025-01-11 18:49:12.436726: I tensorflow/core/kernels/data/shuffle_dataset_op.cc:422] ShuffleDatasetV3:1: Filling up shuffle buffer (this may take a while): 15909 of 27066\n",
      "2025-01-11 18:49:22.467194: I tensorflow/core/kernels/data/shuffle_dataset_op.cc:422] ShuffleDatasetV3:1: Filling up shuffle buffer (this may take a while): 16222 of 27066\n",
      "2025-01-11 18:49:42.460695: I tensorflow/core/kernels/data/shuffle_dataset_op.cc:422] ShuffleDatasetV3:1: Filling up shuffle buffer (this may take a while): 16690 of 27066\n",
      "2025-01-11 18:50:02.436703: I tensorflow/core/kernels/data/shuffle_dataset_op.cc:422] ShuffleDatasetV3:1: Filling up shuffle buffer (this may take a while): 17277 of 27066\n",
      "2025-01-11 18:50:12.446313: I tensorflow/core/kernels/data/shuffle_dataset_op.cc:422] ShuffleDatasetV3:1: Filling up shuffle buffer (this may take a while): 17573 of 27066\n",
      "2025-01-11 18:50:22.460291: I tensorflow/core/kernels/data/shuffle_dataset_op.cc:422] ShuffleDatasetV3:1: Filling up shuffle buffer (this may take a while): 17861 of 27066\n",
      "2025-01-11 18:50:42.453878: I tensorflow/core/kernels/data/shuffle_dataset_op.cc:422] ShuffleDatasetV3:1: Filling up shuffle buffer (this may take a while): 18435 of 27066\n",
      "2025-01-11 18:50:52.455706: I tensorflow/core/kernels/data/shuffle_dataset_op.cc:422] ShuffleDatasetV3:1: Filling up shuffle buffer (this may take a while): 18746 of 27066\n",
      "2025-01-11 18:51:12.461923: I tensorflow/core/kernels/data/shuffle_dataset_op.cc:422] ShuffleDatasetV3:1: Filling up shuffle buffer (this may take a while): 19292 of 27066\n",
      "2025-01-11 18:51:22.493063: I tensorflow/core/kernels/data/shuffle_dataset_op.cc:422] ShuffleDatasetV3:1: Filling up shuffle buffer (this may take a while): 19478 of 27066\n",
      "2025-01-11 18:51:42.462329: I tensorflow/core/kernels/data/shuffle_dataset_op.cc:422] ShuffleDatasetV3:1: Filling up shuffle buffer (this may take a while): 20059 of 27066\n",
      "2025-01-11 18:52:02.470100: I tensorflow/core/kernels/data/shuffle_dataset_op.cc:422] ShuffleDatasetV3:1: Filling up shuffle buffer (this may take a while): 20628 of 27066\n",
      "2025-01-11 18:52:22.431073: I tensorflow/core/kernels/data/shuffle_dataset_op.cc:422] ShuffleDatasetV3:1: Filling up shuffle buffer (this may take a while): 21175 of 27066\n",
      "2025-01-11 18:52:32.490824: I tensorflow/core/kernels/data/shuffle_dataset_op.cc:422] ShuffleDatasetV3:1: Filling up shuffle buffer (this may take a while): 21426 of 27066\n",
      "2025-01-11 18:52:52.431784: I tensorflow/core/kernels/data/shuffle_dataset_op.cc:422] ShuffleDatasetV3:1: Filling up shuffle buffer (this may take a while): 21978 of 27066\n",
      "2025-01-11 18:53:02.445964: I tensorflow/core/kernels/data/shuffle_dataset_op.cc:422] ShuffleDatasetV3:1: Filling up shuffle buffer (this may take a while): 22269 of 27066\n",
      "2025-01-11 18:53:12.452519: I tensorflow/core/kernels/data/shuffle_dataset_op.cc:422] ShuffleDatasetV3:1: Filling up shuffle buffer (this may take a while): 22565 of 27066\n",
      "2025-01-11 18:53:22.479296: I tensorflow/core/kernels/data/shuffle_dataset_op.cc:422] ShuffleDatasetV3:1: Filling up shuffle buffer (this may take a while): 22848 of 27066\n",
      "2025-01-11 18:53:42.432405: I tensorflow/core/kernels/data/shuffle_dataset_op.cc:422] ShuffleDatasetV3:1: Filling up shuffle buffer (this may take a while): 23391 of 27066\n",
      "2025-01-11 18:53:52.447129: I tensorflow/core/kernels/data/shuffle_dataset_op.cc:422] ShuffleDatasetV3:1: Filling up shuffle buffer (this may take a while): 23654 of 27066\n",
      "2025-01-11 18:54:02.463473: I tensorflow/core/kernels/data/shuffle_dataset_op.cc:422] ShuffleDatasetV3:1: Filling up shuffle buffer (this may take a while): 23888 of 27066\n",
      "2025-01-11 18:54:12.491686: I tensorflow/core/kernels/data/shuffle_dataset_op.cc:422] ShuffleDatasetV3:1: Filling up shuffle buffer (this may take a while): 24259 of 27066\n",
      "2025-01-11 18:54:32.449230: I tensorflow/core/kernels/data/shuffle_dataset_op.cc:422] ShuffleDatasetV3:1: Filling up shuffle buffer (this may take a while): 24755 of 27066\n",
      "2025-01-11 18:54:42.475022: I tensorflow/core/kernels/data/shuffle_dataset_op.cc:422] ShuffleDatasetV3:1: Filling up shuffle buffer (this may take a while): 25044 of 27066\n",
      "2025-01-11 18:55:02.452131: I tensorflow/core/kernels/data/shuffle_dataset_op.cc:422] ShuffleDatasetV3:1: Filling up shuffle buffer (this may take a while): 25612 of 27066\n",
      "2025-01-11 18:55:22.426078: I tensorflow/core/kernels/data/shuffle_dataset_op.cc:422] ShuffleDatasetV3:1: Filling up shuffle buffer (this may take a while): 26143 of 27066\n",
      "2025-01-11 18:55:32.435477: I tensorflow/core/kernels/data/shuffle_dataset_op.cc:422] ShuffleDatasetV3:1: Filling up shuffle buffer (this may take a while): 26378 of 27066\n",
      "2025-01-11 18:55:42.488543: I tensorflow/core/kernels/data/shuffle_dataset_op.cc:422] ShuffleDatasetV3:1: Filling up shuffle buffer (this may take a while): 26671 of 27066\n"
     ]
    },
    {
     "name": "stdout",
     "output_type": "stream",
     "text": [
      "  4/846 [..............................] - ETA: 38s - loss: 0.0944 - accuracy: 0.9766 - auc: 0.9754 - specificity: 1.0000 - sensitivity: 0.9508 - f1_score: 0.9559      "
     ]
    },
    {
     "name": "stderr",
     "output_type": "stream",
     "text": [
      "2025-01-11 18:55:56.033101: I tensorflow/core/kernels/data/shuffle_dataset_op.cc:452] Shuffle buffer filled.\n"
     ]
    },
    {
     "name": "stdout",
     "output_type": "stream",
     "text": [
      "846/846 [==============================] - 675s 2ms/step - loss: 0.0382 - accuracy: 0.9949 - auc: 0.9959 - specificity: 0.9999 - sensitivity: 0.9899 - f1_score: 0.9954 - val_loss: 0.0551 - val_accuracy: 0.9841 - val_auc: 0.9935 - val_specificity: 0.1311 - val_sensitivity: 0.9840 - val_f1_score: 0.9934 - lr: 0.0010\n",
      "Epoch 6/50\n"
     ]
    },
    {
     "name": "stderr",
     "output_type": "stream",
     "text": [
      "2025-01-11 18:56:07.472224: I tensorflow/core/kernels/data/shuffle_dataset_op.cc:422] ShuffleDatasetV3:1: Filling up shuffle buffer (this may take a while): 7013 of 27066\n",
      "2025-01-11 18:56:27.414614: I tensorflow/core/kernels/data/shuffle_dataset_op.cc:422] ShuffleDatasetV3:1: Filling up shuffle buffer (this may take a while): 8487 of 27066\n",
      "2025-01-11 18:56:37.447884: I tensorflow/core/kernels/data/shuffle_dataset_op.cc:422] ShuffleDatasetV3:1: Filling up shuffle buffer (this may take a while): 8934 of 27066\n",
      "2025-01-11 18:56:57.417555: I tensorflow/core/kernels/data/shuffle_dataset_op.cc:422] ShuffleDatasetV3:1: Filling up shuffle buffer (this may take a while): 9599 of 27066\n",
      "2025-01-11 18:57:17.408868: I tensorflow/core/kernels/data/shuffle_dataset_op.cc:422] ShuffleDatasetV3:1: Filling up shuffle buffer (this may take a while): 10149 of 27066\n",
      "2025-01-11 18:57:27.441317: I tensorflow/core/kernels/data/shuffle_dataset_op.cc:422] ShuffleDatasetV3:1: Filling up shuffle buffer (this may take a while): 10683 of 27066\n",
      "2025-01-11 18:57:37.448399: I tensorflow/core/kernels/data/shuffle_dataset_op.cc:422] ShuffleDatasetV3:1: Filling up shuffle buffer (this may take a while): 10978 of 27066\n",
      "2025-01-11 18:57:47.450482: I tensorflow/core/kernels/data/shuffle_dataset_op.cc:422] ShuffleDatasetV3:1: Filling up shuffle buffer (this may take a while): 11270 of 27066\n",
      "2025-01-11 18:58:07.431964: I tensorflow/core/kernels/data/shuffle_dataset_op.cc:422] ShuffleDatasetV3:1: Filling up shuffle buffer (this may take a while): 11894 of 27066\n",
      "2025-01-11 18:58:27.509223: I tensorflow/core/kernels/data/shuffle_dataset_op.cc:422] ShuffleDatasetV3:1: Filling up shuffle buffer (this may take a while): 12615 of 27066\n",
      "2025-01-11 18:58:47.460107: I tensorflow/core/kernels/data/shuffle_dataset_op.cc:422] ShuffleDatasetV3:1: Filling up shuffle buffer (this may take a while): 13197 of 27066\n",
      "2025-01-11 18:59:07.419798: I tensorflow/core/kernels/data/shuffle_dataset_op.cc:422] ShuffleDatasetV3:1: Filling up shuffle buffer (this may take a while): 13772 of 27066\n",
      "2025-01-11 18:59:17.443198: I tensorflow/core/kernels/data/shuffle_dataset_op.cc:422] ShuffleDatasetV3:1: Filling up shuffle buffer (this may take a while): 14054 of 27066\n",
      "2025-01-11 18:59:37.404659: I tensorflow/core/kernels/data/shuffle_dataset_op.cc:422] ShuffleDatasetV3:1: Filling up shuffle buffer (this may take a while): 14854 of 27066\n",
      "2025-01-11 18:59:47.414264: I tensorflow/core/kernels/data/shuffle_dataset_op.cc:422] ShuffleDatasetV3:1: Filling up shuffle buffer (this may take a while): 15180 of 27066\n",
      "2025-01-11 18:59:57.420908: I tensorflow/core/kernels/data/shuffle_dataset_op.cc:422] ShuffleDatasetV3:1: Filling up shuffle buffer (this may take a while): 15416 of 27066\n",
      "2025-01-11 19:00:07.455915: I tensorflow/core/kernels/data/shuffle_dataset_op.cc:422] ShuffleDatasetV3:1: Filling up shuffle buffer (this may take a while): 15708 of 27066\n",
      "2025-01-11 19:00:27.450897: I tensorflow/core/kernels/data/shuffle_dataset_op.cc:422] ShuffleDatasetV3:1: Filling up shuffle buffer (this may take a while): 16605 of 27066\n",
      "2025-01-11 19:00:47.408094: I tensorflow/core/kernels/data/shuffle_dataset_op.cc:422] ShuffleDatasetV3:1: Filling up shuffle buffer (this may take a while): 17148 of 27066\n",
      "2025-01-11 19:01:07.456248: I tensorflow/core/kernels/data/shuffle_dataset_op.cc:422] ShuffleDatasetV3:1: Filling up shuffle buffer (this may take a while): 17634 of 27066\n",
      "2025-01-11 19:01:27.463806: I tensorflow/core/kernels/data/shuffle_dataset_op.cc:422] ShuffleDatasetV3:1: Filling up shuffle buffer (this may take a while): 18250 of 27066\n",
      "2025-01-11 19:01:47.415000: I tensorflow/core/kernels/data/shuffle_dataset_op.cc:422] ShuffleDatasetV3:1: Filling up shuffle buffer (this may take a while): 18794 of 27066\n",
      "2025-01-11 19:01:57.429664: I tensorflow/core/kernels/data/shuffle_dataset_op.cc:422] ShuffleDatasetV3:1: Filling up shuffle buffer (this may take a while): 19077 of 27066\n",
      "2025-01-11 19:02:17.409267: I tensorflow/core/kernels/data/shuffle_dataset_op.cc:422] ShuffleDatasetV3:1: Filling up shuffle buffer (this may take a while): 19626 of 27066\n",
      "2025-01-11 19:02:27.433904: I tensorflow/core/kernels/data/shuffle_dataset_op.cc:422] ShuffleDatasetV3:1: Filling up shuffle buffer (this may take a while): 20003 of 27066\n",
      "2025-01-11 19:02:37.449915: I tensorflow/core/kernels/data/shuffle_dataset_op.cc:422] ShuffleDatasetV3:1: Filling up shuffle buffer (this may take a while): 20182 of 27066\n",
      "2025-01-11 19:02:57.434843: I tensorflow/core/kernels/data/shuffle_dataset_op.cc:422] ShuffleDatasetV3:1: Filling up shuffle buffer (this may take a while): 20708 of 27066\n",
      "2025-01-11 19:03:07.437348: I tensorflow/core/kernels/data/shuffle_dataset_op.cc:422] ShuffleDatasetV3:1: Filling up shuffle buffer (this may take a while): 20999 of 27066\n",
      "2025-01-11 19:03:27.468759: I tensorflow/core/kernels/data/shuffle_dataset_op.cc:422] ShuffleDatasetV3:1: Filling up shuffle buffer (this may take a while): 21589 of 27066\n",
      "2025-01-11 19:03:47.410978: I tensorflow/core/kernels/data/shuffle_dataset_op.cc:422] ShuffleDatasetV3:1: Filling up shuffle buffer (this may take a while): 22124 of 27066\n",
      "2025-01-11 19:04:07.405803: I tensorflow/core/kernels/data/shuffle_dataset_op.cc:422] ShuffleDatasetV3:1: Filling up shuffle buffer (this may take a while): 22623 of 27066\n",
      "2025-01-11 19:04:17.427819: I tensorflow/core/kernels/data/shuffle_dataset_op.cc:422] ShuffleDatasetV3:1: Filling up shuffle buffer (this may take a while): 22917 of 27066\n",
      "2025-01-11 19:04:27.437336: I tensorflow/core/kernels/data/shuffle_dataset_op.cc:422] ShuffleDatasetV3:1: Filling up shuffle buffer (this may take a while): 23206 of 27066\n",
      "2025-01-11 19:04:37.449986: I tensorflow/core/kernels/data/shuffle_dataset_op.cc:422] ShuffleDatasetV3:1: Filling up shuffle buffer (this may take a while): 23495 of 27066\n",
      "2025-01-11 19:04:57.430211: I tensorflow/core/kernels/data/shuffle_dataset_op.cc:422] ShuffleDatasetV3:1: Filling up shuffle buffer (this may take a while): 24061 of 27066\n",
      "2025-01-11 19:05:07.437241: I tensorflow/core/kernels/data/shuffle_dataset_op.cc:422] ShuffleDatasetV3:1: Filling up shuffle buffer (this may take a while): 24341 of 27066\n",
      "2025-01-11 19:05:27.433027: I tensorflow/core/kernels/data/shuffle_dataset_op.cc:422] ShuffleDatasetV3:1: Filling up shuffle buffer (this may take a while): 24939 of 27066\n",
      "2025-01-11 19:05:47.429996: I tensorflow/core/kernels/data/shuffle_dataset_op.cc:422] ShuffleDatasetV3:1: Filling up shuffle buffer (this may take a while): 25410 of 27066\n",
      "2025-01-11 19:05:57.456962: I tensorflow/core/kernels/data/shuffle_dataset_op.cc:422] ShuffleDatasetV3:1: Filling up shuffle buffer (this may take a while): 25701 of 27066\n"
     ]
    },
    {
     "name": "stdout",
     "output_type": "stream",
     "text": [
      "  3/846 [..............................] - ETA: 1:00 - loss: 0.0223 - accuracy: 1.0000 - auc: 1.0000 - specificity: 1.0000 - sensitivity: 1.0000 - f1_score: 1.0000    "
     ]
    },
    {
     "name": "stderr",
     "output_type": "stream",
     "text": [
      "2025-01-11 19:06:11.505181: I tensorflow/core/kernels/data/shuffle_dataset_op.cc:452] Shuffle buffer filled.\n"
     ]
    },
    {
     "name": "stdout",
     "output_type": "stream",
     "text": [
      "846/846 [==============================] - 615s 2ms/step - loss: 0.0339 - accuracy: 0.9959 - auc: 0.9966 - specificity: 0.9999 - sensitivity: 0.9917 - f1_score: 0.9964 - val_loss: 0.0386 - val_accuracy: 0.9913 - val_auc: 0.9961 - val_specificity: 0.1311 - val_sensitivity: 0.9912 - val_f1_score: 0.9961 - lr: 0.0010\n",
      "Epoch 7/50\n"
     ]
    },
    {
     "name": "stderr",
     "output_type": "stream",
     "text": [
      "2025-01-11 19:06:22.926453: I tensorflow/core/kernels/data/shuffle_dataset_op.cc:422] ShuffleDatasetV3:1: Filling up shuffle buffer (this may take a while): 7261 of 27066\n",
      "2025-01-11 19:06:42.866948: I tensorflow/core/kernels/data/shuffle_dataset_op.cc:422] ShuffleDatasetV3:1: Filling up shuffle buffer (this may take a while): 9107 of 27066\n",
      "2025-01-11 19:06:52.876087: I tensorflow/core/kernels/data/shuffle_dataset_op.cc:422] ShuffleDatasetV3:1: Filling up shuffle buffer (this may take a while): 9476 of 27066\n",
      "2025-01-11 19:07:02.908989: I tensorflow/core/kernels/data/shuffle_dataset_op.cc:422] ShuffleDatasetV3:1: Filling up shuffle buffer (this may take a while): 9829 of 27066\n",
      "2025-01-11 19:07:22.862292: I tensorflow/core/kernels/data/shuffle_dataset_op.cc:422] ShuffleDatasetV3:1: Filling up shuffle buffer (this may take a while): 10530 of 27066\n",
      "2025-01-11 19:07:32.919345: I tensorflow/core/kernels/data/shuffle_dataset_op.cc:422] ShuffleDatasetV3:1: Filling up shuffle buffer (this may take a while): 10763 of 27066\n",
      "2025-01-11 19:07:52.886599: I tensorflow/core/kernels/data/shuffle_dataset_op.cc:422] ShuffleDatasetV3:1: Filling up shuffle buffer (this may take a while): 11348 of 27066\n",
      "2025-01-11 19:08:12.898915: I tensorflow/core/kernels/data/shuffle_dataset_op.cc:422] ShuffleDatasetV3:1: Filling up shuffle buffer (this may take a while): 11930 of 27066\n",
      "2025-01-11 19:08:32.867716: I tensorflow/core/kernels/data/shuffle_dataset_op.cc:422] ShuffleDatasetV3:1: Filling up shuffle buffer (this may take a while): 12485 of 27066\n",
      "2025-01-11 19:08:52.871408: I tensorflow/core/kernels/data/shuffle_dataset_op.cc:422] ShuffleDatasetV3:1: Filling up shuffle buffer (this may take a while): 13000 of 27066\n",
      "2025-01-11 19:09:02.874454: I tensorflow/core/kernels/data/shuffle_dataset_op.cc:422] ShuffleDatasetV3:1: Filling up shuffle buffer (this may take a while): 13259 of 27066\n",
      "2025-01-11 19:09:12.893853: I tensorflow/core/kernels/data/shuffle_dataset_op.cc:422] ShuffleDatasetV3:1: Filling up shuffle buffer (this may take a while): 13565 of 27066\n",
      "2025-01-11 19:09:22.913215: I tensorflow/core/kernels/data/shuffle_dataset_op.cc:422] ShuffleDatasetV3:1: Filling up shuffle buffer (this may take a while): 14172 of 27066\n",
      "2025-01-11 19:09:42.863587: I tensorflow/core/kernels/data/shuffle_dataset_op.cc:422] ShuffleDatasetV3:1: Filling up shuffle buffer (this may take a while): 14752 of 27066\n",
      "2025-01-11 19:09:52.899220: I tensorflow/core/kernels/data/shuffle_dataset_op.cc:422] ShuffleDatasetV3:1: Filling up shuffle buffer (this may take a while): 15039 of 27066\n",
      "2025-01-11 19:10:12.879122: I tensorflow/core/kernels/data/shuffle_dataset_op.cc:422] ShuffleDatasetV3:1: Filling up shuffle buffer (this may take a while): 15602 of 27066\n",
      "2025-01-11 19:10:32.860713: I tensorflow/core/kernels/data/shuffle_dataset_op.cc:422] ShuffleDatasetV3:1: Filling up shuffle buffer (this may take a while): 16100 of 27066\n",
      "2025-01-11 19:10:42.874197: I tensorflow/core/kernels/data/shuffle_dataset_op.cc:422] ShuffleDatasetV3:1: Filling up shuffle buffer (this may take a while): 16469 of 27066\n",
      "2025-01-11 19:10:52.921822: I tensorflow/core/kernels/data/shuffle_dataset_op.cc:422] ShuffleDatasetV3:1: Filling up shuffle buffer (this may take a while): 16668 of 27066\n",
      "2025-01-11 19:11:12.888814: I tensorflow/core/kernels/data/shuffle_dataset_op.cc:422] ShuffleDatasetV3:1: Filling up shuffle buffer (this may take a while): 17243 of 27066\n",
      "2025-01-11 19:11:22.891136: I tensorflow/core/kernels/data/shuffle_dataset_op.cc:422] ShuffleDatasetV3:1: Filling up shuffle buffer (this may take a while): 17532 of 27066\n",
      "2025-01-11 19:11:42.871589: I tensorflow/core/kernels/data/shuffle_dataset_op.cc:422] ShuffleDatasetV3:1: Filling up shuffle buffer (this may take a while): 18096 of 27066\n",
      "2025-01-11 19:12:02.860819: I tensorflow/core/kernels/data/shuffle_dataset_op.cc:422] ShuffleDatasetV3:1: Filling up shuffle buffer (this may take a while): 18573 of 27066\n",
      "2025-01-11 19:12:12.893395: I tensorflow/core/kernels/data/shuffle_dataset_op.cc:422] ShuffleDatasetV3:1: Filling up shuffle buffer (this may take a while): 18867 of 27066\n",
      "2025-01-11 19:12:22.921348: I tensorflow/core/kernels/data/shuffle_dataset_op.cc:422] ShuffleDatasetV3:1: Filling up shuffle buffer (this may take a while): 19159 of 27066\n",
      "2025-01-11 19:12:42.876781: I tensorflow/core/kernels/data/shuffle_dataset_op.cc:422] ShuffleDatasetV3:1: Filling up shuffle buffer (this may take a while): 19747 of 27066\n",
      "2025-01-11 19:13:02.884905: I tensorflow/core/kernels/data/shuffle_dataset_op.cc:422] ShuffleDatasetV3:1: Filling up shuffle buffer (this may take a while): 20312 of 27066\n",
      "2025-01-11 19:13:12.891555: I tensorflow/core/kernels/data/shuffle_dataset_op.cc:422] ShuffleDatasetV3:1: Filling up shuffle buffer (this may take a while): 20587 of 27066\n",
      "2025-01-11 19:13:32.870319: I tensorflow/core/kernels/data/shuffle_dataset_op.cc:422] ShuffleDatasetV3:1: Filling up shuffle buffer (this may take a while): 21067 of 27066\n",
      "2025-01-11 19:13:52.906096: I tensorflow/core/kernels/data/shuffle_dataset_op.cc:422] ShuffleDatasetV3:1: Filling up shuffle buffer (this may take a while): 21652 of 27066\n",
      "2025-01-11 19:14:12.910253: I tensorflow/core/kernels/data/shuffle_dataset_op.cc:422] ShuffleDatasetV3:1: Filling up shuffle buffer (this may take a while): 22224 of 27066\n",
      "2025-01-11 19:14:32.883187: I tensorflow/core/kernels/data/shuffle_dataset_op.cc:422] ShuffleDatasetV3:1: Filling up shuffle buffer (this may take a while): 22789 of 27066\n",
      "2025-01-11 19:14:42.919892: I tensorflow/core/kernels/data/shuffle_dataset_op.cc:422] ShuffleDatasetV3:1: Filling up shuffle buffer (this may take a while): 23098 of 27066\n",
      "2025-01-11 19:15:02.932817: I tensorflow/core/kernels/data/shuffle_dataset_op.cc:422] ShuffleDatasetV3:1: Filling up shuffle buffer (this may take a while): 23564 of 27066\n",
      "2025-01-11 19:15:22.878800: I tensorflow/core/kernels/data/shuffle_dataset_op.cc:422] ShuffleDatasetV3:1: Filling up shuffle buffer (this may take a while): 24144 of 27066\n",
      "2025-01-11 19:15:32.886484: I tensorflow/core/kernels/data/shuffle_dataset_op.cc:422] ShuffleDatasetV3:1: Filling up shuffle buffer (this may take a while): 24435 of 27066\n",
      "2025-01-11 19:15:42.889693: I tensorflow/core/kernels/data/shuffle_dataset_op.cc:422] ShuffleDatasetV3:1: Filling up shuffle buffer (this may take a while): 24732 of 27066\n",
      "2025-01-11 19:16:02.867441: I tensorflow/core/kernels/data/shuffle_dataset_op.cc:422] ShuffleDatasetV3:1: Filling up shuffle buffer (this may take a while): 25286 of 27066\n",
      "2025-01-11 19:16:12.876937: I tensorflow/core/kernels/data/shuffle_dataset_op.cc:422] ShuffleDatasetV3:1: Filling up shuffle buffer (this may take a while): 25560 of 27066\n",
      "2025-01-11 19:16:32.861844: I tensorflow/core/kernels/data/shuffle_dataset_op.cc:422] ShuffleDatasetV3:1: Filling up shuffle buffer (this may take a while): 26060 of 27066\n",
      "2025-01-11 19:16:42.918072: I tensorflow/core/kernels/data/shuffle_dataset_op.cc:422] ShuffleDatasetV3:1: Filling up shuffle buffer (this may take a while): 26446 of 27066\n",
      "2025-01-11 19:17:02.908965: I tensorflow/core/kernels/data/shuffle_dataset_op.cc:422] ShuffleDatasetV3:1: Filling up shuffle buffer (this may take a while): 26938 of 27066\n"
     ]
    },
    {
     "name": "stdout",
     "output_type": "stream",
     "text": [
      "  2/846 [..............................] - ETA: 45s - loss: 0.0202 - accuracy: 1.0000 - auc: 1.0000 - specificity: 1.0000 - sensitivity: 1.0000 - f1_score: 1.0000      "
     ]
    },
    {
     "name": "stderr",
     "output_type": "stream",
     "text": [
      "2025-01-11 19:17:07.887091: I tensorflow/core/kernels/data/shuffle_dataset_op.cc:452] Shuffle buffer filled.\n"
     ]
    },
    {
     "name": "stdout",
     "output_type": "stream",
     "text": [
      "846/846 [==============================] - 656s 2ms/step - loss: 0.0330 - accuracy: 0.9953 - auc: 0.9961 - specificity: 0.9998 - sensitivity: 0.9907 - f1_score: 0.9957 - val_loss: 0.0236 - val_accuracy: 0.9964 - val_auc: 0.9985 - val_specificity: 0.1148 - val_sensitivity: 0.9964 - val_f1_score: 0.9984 - lr: 0.0010\n",
      "Epoch 8/50\n"
     ]
    },
    {
     "name": "stderr",
     "output_type": "stream",
     "text": [
      "2025-01-11 19:17:19.337924: I tensorflow/core/kernels/data/shuffle_dataset_op.cc:422] ShuffleDatasetV3:1: Filling up shuffle buffer (this may take a while): 7711 of 27066\n",
      "2025-01-11 19:17:29.362298: I tensorflow/core/kernels/data/shuffle_dataset_op.cc:422] ShuffleDatasetV3:1: Filling up shuffle buffer (this may take a while): 7970 of 27066\n",
      "2025-01-11 19:17:49.365910: I tensorflow/core/kernels/data/shuffle_dataset_op.cc:422] ShuffleDatasetV3:1: Filling up shuffle buffer (this may take a while): 9058 of 27066\n",
      "2025-01-11 19:18:09.338701: I tensorflow/core/kernels/data/shuffle_dataset_op.cc:422] ShuffleDatasetV3:1: Filling up shuffle buffer (this may take a while): 9620 of 27066\n",
      "2025-01-11 19:18:19.378315: I tensorflow/core/kernels/data/shuffle_dataset_op.cc:422] ShuffleDatasetV3:1: Filling up shuffle buffer (this may take a while): 9869 of 27066\n",
      "2025-01-11 19:18:39.356193: I tensorflow/core/kernels/data/shuffle_dataset_op.cc:422] ShuffleDatasetV3:1: Filling up shuffle buffer (this may take a while): 10490 of 27066\n",
      "2025-01-11 19:18:59.352331: I tensorflow/core/kernels/data/shuffle_dataset_op.cc:422] ShuffleDatasetV3:1: Filling up shuffle buffer (this may take a while): 10996 of 27066\n",
      "2025-01-11 19:19:19.350908: I tensorflow/core/kernels/data/shuffle_dataset_op.cc:422] ShuffleDatasetV3:1: Filling up shuffle buffer (this may take a while): 11567 of 27066\n",
      "2025-01-11 19:19:29.359938: I tensorflow/core/kernels/data/shuffle_dataset_op.cc:422] ShuffleDatasetV3:1: Filling up shuffle buffer (this may take a while): 11845 of 27066\n",
      "2025-01-11 19:19:39.389034: I tensorflow/core/kernels/data/shuffle_dataset_op.cc:422] ShuffleDatasetV3:1: Filling up shuffle buffer (this may take a while): 12164 of 27066\n",
      "2025-01-11 19:19:59.344937: I tensorflow/core/kernels/data/shuffle_dataset_op.cc:422] ShuffleDatasetV3:1: Filling up shuffle buffer (this may take a while): 12863 of 27066\n",
      "2025-01-11 19:20:09.399429: I tensorflow/core/kernels/data/shuffle_dataset_op.cc:422] ShuffleDatasetV3:1: Filling up shuffle buffer (this may take a while): 13253 of 27066\n",
      "2025-01-11 19:20:29.327023: I tensorflow/core/kernels/data/shuffle_dataset_op.cc:422] ShuffleDatasetV3:1: Filling up shuffle buffer (this may take a while): 14134 of 27066\n",
      "2025-01-11 19:20:39.371666: I tensorflow/core/kernels/data/shuffle_dataset_op.cc:422] ShuffleDatasetV3:1: Filling up shuffle buffer (this may take a while): 14432 of 27066\n",
      "2025-01-11 19:20:59.344693: I tensorflow/core/kernels/data/shuffle_dataset_op.cc:422] ShuffleDatasetV3:1: Filling up shuffle buffer (this may take a while): 14996 of 27066\n",
      "2025-01-11 19:21:09.353724: I tensorflow/core/kernels/data/shuffle_dataset_op.cc:422] ShuffleDatasetV3:1: Filling up shuffle buffer (this may take a while): 15274 of 27066\n",
      "2025-01-11 19:21:29.356471: I tensorflow/core/kernels/data/shuffle_dataset_op.cc:422] ShuffleDatasetV3:1: Filling up shuffle buffer (this may take a while): 15762 of 27066\n",
      "2025-01-11 19:21:49.333360: I tensorflow/core/kernels/data/shuffle_dataset_op.cc:422] ShuffleDatasetV3:1: Filling up shuffle buffer (this may take a while): 16344 of 27066\n",
      "2025-01-11 19:21:59.382248: I tensorflow/core/kernels/data/shuffle_dataset_op.cc:422] ShuffleDatasetV3:1: Filling up shuffle buffer (this may take a while): 16637 of 27066\n",
      "2025-01-11 19:22:19.366367: I tensorflow/core/kernels/data/shuffle_dataset_op.cc:422] ShuffleDatasetV3:1: Filling up shuffle buffer (this may take a while): 17216 of 27066\n",
      "2025-01-11 19:22:39.340261: I tensorflow/core/kernels/data/shuffle_dataset_op.cc:422] ShuffleDatasetV3:1: Filling up shuffle buffer (this may take a while): 17805 of 27066\n",
      "2025-01-11 19:22:49.341826: I tensorflow/core/kernels/data/shuffle_dataset_op.cc:422] ShuffleDatasetV3:1: Filling up shuffle buffer (this may take a while): 18100 of 27066\n",
      "2025-01-11 19:23:09.367481: I tensorflow/core/kernels/data/shuffle_dataset_op.cc:422] ShuffleDatasetV3:1: Filling up shuffle buffer (this may take a while): 18563 of 27066\n",
      "2025-01-11 19:23:29.360936: I tensorflow/core/kernels/data/shuffle_dataset_op.cc:422] ShuffleDatasetV3:1: Filling up shuffle buffer (this may take a while): 19150 of 27066\n",
      "2025-01-11 19:23:49.345546: I tensorflow/core/kernels/data/shuffle_dataset_op.cc:422] ShuffleDatasetV3:1: Filling up shuffle buffer (this may take a while): 19732 of 27066\n",
      "2025-01-11 19:23:59.354655: I tensorflow/core/kernels/data/shuffle_dataset_op.cc:422] ShuffleDatasetV3:1: Filling up shuffle buffer (this may take a while): 20012 of 27066\n",
      "2025-01-11 19:24:19.335086: I tensorflow/core/kernels/data/shuffle_dataset_op.cc:422] ShuffleDatasetV3:1: Filling up shuffle buffer (this may take a while): 20565 of 27066\n",
      "2025-01-11 19:24:29.339583: I tensorflow/core/kernels/data/shuffle_dataset_op.cc:422] ShuffleDatasetV3:1: Filling up shuffle buffer (this may take a while): 20815 of 27066\n",
      "2025-01-11 19:24:49.347429: I tensorflow/core/kernels/data/shuffle_dataset_op.cc:422] ShuffleDatasetV3:1: Filling up shuffle buffer (this may take a while): 21358 of 27066\n",
      "2025-01-11 19:24:59.366636: I tensorflow/core/kernels/data/shuffle_dataset_op.cc:422] ShuffleDatasetV3:1: Filling up shuffle buffer (this may take a while): 21651 of 27066\n",
      "2025-01-11 19:25:09.382975: I tensorflow/core/kernels/data/shuffle_dataset_op.cc:422] ShuffleDatasetV3:1: Filling up shuffle buffer (this may take a while): 21943 of 27066\n",
      "2025-01-11 19:25:29.352274: I tensorflow/core/kernels/data/shuffle_dataset_op.cc:422] ShuffleDatasetV3:1: Filling up shuffle buffer (this may take a while): 22519 of 27066\n",
      "2025-01-11 19:25:39.390981: I tensorflow/core/kernels/data/shuffle_dataset_op.cc:422] ShuffleDatasetV3:1: Filling up shuffle buffer (this may take a while): 22827 of 27066\n",
      "2025-01-11 19:25:59.343466: I tensorflow/core/kernels/data/shuffle_dataset_op.cc:422] ShuffleDatasetV3:1: Filling up shuffle buffer (this may take a while): 23355 of 27066\n",
      "2025-01-11 19:26:09.383777: I tensorflow/core/kernels/data/shuffle_dataset_op.cc:422] ShuffleDatasetV3:1: Filling up shuffle buffer (this may take a while): 23575 of 27066\n",
      "2025-01-11 19:26:19.399448: I tensorflow/core/kernels/data/shuffle_dataset_op.cc:422] ShuffleDatasetV3:1: Filling up shuffle buffer (this may take a while): 23871 of 27066\n",
      "2025-01-11 19:26:39.336952: I tensorflow/core/kernels/data/shuffle_dataset_op.cc:422] ShuffleDatasetV3:1: Filling up shuffle buffer (this may take a while): 24524 of 27066\n",
      "2025-01-11 19:26:49.386039: I tensorflow/core/kernels/data/shuffle_dataset_op.cc:422] ShuffleDatasetV3:1: Filling up shuffle buffer (this may take a while): 24752 of 27066\n",
      "2025-01-11 19:27:09.358852: I tensorflow/core/kernels/data/shuffle_dataset_op.cc:422] ShuffleDatasetV3:1: Filling up shuffle buffer (this may take a while): 25325 of 27066\n",
      "2025-01-11 19:27:19.360475: I tensorflow/core/kernels/data/shuffle_dataset_op.cc:422] ShuffleDatasetV3:1: Filling up shuffle buffer (this may take a while): 25607 of 27066\n",
      "2025-01-11 19:27:39.339089: I tensorflow/core/kernels/data/shuffle_dataset_op.cc:422] ShuffleDatasetV3:1: Filling up shuffle buffer (this may take a while): 26206 of 27066\n",
      "2025-01-11 19:27:59.346084: I tensorflow/core/kernels/data/shuffle_dataset_op.cc:422] ShuffleDatasetV3:1: Filling up shuffle buffer (this may take a while): 26670 of 27066\n",
      "2025-01-11 19:28:09.364535: I tensorflow/core/kernels/data/shuffle_dataset_op.cc:422] ShuffleDatasetV3:1: Filling up shuffle buffer (this may take a while): 26964 of 27066\n"
     ]
    },
    {
     "name": "stdout",
     "output_type": "stream",
     "text": [
      "111/846 [==>...........................] - ETA: 1s - loss: 0.0337 - accuracy: 0.9944 - auc: 0.9957 - specificity: 1.0000 - sensitivity: 0.9886 - f1_score: 0.9959     "
     ]
    },
    {
     "name": "stderr",
     "output_type": "stream",
     "text": [
      "2025-01-11 19:28:12.858829: I tensorflow/core/kernels/data/shuffle_dataset_op.cc:452] Shuffle buffer filled.\n"
     ]
    },
    {
     "name": "stdout",
     "output_type": "stream",
     "text": [
      "846/846 [==============================] - 665s 1ms/step - loss: 0.0303 - accuracy: 0.9958 - auc: 0.9966 - specificity: 0.9999 - sensitivity: 0.9917 - f1_score: 0.9964 - val_loss: 0.0361 - val_accuracy: 0.9913 - val_auc: 0.9964 - val_specificity: 0.1311 - val_sensitivity: 0.9912 - val_f1_score: 0.9963 - lr: 0.0010\n",
      "Epoch 9/50\n"
     ]
    },
    {
     "name": "stderr",
     "output_type": "stream",
     "text": [
      "2025-01-11 19:28:23.955035: I tensorflow/core/kernels/data/shuffle_dataset_op.cc:422] ShuffleDatasetV3:1: Filling up shuffle buffer (this may take a while): 9015 of 27066\n",
      "2025-01-11 19:28:43.957349: I tensorflow/core/kernels/data/shuffle_dataset_op.cc:422] ShuffleDatasetV3:1: Filling up shuffle buffer (this may take a while): 9959 of 27066\n",
      "2025-01-11 19:29:03.951168: I tensorflow/core/kernels/data/shuffle_dataset_op.cc:422] ShuffleDatasetV3:1: Filling up shuffle buffer (this may take a while): 10648 of 27066\n",
      "2025-01-11 19:29:13.974248: I tensorflow/core/kernels/data/shuffle_dataset_op.cc:422] ShuffleDatasetV3:1: Filling up shuffle buffer (this may take a while): 11026 of 27066\n",
      "2025-01-11 19:29:23.999399: I tensorflow/core/kernels/data/shuffle_dataset_op.cc:422] ShuffleDatasetV3:1: Filling up shuffle buffer (this may take a while): 11376 of 27066\n",
      "2025-01-11 19:29:43.970773: I tensorflow/core/kernels/data/shuffle_dataset_op.cc:422] ShuffleDatasetV3:1: Filling up shuffle buffer (this may take a while): 12274 of 27066\n",
      "2025-01-11 19:29:53.977874: I tensorflow/core/kernels/data/shuffle_dataset_op.cc:422] ShuffleDatasetV3:1: Filling up shuffle buffer (this may take a while): 12623 of 27066\n",
      "2025-01-11 19:30:13.947775: I tensorflow/core/kernels/data/shuffle_dataset_op.cc:422] ShuffleDatasetV3:1: Filling up shuffle buffer (this may take a while): 13520 of 27066\n",
      "2025-01-11 19:30:33.956886: I tensorflow/core/kernels/data/shuffle_dataset_op.cc:422] ShuffleDatasetV3:1: Filling up shuffle buffer (this may take a while): 14170 of 27066\n",
      "2025-01-11 19:30:43.974041: I tensorflow/core/kernels/data/shuffle_dataset_op.cc:422] ShuffleDatasetV3:1: Filling up shuffle buffer (this may take a while): 14501 of 27066\n",
      "2025-01-11 19:31:03.975124: I tensorflow/core/kernels/data/shuffle_dataset_op.cc:422] ShuffleDatasetV3:1: Filling up shuffle buffer (this may take a while): 15397 of 27066\n",
      "2025-01-11 19:31:13.978187: I tensorflow/core/kernels/data/shuffle_dataset_op.cc:422] ShuffleDatasetV3:1: Filling up shuffle buffer (this may take a while): 15751 of 27066\n",
      "2025-01-11 19:31:33.983872: I tensorflow/core/kernels/data/shuffle_dataset_op.cc:422] ShuffleDatasetV3:1: Filling up shuffle buffer (this may take a while): 16648 of 27066\n",
      "2025-01-11 19:31:53.936979: I tensorflow/core/kernels/data/shuffle_dataset_op.cc:422] ShuffleDatasetV3:1: Filling up shuffle buffer (this may take a while): 17221 of 27066\n",
      "2025-01-11 19:32:03.946308: I tensorflow/core/kernels/data/shuffle_dataset_op.cc:422] ShuffleDatasetV3:1: Filling up shuffle buffer (this may take a while): 17507 of 27066\n",
      "2025-01-11 19:32:23.931146: I tensorflow/core/kernels/data/shuffle_dataset_op.cc:422] ShuffleDatasetV3:1: Filling up shuffle buffer (this may take a while): 18053 of 27066\n",
      "2025-01-11 19:32:33.948209: I tensorflow/core/kernels/data/shuffle_dataset_op.cc:422] ShuffleDatasetV3:1: Filling up shuffle buffer (this may take a while): 18293 of 27066\n",
      "2025-01-11 19:32:53.947268: I tensorflow/core/kernels/data/shuffle_dataset_op.cc:422] ShuffleDatasetV3:1: Filling up shuffle buffer (this may take a while): 18850 of 27066\n",
      "2025-01-11 19:33:03.957391: I tensorflow/core/kernels/data/shuffle_dataset_op.cc:422] ShuffleDatasetV3:1: Filling up shuffle buffer (this may take a while): 19142 of 27066\n",
      "2025-01-11 19:33:13.967338: I tensorflow/core/kernels/data/shuffle_dataset_op.cc:422] ShuffleDatasetV3:1: Filling up shuffle buffer (this may take a while): 19431 of 27066\n",
      "2025-01-11 19:33:33.937433: I tensorflow/core/kernels/data/shuffle_dataset_op.cc:422] ShuffleDatasetV3:1: Filling up shuffle buffer (this may take a while): 20002 of 27066\n",
      "2025-01-11 19:33:43.947468: I tensorflow/core/kernels/data/shuffle_dataset_op.cc:422] ShuffleDatasetV3:1: Filling up shuffle buffer (this may take a while): 20309 of 27066\n",
      "2025-01-11 19:34:04.003103: I tensorflow/core/kernels/data/shuffle_dataset_op.cc:422] ShuffleDatasetV3:1: Filling up shuffle buffer (this may take a while): 20762 of 27066\n",
      "2025-01-11 19:34:23.978816: I tensorflow/core/kernels/data/shuffle_dataset_op.cc:422] ShuffleDatasetV3:1: Filling up shuffle buffer (this may take a while): 21350 of 27066\n",
      "2025-01-11 19:34:43.989119: I tensorflow/core/kernels/data/shuffle_dataset_op.cc:422] ShuffleDatasetV3:1: Filling up shuffle buffer (this may take a while): 21938 of 27066\n",
      "2025-01-11 19:35:03.969031: I tensorflow/core/kernels/data/shuffle_dataset_op.cc:422] ShuffleDatasetV3:1: Filling up shuffle buffer (this may take a while): 22504 of 27066\n",
      "2025-01-11 19:35:23.938456: I tensorflow/core/kernels/data/shuffle_dataset_op.cc:422] ShuffleDatasetV3:1: Filling up shuffle buffer (this may take a while): 23052 of 27066\n",
      "2025-01-11 19:35:43.975591: I tensorflow/core/kernels/data/shuffle_dataset_op.cc:422] ShuffleDatasetV3:1: Filling up shuffle buffer (this may take a while): 23691 of 27066\n",
      "2025-01-11 19:36:03.965812: I tensorflow/core/kernels/data/shuffle_dataset_op.cc:422] ShuffleDatasetV3:1: Filling up shuffle buffer (this may take a while): 24136 of 27066\n",
      "2025-01-11 19:36:13.970754: I tensorflow/core/kernels/data/shuffle_dataset_op.cc:422] ShuffleDatasetV3:1: Filling up shuffle buffer (this may take a while): 25050 of 27066\n",
      "2025-01-11 19:36:33.947297: I tensorflow/core/kernels/data/shuffle_dataset_op.cc:422] ShuffleDatasetV3:1: Filling up shuffle buffer (this may take a while): 26077 of 27066\n",
      "2025-01-11 19:36:53.974689: I tensorflow/core/kernels/data/shuffle_dataset_op.cc:422] ShuffleDatasetV3:1: Filling up shuffle buffer (this may take a while): 26925 of 27066\n"
     ]
    },
    {
     "name": "stdout",
     "output_type": "stream",
     "text": [
      "  1/846 [..............................] - ETA: 123:24:44 - loss: 0.0174 - accuracy: 1.0000 - auc: 1.0000 - specificity: 1.0000 - sensitivity: 1.0000 - f1_score: 1.0000"
     ]
    },
    {
     "name": "stderr",
     "output_type": "stream",
     "text": [
      "2025-01-11 19:36:59.588388: I tensorflow/core/kernels/data/shuffle_dataset_op.cc:452] Shuffle buffer filled.\n"
     ]
    },
    {
     "name": "stdout",
     "output_type": "stream",
     "text": [
      "846/846 [==============================] - 527s 1ms/step - loss: 0.0284 - accuracy: 0.9959 - auc: 0.9966 - specificity: 1.0000 - sensitivity: 0.9918 - f1_score: 0.9963 - val_loss: 0.0379 - val_accuracy: 0.9907 - val_auc: 0.9961 - val_specificity: 0.1311 - val_sensitivity: 0.9907 - val_f1_score: 0.9961 - lr: 0.0010\n",
      "Epoch 10/50\n"
     ]
    },
    {
     "name": "stderr",
     "output_type": "stream",
     "text": [
      "2025-01-11 19:37:10.996665: I tensorflow/core/kernels/data/shuffle_dataset_op.cc:422] ShuffleDatasetV3:1: Filling up shuffle buffer (this may take a while): 8165 of 27066\n",
      "2025-01-11 19:37:30.960681: I tensorflow/core/kernels/data/shuffle_dataset_op.cc:422] ShuffleDatasetV3:1: Filling up shuffle buffer (this may take a while): 9260 of 27066\n",
      "2025-01-11 19:37:50.996645: I tensorflow/core/kernels/data/shuffle_dataset_op.cc:422] ShuffleDatasetV3:1: Filling up shuffle buffer (this may take a while): 10112 of 27066\n",
      "2025-01-11 19:38:10.962408: I tensorflow/core/kernels/data/shuffle_dataset_op.cc:422] ShuffleDatasetV3:1: Filling up shuffle buffer (this may take a while): 10699 of 27066\n",
      "2025-01-11 19:38:20.996961: I tensorflow/core/kernels/data/shuffle_dataset_op.cc:422] ShuffleDatasetV3:1: Filling up shuffle buffer (this may take a while): 10995 of 27066\n",
      "2025-01-11 19:38:41.005103: I tensorflow/core/kernels/data/shuffle_dataset_op.cc:422] ShuffleDatasetV3:1: Filling up shuffle buffer (this may take a while): 11576 of 27066\n",
      "2025-01-11 19:39:00.953073: I tensorflow/core/kernels/data/shuffle_dataset_op.cc:422] ShuffleDatasetV3:1: Filling up shuffle buffer (this may take a while): 12107 of 27066\n",
      "2025-01-11 19:39:10.966040: I tensorflow/core/kernels/data/shuffle_dataset_op.cc:422] ShuffleDatasetV3:1: Filling up shuffle buffer (this may take a while): 12406 of 27066\n",
      "2025-01-11 19:39:20.981411: I tensorflow/core/kernels/data/shuffle_dataset_op.cc:422] ShuffleDatasetV3:1: Filling up shuffle buffer (this may take a while): 12620 of 27066\n",
      "2025-01-11 19:39:40.964008: I tensorflow/core/kernels/data/shuffle_dataset_op.cc:422] ShuffleDatasetV3:1: Filling up shuffle buffer (this may take a while): 13230 of 27066\n",
      "2025-01-11 19:39:51.002028: I tensorflow/core/kernels/data/shuffle_dataset_op.cc:422] ShuffleDatasetV3:1: Filling up shuffle buffer (this may take a while): 13565 of 27066\n",
      "2025-01-11 19:40:11.005003: I tensorflow/core/kernels/data/shuffle_dataset_op.cc:422] ShuffleDatasetV3:1: Filling up shuffle buffer (this may take a while): 14463 of 27066\n",
      "2025-01-11 19:40:30.965079: I tensorflow/core/kernels/data/shuffle_dataset_op.cc:422] ShuffleDatasetV3:1: Filling up shuffle buffer (this may take a while): 15064 of 27066\n",
      "2025-01-11 19:40:40.981143: I tensorflow/core/kernels/data/shuffle_dataset_op.cc:422] ShuffleDatasetV3:1: Filling up shuffle buffer (this may take a while): 15327 of 27066\n",
      "2025-01-11 19:41:00.949567: I tensorflow/core/kernels/data/shuffle_dataset_op.cc:422] ShuffleDatasetV3:1: Filling up shuffle buffer (this may take a while): 15883 of 27066\n",
      "2025-01-11 19:41:10.951955: I tensorflow/core/kernels/data/shuffle_dataset_op.cc:422] ShuffleDatasetV3:1: Filling up shuffle buffer (this may take a while): 16135 of 27066\n",
      "2025-01-11 19:41:20.975517: I tensorflow/core/kernels/data/shuffle_dataset_op.cc:422] ShuffleDatasetV3:1: Filling up shuffle buffer (this may take a while): 16395 of 27066\n",
      "2025-01-11 19:41:30.999690: I tensorflow/core/kernels/data/shuffle_dataset_op.cc:422] ShuffleDatasetV3:1: Filling up shuffle buffer (this may take a while): 16691 of 27066\n",
      "2025-01-11 19:41:50.982721: I tensorflow/core/kernels/data/shuffle_dataset_op.cc:422] ShuffleDatasetV3:1: Filling up shuffle buffer (this may take a while): 17288 of 27066\n",
      "2025-01-11 19:42:11.002665: I tensorflow/core/kernels/data/shuffle_dataset_op.cc:422] ShuffleDatasetV3:1: Filling up shuffle buffer (this may take a while): 17870 of 27066\n",
      "2025-01-11 19:42:30.962876: I tensorflow/core/kernels/data/shuffle_dataset_op.cc:422] ShuffleDatasetV3:1: Filling up shuffle buffer (this may take a while): 18455 of 27066\n",
      "2025-01-11 19:42:40.970190: I tensorflow/core/kernels/data/shuffle_dataset_op.cc:422] ShuffleDatasetV3:1: Filling up shuffle buffer (this may take a while): 18723 of 27066\n",
      "2025-01-11 19:42:51.007760: I tensorflow/core/kernels/data/shuffle_dataset_op.cc:422] ShuffleDatasetV3:1: Filling up shuffle buffer (this may take a while): 19042 of 27066\n",
      "2025-01-11 19:43:10.979891: I tensorflow/core/kernels/data/shuffle_dataset_op.cc:422] ShuffleDatasetV3:1: Filling up shuffle buffer (this may take a while): 19671 of 27066\n",
      "2025-01-11 19:43:30.996902: I tensorflow/core/kernels/data/shuffle_dataset_op.cc:422] ShuffleDatasetV3:1: Filling up shuffle buffer (this may take a while): 20274 of 27066\n",
      "2025-01-11 19:43:41.001941: I tensorflow/core/kernels/data/shuffle_dataset_op.cc:422] ShuffleDatasetV3:1: Filling up shuffle buffer (this may take a while): 20440 of 27066\n",
      "2025-01-11 19:43:51.006195: I tensorflow/core/kernels/data/shuffle_dataset_op.cc:422] ShuffleDatasetV3:1: Filling up shuffle buffer (this may take a while): 20733 of 27066\n",
      "2025-01-11 19:44:10.970266: I tensorflow/core/kernels/data/shuffle_dataset_op.cc:422] ShuffleDatasetV3:1: Filling up shuffle buffer (this may take a while): 21317 of 27066\n",
      "2025-01-11 19:44:30.965412: I tensorflow/core/kernels/data/shuffle_dataset_op.cc:422] ShuffleDatasetV3:1: Filling up shuffle buffer (this may take a while): 21906 of 27066\n",
      "2025-01-11 19:44:50.972579: I tensorflow/core/kernels/data/shuffle_dataset_op.cc:422] ShuffleDatasetV3:1: Filling up shuffle buffer (this may take a while): 22447 of 27066\n",
      "2025-01-11 19:45:10.993299: I tensorflow/core/kernels/data/shuffle_dataset_op.cc:422] ShuffleDatasetV3:1: Filling up shuffle buffer (this may take a while): 22940 of 27066\n",
      "2025-01-11 19:45:30.965088: I tensorflow/core/kernels/data/shuffle_dataset_op.cc:422] ShuffleDatasetV3:1: Filling up shuffle buffer (this may take a while): 23621 of 27066\n",
      "2025-01-11 19:45:50.952882: I tensorflow/core/kernels/data/shuffle_dataset_op.cc:422] ShuffleDatasetV3:1: Filling up shuffle buffer (this may take a while): 24099 of 27066\n",
      "2025-01-11 19:46:00.991444: I tensorflow/core/kernels/data/shuffle_dataset_op.cc:422] ShuffleDatasetV3:1: Filling up shuffle buffer (this may take a while): 24386 of 27066\n",
      "2025-01-11 19:46:20.958769: I tensorflow/core/kernels/data/shuffle_dataset_op.cc:422] ShuffleDatasetV3:1: Filling up shuffle buffer (this may take a while): 24930 of 27066\n",
      "2025-01-11 19:46:40.966540: I tensorflow/core/kernels/data/shuffle_dataset_op.cc:422] ShuffleDatasetV3:1: Filling up shuffle buffer (this may take a while): 25435 of 27066\n",
      "2025-01-11 19:46:51.019151: I tensorflow/core/kernels/data/shuffle_dataset_op.cc:422] ShuffleDatasetV3:1: Filling up shuffle buffer (this may take a while): 25730 of 27066\n",
      "2025-01-11 19:47:10.969807: I tensorflow/core/kernels/data/shuffle_dataset_op.cc:422] ShuffleDatasetV3:1: Filling up shuffle buffer (this may take a while): 26314 of 27066\n",
      "2025-01-11 19:47:20.992143: I tensorflow/core/kernels/data/shuffle_dataset_op.cc:422] ShuffleDatasetV3:1: Filling up shuffle buffer (this may take a while): 26599 of 27066\n",
      "2025-01-11 19:47:31.012326: I tensorflow/core/kernels/data/shuffle_dataset_op.cc:422] ShuffleDatasetV3:1: Filling up shuffle buffer (this may take a while): 26917 of 27066\n"
     ]
    },
    {
     "name": "stdout",
     "output_type": "stream",
     "text": [
      "  3/846 [..............................] - ETA: 29s - loss: 0.0169 - accuracy: 1.0000 - auc: 1.0000 - specificity: 1.0000 - sensitivity: 1.0000 - f1_score: 1.0000      "
     ]
    },
    {
     "name": "stderr",
     "output_type": "stream",
     "text": [
      "2025-01-11 19:47:35.999458: I tensorflow/core/kernels/data/shuffle_dataset_op.cc:452] Shuffle buffer filled.\n"
     ]
    },
    {
     "name": "stdout",
     "output_type": "stream",
     "text": [
      "846/846 [==============================] - 636s 1ms/step - loss: 0.0274 - accuracy: 0.9962 - auc: 0.9968 - specificity: 0.9999 - sensitivity: 0.9925 - f1_score: 0.9966 - val_loss: 0.0239 - val_accuracy: 0.9949 - val_auc: 0.9982 - val_specificity: 0.1311 - val_sensitivity: 0.9948 - val_f1_score: 0.9982 - lr: 0.0010\n",
      "Epoch 11/50\n"
     ]
    },
    {
     "name": "stderr",
     "output_type": "stream",
     "text": [
      "2025-01-11 19:47:47.276044: I tensorflow/core/kernels/data/shuffle_dataset_op.cc:422] ShuffleDatasetV3:1: Filling up shuffle buffer (this may take a while): 9691 of 27066\n",
      "2025-01-11 19:47:57.295064: I tensorflow/core/kernels/data/shuffle_dataset_op.cc:422] ShuffleDatasetV3:1: Filling up shuffle buffer (this may take a while): 10307 of 27066\n",
      "2025-01-11 19:48:17.302023: I tensorflow/core/kernels/data/shuffle_dataset_op.cc:422] ShuffleDatasetV3:1: Filling up shuffle buffer (this may take a while): 11362 of 27066\n",
      "2025-01-11 19:48:37.299583: I tensorflow/core/kernels/data/shuffle_dataset_op.cc:422] ShuffleDatasetV3:1: Filling up shuffle buffer (this may take a while): 12280 of 27066\n",
      "2025-01-11 19:48:57.261518: I tensorflow/core/kernels/data/shuffle_dataset_op.cc:422] ShuffleDatasetV3:1: Filling up shuffle buffer (this may take a while): 12922 of 27066\n",
      "2025-01-11 19:49:07.276097: I tensorflow/core/kernels/data/shuffle_dataset_op.cc:422] ShuffleDatasetV3:1: Filling up shuffle buffer (this may take a while): 13248 of 27066\n",
      "2025-01-11 19:49:17.294127: I tensorflow/core/kernels/data/shuffle_dataset_op.cc:422] ShuffleDatasetV3:1: Filling up shuffle buffer (this may take a while): 13543 of 27066\n",
      "2025-01-11 19:49:27.316417: I tensorflow/core/kernels/data/shuffle_dataset_op.cc:422] ShuffleDatasetV3:1: Filling up shuffle buffer (this may take a while): 13877 of 27066\n",
      "2025-01-11 19:49:47.263645: I tensorflow/core/kernels/data/shuffle_dataset_op.cc:422] ShuffleDatasetV3:1: Filling up shuffle buffer (this may take a while): 14461 of 27066\n",
      "2025-01-11 19:49:57.270183: I tensorflow/core/kernels/data/shuffle_dataset_op.cc:422] ShuffleDatasetV3:1: Filling up shuffle buffer (this may take a while): 14752 of 27066\n",
      "2025-01-11 19:50:07.282419: I tensorflow/core/kernels/data/shuffle_dataset_op.cc:422] ShuffleDatasetV3:1: Filling up shuffle buffer (this may take a while): 15048 of 27066\n",
      "2025-01-11 19:50:27.275362: I tensorflow/core/kernels/data/shuffle_dataset_op.cc:422] ShuffleDatasetV3:1: Filling up shuffle buffer (this may take a while): 15607 of 27066\n",
      "2025-01-11 19:50:47.255734: I tensorflow/core/kernels/data/shuffle_dataset_op.cc:422] ShuffleDatasetV3:1: Filling up shuffle buffer (this may take a while): 16126 of 27066\n",
      "2025-01-11 19:50:57.319412: I tensorflow/core/kernels/data/shuffle_dataset_op.cc:422] ShuffleDatasetV3:1: Filling up shuffle buffer (this may take a while): 16415 of 27066\n",
      "2025-01-11 19:51:17.293940: I tensorflow/core/kernels/data/shuffle_dataset_op.cc:422] ShuffleDatasetV3:1: Filling up shuffle buffer (this may take a while): 16983 of 27066\n",
      "2025-01-11 19:51:27.300162: I tensorflow/core/kernels/data/shuffle_dataset_op.cc:422] ShuffleDatasetV3:1: Filling up shuffle buffer (this may take a while): 17276 of 27066\n",
      "2025-01-11 19:51:47.250912: I tensorflow/core/kernels/data/shuffle_dataset_op.cc:422] ShuffleDatasetV3:1: Filling up shuffle buffer (this may take a while): 17852 of 27066\n",
      "2025-01-11 19:51:57.297549: I tensorflow/core/kernels/data/shuffle_dataset_op.cc:422] ShuffleDatasetV3:1: Filling up shuffle buffer (this may take a while): 18139 of 27066\n",
      "2025-01-11 19:52:17.253445: I tensorflow/core/kernels/data/shuffle_dataset_op.cc:422] ShuffleDatasetV3:1: Filling up shuffle buffer (this may take a while): 18734 of 27066\n",
      "2025-01-11 19:52:27.261496: I tensorflow/core/kernels/data/shuffle_dataset_op.cc:422] ShuffleDatasetV3:1: Filling up shuffle buffer (this may take a while): 18938 of 27066\n",
      "2025-01-11 19:52:47.279029: I tensorflow/core/kernels/data/shuffle_dataset_op.cc:422] ShuffleDatasetV3:1: Filling up shuffle buffer (this may take a while): 19484 of 27066\n",
      "2025-01-11 19:53:07.296664: I tensorflow/core/kernels/data/shuffle_dataset_op.cc:422] ShuffleDatasetV3:1: Filling up shuffle buffer (this may take a while): 20068 of 27066\n",
      "2025-01-11 19:53:17.299899: I tensorflow/core/kernels/data/shuffle_dataset_op.cc:422] ShuffleDatasetV3:1: Filling up shuffle buffer (this may take a while): 20356 of 27066\n",
      "2025-01-11 19:53:37.286086: I tensorflow/core/kernels/data/shuffle_dataset_op.cc:422] ShuffleDatasetV3:1: Filling up shuffle buffer (this may take a while): 20926 of 27066\n",
      "2025-01-11 19:53:57.264874: I tensorflow/core/kernels/data/shuffle_dataset_op.cc:422] ShuffleDatasetV3:1: Filling up shuffle buffer (this may take a while): 21466 of 27066\n",
      "2025-01-11 19:54:07.267873: I tensorflow/core/kernels/data/shuffle_dataset_op.cc:422] ShuffleDatasetV3:1: Filling up shuffle buffer (this may take a while): 21765 of 27066\n",
      "2025-01-11 19:54:17.326180: I tensorflow/core/kernels/data/shuffle_dataset_op.cc:422] ShuffleDatasetV3:1: Filling up shuffle buffer (this may take a while): 21986 of 27066\n",
      "2025-01-11 19:54:37.266809: I tensorflow/core/kernels/data/shuffle_dataset_op.cc:422] ShuffleDatasetV3:1: Filling up shuffle buffer (this may take a while): 22563 of 27066\n",
      "2025-01-11 19:54:57.257808: I tensorflow/core/kernels/data/shuffle_dataset_op.cc:422] ShuffleDatasetV3:1: Filling up shuffle buffer (this may take a while): 23138 of 27066\n",
      "2025-01-11 19:55:07.302693: I tensorflow/core/kernels/data/shuffle_dataset_op.cc:422] ShuffleDatasetV3:1: Filling up shuffle buffer (this may take a while): 23479 of 27066\n",
      "2025-01-11 19:55:27.252885: I tensorflow/core/kernels/data/shuffle_dataset_op.cc:422] ShuffleDatasetV3:1: Filling up shuffle buffer (this may take a while): 23940 of 27066\n",
      "2025-01-11 19:55:37.325671: I tensorflow/core/kernels/data/shuffle_dataset_op.cc:422] ShuffleDatasetV3:1: Filling up shuffle buffer (this may take a while): 24188 of 27066\n",
      "2025-01-11 19:55:57.288586: I tensorflow/core/kernels/data/shuffle_dataset_op.cc:422] ShuffleDatasetV3:1: Filling up shuffle buffer (this may take a while): 24774 of 27066\n",
      "2025-01-11 19:56:07.305660: I tensorflow/core/kernels/data/shuffle_dataset_op.cc:422] ShuffleDatasetV3:1: Filling up shuffle buffer (this may take a while): 25122 of 27066\n",
      "2025-01-11 19:56:27.259945: I tensorflow/core/kernels/data/shuffle_dataset_op.cc:422] ShuffleDatasetV3:1: Filling up shuffle buffer (this may take a while): 25644 of 27066\n",
      "2025-01-11 19:56:37.271944: I tensorflow/core/kernels/data/shuffle_dataset_op.cc:422] ShuffleDatasetV3:1: Filling up shuffle buffer (this may take a while): 25928 of 27066\n",
      "2025-01-11 19:56:47.272773: I tensorflow/core/kernels/data/shuffle_dataset_op.cc:422] ShuffleDatasetV3:1: Filling up shuffle buffer (this may take a while): 26207 of 27066\n",
      "2025-01-11 19:57:07.254464: I tensorflow/core/kernels/data/shuffle_dataset_op.cc:422] ShuffleDatasetV3:1: Filling up shuffle buffer (this may take a while): 26813 of 27066\n",
      "2025-01-11 19:57:17.304190: I tensorflow/core/kernels/data/shuffle_dataset_op.cc:422] ShuffleDatasetV3:1: Filling up shuffle buffer (this may take a while): 26984 of 27066\n"
     ]
    },
    {
     "name": "stdout",
     "output_type": "stream",
     "text": [
      "  4/846 [..............................] - ETA: 25s - loss: 0.0191 - accuracy: 1.0000 - auc: 1.0000 - specificity: 1.0000 - sensitivity: 1.0000 - f1_score: 1.0000      "
     ]
    },
    {
     "name": "stderr",
     "output_type": "stream",
     "text": [
      "2025-01-11 19:57:19.457567: I tensorflow/core/kernels/data/shuffle_dataset_op.cc:452] Shuffle buffer filled.\n"
     ]
    },
    {
     "name": "stdout",
     "output_type": "stream",
     "text": [
      "846/846 [==============================] - 584s 1ms/step - loss: 0.0215 - accuracy: 0.9977 - auc: 0.9981 - specificity: 1.0000 - sensitivity: 0.9955 - f1_score: 0.9981 - val_loss: 0.0252 - val_accuracy: 0.9933 - val_auc: 0.9972 - val_specificity: 0.1311 - val_sensitivity: 0.9933 - val_f1_score: 0.9971 - lr: 1.0000e-04\n",
      "Epoch 12/50\n"
     ]
    },
    {
     "name": "stderr",
     "output_type": "stream",
     "text": [
      "2025-01-11 19:57:30.855130: I tensorflow/core/kernels/data/shuffle_dataset_op.cc:422] ShuffleDatasetV3:1: Filling up shuffle buffer (this may take a while): 939 of 27066\n",
      "2025-01-11 19:57:50.811014: I tensorflow/core/kernels/data/shuffle_dataset_op.cc:422] ShuffleDatasetV3:1: Filling up shuffle buffer (this may take a while): 9034 of 27066\n",
      "2025-01-11 19:58:00.847254: I tensorflow/core/kernels/data/shuffle_dataset_op.cc:422] ShuffleDatasetV3:1: Filling up shuffle buffer (this may take a while): 9389 of 27066\n",
      "2025-01-11 19:58:20.811179: I tensorflow/core/kernels/data/shuffle_dataset_op.cc:422] ShuffleDatasetV3:1: Filling up shuffle buffer (this may take a while): 10835 of 27066\n",
      "2025-01-11 19:58:30.847998: I tensorflow/core/kernels/data/shuffle_dataset_op.cc:422] ShuffleDatasetV3:1: Filling up shuffle buffer (this may take a while): 11250 of 27066\n",
      "2025-01-11 19:58:50.814008: I tensorflow/core/kernels/data/shuffle_dataset_op.cc:422] ShuffleDatasetV3:1: Filling up shuffle buffer (this may take a while): 12084 of 27066\n",
      "2025-01-11 19:59:00.824932: I tensorflow/core/kernels/data/shuffle_dataset_op.cc:422] ShuffleDatasetV3:1: Filling up shuffle buffer (this may take a while): 12268 of 27066\n",
      "2025-01-11 19:59:20.810886: I tensorflow/core/kernels/data/shuffle_dataset_op.cc:422] ShuffleDatasetV3:1: Filling up shuffle buffer (this may take a while): 12922 of 27066\n",
      "2025-01-11 19:59:30.862297: I tensorflow/core/kernels/data/shuffle_dataset_op.cc:422] ShuffleDatasetV3:1: Filling up shuffle buffer (this may take a while): 13252 of 27066\n",
      "2025-01-11 19:59:50.811548: I tensorflow/core/kernels/data/shuffle_dataset_op.cc:422] ShuffleDatasetV3:1: Filling up shuffle buffer (this may take a while): 13855 of 27066\n",
      "2025-01-11 20:00:00.833163: I tensorflow/core/kernels/data/shuffle_dataset_op.cc:422] ShuffleDatasetV3:1: Filling up shuffle buffer (this may take a while): 14149 of 27066\n",
      "2025-01-11 20:00:10.835460: I tensorflow/core/kernels/data/shuffle_dataset_op.cc:422] ShuffleDatasetV3:1: Filling up shuffle buffer (this may take a while): 14500 of 27066\n",
      "2025-01-11 20:00:20.848375: I tensorflow/core/kernels/data/shuffle_dataset_op.cc:422] ShuffleDatasetV3:1: Filling up shuffle buffer (this may take a while): 14795 of 27066\n",
      "2025-01-11 20:00:30.866350: I tensorflow/core/kernels/data/shuffle_dataset_op.cc:422] ShuffleDatasetV3:1: Filling up shuffle buffer (this may take a while): 15125 of 27066\n",
      "2025-01-11 20:00:50.825704: I tensorflow/core/kernels/data/shuffle_dataset_op.cc:422] ShuffleDatasetV3:1: Filling up shuffle buffer (this may take a while): 15820 of 27066\n",
      "2025-01-11 20:01:00.854374: I tensorflow/core/kernels/data/shuffle_dataset_op.cc:422] ShuffleDatasetV3:1: Filling up shuffle buffer (this may take a while): 16005 of 27066\n",
      "2025-01-11 20:01:20.834333: I tensorflow/core/kernels/data/shuffle_dataset_op.cc:422] ShuffleDatasetV3:1: Filling up shuffle buffer (this may take a while): 16582 of 27066\n",
      "2025-01-11 20:01:40.806960: I tensorflow/core/kernels/data/shuffle_dataset_op.cc:422] ShuffleDatasetV3:1: Filling up shuffle buffer (this may take a while): 18933 of 27066\n",
      "2025-01-11 20:01:50.824114: I tensorflow/core/kernels/data/shuffle_dataset_op.cc:422] ShuffleDatasetV3:1: Filling up shuffle buffer (this may take a while): 20068 of 27066\n",
      "2025-01-11 20:02:10.843584: I tensorflow/core/kernels/data/shuffle_dataset_op.cc:422] ShuffleDatasetV3:1: Filling up shuffle buffer (this may take a while): 20659 of 27066\n",
      "2025-01-11 20:02:30.806144: I tensorflow/core/kernels/data/shuffle_dataset_op.cc:422] ShuffleDatasetV3:1: Filling up shuffle buffer (this may take a while): 21303 of 27066\n",
      "2025-01-11 20:02:40.819974: I tensorflow/core/kernels/data/shuffle_dataset_op.cc:422] ShuffleDatasetV3:1: Filling up shuffle buffer (this may take a while): 21910 of 27066\n",
      "2025-01-11 20:02:50.828915: I tensorflow/core/kernels/data/shuffle_dataset_op.cc:422] ShuffleDatasetV3:1: Filling up shuffle buffer (this may take a while): 22355 of 27066\n",
      "2025-01-11 20:03:10.855431: I tensorflow/core/kernels/data/shuffle_dataset_op.cc:422] ShuffleDatasetV3:1: Filling up shuffle buffer (this may take a while): 22892 of 27066\n",
      "2025-01-11 20:03:30.822263: I tensorflow/core/kernels/data/shuffle_dataset_op.cc:422] ShuffleDatasetV3:1: Filling up shuffle buffer (this may take a while): 23490 of 27066\n",
      "2025-01-11 20:03:40.855417: I tensorflow/core/kernels/data/shuffle_dataset_op.cc:422] ShuffleDatasetV3:1: Filling up shuffle buffer (this may take a while): 23820 of 27066\n",
      "2025-01-11 20:03:50.872388: I tensorflow/core/kernels/data/shuffle_dataset_op.cc:422] ShuffleDatasetV3:1: Filling up shuffle buffer (this may take a while): 24500 of 27066\n",
      "2025-01-11 20:04:10.861650: I tensorflow/core/kernels/data/shuffle_dataset_op.cc:422] ShuffleDatasetV3:1: Filling up shuffle buffer (this may take a while): 25308 of 27066\n",
      "2025-01-11 20:04:30.867858: I tensorflow/core/kernels/data/shuffle_dataset_op.cc:422] ShuffleDatasetV3:1: Filling up shuffle buffer (this may take a while): 26082 of 27066\n",
      "2025-01-11 20:04:40.869086: I tensorflow/core/kernels/data/shuffle_dataset_op.cc:422] ShuffleDatasetV3:1: Filling up shuffle buffer (this may take a while): 26392 of 27066\n"
     ]
    },
    {
     "name": "stdout",
     "output_type": "stream",
     "text": [
      " 82/846 [=>............................] - ETA: 1s - loss: 0.0190 - accuracy: 0.9977 - auc: 0.9989 - specificity: 1.0000 - sensitivity: 0.9955 - f1_score: 0.9988    "
     ]
    },
    {
     "name": "stderr",
     "output_type": "stream",
     "text": [
      "2025-01-11 20:04:54.853351: I tensorflow/core/kernels/data/shuffle_dataset_op.cc:452] Shuffle buffer filled.\n"
     ]
    },
    {
     "name": "stdout",
     "output_type": "stream",
     "text": [
      "846/846 [==============================] - 455s 1ms/step - loss: 0.0205 - accuracy: 0.9977 - auc: 0.9982 - specificity: 1.0000 - sensitivity: 0.9954 - f1_score: 0.9981 - val_loss: 0.0256 - val_accuracy: 0.9933 - val_auc: 0.9966 - val_specificity: 0.1311 - val_sensitivity: 0.9933 - val_f1_score: 0.9966 - lr: 1.0000e-04\n"
     ]
    },
    {
     "data": {
      "text/plain": [
       "<keras.src.callbacks.History at 0x176bed210>"
      ]
     },
     "execution_count": 24,
     "metadata": {},
     "output_type": "execute_result"
    }
   ],
   "source": [
    "model.fit(\n",
    "    train_ds,\n",
    "    validation_data=val_ds,\n",
    "    epochs=50,\n",
    "    callbacks=[early_stopping, lr_scheduler]\n",
    ")"
   ]
  },
  {
   "cell_type": "code",
   "execution_count": 31,
   "id": "d4e595be-ef5e-4f20-9688-fde285d437a4",
   "metadata": {
    "scrolled": true
   },
   "outputs": [
    {
     "name": "stdout",
     "output_type": "stream",
     "text": [
      "Epoch 1/12\n",
      "122/122 [==============================] - 0s 1ms/step - loss: 0.0273 - accuracy: 0.9967 - auc: 0.9192 - specificity: 0.1311 - sensitivity: 0.9979 - f1_score: 0.9985  \n",
      "Epoch 2/12\n",
      "122/122 [==============================] - 0s 1ms/step - loss: 0.0259 - accuracy: 0.9974 - auc: 0.9194 - specificity: 0.1393 - sensitivity: 0.9984 - f1_score: 0.9987  \n",
      "Epoch 3/12\n",
      "122/122 [==============================] - 0s 1ms/step - loss: 0.0233 - accuracy: 0.9979 - auc: 0.9394 - specificity: 0.1516 - sensitivity: 0.9990 - f1_score: 0.9989  \n",
      "Epoch 4/12\n",
      "122/122 [==============================] - 0s 1ms/step - loss: 0.0231 - accuracy: 0.9974 - auc: 0.9395 - specificity: 0.1352 - sensitivity: 0.9987 - f1_score: 0.9987  \n",
      "Epoch 5/12\n",
      "122/122 [==============================] - 0s 1ms/step - loss: 0.0220 - accuracy: 0.9977 - auc: 0.9195 - specificity: 0.1516 - sensitivity: 0.9987 - f1_score: 0.9990  \n",
      "Epoch 6/12\n",
      "122/122 [==============================] - 0s 1ms/step - loss: 0.0206 - accuracy: 0.9979 - auc: 0.9396 - specificity: 0.1434 - sensitivity: 0.9990 - f1_score: 0.9990  \n",
      "Epoch 7/12\n",
      "122/122 [==============================] - 0s 1ms/step - loss: 0.0199 - accuracy: 0.9985 - auc: 0.9396 - specificity: 0.1434 - sensitivity: 0.9992 - f1_score: 0.9989  \n",
      "Epoch 8/12\n",
      "122/122 [==============================] - 0s 1ms/step - loss: 0.0201 - accuracy: 0.9982 - auc: 0.9595 - specificity: 0.1352 - sensitivity: 0.9992 - f1_score: 0.9987  \n",
      "Epoch 9/12\n",
      "122/122 [==============================] - 0s 1ms/step - loss: 0.0187 - accuracy: 0.9987 - auc: 0.9798 - specificity: 0.1352 - sensitivity: 0.9995 - f1_score: 0.9990  \n",
      "Epoch 10/12\n",
      "122/122 [==============================] - 0s 1ms/step - loss: 0.0186 - accuracy: 0.9987 - auc: 0.9795 - specificity: 0.1434 - sensitivity: 0.9992 - f1_score: 0.9989  \n",
      "Epoch 11/12\n",
      "122/122 [==============================] - 0s 1ms/step - loss: 0.0181 - accuracy: 0.9987 - auc: 0.9799 - specificity: 0.1516 - sensitivity: 0.9997 - f1_score: 0.9994  \n",
      "Epoch 12/12\n",
      "122/122 [==============================] - 0s 1ms/step - loss: 0.0177 - accuracy: 0.9987 - auc: 0.9599 - specificity: 0.1434 - sensitivity: 0.9995 - f1_score: 0.9993  \n"
     ]
    },
    {
     "data": {
      "text/plain": [
       "<keras.src.callbacks.History at 0x28be2da10>"
      ]
     },
     "execution_count": 31,
     "metadata": {},
     "output_type": "execute_result"
    }
   ],
   "source": [
    "model.fit(\n",
    "    test_ds,\n",
    "    epochs=12,\n",
    ")"
   ]
  },
  {
   "cell_type": "code",
   "execution_count": 33,
   "id": "01a47d8e-bd5e-4166-87b8-330ca52e11ca",
   "metadata": {},
   "outputs": [],
   "source": [
    "weights = model.get_weights()\n"
   ]
  },
  {
   "cell_type": "code",
   "execution_count": 35,
   "id": "5c142ec2-91e3-43e2-b87a-f31d6eb14a54",
   "metadata": {
    "scrolled": true
   },
   "outputs": [],
   "source": [
    "first_layer_weights = weights[0]  \n",
    "\n",
    "weight_df = pd.DataFrame(\n",
    "    first_layer_weights[:19],  \n",
    "    columns=[f'Hidden_Node_{i}' for i in range(first_layer_weights.shape[1])], \n",
    "    index=X_train.columns[:19]  \n",
    ")"
   ]
  },
  {
   "cell_type": "code",
   "execution_count": 37,
   "id": "15fbeb89-7661-4e8d-b180-a45c5ec17e44",
   "metadata": {},
   "outputs": [
    {
     "name": "stdout",
     "output_type": "stream",
     "text": [
      "q102    5.379918\n",
      "q15     4.993237\n",
      "q100    4.742386\n",
      "q21     4.442135\n",
      "q16     4.369733\n",
      "q88     4.270064\n",
      "q18     4.070151\n",
      "q103    3.605219\n",
      "q14     3.320156\n",
      "q99     2.959666\n",
      "q91     2.915334\n",
      "q45     2.801151\n",
      "q22     2.359767\n",
      "q89     1.677788\n",
      "q24     1.463227\n",
      "q23     1.182893\n",
      "q86     1.172212\n",
      "q90     0.793644\n",
      "q25     0.407419\n",
      "dtype: float32\n"
     ]
    }
   ],
   "source": [
    "feature_importance = weight_df.abs().sum(axis=1).sort_values(ascending=False)\n",
    "\n",
    "print(feature_importance)"
   ]
  },
  {
   "cell_type": "code",
   "execution_count": 40,
   "id": "c0b75ed5-d692-41a1-9549-35b0d827d865",
   "metadata": {},
   "outputs": [
    {
     "name": "stdout",
     "output_type": "stream",
     "text": [
      "q80     6.828224\n",
      "q55     5.566679\n",
      "q102    5.379918\n",
      "q15     4.993237\n",
      "q58     4.750099\n",
      "q100    4.742386\n",
      "q92     4.455136\n",
      "q21     4.442135\n",
      "q53     4.414062\n",
      "q16     4.369733\n",
      "q88     4.270064\n",
      "q18     4.070151\n",
      "q74     3.762798\n",
      "q54     3.727466\n",
      "q103    3.605219\n",
      "q61     3.596669\n",
      "q12     3.409683\n",
      "q81     3.399585\n",
      "q14     3.320156\n",
      "q99     2.959666\n",
      "q91     2.915334\n",
      "q45     2.801151\n",
      "q85     2.700571\n",
      "q59     2.571386\n",
      "q11     2.417346\n",
      "q22     2.359767\n",
      "q26     2.350342\n",
      "q105    2.331945\n",
      "q27     2.291080\n",
      "q50     2.276624\n",
      "q51     2.242931\n",
      "q60     2.128657\n",
      "q82     2.120507\n",
      "q79     2.119487\n",
      "q52     2.035435\n",
      "q28     1.712253\n",
      "q89     1.677788\n",
      "q24     1.463227\n",
      "q75     1.396846\n",
      "q8      1.372790\n",
      "q84     1.345930\n",
      "q30     1.186552\n",
      "q23     1.182893\n",
      "q86     1.172212\n",
      "q19     1.092819\n",
      "q90     0.793644\n",
      "q46     0.725277\n",
      "q31     0.696386\n",
      "q49     0.528589\n",
      "q29     0.415034\n",
      "q25     0.407419\n",
      "q10     0.340193\n",
      "q9      0.217782\n",
      "q87     0.118342\n",
      "q38     0.081938\n",
      "q39     0.032714\n",
      "q35     0.009105\n",
      "q17     0.009091\n",
      "dtype: float32\n"
     ]
    }
   ],
   "source": [
    "weight_mb = pd.DataFrame(first_layer_weights, columns=[f'Hidden_Node_{i}' for i in range(first_layer_weights.shape[1])], index=X_train.columns)\n",
    "\n",
    "mb_importance = weight_mb.abs().sum(axis=1).sort_values(ascending=False)\n",
    "print(mb_importance)"
   ]
  }
 ],
 "metadata": {
  "kernelspec": {
   "display_name": "Python [conda env:base] *",
   "language": "python",
   "name": "conda-base-py"
  },
  "language_info": {
   "codemirror_mode": {
    "name": "ipython",
    "version": 3
   },
   "file_extension": ".py",
   "mimetype": "text/x-python",
   "name": "python",
   "nbconvert_exporter": "python",
   "pygments_lexer": "ipython3",
   "version": "3.11.5"
  }
 },
 "nbformat": 4,
 "nbformat_minor": 5
}
