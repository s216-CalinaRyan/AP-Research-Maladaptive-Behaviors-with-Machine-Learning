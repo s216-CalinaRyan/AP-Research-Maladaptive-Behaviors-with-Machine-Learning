{
 "cells": [
  {
   "cell_type": "code",
   "execution_count": 1,
   "id": "e5bb97a2-eed5-4d77-8436-ef1ab22f2044",
   "metadata": {
    "scrolled": true
   },
   "outputs": [],
   "source": [
    "import numpy as np\n",
    "import pandas as pd\n",
    "\n",
    "import tensorflow as tf\n",
    "\n",
    "from tensorflow import feature_column\n",
    "from tensorflow.keras import layers\n",
    "from sklearn.model_selection import train_test_split\n",
    "from tensorflow.keras import regularizers\n",
    "from tensorflow.keras.callbacks import EarlyStopping\n",
    "from tensorflow.keras.callbacks import ReduceLROnPlateau\n",
    "\n",
    "from imblearn.over_sampling import SMOTE\n"
   ]
  },
  {
   "cell_type": "markdown",
   "id": "232e49dd-4e90-4bcd-bc87-1ef5d3ccc058",
   "metadata": {},
   "source": [
    "Tutorial link: https://www.tensorflow.org/tutorials/structured_data/feature_columns"
   ]
  },
  {
   "cell_type": "code",
   "execution_count": 3,
   "id": "7359ca0b-3b25-4299-bcc5-abb0fee14063",
   "metadata": {},
   "outputs": [],
   "source": [
    "dataframe = pd.read_csv(\"demographic.csv\")"
   ]
  },
  {
   "cell_type": "code",
   "execution_count": 4,
   "id": "7af47d76-395c-447c-95ef-4b3fa3f003d9",
   "metadata": {},
   "outputs": [],
   "source": [
    "dataframe.dropna(inplace=True)"
   ]
  },
  {
   "cell_type": "code",
   "execution_count": 5,
   "id": "73235cb3-dfd8-4f35-b5d6-3960d748ab82",
   "metadata": {
    "scrolled": true
   },
   "outputs": [
    {
     "name": "stdout",
     "output_type": "stream",
     "text": [
      "<class 'pandas.core.frame.DataFrame'>\n",
      "RangeIndex: 19813 entries, 0 to 19812\n",
      "Data columns (total 48 columns):\n",
      " #   Column   Non-Null Count  Dtype  \n",
      "---  ------   --------------  -----  \n",
      " 0   raceeth  19813 non-null  float64\n",
      " 1   q1       19813 non-null  float64\n",
      " 2   q2       19813 non-null  float64\n",
      " 3   q3       19813 non-null  float64\n",
      " 4   q4       19813 non-null  float64\n",
      " 5   q6       19813 non-null  float64\n",
      " 6   q7       19813 non-null  float64\n",
      " 7   q64      19813 non-null  float64\n",
      " 8   q65      19813 non-null  float64\n",
      " 9   q8       19813 non-null  float64\n",
      " 10  q9       19813 non-null  float64\n",
      " 11  q10      19813 non-null  float64\n",
      " 12  q11      19813 non-null  float64\n",
      " 13  q12      19813 non-null  float64\n",
      " 14  q17      19813 non-null  float64\n",
      " 15  q19      19813 non-null  float64\n",
      " 16  q26      19813 non-null  float64\n",
      " 17  q27      19813 non-null  float64\n",
      " 18  q28      19813 non-null  float64\n",
      " 19  q29      19813 non-null  float64\n",
      " 20  q30      19813 non-null  float64\n",
      " 21  q31      19813 non-null  float64\n",
      " 22  q35      19813 non-null  float64\n",
      " 23  q38      19813 non-null  float64\n",
      " 24  q39      19813 non-null  float64\n",
      " 25  q46      19813 non-null  float64\n",
      " 26  q49      19813 non-null  float64\n",
      " 27  q50      19813 non-null  float64\n",
      " 28  q51      19813 non-null  float64\n",
      " 29  q52      19813 non-null  float64\n",
      " 30  q53      19813 non-null  float64\n",
      " 31  q54      19813 non-null  float64\n",
      " 32  q55      19813 non-null  float64\n",
      " 33  q58      19813 non-null  float64\n",
      " 34  q59      19813 non-null  float64\n",
      " 35  q60      19813 non-null  float64\n",
      " 36  q61      19813 non-null  float64\n",
      " 37  q74      19813 non-null  float64\n",
      " 38  q75      19813 non-null  float64\n",
      " 39  q79      19813 non-null  float64\n",
      " 40  q80      19813 non-null  float64\n",
      " 41  q81      19813 non-null  float64\n",
      " 42  q82      19813 non-null  float64\n",
      " 43  q84      19813 non-null  float64\n",
      " 44  q85      19813 non-null  float64\n",
      " 45  q87      19813 non-null  float64\n",
      " 46  q92      19813 non-null  float64\n",
      " 47  MB       19813 non-null  float64\n",
      "dtypes: float64(48)\n",
      "memory usage: 7.3 MB\n"
     ]
    }
   ],
   "source": [
    "dataframe.info()"
   ]
  },
  {
   "cell_type": "code",
   "execution_count": 6,
   "id": "b2afeff0-b551-4b83-8889-62405afdc9f1",
   "metadata": {},
   "outputs": [],
   "source": [
    "dataframe['target'] = dataframe['MB']\n"
   ]
  },
  {
   "cell_type": "code",
   "execution_count": 7,
   "id": "a212c76a-dc8c-480a-bc83-a9552a7a7d6c",
   "metadata": {},
   "outputs": [
    {
     "data": {
      "text/html": [
       "<div>\n",
       "<style scoped>\n",
       "    .dataframe tbody tr th:only-of-type {\n",
       "        vertical-align: middle;\n",
       "    }\n",
       "\n",
       "    .dataframe tbody tr th {\n",
       "        vertical-align: top;\n",
       "    }\n",
       "\n",
       "    .dataframe thead th {\n",
       "        text-align: right;\n",
       "    }\n",
       "</style>\n",
       "<table border=\"1\" class=\"dataframe\">\n",
       "  <thead>\n",
       "    <tr style=\"text-align: right;\">\n",
       "      <th></th>\n",
       "      <th>raceeth</th>\n",
       "      <th>q1</th>\n",
       "      <th>q2</th>\n",
       "      <th>q3</th>\n",
       "      <th>q4</th>\n",
       "      <th>q6</th>\n",
       "      <th>q7</th>\n",
       "      <th>q64</th>\n",
       "      <th>q65</th>\n",
       "      <th>q8</th>\n",
       "      <th>...</th>\n",
       "      <th>q79</th>\n",
       "      <th>q80</th>\n",
       "      <th>q81</th>\n",
       "      <th>q82</th>\n",
       "      <th>q84</th>\n",
       "      <th>q85</th>\n",
       "      <th>q87</th>\n",
       "      <th>q92</th>\n",
       "      <th>MB</th>\n",
       "      <th>target</th>\n",
       "    </tr>\n",
       "  </thead>\n",
       "  <tbody>\n",
       "    <tr>\n",
       "      <th>0</th>\n",
       "      <td>0.573335</td>\n",
       "      <td>0.333333</td>\n",
       "      <td>0.0</td>\n",
       "      <td>0.00</td>\n",
       "      <td>0.799704</td>\n",
       "      <td>0.464789</td>\n",
       "      <td>0.336362</td>\n",
       "      <td>0.2</td>\n",
       "      <td>0.0</td>\n",
       "      <td>0.75</td>\n",
       "      <td>...</td>\n",
       "      <td>0.00</td>\n",
       "      <td>0.714286</td>\n",
       "      <td>0.0</td>\n",
       "      <td>0.0</td>\n",
       "      <td>0.00</td>\n",
       "      <td>0.666667</td>\n",
       "      <td>0.200836</td>\n",
       "      <td>0.2</td>\n",
       "      <td>0.0</td>\n",
       "      <td>0.0</td>\n",
       "    </tr>\n",
       "    <tr>\n",
       "      <th>1</th>\n",
       "      <td>0.571429</td>\n",
       "      <td>0.500000</td>\n",
       "      <td>1.0</td>\n",
       "      <td>0.00</td>\n",
       "      <td>1.000000</td>\n",
       "      <td>0.530048</td>\n",
       "      <td>0.249643</td>\n",
       "      <td>0.0</td>\n",
       "      <td>0.0</td>\n",
       "      <td>1.00</td>\n",
       "      <td>...</td>\n",
       "      <td>0.00</td>\n",
       "      <td>0.428571</td>\n",
       "      <td>0.0</td>\n",
       "      <td>0.0</td>\n",
       "      <td>0.50</td>\n",
       "      <td>0.333333</td>\n",
       "      <td>0.500000</td>\n",
       "      <td>0.0</td>\n",
       "      <td>0.0</td>\n",
       "      <td>0.0</td>\n",
       "    </tr>\n",
       "    <tr>\n",
       "      <th>2</th>\n",
       "      <td>0.571429</td>\n",
       "      <td>0.666667</td>\n",
       "      <td>1.0</td>\n",
       "      <td>0.50</td>\n",
       "      <td>1.000000</td>\n",
       "      <td>0.507042</td>\n",
       "      <td>0.290868</td>\n",
       "      <td>0.4</td>\n",
       "      <td>0.0</td>\n",
       "      <td>1.00</td>\n",
       "      <td>...</td>\n",
       "      <td>0.00</td>\n",
       "      <td>1.000000</td>\n",
       "      <td>0.0</td>\n",
       "      <td>0.0</td>\n",
       "      <td>0.25</td>\n",
       "      <td>1.000000</td>\n",
       "      <td>0.333333</td>\n",
       "      <td>0.0</td>\n",
       "      <td>1.0</td>\n",
       "      <td>1.0</td>\n",
       "    </tr>\n",
       "    <tr>\n",
       "      <th>3</th>\n",
       "      <td>0.571429</td>\n",
       "      <td>0.833333</td>\n",
       "      <td>0.0</td>\n",
       "      <td>0.25</td>\n",
       "      <td>1.000000</td>\n",
       "      <td>0.530048</td>\n",
       "      <td>0.249643</td>\n",
       "      <td>0.0</td>\n",
       "      <td>0.0</td>\n",
       "      <td>0.75</td>\n",
       "      <td>...</td>\n",
       "      <td>0.00</td>\n",
       "      <td>1.000000</td>\n",
       "      <td>0.0</td>\n",
       "      <td>0.0</td>\n",
       "      <td>0.50</td>\n",
       "      <td>0.500000</td>\n",
       "      <td>0.333333</td>\n",
       "      <td>0.0</td>\n",
       "      <td>1.0</td>\n",
       "      <td>1.0</td>\n",
       "    </tr>\n",
       "    <tr>\n",
       "      <th>4</th>\n",
       "      <td>0.571429</td>\n",
       "      <td>0.333333</td>\n",
       "      <td>1.0</td>\n",
       "      <td>0.00</td>\n",
       "      <td>1.000000</td>\n",
       "      <td>0.746479</td>\n",
       "      <td>0.169684</td>\n",
       "      <td>0.0</td>\n",
       "      <td>0.0</td>\n",
       "      <td>1.00</td>\n",
       "      <td>...</td>\n",
       "      <td>0.25</td>\n",
       "      <td>0.714286</td>\n",
       "      <td>0.0</td>\n",
       "      <td>0.0</td>\n",
       "      <td>0.50</td>\n",
       "      <td>0.666667</td>\n",
       "      <td>0.500000</td>\n",
       "      <td>0.0</td>\n",
       "      <td>1.0</td>\n",
       "      <td>1.0</td>\n",
       "    </tr>\n",
       "  </tbody>\n",
       "</table>\n",
       "<p>5 rows × 49 columns</p>\n",
       "</div>"
      ],
      "text/plain": [
       "    raceeth        q1   q2    q3        q4        q6        q7  q64  q65  \\\n",
       "0  0.573335  0.333333  0.0  0.00  0.799704  0.464789  0.336362  0.2  0.0   \n",
       "1  0.571429  0.500000  1.0  0.00  1.000000  0.530048  0.249643  0.0  0.0   \n",
       "2  0.571429  0.666667  1.0  0.50  1.000000  0.507042  0.290868  0.4  0.0   \n",
       "3  0.571429  0.833333  0.0  0.25  1.000000  0.530048  0.249643  0.0  0.0   \n",
       "4  0.571429  0.333333  1.0  0.00  1.000000  0.746479  0.169684  0.0  0.0   \n",
       "\n",
       "     q8  ...   q79       q80  q81  q82   q84       q85       q87  q92   MB  \\\n",
       "0  0.75  ...  0.00  0.714286  0.0  0.0  0.00  0.666667  0.200836  0.2  0.0   \n",
       "1  1.00  ...  0.00  0.428571  0.0  0.0  0.50  0.333333  0.500000  0.0  0.0   \n",
       "2  1.00  ...  0.00  1.000000  0.0  0.0  0.25  1.000000  0.333333  0.0  1.0   \n",
       "3  0.75  ...  0.00  1.000000  0.0  0.0  0.50  0.500000  0.333333  0.0  1.0   \n",
       "4  1.00  ...  0.25  0.714286  0.0  0.0  0.50  0.666667  0.500000  0.0  1.0   \n",
       "\n",
       "   target  \n",
       "0     0.0  \n",
       "1     0.0  \n",
       "2     1.0  \n",
       "3     1.0  \n",
       "4     1.0  \n",
       "\n",
       "[5 rows x 49 columns]"
      ]
     },
     "execution_count": 7,
     "metadata": {},
     "output_type": "execute_result"
    }
   ],
   "source": [
    "dataframe.head()"
   ]
  },
  {
   "cell_type": "code",
   "execution_count": 8,
   "id": "31d9a5a7-62df-43d8-8334-09adcfab0ece",
   "metadata": {},
   "outputs": [],
   "source": [
    "dataframe = dataframe.drop(['MB'], axis=1)"
   ]
  },
  {
   "cell_type": "code",
   "execution_count": 9,
   "id": "97aa5eec-70eb-4fd2-8486-f5b40082cc36",
   "metadata": {},
   "outputs": [
    {
     "name": "stdout",
     "output_type": "stream",
     "text": [
      "13868 train examples\n",
      "1982 validation examples\n",
      "3963 test examples\n"
     ]
    }
   ],
   "source": [
    "train, test = train_test_split(dataframe, test_size=0.2)\n",
    "train, val = train_test_split(train, test_size=0.125)\n",
    "print(len(train), 'train examples')\n",
    "print(len(val), 'validation examples')\n",
    "print(len(test), 'test examples')"
   ]
  },
  {
   "cell_type": "code",
   "execution_count": 10,
   "id": "38d45025-859b-464d-8ab3-dbeba961f1d1",
   "metadata": {},
   "outputs": [],
   "source": [
    "def df_to_dataset(dataframe, shuffle=True, batch_size=32):\n",
    "  dataframe = dataframe.copy()\n",
    "  labels = dataframe.pop('target')\n",
    "  ds = tf.data.Dataset.from_tensor_slices((dict(dataframe), labels))\n",
    "  if shuffle:\n",
    "    ds = ds.shuffle(buffer_size=len(dataframe))\n",
    "  ds = ds.batch(batch_size)\n",
    "  return ds"
   ]
  },
  {
   "cell_type": "code",
   "execution_count": 11,
   "id": "f1cd5d6f-2d73-49b4-845b-10172c3043c6",
   "metadata": {},
   "outputs": [],
   "source": [
    "X_train = train.drop('target', axis=1)  \n",
    "y_train = train['target']  "
   ]
  },
  {
   "cell_type": "code",
   "execution_count": 12,
   "id": "e97f06a0-e300-4971-956d-3aadd161b163",
   "metadata": {},
   "outputs": [],
   "source": [
    "smote = SMOTE(random_state=42)\n",
    "X_train_resampled, y_train_resampled = smote.fit_resample(X_train, y_train)"
   ]
  },
  {
   "cell_type": "code",
   "execution_count": 13,
   "id": "16d4fd1c-f0f4-4d5f-a45c-6988384b9149",
   "metadata": {},
   "outputs": [],
   "source": [
    "train_resampled = X_train_resampled.copy()\n",
    "train_resampled['target'] = y_train_resampled"
   ]
  },
  {
   "cell_type": "code",
   "execution_count": 14,
   "id": "7e16ac64-1bc2-4c0f-b149-3d4ee3b26e93",
   "metadata": {
    "scrolled": true
   },
   "outputs": [
    {
     "name": "stdout",
     "output_type": "stream",
     "text": [
      "WARNING:tensorflow:From /var/folders/33/vm1_lx1125x3s7gmdn1y15r40000gn/T/ipykernel_34271/2526239303.py:4: numeric_column (from tensorflow.python.feature_column.feature_column_v2) is deprecated and will be removed in a future version.\n",
      "Instructions for updating:\n",
      "Use Keras preprocessing layers instead, either directly or via the `tf.keras.utils.FeatureSpace` utility. Each of `tf.feature_column.*` has a functional equivalent in `tf.keras.layers` for feature preprocessing when training a Keras model.\n"
     ]
    }
   ],
   "source": [
    "feature_columns = []\n",
    "\n",
    "for header in [\"raceeth\", \"q1\", \"q2\", \"q3\", \"q4\", \"q6\", \"q7\", \"q64\", \"q65\", \"q8\", \"q9\", \"q10\", \"q11\", \"q12\", \"q17\",\t\"q19\", \"q26\", \"q27\", \"q28\",\t\"q29\", \"q30\", \"q31\", \"q35\", \"q38\", \"q39\", \"q46\", \"q49\", \"q50\", \"q51\", \"q52\", \"q53\", \"q54\", \"q55\",\t\"q58\", \"q59\", \"q60\", \"q61\",\t\"q74\", \"q75\", \"q79\", \"q80\", \"q81\", \"q82\", \"q84\", \"q85\", \"q87\", \"q92\"]:\n",
    "    feature_columns.append(feature_column.numeric_column(header))\n"
   ]
  },
  {
   "cell_type": "code",
   "execution_count": 15,
   "id": "869c24f2-fd6e-406d-8b1a-b70b0a5ad61b",
   "metadata": {},
   "outputs": [],
   "source": [
    "feature_layer = tf.keras.layers.DenseFeatures(feature_columns)"
   ]
  },
  {
   "cell_type": "code",
   "execution_count": 16,
   "id": "cdc285bb-b0c0-4197-a053-fe99434affe8",
   "metadata": {},
   "outputs": [],
   "source": [
    "batch_size = 32\n",
    "train_ds = df_to_dataset(train_resampled, batch_size=batch_size)\n",
    "val_ds = df_to_dataset(val, shuffle=False, batch_size=batch_size)\n",
    "test_ds = df_to_dataset(test, shuffle=False, batch_size=batch_size)"
   ]
  },
  {
   "cell_type": "code",
   "execution_count": 17,
   "id": "f34c3f2a-1aee-46b4-88d9-cc73d40e8457",
   "metadata": {
    "scrolled": true
   },
   "outputs": [],
   "source": [
    "model = tf.keras.Sequential([\n",
    "    feature_layer,\n",
    "    layers.Dense(128, activation='relu', kernel_regularizer=regularizers.l2(0.001)),\n",
    "    layers.Dense(128, activation='relu', kernel_regularizer=regularizers.l2(0.001)),\n",
    "    layers.Dropout(.3),\n",
    "    layers.Dense(1)\n",
    "])"
   ]
  },
  {
   "cell_type": "code",
   "execution_count": 18,
   "id": "41b6b544-5185-47c4-9992-a870039e14c3",
   "metadata": {},
   "outputs": [
    {
     "name": "stdout",
     "output_type": "stream",
     "text": [
      "Class weights: {0: 1.069236700077101, 1: 0.9391846133008263}\n"
     ]
    }
   ],
   "source": [
    "from sklearn.utils.class_weight import compute_class_weight\n",
    "\n",
    "classes = np.unique(train['target'])\n",
    "class_weights = compute_class_weight(\n",
    "    class_weight='balanced', \n",
    "    classes=classes, \n",
    "    y=train['target']\n",
    ")\n",
    "class_weight_dict = {i: class_weights[i] for i in range(len(classes))}\n",
    "print(f\"Class weights: {class_weight_dict}\")"
   ]
  },
  {
   "cell_type": "code",
   "execution_count": 19,
   "id": "aa64f10a-675d-477d-bc58-a928f744727e",
   "metadata": {},
   "outputs": [],
   "source": [
    "def specificity(y_true, y_pred):\n",
    "    y_pred = tf.round(tf.nn.sigmoid(y_pred))  \n",
    "    true_negatives = tf.reduce_sum(tf.cast((y_true == 0) & (y_pred == 0), 'float'))\n",
    "    false_positives = tf.reduce_sum(tf.cast((y_true == 0) & (y_pred == 1), 'float'))\n",
    "    \n",
    "    specificity = true_negatives / (true_negatives + false_positives + tf.keras.backend.epsilon())\n",
    "    return specificity"
   ]
  },
  {
   "cell_type": "code",
   "execution_count": 20,
   "id": "aef23ce5-f6c4-4503-a557-026f55bb84a6",
   "metadata": {},
   "outputs": [],
   "source": [
    "def f1_score(y_true, y_pred):\n",
    "    y_pred = tf.round(tf.nn.sigmoid(y_pred))  \n",
    "    tp = tf.reduce_sum(tf.cast(y_true * y_pred, 'float'))\n",
    "    fp = tf.reduce_sum(tf.cast((1 - y_true) * y_pred, 'float'))\n",
    "    fn = tf.reduce_sum(tf.cast(y_true * (1 - y_pred), 'float'))\n",
    "\n",
    "    precision = tp / (tp + fp + tf.keras.backend.epsilon())\n",
    "    recall = tp / (tp + fn + tf.keras.backend.epsilon())\n",
    "    f1 = 2 * (precision * recall) / (precision + recall + tf.keras.backend.epsilon())\n",
    "    return f1"
   ]
  },
  {
   "cell_type": "code",
   "execution_count": 21,
   "id": "1a27d760-c5d7-422d-bb9e-739f32788904",
   "metadata": {},
   "outputs": [],
   "source": [
    "model.compile(optimizer='adam',\n",
    "              loss=tf.keras.losses.BinaryCrossentropy(from_logits=True),\n",
    "              metrics=[\n",
    "                  'accuracy',\n",
    "                  tf.keras.metrics.AUC(name='auc'),\n",
    "                  specificity,\n",
    "                  tf.keras.metrics.Recall(name='sensitivity'),\n",
    "                  f1_score\n",
    "                      ]\n",
    "             )"
   ]
  },
  {
   "cell_type": "code",
   "execution_count": 22,
   "id": "6a682b9b-5bb3-4460-a61b-7c2c01477151",
   "metadata": {},
   "outputs": [],
   "source": [
    "early_stopping = EarlyStopping(monitor='val_loss', patience=5, restore_best_weights=True)"
   ]
  },
  {
   "cell_type": "code",
   "execution_count": 23,
   "id": "3aca9a71-09a5-461b-be02-2fcf8bdf0677",
   "metadata": {},
   "outputs": [],
   "source": [
    "lr_scheduler = ReduceLROnPlateau(monitor='val_loss', factor=0.1, patience=3, min_lr=1e-6)\n"
   ]
  },
  {
   "cell_type": "code",
   "execution_count": 24,
   "id": "659bfe70-f194-4f96-a9e8-21b30655f7ac",
   "metadata": {
    "scrolled": true
   },
   "outputs": [
    {
     "name": "stdout",
     "output_type": "stream",
     "text": [
      "Epoch 1/50\n"
     ]
    },
    {
     "name": "stderr",
     "output_type": "stream",
     "text": [
      "2025-01-11 13:20:44.402982: I tensorflow/core/kernels/data/shuffle_dataset_op.cc:422] ShuffleDatasetV3:1: Filling up shuffle buffer (this may take a while): 7031 of 14766\n",
      "2025-01-11 13:20:54.402971: I tensorflow/core/kernels/data/shuffle_dataset_op.cc:422] ShuffleDatasetV3:1: Filling up shuffle buffer (this may take a while): 7880 of 14766\n",
      "2025-01-11 13:21:14.422343: I tensorflow/core/kernels/data/shuffle_dataset_op.cc:422] ShuffleDatasetV3:1: Filling up shuffle buffer (this may take a while): 10367 of 14766\n",
      "2025-01-11 13:21:34.393413: I tensorflow/core/kernels/data/shuffle_dataset_op.cc:422] ShuffleDatasetV3:1: Filling up shuffle buffer (this may take a while): 11023 of 14766\n",
      "2025-01-11 13:21:44.419715: I tensorflow/core/kernels/data/shuffle_dataset_op.cc:422] ShuffleDatasetV3:1: Filling up shuffle buffer (this may take a while): 11298 of 14766\n",
      "2025-01-11 13:21:54.425490: I tensorflow/core/kernels/data/shuffle_dataset_op.cc:422] ShuffleDatasetV3:1: Filling up shuffle buffer (this may take a while): 11662 of 14766\n",
      "2025-01-11 13:22:04.434105: I tensorflow/core/kernels/data/shuffle_dataset_op.cc:422] ShuffleDatasetV3:1: Filling up shuffle buffer (this may take a while): 12138 of 14766\n",
      "2025-01-11 13:22:24.400623: I tensorflow/core/kernels/data/shuffle_dataset_op.cc:422] ShuffleDatasetV3:1: Filling up shuffle buffer (this may take a while): 12725 of 14766\n",
      "2025-01-11 13:22:44.424728: I tensorflow/core/kernels/data/shuffle_dataset_op.cc:422] ShuffleDatasetV3:1: Filling up shuffle buffer (this may take a while): 13422 of 14766\n",
      "2025-01-11 13:22:54.430731: I tensorflow/core/kernels/data/shuffle_dataset_op.cc:422] ShuffleDatasetV3:1: Filling up shuffle buffer (this may take a while): 13784 of 14766\n",
      "2025-01-11 13:23:14.396042: I tensorflow/core/kernels/data/shuffle_dataset_op.cc:422] ShuffleDatasetV3:1: Filling up shuffle buffer (this may take a while): 14364 of 14766\n",
      "2025-01-11 13:23:24.404868: I tensorflow/core/kernels/data/shuffle_dataset_op.cc:422] ShuffleDatasetV3:1: Filling up shuffle buffer (this may take a while): 14726 of 14766\n"
     ]
    },
    {
     "name": "stdout",
     "output_type": "stream",
     "text": [
      "139/462 [========>.....................] - ETA: 0s - loss: 0.4749 - accuracy: 0.8500 - auc: 0.9010 - specificity: 0.8524 - sensitivity: 0.7458 - f1_score: 0.8526        "
     ]
    },
    {
     "name": "stderr",
     "output_type": "stream",
     "text": [
      "2025-01-11 13:23:25.675901: I tensorflow/core/kernels/data/shuffle_dataset_op.cc:452] Shuffle buffer filled.\n"
     ]
    },
    {
     "name": "stdout",
     "output_type": "stream",
     "text": [
      "462/462 [==============================] - 173s 2ms/step - loss: 0.3364 - accuracy: 0.8965 - auc: 0.9286 - specificity: 0.8965 - sensitivity: 0.8438 - f1_score: 0.8965 - val_loss: 0.2167 - val_accuracy: 0.9485 - val_auc: 0.9686 - val_specificity: 0.8885 - val_sensitivity: 0.9505 - val_f1_score: 0.9430 - lr: 0.0010\n",
      "Epoch 2/50\n"
     ]
    },
    {
     "name": "stderr",
     "output_type": "stream",
     "text": [
      "2025-01-11 13:23:36.657830: I tensorflow/core/kernels/data/shuffle_dataset_op.cc:422] ShuffleDatasetV3:1: Filling up shuffle buffer (this may take a while): 6866 of 14766\n",
      "2025-01-11 13:23:56.642263: I tensorflow/core/kernels/data/shuffle_dataset_op.cc:422] ShuffleDatasetV3:1: Filling up shuffle buffer (this may take a while): 7572 of 14766\n",
      "2025-01-11 13:24:16.636686: I tensorflow/core/kernels/data/shuffle_dataset_op.cc:422] ShuffleDatasetV3:1: Filling up shuffle buffer (this may take a while): 9044 of 14766\n",
      "2025-01-11 13:24:36.629171: I tensorflow/core/kernels/data/shuffle_dataset_op.cc:422] ShuffleDatasetV3:1: Filling up shuffle buffer (this may take a while): 9788 of 14766\n",
      "2025-01-11 13:24:46.657268: I tensorflow/core/kernels/data/shuffle_dataset_op.cc:422] ShuffleDatasetV3:1: Filling up shuffle buffer (this may take a while): 10533 of 14766\n",
      "2025-01-11 13:25:06.639640: I tensorflow/core/kernels/data/shuffle_dataset_op.cc:422] ShuffleDatasetV3:1: Filling up shuffle buffer (this may take a while): 11415 of 14766\n",
      "2025-01-11 13:25:16.649951: I tensorflow/core/kernels/data/shuffle_dataset_op.cc:422] ShuffleDatasetV3:1: Filling up shuffle buffer (this may take a while): 11778 of 14766\n",
      "2025-01-11 13:25:36.655338: I tensorflow/core/kernels/data/shuffle_dataset_op.cc:422] ShuffleDatasetV3:1: Filling up shuffle buffer (this may take a while): 12663 of 14766\n",
      "2025-01-11 13:25:56.645991: I tensorflow/core/kernels/data/shuffle_dataset_op.cc:422] ShuffleDatasetV3:1: Filling up shuffle buffer (this may take a while): 13384 of 14766\n",
      "2025-01-11 13:26:16.630200: I tensorflow/core/kernels/data/shuffle_dataset_op.cc:422] ShuffleDatasetV3:1: Filling up shuffle buffer (this may take a while): 14618 of 14766\n"
     ]
    },
    {
     "name": "stdout",
     "output_type": "stream",
     "text": [
      "114/462 [======>.......................] - ETA: 0s - loss: 0.2050 - accuracy: 0.9402 - auc: 0.9589 - specificity: 0.9527 - sensitivity: 0.9093 - f1_score: 0.9411    "
     ]
    },
    {
     "name": "stderr",
     "output_type": "stream",
     "text": [
      "2025-01-11 13:26:21.188722: I tensorflow/core/kernels/data/shuffle_dataset_op.cc:452] Shuffle buffer filled.\n"
     ]
    },
    {
     "name": "stdout",
     "output_type": "stream",
     "text": [
      "462/462 [==============================] - 175s 1ms/step - loss: 0.1869 - accuracy: 0.9450 - auc: 0.9643 - specificity: 0.9504 - sensitivity: 0.9195 - f1_score: 0.9469 - val_loss: 0.1527 - val_accuracy: 0.9652 - val_auc: 0.9825 - val_specificity: 0.9280 - val_sensitivity: 0.9706 - val_f1_score: 0.9629 - lr: 0.0010\n",
      "Epoch 3/50\n"
     ]
    },
    {
     "name": "stderr",
     "output_type": "stream",
     "text": [
      "2025-01-11 13:26:31.830250: I tensorflow/core/kernels/data/shuffle_dataset_op.cc:422] ShuffleDatasetV3:1: Filling up shuffle buffer (this may take a while): 6118 of 14766\n",
      "2025-01-11 13:26:51.821591: I tensorflow/core/kernels/data/shuffle_dataset_op.cc:422] ShuffleDatasetV3:1: Filling up shuffle buffer (this may take a while): 8158 of 14766\n",
      "2025-01-11 13:27:11.823736: I tensorflow/core/kernels/data/shuffle_dataset_op.cc:422] ShuffleDatasetV3:1: Filling up shuffle buffer (this may take a while): 9596 of 14766\n",
      "2025-01-11 13:27:31.813176: I tensorflow/core/kernels/data/shuffle_dataset_op.cc:422] ShuffleDatasetV3:1: Filling up shuffle buffer (this may take a while): 11091 of 14766\n",
      "2025-01-11 13:27:51.802298: I tensorflow/core/kernels/data/shuffle_dataset_op.cc:422] ShuffleDatasetV3:1: Filling up shuffle buffer (this may take a while): 12270 of 14766\n",
      "2025-01-11 13:28:11.803269: I tensorflow/core/kernels/data/shuffle_dataset_op.cc:422] ShuffleDatasetV3:1: Filling up shuffle buffer (this may take a while): 12864 of 14766\n",
      "2025-01-11 13:28:31.802971: I tensorflow/core/kernels/data/shuffle_dataset_op.cc:422] ShuffleDatasetV3:1: Filling up shuffle buffer (this may take a while): 13860 of 14766\n"
     ]
    },
    {
     "name": "stdout",
     "output_type": "stream",
     "text": [
      "136/462 [=======>......................] - ETA: 0s - loss: 0.1503 - accuracy: 0.9570 - auc: 0.9733 - specificity: 0.9664 - sensitivity: 0.9328 - f1_score: 0.9618    "
     ]
    },
    {
     "name": "stderr",
     "output_type": "stream",
     "text": [
      "2025-01-11 13:28:49.723931: I tensorflow/core/kernels/data/shuffle_dataset_op.cc:452] Shuffle buffer filled.\n"
     ]
    },
    {
     "name": "stdout",
     "output_type": "stream",
     "text": [
      "462/462 [==============================] - 149s 1ms/step - loss: 0.1422 - accuracy: 0.9594 - auc: 0.9739 - specificity: 0.9681 - sensitivity: 0.9370 - f1_score: 0.9627 - val_loss: 0.1412 - val_accuracy: 0.9455 - val_auc: 0.9608 - val_specificity: 0.9956 - val_sensitivity: 0.9018 - val_f1_score: 0.9564 - lr: 0.0010\n",
      "Epoch 4/50\n"
     ]
    },
    {
     "name": "stderr",
     "output_type": "stream",
     "text": [
      "2025-01-11 13:29:00.317087: I tensorflow/core/kernels/data/shuffle_dataset_op.cc:422] ShuffleDatasetV3:1: Filling up shuffle buffer (this may take a while): 6800 of 14766\n",
      "2025-01-11 13:29:10.321423: I tensorflow/core/kernels/data/shuffle_dataset_op.cc:422] ShuffleDatasetV3:1: Filling up shuffle buffer (this may take a while): 7148 of 14766\n",
      "2025-01-11 13:29:20.336032: I tensorflow/core/kernels/data/shuffle_dataset_op.cc:422] ShuffleDatasetV3:1: Filling up shuffle buffer (this may take a while): 8255 of 14766\n",
      "2025-01-11 13:29:40.349299: I tensorflow/core/kernels/data/shuffle_dataset_op.cc:422] ShuffleDatasetV3:1: Filling up shuffle buffer (this may take a while): 9251 of 14766\n",
      "2025-01-11 13:30:00.321990: I tensorflow/core/kernels/data/shuffle_dataset_op.cc:422] ShuffleDatasetV3:1: Filling up shuffle buffer (this may take a while): 9972 of 14766\n",
      "2025-01-11 13:30:10.357065: I tensorflow/core/kernels/data/shuffle_dataset_op.cc:422] ShuffleDatasetV3:1: Filling up shuffle buffer (this may take a while): 10335 of 14766\n",
      "2025-01-11 13:30:20.363526: I tensorflow/core/kernels/data/shuffle_dataset_op.cc:422] ShuffleDatasetV3:1: Filling up shuffle buffer (this may take a while): 11079 of 14766\n",
      "2025-01-11 13:30:40.360628: I tensorflow/core/kernels/data/shuffle_dataset_op.cc:422] ShuffleDatasetV3:1: Filling up shuffle buffer (this may take a while): 11800 of 14766\n",
      "2025-01-11 13:31:00.330299: I tensorflow/core/kernels/data/shuffle_dataset_op.cc:422] ShuffleDatasetV3:1: Filling up shuffle buffer (this may take a while): 12458 of 14766\n",
      "2025-01-11 13:31:20.312435: I tensorflow/core/kernels/data/shuffle_dataset_op.cc:422] ShuffleDatasetV3:1: Filling up shuffle buffer (this may take a while): 13195 of 14766\n",
      "2025-01-11 13:31:30.348393: I tensorflow/core/kernels/data/shuffle_dataset_op.cc:422] ShuffleDatasetV3:1: Filling up shuffle buffer (this may take a while): 13611 of 14766\n",
      "2025-01-11 13:31:50.312071: I tensorflow/core/kernels/data/shuffle_dataset_op.cc:422] ShuffleDatasetV3:1: Filling up shuffle buffer (this may take a while): 14191 of 14766\n",
      "2025-01-11 13:32:00.318471: I tensorflow/core/kernels/data/shuffle_dataset_op.cc:422] ShuffleDatasetV3:1: Filling up shuffle buffer (this may take a while): 14546 of 14766\n"
     ]
    },
    {
     "name": "stdout",
     "output_type": "stream",
     "text": [
      "122/462 [======>.......................] - ETA: 0s - loss: 0.1178 - accuracy: 0.9682 - auc: 0.9811 - specificity: 0.9735 - sensitivity: 0.9483 - f1_score: 0.9735    "
     ]
    },
    {
     "name": "stderr",
     "output_type": "stream",
     "text": [
      "2025-01-11 13:32:07.137603: I tensorflow/core/kernels/data/shuffle_dataset_op.cc:452] Shuffle buffer filled.\n"
     ]
    },
    {
     "name": "stdout",
     "output_type": "stream",
     "text": [
      "462/462 [==============================] - 197s 1ms/step - loss: 0.1159 - accuracy: 0.9673 - auc: 0.9803 - specificity: 0.9752 - sensitivity: 0.9476 - f1_score: 0.9714 - val_loss: 0.1103 - val_accuracy: 0.9612 - val_auc: 0.9772 - val_specificity: 0.9924 - val_sensitivity: 0.9303 - val_f1_score: 0.9728 - lr: 0.0010\n",
      "Epoch 5/50\n"
     ]
    },
    {
     "name": "stderr",
     "output_type": "stream",
     "text": [
      "2025-01-11 13:32:17.728994: I tensorflow/core/kernels/data/shuffle_dataset_op.cc:422] ShuffleDatasetV3:1: Filling up shuffle buffer (this may take a while): 5866 of 14766\n",
      "2025-01-11 13:32:27.741758: I tensorflow/core/kernels/data/shuffle_dataset_op.cc:422] ShuffleDatasetV3:1: Filling up shuffle buffer (this may take a while): 6212 of 14766\n",
      "2025-01-11 13:32:37.752171: I tensorflow/core/kernels/data/shuffle_dataset_op.cc:422] ShuffleDatasetV3:1: Filling up shuffle buffer (this may take a while): 6574 of 14766\n",
      "2025-01-11 13:32:47.774955: I tensorflow/core/kernels/data/shuffle_dataset_op.cc:422] ShuffleDatasetV3:1: Filling up shuffle buffer (this may take a while): 7116 of 14766\n",
      "2025-01-11 13:33:07.738309: I tensorflow/core/kernels/data/shuffle_dataset_op.cc:422] ShuffleDatasetV3:1: Filling up shuffle buffer (this may take a while): 8907 of 14766\n",
      "2025-01-11 13:33:17.772467: I tensorflow/core/kernels/data/shuffle_dataset_op.cc:422] ShuffleDatasetV3:1: Filling up shuffle buffer (this may take a while): 9651 of 14766\n",
      "2025-01-11 13:33:37.762060: I tensorflow/core/kernels/data/shuffle_dataset_op.cc:422] ShuffleDatasetV3:1: Filling up shuffle buffer (this may take a while): 10459 of 14766\n",
      "2025-01-11 13:33:57.731976: I tensorflow/core/kernels/data/shuffle_dataset_op.cc:422] ShuffleDatasetV3:1: Filling up shuffle buffer (this may take a while): 11176 of 14766\n",
      "2025-01-11 13:34:07.761689: I tensorflow/core/kernels/data/shuffle_dataset_op.cc:422] ShuffleDatasetV3:1: Filling up shuffle buffer (this may take a while): 11533 of 14766\n",
      "2025-01-11 13:34:27.740038: I tensorflow/core/kernels/data/shuffle_dataset_op.cc:422] ShuffleDatasetV3:1: Filling up shuffle buffer (this may take a while): 12234 of 14766\n",
      "2025-01-11 13:34:47.732031: I tensorflow/core/kernels/data/shuffle_dataset_op.cc:422] ShuffleDatasetV3:1: Filling up shuffle buffer (this may take a while): 13285 of 14766\n",
      "2025-01-11 13:34:57.738404: I tensorflow/core/kernels/data/shuffle_dataset_op.cc:422] ShuffleDatasetV3:1: Filling up shuffle buffer (this may take a while): 13647 of 14766\n",
      "2025-01-11 13:35:07.760103: I tensorflow/core/kernels/data/shuffle_dataset_op.cc:422] ShuffleDatasetV3:1: Filling up shuffle buffer (this may take a while): 14292 of 14766\n"
     ]
    },
    {
     "name": "stdout",
     "output_type": "stream",
     "text": [
      " 93/462 [=====>........................] - ETA: 0s - loss: 0.1055 - accuracy: 0.9751 - auc: 0.9868 - specificity: 0.9752 - sensitivity: 0.9608 - f1_score: 0.9784   "
     ]
    },
    {
     "name": "stderr",
     "output_type": "stream",
     "text": [
      "2025-01-11 13:35:21.440673: I tensorflow/core/kernels/data/shuffle_dataset_op.cc:452] Shuffle buffer filled.\n"
     ]
    },
    {
     "name": "stdout",
     "output_type": "stream",
     "text": [
      "462/462 [==============================] - 194s 1ms/step - loss: 0.1022 - accuracy: 0.9736 - auc: 0.9835 - specificity: 0.9776 - sensitivity: 0.9584 - f1_score: 0.9753 - val_loss: 0.0895 - val_accuracy: 0.9733 - val_auc: 0.9880 - val_specificity: 0.9805 - val_sensitivity: 0.9596 - val_f1_score: 0.9835 - lr: 0.0010\n",
      "Epoch 6/50\n"
     ]
    },
    {
     "name": "stderr",
     "output_type": "stream",
     "text": [
      "2025-01-11 13:35:32.082981: I tensorflow/core/kernels/data/shuffle_dataset_op.cc:422] ShuffleDatasetV3:1: Filling up shuffle buffer (this may take a while): 6798 of 14766\n",
      "2025-01-11 13:35:52.060456: I tensorflow/core/kernels/data/shuffle_dataset_op.cc:422] ShuffleDatasetV3:1: Filling up shuffle buffer (this may take a while): 7874 of 14766\n",
      "2025-01-11 13:36:02.081446: I tensorflow/core/kernels/data/shuffle_dataset_op.cc:422] ShuffleDatasetV3:1: Filling up shuffle buffer (this may take a while): 8259 of 14766\n",
      "2025-01-11 13:36:12.104466: I tensorflow/core/kernels/data/shuffle_dataset_op.cc:422] ShuffleDatasetV3:1: Filling up shuffle buffer (this may take a while): 8619 of 14766\n",
      "2025-01-11 13:36:32.086232: I tensorflow/core/kernels/data/shuffle_dataset_op.cc:422] ShuffleDatasetV3:1: Filling up shuffle buffer (this may take a while): 9546 of 14766\n",
      "2025-01-11 13:36:52.070425: I tensorflow/core/kernels/data/shuffle_dataset_op.cc:422] ShuffleDatasetV3:1: Filling up shuffle buffer (this may take a while): 10338 of 14766\n",
      "2025-01-11 13:37:12.117647: I tensorflow/core/kernels/data/shuffle_dataset_op.cc:422] ShuffleDatasetV3:1: Filling up shuffle buffer (this may take a while): 11180 of 14766\n",
      "2025-01-11 13:37:32.111712: I tensorflow/core/kernels/data/shuffle_dataset_op.cc:422] ShuffleDatasetV3:1: Filling up shuffle buffer (this may take a while): 11900 of 14766\n",
      "2025-01-11 13:37:52.069264: I tensorflow/core/kernels/data/shuffle_dataset_op.cc:422] ShuffleDatasetV3:1: Filling up shuffle buffer (this may take a while): 12714 of 14766\n",
      "2025-01-11 13:38:12.064597: I tensorflow/core/kernels/data/shuffle_dataset_op.cc:422] ShuffleDatasetV3:1: Filling up shuffle buffer (this may take a while): 13347 of 14766\n",
      "2025-01-11 13:38:22.119523: I tensorflow/core/kernels/data/shuffle_dataset_op.cc:422] ShuffleDatasetV3:1: Filling up shuffle buffer (this may take a while): 13676 of 14766\n",
      "2025-01-11 13:38:42.110374: I tensorflow/core/kernels/data/shuffle_dataset_op.cc:422] ShuffleDatasetV3:1: Filling up shuffle buffer (this may take a while): 14258 of 14766\n",
      "2025-01-11 13:38:52.119331: I tensorflow/core/kernels/data/shuffle_dataset_op.cc:422] ShuffleDatasetV3:1: Filling up shuffle buffer (this may take a while): 14620 of 14766\n"
     ]
    },
    {
     "name": "stdout",
     "output_type": "stream",
     "text": [
      "130/462 [=======>......................] - ETA: 0s - loss: 0.0895 - accuracy: 0.9774 - auc: 0.9876 - specificity: 0.9823 - sensitivity: 0.9644 - f1_score: 0.9816    "
     ]
    },
    {
     "name": "stderr",
     "output_type": "stream",
     "text": [
      "2025-01-11 13:38:54.643965: I tensorflow/core/kernels/data/shuffle_dataset_op.cc:452] Shuffle buffer filled.\n"
     ]
    },
    {
     "name": "stdout",
     "output_type": "stream",
     "text": [
      "462/462 [==============================] - 213s 1ms/step - loss: 0.0936 - accuracy: 0.9741 - auc: 0.9831 - specificity: 0.9782 - sensitivity: 0.9600 - f1_score: 0.9751 - val_loss: 0.0814 - val_accuracy: 0.9763 - val_auc: 0.9889 - val_specificity: 0.9811 - val_sensitivity: 0.9651 - val_f1_score: 0.9831 - lr: 0.0010\n",
      "Epoch 7/50\n"
     ]
    },
    {
     "name": "stderr",
     "output_type": "stream",
     "text": [
      "2025-01-11 13:39:05.239653: I tensorflow/core/kernels/data/shuffle_dataset_op.cc:422] ShuffleDatasetV3:1: Filling up shuffle buffer (this may take a while): 6576 of 14766\n",
      "2025-01-11 13:39:15.274707: I tensorflow/core/kernels/data/shuffle_dataset_op.cc:422] ShuffleDatasetV3:1: Filling up shuffle buffer (this may take a while): 7363 of 14766\n",
      "2025-01-11 13:39:35.255705: I tensorflow/core/kernels/data/shuffle_dataset_op.cc:422] ShuffleDatasetV3:1: Filling up shuffle buffer (this may take a while): 9587 of 14766\n",
      "2025-01-11 13:39:55.255548: I tensorflow/core/kernels/data/shuffle_dataset_op.cc:422] ShuffleDatasetV3:1: Filling up shuffle buffer (this may take a while): 10287 of 14766\n",
      "2025-01-11 13:40:15.249768: I tensorflow/core/kernels/data/shuffle_dataset_op.cc:422] ShuffleDatasetV3:1: Filling up shuffle buffer (this may take a while): 11336 of 14766\n",
      "2025-01-11 13:40:25.292545: I tensorflow/core/kernels/data/shuffle_dataset_op.cc:422] ShuffleDatasetV3:1: Filling up shuffle buffer (this may take a while): 11982 of 14766\n",
      "2025-01-11 13:40:45.272805: I tensorflow/core/kernels/data/shuffle_dataset_op.cc:422] ShuffleDatasetV3:1: Filling up shuffle buffer (this may take a while): 13095 of 14766\n",
      "2025-01-11 13:40:55.283766: I tensorflow/core/kernels/data/shuffle_dataset_op.cc:422] ShuffleDatasetV3:1: Filling up shuffle buffer (this may take a while): 13458 of 14766\n",
      "2025-01-11 13:41:15.235329: I tensorflow/core/kernels/data/shuffle_dataset_op.cc:422] ShuffleDatasetV3:1: Filling up shuffle buffer (this may take a while): 14246 of 14766\n",
      "2025-01-11 13:41:25.237325: I tensorflow/core/kernels/data/shuffle_dataset_op.cc:422] ShuffleDatasetV3:1: Filling up shuffle buffer (this may take a while): 14643 of 14766\n"
     ]
    },
    {
     "name": "stdout",
     "output_type": "stream",
     "text": [
      " 71/462 [===>..........................] - ETA: 0s - loss: 0.0840 - accuracy: 0.9780 - auc: 0.9842 - specificity: 0.9785 - sensitivity: 0.9669 - f1_score: 0.9768     "
     ]
    },
    {
     "name": "stderr",
     "output_type": "stream",
     "text": [
      "2025-01-11 13:41:26.508362: I tensorflow/core/kernels/data/shuffle_dataset_op.cc:452] Shuffle buffer filled.\n"
     ]
    },
    {
     "name": "stdout",
     "output_type": "stream",
     "text": [
      "462/462 [==============================] - 152s 1ms/step - loss: 0.0874 - accuracy: 0.9756 - auc: 0.9849 - specificity: 0.9789 - sensitivity: 0.9617 - f1_score: 0.9763 - val_loss: 0.0786 - val_accuracy: 0.9717 - val_auc: 0.9847 - val_specificity: 0.9949 - val_sensitivity: 0.9495 - val_f1_score: 0.9829 - lr: 0.0010\n",
      "Epoch 8/50\n"
     ]
    },
    {
     "name": "stderr",
     "output_type": "stream",
     "text": [
      "2025-01-11 13:41:37.160788: I tensorflow/core/kernels/data/shuffle_dataset_op.cc:422] ShuffleDatasetV3:1: Filling up shuffle buffer (this may take a while): 1854 of 14766\n",
      "2025-01-11 13:41:47.172101: I tensorflow/core/kernels/data/shuffle_dataset_op.cc:422] ShuffleDatasetV3:1: Filling up shuffle buffer (this may take a while): 6131 of 14766\n",
      "2025-01-11 13:41:57.195169: I tensorflow/core/kernels/data/shuffle_dataset_op.cc:422] ShuffleDatasetV3:1: Filling up shuffle buffer (this may take a while): 7277 of 14766\n",
      "2025-01-11 13:42:07.200199: I tensorflow/core/kernels/data/shuffle_dataset_op.cc:422] ShuffleDatasetV3:1: Filling up shuffle buffer (this may take a while): 8426 of 14766\n",
      "2025-01-11 13:42:27.160684: I tensorflow/core/kernels/data/shuffle_dataset_op.cc:422] ShuffleDatasetV3:1: Filling up shuffle buffer (this may take a while): 9530 of 14766\n",
      "2025-01-11 13:42:37.184564: I tensorflow/core/kernels/data/shuffle_dataset_op.cc:422] ShuffleDatasetV3:1: Filling up shuffle buffer (this may take a while): 9892 of 14766\n",
      "2025-01-11 13:42:57.172121: I tensorflow/core/kernels/data/shuffle_dataset_op.cc:422] ShuffleDatasetV3:1: Filling up shuffle buffer (this may take a while): 10728 of 14766\n",
      "2025-01-11 13:43:17.159908: I tensorflow/core/kernels/data/shuffle_dataset_op.cc:422] ShuffleDatasetV3:1: Filling up shuffle buffer (this may take a while): 11564 of 14766\n",
      "2025-01-11 13:43:37.182996: I tensorflow/core/kernels/data/shuffle_dataset_op.cc:422] ShuffleDatasetV3:1: Filling up shuffle buffer (this may take a while): 12263 of 14766\n",
      "2025-01-11 13:43:57.175070: I tensorflow/core/kernels/data/shuffle_dataset_op.cc:422] ShuffleDatasetV3:1: Filling up shuffle buffer (this may take a while): 13367 of 14766\n"
     ]
    },
    {
     "name": "stdout",
     "output_type": "stream",
     "text": [
      "135/462 [=======>......................] - ETA: 0s - loss: 0.0732 - accuracy: 0.9829 - auc: 0.9900 - specificity: 0.9859 - sensitivity: 0.9724 - f1_score: 0.9846    "
     ]
    },
    {
     "name": "stderr",
     "output_type": "stream",
     "text": [
      "2025-01-11 13:44:05.409432: I tensorflow/core/kernels/data/shuffle_dataset_op.cc:452] Shuffle buffer filled.\n"
     ]
    },
    {
     "name": "stdout",
     "output_type": "stream",
     "text": [
      "462/462 [==============================] - 159s 1ms/step - loss: 0.0779 - accuracy: 0.9789 - auc: 0.9869 - specificity: 0.9831 - sensitivity: 0.9672 - f1_score: 0.9805 - val_loss: 0.0752 - val_accuracy: 0.9692 - val_auc: 0.9860 - val_specificity: 0.9953 - val_sensitivity: 0.9477 - val_f1_score: 0.9845 - lr: 0.0010\n",
      "Epoch 9/50\n"
     ]
    },
    {
     "name": "stderr",
     "output_type": "stream",
     "text": [
      "2025-01-11 13:44:16.007556: I tensorflow/core/kernels/data/shuffle_dataset_op.cc:422] ShuffleDatasetV3:1: Filling up shuffle buffer (this may take a while): 7140 of 14766\n",
      "2025-01-11 13:44:26.016409: I tensorflow/core/kernels/data/shuffle_dataset_op.cc:422] ShuffleDatasetV3:1: Filling up shuffle buffer (this may take a while): 7508 of 14766\n",
      "2025-01-11 13:44:46.009882: I tensorflow/core/kernels/data/shuffle_dataset_op.cc:422] ShuffleDatasetV3:1: Filling up shuffle buffer (this may take a while): 8240 of 14766\n",
      "2025-01-11 13:45:06.002619: I tensorflow/core/kernels/data/shuffle_dataset_op.cc:422] ShuffleDatasetV3:1: Filling up shuffle buffer (this may take a while): 10205 of 14766\n",
      "2025-01-11 13:45:16.006789: I tensorflow/core/kernels/data/shuffle_dataset_op.cc:422] ShuffleDatasetV3:1: Filling up shuffle buffer (this may take a while): 10566 of 14766\n",
      "2025-01-11 13:45:26.000778: I tensorflow/core/kernels/data/shuffle_dataset_op.cc:422] ShuffleDatasetV3:1: Filling up shuffle buffer (this may take a while): 11263 of 14766\n",
      "2025-01-11 13:45:36.018337: I tensorflow/core/kernels/data/shuffle_dataset_op.cc:422] ShuffleDatasetV3:1: Filling up shuffle buffer (this may take a while): 11693 of 14766\n",
      "2025-01-11 13:45:56.009050: I tensorflow/core/kernels/data/shuffle_dataset_op.cc:422] ShuffleDatasetV3:1: Filling up shuffle buffer (this may take a while): 12399 of 14766\n",
      "2025-01-11 13:46:15.985066: I tensorflow/core/kernels/data/shuffle_dataset_op.cc:422] ShuffleDatasetV3:1: Filling up shuffle buffer (this may take a while): 13080 of 14766\n",
      "2025-01-11 13:46:25.989779: I tensorflow/core/kernels/data/shuffle_dataset_op.cc:422] ShuffleDatasetV3:1: Filling up shuffle buffer (this may take a while): 13443 of 14766\n",
      "2025-01-11 13:46:35.999250: I tensorflow/core/kernels/data/shuffle_dataset_op.cc:422] ShuffleDatasetV3:1: Filling up shuffle buffer (this may take a while): 13843 of 14766\n",
      "2025-01-11 13:46:55.974504: I tensorflow/core/kernels/data/shuffle_dataset_op.cc:422] ShuffleDatasetV3:1: Filling up shuffle buffer (this may take a while): 14630 of 14766\n"
     ]
    },
    {
     "name": "stdout",
     "output_type": "stream",
     "text": [
      "111/462 [======>.......................] - ETA: 0s - loss: 0.0723 - accuracy: 0.9834 - auc: 0.9891 - specificity: 0.9868 - sensitivity: 0.9751 - f1_score: 0.9848    "
     ]
    },
    {
     "name": "stderr",
     "output_type": "stream",
     "text": [
      "2025-01-11 13:46:57.384851: I tensorflow/core/kernels/data/shuffle_dataset_op.cc:452] Shuffle buffer filled.\n"
     ]
    },
    {
     "name": "stdout",
     "output_type": "stream",
     "text": [
      "462/462 [==============================] - 172s 1ms/step - loss: 0.0717 - accuracy: 0.9825 - auc: 0.9888 - specificity: 0.9851 - sensitivity: 0.9726 - f1_score: 0.9831 - val_loss: 0.0758 - val_accuracy: 0.9834 - val_auc: 0.9929 - val_specificity: 0.9532 - val_sensitivity: 0.9908 - val_f1_score: 0.9814 - lr: 0.0010\n",
      "Epoch 10/50\n"
     ]
    },
    {
     "name": "stderr",
     "output_type": "stream",
     "text": [
      "2025-01-11 13:47:08.026920: I tensorflow/core/kernels/data/shuffle_dataset_op.cc:422] ShuffleDatasetV3:1: Filling up shuffle buffer (this may take a while): 8746 of 14766\n",
      "2025-01-11 13:47:18.045303: I tensorflow/core/kernels/data/shuffle_dataset_op.cc:422] ShuffleDatasetV3:1: Filling up shuffle buffer (this may take a while): 9613 of 14766\n",
      "2025-01-11 13:47:28.050418: I tensorflow/core/kernels/data/shuffle_dataset_op.cc:422] ShuffleDatasetV3:1: Filling up shuffle buffer (this may take a while): 9974 of 14766\n",
      "2025-01-11 13:47:38.076543: I tensorflow/core/kernels/data/shuffle_dataset_op.cc:422] ShuffleDatasetV3:1: Filling up shuffle buffer (this may take a while): 10334 of 14766\n",
      "2025-01-11 13:47:58.040261: I tensorflow/core/kernels/data/shuffle_dataset_op.cc:422] ShuffleDatasetV3:1: Filling up shuffle buffer (this may take a while): 11046 of 14766\n",
      "2025-01-11 13:48:08.054430: I tensorflow/core/kernels/data/shuffle_dataset_op.cc:422] ShuffleDatasetV3:1: Filling up shuffle buffer (this may take a while): 11398 of 14766\n",
      "2025-01-11 13:48:28.044007: I tensorflow/core/kernels/data/shuffle_dataset_op.cc:422] ShuffleDatasetV3:1: Filling up shuffle buffer (this may take a while): 12496 of 14766\n",
      "2025-01-11 13:48:38.078916: I tensorflow/core/kernels/data/shuffle_dataset_op.cc:422] ShuffleDatasetV3:1: Filling up shuffle buffer (this may take a while): 12890 of 14766\n",
      "2025-01-11 13:48:58.048807: I tensorflow/core/kernels/data/shuffle_dataset_op.cc:422] ShuffleDatasetV3:1: Filling up shuffle buffer (this may take a while): 13468 of 14766\n",
      "2025-01-11 13:49:08.049306: I tensorflow/core/kernels/data/shuffle_dataset_op.cc:422] ShuffleDatasetV3:1: Filling up shuffle buffer (this may take a while): 13866 of 14766\n",
      "2025-01-11 13:49:18.050645: I tensorflow/core/kernels/data/shuffle_dataset_op.cc:422] ShuffleDatasetV3:1: Filling up shuffle buffer (this may take a while): 14197 of 14766\n"
     ]
    },
    {
     "name": "stdout",
     "output_type": "stream",
     "text": [
      "136/462 [=======>......................] - ETA: 0s - loss: 0.0713 - accuracy: 0.9791 - auc: 0.9875 - specificity: 0.9808 - sensitivity: 0.9697 - f1_score: 0.9801    "
     ]
    },
    {
     "name": "stderr",
     "output_type": "stream",
     "text": [
      "2025-01-11 13:49:32.296111: I tensorflow/core/kernels/data/shuffle_dataset_op.cc:452] Shuffle buffer filled.\n"
     ]
    },
    {
     "name": "stdout",
     "output_type": "stream",
     "text": [
      "462/462 [==============================] - 155s 1ms/step - loss: 0.0727 - accuracy: 0.9795 - auc: 0.9864 - specificity: 0.9823 - sensitivity: 0.9687 - f1_score: 0.9799 - val_loss: 0.0700 - val_accuracy: 0.9828 - val_auc: 0.9910 - val_specificity: 0.9646 - val_sensitivity: 0.9872 - val_f1_score: 0.9822 - lr: 0.0010\n",
      "Epoch 11/50\n"
     ]
    },
    {
     "name": "stderr",
     "output_type": "stream",
     "text": [
      "2025-01-11 13:49:42.914627: I tensorflow/core/kernels/data/shuffle_dataset_op.cc:422] ShuffleDatasetV3:1: Filling up shuffle buffer (this may take a while): 7269 of 14766\n",
      "2025-01-11 13:50:02.893511: I tensorflow/core/kernels/data/shuffle_dataset_op.cc:422] ShuffleDatasetV3:1: Filling up shuffle buffer (this may take a while): 9766 of 14766\n",
      "2025-01-11 13:50:12.897571: I tensorflow/core/kernels/data/shuffle_dataset_op.cc:422] ShuffleDatasetV3:1: Filling up shuffle buffer (this may take a while): 10504 of 14766\n",
      "2025-01-11 13:50:32.891492: I tensorflow/core/kernels/data/shuffle_dataset_op.cc:422] ShuffleDatasetV3:1: Filling up shuffle buffer (this may take a while): 11232 of 14766\n",
      "2025-01-11 13:50:42.898247: I tensorflow/core/kernels/data/shuffle_dataset_op.cc:422] ShuffleDatasetV3:1: Filling up shuffle buffer (this may take a while): 11831 of 14766\n",
      "2025-01-11 13:50:52.922913: I tensorflow/core/kernels/data/shuffle_dataset_op.cc:422] ShuffleDatasetV3:1: Filling up shuffle buffer (this may take a while): 12200 of 14766\n"
     ]
    },
    {
     "name": "stdout",
     "output_type": "stream",
     "text": [
      "117/462 [======>.......................] - ETA: 0s - loss: 0.0684 - accuracy: 0.9800 - auc: 0.9875 - specificity: 0.9867 - sensitivity: 0.9699 - f1_score: 0.9830    "
     ]
    },
    {
     "name": "stderr",
     "output_type": "stream",
     "text": [
      "2025-01-11 13:51:03.873024: I tensorflow/core/kernels/data/shuffle_dataset_op.cc:452] Shuffle buffer filled.\n"
     ]
    },
    {
     "name": "stdout",
     "output_type": "stream",
     "text": [
      "462/462 [==============================] - 92s 1ms/step - loss: 0.0695 - accuracy: 0.9799 - auc: 0.9869 - specificity: 0.9823 - sensitivity: 0.9707 - f1_score: 0.9804 - val_loss: 0.0855 - val_accuracy: 0.9788 - val_auc: 0.9820 - val_specificity: 0.9266 - val_sensitivity: 1.0000 - val_f1_score: 0.9714 - lr: 0.0010\n",
      "Epoch 12/50\n"
     ]
    },
    {
     "name": "stderr",
     "output_type": "stream",
     "text": [
      "2025-01-11 13:51:14.506085: I tensorflow/core/kernels/data/shuffle_dataset_op.cc:422] ShuffleDatasetV3:1: Filling up shuffle buffer (this may take a while): 9138 of 14766\n",
      "2025-01-11 13:51:34.511162: I tensorflow/core/kernels/data/shuffle_dataset_op.cc:422] ShuffleDatasetV3:1: Filling up shuffle buffer (this may take a while): 10858 of 14766\n",
      "2025-01-11 13:51:54.524921: I tensorflow/core/kernels/data/shuffle_dataset_op.cc:422] ShuffleDatasetV3:1: Filling up shuffle buffer (this may take a while): 11749 of 14766\n",
      "2025-01-11 13:52:04.538474: I tensorflow/core/kernels/data/shuffle_dataset_op.cc:422] ShuffleDatasetV3:1: Filling up shuffle buffer (this may take a while): 12610 of 14766\n",
      "2025-01-11 13:52:24.529385: I tensorflow/core/kernels/data/shuffle_dataset_op.cc:422] ShuffleDatasetV3:1: Filling up shuffle buffer (this may take a while): 13436 of 14766\n",
      "2025-01-11 13:52:44.498598: I tensorflow/core/kernels/data/shuffle_dataset_op.cc:422] ShuffleDatasetV3:1: Filling up shuffle buffer (this may take a while): 14171 of 14766\n"
     ]
    },
    {
     "name": "stdout",
     "output_type": "stream",
     "text": [
      "118/462 [======>.......................] - ETA: 0s - loss: 0.0653 - accuracy: 0.9809 - auc: 0.9889 - specificity: 0.9833 - sensitivity: 0.9728 - f1_score: 0.9838    "
     ]
    },
    {
     "name": "stderr",
     "output_type": "stream",
     "text": [
      "2025-01-11 13:52:48.202950: I tensorflow/core/kernels/data/shuffle_dataset_op.cc:452] Shuffle buffer filled.\n"
     ]
    },
    {
     "name": "stdout",
     "output_type": "stream",
     "text": [
      "462/462 [==============================] - 104s 1ms/step - loss: 0.0658 - accuracy: 0.9818 - auc: 0.9883 - specificity: 0.9840 - sensitivity: 0.9732 - f1_score: 0.9825 - val_loss: 0.0742 - val_accuracy: 0.9677 - val_auc: 0.9780 - val_specificity: 0.9927 - val_sensitivity: 0.9450 - val_f1_score: 0.9767 - lr: 0.0010\n",
      "Epoch 13/50\n"
     ]
    },
    {
     "name": "stderr",
     "output_type": "stream",
     "text": [
      "2025-01-11 13:52:58.799723: I tensorflow/core/kernels/data/shuffle_dataset_op.cc:422] ShuffleDatasetV3:1: Filling up shuffle buffer (this may take a while): 9204 of 14766\n",
      "2025-01-11 13:53:08.806694: I tensorflow/core/kernels/data/shuffle_dataset_op.cc:422] ShuffleDatasetV3:1: Filling up shuffle buffer (this may take a while): 10879 of 14766\n",
      "2025-01-11 13:53:28.814148: I tensorflow/core/kernels/data/shuffle_dataset_op.cc:422] ShuffleDatasetV3:1: Filling up shuffle buffer (this may take a while): 11996 of 14766\n",
      "2025-01-11 13:53:38.814736: I tensorflow/core/kernels/data/shuffle_dataset_op.cc:422] ShuffleDatasetV3:1: Filling up shuffle buffer (this may take a while): 12755 of 14766\n",
      "2025-01-11 13:53:48.837401: I tensorflow/core/kernels/data/shuffle_dataset_op.cc:422] ShuffleDatasetV3:1: Filling up shuffle buffer (this may take a while): 13309 of 14766\n",
      "2025-01-11 13:54:08.804017: I tensorflow/core/kernels/data/shuffle_dataset_op.cc:422] ShuffleDatasetV3:1: Filling up shuffle buffer (this may take a while): 14010 of 14766\n",
      "2025-01-11 13:54:18.812190: I tensorflow/core/kernels/data/shuffle_dataset_op.cc:422] ShuffleDatasetV3:1: Filling up shuffle buffer (this may take a while): 14387 of 14766\n"
     ]
    },
    {
     "name": "stdout",
     "output_type": "stream",
     "text": [
      "128/462 [=======>......................] - ETA: 0s - loss: 0.0665 - accuracy: 0.9805 - auc: 0.9855 - specificity: 0.9856 - sensitivity: 0.9706 - f1_score: 0.9815    "
     ]
    },
    {
     "name": "stderr",
     "output_type": "stream",
     "text": [
      "2025-01-11 13:54:30.895903: I tensorflow/core/kernels/data/shuffle_dataset_op.cc:452] Shuffle buffer filled.\n"
     ]
    },
    {
     "name": "stdout",
     "output_type": "stream",
     "text": [
      "462/462 [==============================] - 103s 1ms/step - loss: 0.0667 - accuracy: 0.9795 - auc: 0.9868 - specificity: 0.9824 - sensitivity: 0.9709 - f1_score: 0.9815 - val_loss: 0.0669 - val_accuracy: 0.9768 - val_auc: 0.9842 - val_specificity: 0.9948 - val_sensitivity: 0.9596 - val_f1_score: 0.9819 - lr: 0.0010\n",
      "Epoch 14/50\n"
     ]
    },
    {
     "name": "stderr",
     "output_type": "stream",
     "text": [
      "2025-01-11 13:54:41.499770: I tensorflow/core/kernels/data/shuffle_dataset_op.cc:422] ShuffleDatasetV3:1: Filling up shuffle buffer (this may take a while): 9511 of 14766\n",
      "2025-01-11 13:55:01.499855: I tensorflow/core/kernels/data/shuffle_dataset_op.cc:422] ShuffleDatasetV3:1: Filling up shuffle buffer (this may take a while): 10886 of 14766\n",
      "2025-01-11 13:55:21.483883: I tensorflow/core/kernels/data/shuffle_dataset_op.cc:422] ShuffleDatasetV3:1: Filling up shuffle buffer (this may take a while): 11788 of 14766\n",
      "2025-01-11 13:55:31.505655: I tensorflow/core/kernels/data/shuffle_dataset_op.cc:422] ShuffleDatasetV3:1: Filling up shuffle buffer (this may take a while): 12319 of 14766\n",
      "2025-01-11 13:55:51.492428: I tensorflow/core/kernels/data/shuffle_dataset_op.cc:422] ShuffleDatasetV3:1: Filling up shuffle buffer (this may take a while): 13103 of 14766\n",
      "2025-01-11 13:56:01.498599: I tensorflow/core/kernels/data/shuffle_dataset_op.cc:422] ShuffleDatasetV3:1: Filling up shuffle buffer (this may take a while): 13462 of 14766\n",
      "2025-01-11 13:56:21.496510: I tensorflow/core/kernels/data/shuffle_dataset_op.cc:422] ShuffleDatasetV3:1: Filling up shuffle buffer (this may take a while): 14242 of 14766\n"
     ]
    },
    {
     "name": "stdout",
     "output_type": "stream",
     "text": [
      " 53/462 [==>...........................] - ETA: 0s - loss: 0.0662 - accuracy: 0.9788 - auc: 0.9873 - specificity: 0.9833 - sensitivity: 0.9693 - f1_score: 0.9815     "
     ]
    },
    {
     "name": "stderr",
     "output_type": "stream",
     "text": [
      "2025-01-11 13:56:36.760956: I tensorflow/core/kernels/data/shuffle_dataset_op.cc:452] Shuffle buffer filled.\n"
     ]
    },
    {
     "name": "stdout",
     "output_type": "stream",
     "text": [
      "462/462 [==============================] - 126s 1ms/step - loss: 0.0630 - accuracy: 0.9821 - auc: 0.9889 - specificity: 0.9853 - sensitivity: 0.9741 - f1_score: 0.9837 - val_loss: 0.0600 - val_accuracy: 0.9849 - val_auc: 0.9916 - val_specificity: 0.9858 - val_sensitivity: 0.9789 - val_f1_score: 0.9874 - lr: 0.0010\n",
      "Epoch 15/50\n"
     ]
    },
    {
     "name": "stderr",
     "output_type": "stream",
     "text": [
      "2025-01-11 13:56:47.450219: I tensorflow/core/kernels/data/shuffle_dataset_op.cc:422] ShuffleDatasetV3:1: Filling up shuffle buffer (this may take a while): 9067 of 14766\n",
      "2025-01-11 13:57:07.463393: I tensorflow/core/kernels/data/shuffle_dataset_op.cc:422] ShuffleDatasetV3:1: Filling up shuffle buffer (this may take a while): 10839 of 14766\n",
      "2025-01-11 13:57:17.466757: I tensorflow/core/kernels/data/shuffle_dataset_op.cc:422] ShuffleDatasetV3:1: Filling up shuffle buffer (this may take a while): 11204 of 14766\n",
      "2025-01-11 13:57:27.469568: I tensorflow/core/kernels/data/shuffle_dataset_op.cc:422] ShuffleDatasetV3:1: Filling up shuffle buffer (this may take a while): 12159 of 14766\n",
      "2025-01-11 13:57:47.431151: I tensorflow/core/kernels/data/shuffle_dataset_op.cc:422] ShuffleDatasetV3:1: Filling up shuffle buffer (this may take a while): 12848 of 14766\n",
      "2025-01-11 13:57:57.432471: I tensorflow/core/kernels/data/shuffle_dataset_op.cc:422] ShuffleDatasetV3:1: Filling up shuffle buffer (this may take a while): 13594 of 14766\n",
      "2025-01-11 13:58:07.438921: I tensorflow/core/kernels/data/shuffle_dataset_op.cc:422] ShuffleDatasetV3:1: Filling up shuffle buffer (this may take a while): 14368 of 14766\n"
     ]
    },
    {
     "name": "stdout",
     "output_type": "stream",
     "text": [
      "129/462 [=======>......................] - ETA: 0s - loss: 0.0600 - accuracy: 0.9830 - auc: 0.9914 - specificity: 0.9880 - sensitivity: 0.9747 - f1_score: 0.9873    "
     ]
    },
    {
     "name": "stderr",
     "output_type": "stream",
     "text": [
      "2025-01-11 13:58:20.290414: I tensorflow/core/kernels/data/shuffle_dataset_op.cc:452] Shuffle buffer filled.\n"
     ]
    },
    {
     "name": "stdout",
     "output_type": "stream",
     "text": [
      "462/462 [==============================] - 103s 1ms/step - loss: 0.0619 - accuracy: 0.9831 - auc: 0.9890 - specificity: 0.9851 - sensitivity: 0.9752 - f1_score: 0.9832 - val_loss: 0.0676 - val_accuracy: 0.9768 - val_auc: 0.9848 - val_specificity: 0.9981 - val_sensitivity: 0.9578 - val_f1_score: 0.9831 - lr: 0.0010\n",
      "Epoch 16/50\n"
     ]
    },
    {
     "name": "stderr",
     "output_type": "stream",
     "text": [
      "2025-01-11 13:58:30.939057: I tensorflow/core/kernels/data/shuffle_dataset_op.cc:422] ShuffleDatasetV3:1: Filling up shuffle buffer (this may take a while): 4982 of 14766\n",
      "2025-01-11 13:58:50.924914: I tensorflow/core/kernels/data/shuffle_dataset_op.cc:422] ShuffleDatasetV3:1: Filling up shuffle buffer (this may take a while): 9592 of 14766\n",
      "2025-01-11 13:59:10.892896: I tensorflow/core/kernels/data/shuffle_dataset_op.cc:422] ShuffleDatasetV3:1: Filling up shuffle buffer (this may take a while): 10757 of 14766\n",
      "2025-01-11 13:59:20.914308: I tensorflow/core/kernels/data/shuffle_dataset_op.cc:422] ShuffleDatasetV3:1: Filling up shuffle buffer (this may take a while): 11254 of 14766\n",
      "2025-01-11 13:59:40.899089: I tensorflow/core/kernels/data/shuffle_dataset_op.cc:422] ShuffleDatasetV3:1: Filling up shuffle buffer (this may take a while): 12132 of 14766\n",
      "2025-01-11 13:59:50.917442: I tensorflow/core/kernels/data/shuffle_dataset_op.cc:422] ShuffleDatasetV3:1: Filling up shuffle buffer (this may take a while): 12782 of 14766\n",
      "2025-01-11 14:00:10.892257: I tensorflow/core/kernels/data/shuffle_dataset_op.cc:422] ShuffleDatasetV3:1: Filling up shuffle buffer (this may take a while): 13498 of 14766\n",
      "2025-01-11 14:00:20.919373: I tensorflow/core/kernels/data/shuffle_dataset_op.cc:422] ShuffleDatasetV3:1: Filling up shuffle buffer (this may take a while): 14005 of 14766\n",
      "2025-01-11 14:00:30.924554: I tensorflow/core/kernels/data/shuffle_dataset_op.cc:422] ShuffleDatasetV3:1: Filling up shuffle buffer (this may take a while): 14288 of 14766\n"
     ]
    },
    {
     "name": "stdout",
     "output_type": "stream",
     "text": [
      "129/462 [=======>......................] - ETA: 0s - loss: 0.0626 - accuracy: 0.9813 - auc: 0.9868 - specificity: 0.9857 - sensitivity: 0.9727 - f1_score: 0.9821    "
     ]
    },
    {
     "name": "stderr",
     "output_type": "stream",
     "text": [
      "2025-01-11 14:00:44.430808: I tensorflow/core/kernels/data/shuffle_dataset_op.cc:452] Shuffle buffer filled.\n"
     ]
    },
    {
     "name": "stdout",
     "output_type": "stream",
     "text": [
      "462/462 [==============================] - 144s 1ms/step - loss: 0.0613 - accuracy: 0.9825 - auc: 0.9876 - specificity: 0.9863 - sensitivity: 0.9736 - f1_score: 0.9834 - val_loss: 0.0563 - val_accuracy: 0.9904 - val_auc: 0.9924 - val_specificity: 0.9723 - val_sensitivity: 0.9963 - val_f1_score: 0.9869 - lr: 0.0010\n",
      "Epoch 17/50\n"
     ]
    },
    {
     "name": "stderr",
     "output_type": "stream",
     "text": [
      "2025-01-11 14:00:55.054936: I tensorflow/core/kernels/data/shuffle_dataset_op.cc:422] ShuffleDatasetV3:1: Filling up shuffle buffer (this may take a while): 8309 of 14766\n",
      "2025-01-11 14:01:15.026430: I tensorflow/core/kernels/data/shuffle_dataset_op.cc:422] ShuffleDatasetV3:1: Filling up shuffle buffer (this may take a while): 9471 of 14766\n",
      "2025-01-11 14:01:25.036571: I tensorflow/core/kernels/data/shuffle_dataset_op.cc:422] ShuffleDatasetV3:1: Filling up shuffle buffer (this may take a while): 9812 of 14766\n",
      "2025-01-11 14:01:45.030284: I tensorflow/core/kernels/data/shuffle_dataset_op.cc:422] ShuffleDatasetV3:1: Filling up shuffle buffer (this may take a while): 10416 of 14766\n",
      "2025-01-11 14:01:55.037251: I tensorflow/core/kernels/data/shuffle_dataset_op.cc:422] ShuffleDatasetV3:1: Filling up shuffle buffer (this may take a while): 10787 of 14766\n",
      "2025-01-11 14:02:15.043446: I tensorflow/core/kernels/data/shuffle_dataset_op.cc:422] ShuffleDatasetV3:1: Filling up shuffle buffer (this may take a while): 11506 of 14766\n",
      "2025-01-11 14:02:35.047266: I tensorflow/core/kernels/data/shuffle_dataset_op.cc:422] ShuffleDatasetV3:1: Filling up shuffle buffer (this may take a while): 12523 of 14766\n",
      "2025-01-11 14:02:55.035411: I tensorflow/core/kernels/data/shuffle_dataset_op.cc:422] ShuffleDatasetV3:1: Filling up shuffle buffer (this may take a while): 13531 of 14766\n",
      "2025-01-11 14:03:15.057228: I tensorflow/core/kernels/data/shuffle_dataset_op.cc:422] ShuffleDatasetV3:1: Filling up shuffle buffer (this may take a while): 14735 of 14766\n"
     ]
    },
    {
     "name": "stdout",
     "output_type": "stream",
     "text": [
      " 74/462 [===>..........................] - ETA: 0s - loss: 0.0581 - accuracy: 0.9814 - auc: 0.9871 - specificity: 0.9828 - sensitivity: 0.9755 - f1_score: 0.9820     "
     ]
    },
    {
     "name": "stderr",
     "output_type": "stream",
     "text": [
      "2025-01-11 14:03:16.561424: I tensorflow/core/kernels/data/shuffle_dataset_op.cc:452] Shuffle buffer filled.\n"
     ]
    },
    {
     "name": "stdout",
     "output_type": "stream",
     "text": [
      "462/462 [==============================] - 152s 1ms/step - loss: 0.0559 - accuracy: 0.9841 - auc: 0.9902 - specificity: 0.9881 - sensitivity: 0.9759 - f1_score: 0.9861 - val_loss: 0.0475 - val_accuracy: 0.9874 - val_auc: 0.9940 - val_specificity: 0.9953 - val_sensitivity: 0.9780 - val_f1_score: 0.9917 - lr: 0.0010\n",
      "Epoch 18/50\n"
     ]
    },
    {
     "name": "stderr",
     "output_type": "stream",
     "text": [
      "2025-01-11 14:03:27.241123: I tensorflow/core/kernels/data/shuffle_dataset_op.cc:422] ShuffleDatasetV3:1: Filling up shuffle buffer (this may take a while): 8410 of 14766\n",
      "2025-01-11 14:03:37.268212: I tensorflow/core/kernels/data/shuffle_dataset_op.cc:422] ShuffleDatasetV3:1: Filling up shuffle buffer (this may take a while): 8773 of 14766\n",
      "2025-01-11 14:03:57.262346: I tensorflow/core/kernels/data/shuffle_dataset_op.cc:422] ShuffleDatasetV3:1: Filling up shuffle buffer (this may take a while): 9487 of 14766\n",
      "2025-01-11 14:04:17.245819: I tensorflow/core/kernels/data/shuffle_dataset_op.cc:422] ShuffleDatasetV3:1: Filling up shuffle buffer (this may take a while): 10727 of 14766\n",
      "2025-01-11 14:04:37.222087: I tensorflow/core/kernels/data/shuffle_dataset_op.cc:422] ShuffleDatasetV3:1: Filling up shuffle buffer (this may take a while): 11516 of 14766\n",
      "2025-01-11 14:04:47.234970: I tensorflow/core/kernels/data/shuffle_dataset_op.cc:422] ShuffleDatasetV3:1: Filling up shuffle buffer (this may take a while): 11790 of 14766\n",
      "2025-01-11 14:04:57.255799: I tensorflow/core/kernels/data/shuffle_dataset_op.cc:422] ShuffleDatasetV3:1: Filling up shuffle buffer (this may take a while): 12295 of 14766\n",
      "2025-01-11 14:05:07.263536: I tensorflow/core/kernels/data/shuffle_dataset_op.cc:422] ShuffleDatasetV3:1: Filling up shuffle buffer (this may take a while): 12512 of 14766\n",
      "2025-01-11 14:05:27.248601: I tensorflow/core/kernels/data/shuffle_dataset_op.cc:422] ShuffleDatasetV3:1: Filling up shuffle buffer (this may take a while): 13240 of 14766\n",
      "2025-01-11 14:05:37.255542: I tensorflow/core/kernels/data/shuffle_dataset_op.cc:422] ShuffleDatasetV3:1: Filling up shuffle buffer (this may take a while): 13595 of 14766\n",
      "2025-01-11 14:05:57.230426: I tensorflow/core/kernels/data/shuffle_dataset_op.cc:422] ShuffleDatasetV3:1: Filling up shuffle buffer (this may take a while): 14516 of 14766\n"
     ]
    },
    {
     "name": "stdout",
     "output_type": "stream",
     "text": [
      " 73/462 [===>..........................] - ETA: 0s - loss: 0.0541 - accuracy: 0.9867 - auc: 0.9904 - specificity: 0.9895 - sensitivity: 0.9785 - f1_score: 0.9868     "
     ]
    },
    {
     "name": "stderr",
     "output_type": "stream",
     "text": [
      "2025-01-11 14:06:05.928899: I tensorflow/core/kernels/data/shuffle_dataset_op.cc:452] Shuffle buffer filled.\n"
     ]
    },
    {
     "name": "stdout",
     "output_type": "stream",
     "text": [
      "462/462 [==============================] - 169s 1ms/step - loss: 0.0587 - accuracy: 0.9840 - auc: 0.9887 - specificity: 0.9849 - sensitivity: 0.9764 - f1_score: 0.9839 - val_loss: 0.0590 - val_accuracy: 0.9884 - val_auc: 0.9943 - val_specificity: 0.9548 - val_sensitivity: 0.9982 - val_f1_score: 0.9815 - lr: 0.0010\n",
      "Epoch 19/50\n"
     ]
    },
    {
     "name": "stderr",
     "output_type": "stream",
     "text": [
      "2025-01-11 14:06:16.584971: I tensorflow/core/kernels/data/shuffle_dataset_op.cc:422] ShuffleDatasetV3:1: Filling up shuffle buffer (this may take a while): 8475 of 14766\n",
      "2025-01-11 14:06:26.589961: I tensorflow/core/kernels/data/shuffle_dataset_op.cc:422] ShuffleDatasetV3:1: Filling up shuffle buffer (this may take a while): 9035 of 14766\n",
      "2025-01-11 14:06:46.583308: I tensorflow/core/kernels/data/shuffle_dataset_op.cc:422] ShuffleDatasetV3:1: Filling up shuffle buffer (this may take a while): 10096 of 14766\n",
      "2025-01-11 14:06:56.612951: I tensorflow/core/kernels/data/shuffle_dataset_op.cc:422] ShuffleDatasetV3:1: Filling up shuffle buffer (this may take a while): 10871 of 14766\n",
      "2025-01-11 14:07:16.580130: I tensorflow/core/kernels/data/shuffle_dataset_op.cc:422] ShuffleDatasetV3:1: Filling up shuffle buffer (this may take a while): 12168 of 14766\n",
      "2025-01-11 14:07:26.594745: I tensorflow/core/kernels/data/shuffle_dataset_op.cc:422] ShuffleDatasetV3:1: Filling up shuffle buffer (this may take a while): 12603 of 14766\n",
      "2025-01-11 14:07:46.617029: I tensorflow/core/kernels/data/shuffle_dataset_op.cc:422] ShuffleDatasetV3:1: Filling up shuffle buffer (this may take a while): 13963 of 14766\n",
      "2025-01-11 14:08:06.580114: I tensorflow/core/kernels/data/shuffle_dataset_op.cc:422] ShuffleDatasetV3:1: Filling up shuffle buffer (this may take a while): 14674 of 14766\n"
     ]
    },
    {
     "name": "stdout",
     "output_type": "stream",
     "text": [
      "116/462 [======>.......................] - ETA: 0s - loss: 0.0553 - accuracy: 0.9846 - auc: 0.9895 - specificity: 0.9872 - sensitivity: 0.9768 - f1_score: 0.9853    "
     ]
    },
    {
     "name": "stderr",
     "output_type": "stream",
     "text": [
      "2025-01-11 14:08:07.338155: I tensorflow/core/kernels/data/shuffle_dataset_op.cc:452] Shuffle buffer filled.\n"
     ]
    },
    {
     "name": "stdout",
     "output_type": "stream",
     "text": [
      "462/462 [==============================] - 121s 1ms/step - loss: 0.0571 - accuracy: 0.9833 - auc: 0.9887 - specificity: 0.9859 - sensitivity: 0.9751 - f1_score: 0.9831 - val_loss: 0.0486 - val_accuracy: 0.9828 - val_auc: 0.9915 - val_specificity: 0.9933 - val_sensitivity: 0.9716 - val_f1_score: 0.9890 - lr: 0.0010\n",
      "Epoch 20/50\n"
     ]
    },
    {
     "name": "stderr",
     "output_type": "stream",
     "text": [
      "2025-01-11 14:08:17.994708: I tensorflow/core/kernels/data/shuffle_dataset_op.cc:422] ShuffleDatasetV3:1: Filling up shuffle buffer (this may take a while): 8061 of 14766\n",
      "2025-01-11 14:08:27.997337: I tensorflow/core/kernels/data/shuffle_dataset_op.cc:422] ShuffleDatasetV3:1: Filling up shuffle buffer (this may take a while): 9563 of 14766\n",
      "2025-01-11 14:08:47.972380: I tensorflow/core/kernels/data/shuffle_dataset_op.cc:422] ShuffleDatasetV3:1: Filling up shuffle buffer (this may take a while): 10255 of 14766\n",
      "2025-01-11 14:08:57.997951: I tensorflow/core/kernels/data/shuffle_dataset_op.cc:422] ShuffleDatasetV3:1: Filling up shuffle buffer (this may take a while): 10818 of 14766\n",
      "2025-01-11 14:09:08.022615: I tensorflow/core/kernels/data/shuffle_dataset_op.cc:422] ShuffleDatasetV3:1: Filling up shuffle buffer (this may take a while): 11408 of 14766\n",
      "2025-01-11 14:09:27.999060: I tensorflow/core/kernels/data/shuffle_dataset_op.cc:422] ShuffleDatasetV3:1: Filling up shuffle buffer (this may take a while): 12516 of 14766\n",
      "2025-01-11 14:09:47.983189: I tensorflow/core/kernels/data/shuffle_dataset_op.cc:422] ShuffleDatasetV3:1: Filling up shuffle buffer (this may take a while): 13348 of 14766\n",
      "2025-01-11 14:10:07.990909: I tensorflow/core/kernels/data/shuffle_dataset_op.cc:422] ShuffleDatasetV3:1: Filling up shuffle buffer (this may take a while): 14039 of 14766\n",
      "2025-01-11 14:10:27.992217: I tensorflow/core/kernels/data/shuffle_dataset_op.cc:422] ShuffleDatasetV3:1: Filling up shuffle buffer (this may take a while): 14645 of 14766\n"
     ]
    },
    {
     "name": "stdout",
     "output_type": "stream",
     "text": [
      "133/462 [=======>......................] - ETA: 0s - loss: 0.0545 - accuracy: 0.9850 - auc: 0.9904 - specificity: 0.9868 - sensitivity: 0.9783 - f1_score: 0.9868    "
     ]
    },
    {
     "name": "stderr",
     "output_type": "stream",
     "text": [
      "2025-01-11 14:10:29.235578: I tensorflow/core/kernels/data/shuffle_dataset_op.cc:452] Shuffle buffer filled.\n"
     ]
    },
    {
     "name": "stdout",
     "output_type": "stream",
     "text": [
      "462/462 [==============================] - 142s 1ms/step - loss: 0.0541 - accuracy: 0.9851 - auc: 0.9907 - specificity: 0.9861 - sensitivity: 0.9787 - f1_score: 0.9857 - val_loss: 0.0466 - val_accuracy: 0.9869 - val_auc: 0.9920 - val_specificity: 0.9957 - val_sensitivity: 0.9780 - val_f1_score: 0.9903 - lr: 0.0010\n",
      "Epoch 21/50\n"
     ]
    },
    {
     "name": "stderr",
     "output_type": "stream",
     "text": [
      "2025-01-11 14:10:39.870890: I tensorflow/core/kernels/data/shuffle_dataset_op.cc:422] ShuffleDatasetV3:1: Filling up shuffle buffer (this may take a while): 8112 of 14766\n",
      "2025-01-11 14:10:59.824852: I tensorflow/core/kernels/data/shuffle_dataset_op.cc:422] ShuffleDatasetV3:1: Filling up shuffle buffer (this may take a while): 9729 of 14766\n",
      "2025-01-11 14:11:09.852533: I tensorflow/core/kernels/data/shuffle_dataset_op.cc:422] ShuffleDatasetV3:1: Filling up shuffle buffer (this may take a while): 9999 of 14766\n",
      "2025-01-11 14:11:29.836028: I tensorflow/core/kernels/data/shuffle_dataset_op.cc:422] ShuffleDatasetV3:1: Filling up shuffle buffer (this may take a while): 10662 of 14766\n",
      "2025-01-11 14:11:39.838642: I tensorflow/core/kernels/data/shuffle_dataset_op.cc:422] ShuffleDatasetV3:1: Filling up shuffle buffer (this may take a while): 11492 of 14766\n",
      "2025-01-11 14:11:49.840814: I tensorflow/core/kernels/data/shuffle_dataset_op.cc:422] ShuffleDatasetV3:1: Filling up shuffle buffer (this may take a while): 11843 of 14766\n",
      "2025-01-11 14:11:59.840931: I tensorflow/core/kernels/data/shuffle_dataset_op.cc:422] ShuffleDatasetV3:1: Filling up shuffle buffer (this may take a while): 12379 of 14766\n",
      "2025-01-11 14:12:09.868967: I tensorflow/core/kernels/data/shuffle_dataset_op.cc:422] ShuffleDatasetV3:1: Filling up shuffle buffer (this may take a while): 12740 of 14766\n",
      "2025-01-11 14:12:29.839180: I tensorflow/core/kernels/data/shuffle_dataset_op.cc:422] ShuffleDatasetV3:1: Filling up shuffle buffer (this may take a while): 13554 of 14766\n",
      "2025-01-11 14:12:39.843186: I tensorflow/core/kernels/data/shuffle_dataset_op.cc:422] ShuffleDatasetV3:1: Filling up shuffle buffer (this may take a while): 13908 of 14766\n"
     ]
    },
    {
     "name": "stdout",
     "output_type": "stream",
     "text": [
      "124/462 [=======>......................] - ETA: 0s - loss: 0.0557 - accuracy: 0.9846 - auc: 0.9910 - specificity: 0.9846 - sensitivity: 0.9763 - f1_score: 0.9844    "
     ]
    },
    {
     "name": "stderr",
     "output_type": "stream",
     "text": [
      "2025-01-11 14:12:48.078512: I tensorflow/core/kernels/data/shuffle_dataset_op.cc:452] Shuffle buffer filled.\n"
     ]
    },
    {
     "name": "stdout",
     "output_type": "stream",
     "text": [
      "462/462 [==============================] - 139s 1ms/step - loss: 0.0537 - accuracy: 0.9852 - auc: 0.9906 - specificity: 0.9857 - sensitivity: 0.9787 - f1_score: 0.9850 - val_loss: 0.0483 - val_accuracy: 0.9823 - val_auc: 0.9916 - val_specificity: 0.9973 - val_sensitivity: 0.9697 - val_f1_score: 0.9914 - lr: 0.0010\n",
      "Epoch 22/50\n"
     ]
    },
    {
     "name": "stderr",
     "output_type": "stream",
     "text": [
      "2025-01-11 14:12:58.687890: I tensorflow/core/kernels/data/shuffle_dataset_op.cc:422] ShuffleDatasetV3:1: Filling up shuffle buffer (this may take a while): 10445 of 14766\n",
      "2025-01-11 14:13:08.714202: I tensorflow/core/kernels/data/shuffle_dataset_op.cc:422] ShuffleDatasetV3:1: Filling up shuffle buffer (this may take a while): 11199 of 14766\n",
      "2025-01-11 14:13:28.687488: I tensorflow/core/kernels/data/shuffle_dataset_op.cc:422] ShuffleDatasetV3:1: Filling up shuffle buffer (this may take a while): 11926 of 14766\n",
      "2025-01-11 14:13:38.697718: I tensorflow/core/kernels/data/shuffle_dataset_op.cc:422] ShuffleDatasetV3:1: Filling up shuffle buffer (this may take a while): 12352 of 14766\n",
      "2025-01-11 14:13:48.734977: I tensorflow/core/kernels/data/shuffle_dataset_op.cc:422] ShuffleDatasetV3:1: Filling up shuffle buffer (this may take a while): 12643 of 14766\n",
      "2025-01-11 14:14:08.686471: I tensorflow/core/kernels/data/shuffle_dataset_op.cc:422] ShuffleDatasetV3:1: Filling up shuffle buffer (this may take a while): 14239 of 14766\n"
     ]
    },
    {
     "name": "stdout",
     "output_type": "stream",
     "text": [
      " 36/462 [=>............................] - ETA: 1s - loss: 0.0399 - accuracy: 0.9913 - auc: 0.9947 - specificity: 0.9906 - sensitivity: 0.9862 - f1_score: 0.9906    "
     ]
    },
    {
     "name": "stderr",
     "output_type": "stream",
     "text": [
      "2025-01-11 14:14:13.075933: I tensorflow/core/kernels/data/shuffle_dataset_op.cc:452] Shuffle buffer filled.\n"
     ]
    },
    {
     "name": "stdout",
     "output_type": "stream",
     "text": [
      "462/462 [==============================] - 85s 1ms/step - loss: 0.0530 - accuracy: 0.9840 - auc: 0.9901 - specificity: 0.9855 - sensitivity: 0.9775 - f1_score: 0.9850 - val_loss: 0.1281 - val_accuracy: 0.9440 - val_auc: 0.9560 - val_specificity: 1.0000 - val_sensitivity: 0.8982 - val_f1_score: 0.9532 - lr: 0.0010\n",
      "Epoch 23/50\n"
     ]
    },
    {
     "name": "stderr",
     "output_type": "stream",
     "text": [
      "2025-01-11 14:14:23.832565: I tensorflow/core/kernels/data/shuffle_dataset_op.cc:422] ShuffleDatasetV3:1: Filling up shuffle buffer (this may take a while): 7500 of 14766\n",
      "2025-01-11 14:14:43.816251: I tensorflow/core/kernels/data/shuffle_dataset_op.cc:422] ShuffleDatasetV3:1: Filling up shuffle buffer (this may take a while): 9976 of 14766\n",
      "2025-01-11 14:14:53.834199: I tensorflow/core/kernels/data/shuffle_dataset_op.cc:422] ShuffleDatasetV3:1: Filling up shuffle buffer (this may take a while): 10339 of 14766\n",
      "2025-01-11 14:15:13.812688: I tensorflow/core/kernels/data/shuffle_dataset_op.cc:422] ShuffleDatasetV3:1: Filling up shuffle buffer (this may take a while): 11447 of 14766\n",
      "2025-01-11 14:15:23.817041: I tensorflow/core/kernels/data/shuffle_dataset_op.cc:422] ShuffleDatasetV3:1: Filling up shuffle buffer (this may take a while): 11815 of 14766\n",
      "2025-01-11 14:15:33.824977: I tensorflow/core/kernels/data/shuffle_dataset_op.cc:422] ShuffleDatasetV3:1: Filling up shuffle buffer (this may take a while): 12189 of 14766\n",
      "2025-01-11 14:15:53.836544: I tensorflow/core/kernels/data/shuffle_dataset_op.cc:422] ShuffleDatasetV3:1: Filling up shuffle buffer (this may take a while): 13454 of 14766\n"
     ]
    },
    {
     "name": "stdout",
     "output_type": "stream",
     "text": [
      " 35/462 [=>............................] - ETA: 1s - loss: 0.0544 - accuracy: 0.9830 - auc: 0.9871 - specificity: 0.9867 - sensitivity: 0.9737 - f1_score: 0.9840     "
     ]
    },
    {
     "name": "stderr",
     "output_type": "stream",
     "text": [
      "2025-01-11 14:16:13.808534: I tensorflow/core/kernels/data/shuffle_dataset_op.cc:422] ShuffleDatasetV3:1: Filling up shuffle buffer (this may take a while): 14749 of 14766\n",
      "2025-01-11 14:16:13.848657: I tensorflow/core/kernels/data/shuffle_dataset_op.cc:452] Shuffle buffer filled.\n"
     ]
    },
    {
     "name": "stdout",
     "output_type": "stream",
     "text": [
      "462/462 [==============================] - 121s 2ms/step - loss: 0.0557 - accuracy: 0.9829 - auc: 0.9885 - specificity: 0.9854 - sensitivity: 0.9755 - f1_score: 0.9840 - val_loss: 0.0475 - val_accuracy: 0.9904 - val_auc: 0.9956 - val_specificity: 0.9752 - val_sensitivity: 0.9954 - val_f1_score: 0.9900 - lr: 0.0010\n",
      "Epoch 24/50\n"
     ]
    },
    {
     "name": "stderr",
     "output_type": "stream",
     "text": [
      "2025-01-11 14:16:24.573358: I tensorflow/core/kernels/data/shuffle_dataset_op.cc:422] ShuffleDatasetV3:1: Filling up shuffle buffer (this may take a while): 1042 of 14766\n",
      "2025-01-11 14:16:34.580312: I tensorflow/core/kernels/data/shuffle_dataset_op.cc:422] ShuffleDatasetV3:1: Filling up shuffle buffer (this may take a while): 9391 of 14766\n",
      "2025-01-11 14:16:54.573926: I tensorflow/core/kernels/data/shuffle_dataset_op.cc:422] ShuffleDatasetV3:1: Filling up shuffle buffer (this may take a while): 10804 of 14766\n",
      "2025-01-11 14:17:04.606698: I tensorflow/core/kernels/data/shuffle_dataset_op.cc:422] ShuffleDatasetV3:1: Filling up shuffle buffer (this may take a while): 11027 of 14766\n",
      "2025-01-11 14:17:24.609593: I tensorflow/core/kernels/data/shuffle_dataset_op.cc:422] ShuffleDatasetV3:1: Filling up shuffle buffer (this may take a while): 11757 of 14766\n",
      "2025-01-11 14:17:44.588895: I tensorflow/core/kernels/data/shuffle_dataset_op.cc:422] ShuffleDatasetV3:1: Filling up shuffle buffer (this may take a while): 12472 of 14766\n",
      "2025-01-11 14:18:04.583379: I tensorflow/core/kernels/data/shuffle_dataset_op.cc:422] ShuffleDatasetV3:1: Filling up shuffle buffer (this may take a while): 13805 of 14766\n",
      "2025-01-11 14:18:14.606401: I tensorflow/core/kernels/data/shuffle_dataset_op.cc:422] ShuffleDatasetV3:1: Filling up shuffle buffer (this may take a while): 14199 of 14766\n"
     ]
    },
    {
     "name": "stdout",
     "output_type": "stream",
     "text": [
      "104/462 [=====>........................] - ETA: 0s - loss: 0.0408 - accuracy: 0.9916 - auc: 0.9961 - specificity: 0.9903 - sensitivity: 0.9888 - f1_score: 0.9923    "
     ]
    },
    {
     "name": "stderr",
     "output_type": "stream",
     "text": [
      "2025-01-11 14:18:30.032033: I tensorflow/core/kernels/data/shuffle_dataset_op.cc:452] Shuffle buffer filled.\n"
     ]
    },
    {
     "name": "stdout",
     "output_type": "stream",
     "text": [
      "462/462 [==============================] - 136s 1ms/step - loss: 0.0410 - accuracy: 0.9919 - auc: 0.9968 - specificity: 0.9940 - sensitivity: 0.9863 - f1_score: 0.9942 - val_loss: 0.0399 - val_accuracy: 0.9955 - val_auc: 0.9977 - val_specificity: 0.9940 - val_sensitivity: 0.9927 - val_f1_score: 0.9955 - lr: 1.0000e-04\n",
      "Epoch 25/50\n"
     ]
    },
    {
     "name": "stderr",
     "output_type": "stream",
     "text": [
      "2025-01-11 14:18:40.696762: I tensorflow/core/kernels/data/shuffle_dataset_op.cc:422] ShuffleDatasetV3:1: Filling up shuffle buffer (this may take a while): 9912 of 14766\n",
      "2025-01-11 14:19:00.687286: I tensorflow/core/kernels/data/shuffle_dataset_op.cc:422] ShuffleDatasetV3:1: Filling up shuffle buffer (this may take a while): 11024 of 14766\n",
      "2025-01-11 14:19:20.671001: I tensorflow/core/kernels/data/shuffle_dataset_op.cc:422] ShuffleDatasetV3:1: Filling up shuffle buffer (this may take a while): 11744 of 14766\n",
      "2025-01-11 14:19:30.679842: I tensorflow/core/kernels/data/shuffle_dataset_op.cc:422] ShuffleDatasetV3:1: Filling up shuffle buffer (this may take a while): 12107 of 14766\n",
      "2025-01-11 14:19:50.664004: I tensorflow/core/kernels/data/shuffle_dataset_op.cc:422] ShuffleDatasetV3:1: Filling up shuffle buffer (this may take a while): 13974 of 14766\n",
      "2025-01-11 14:20:00.672372: I tensorflow/core/kernels/data/shuffle_dataset_op.cc:422] ShuffleDatasetV3:1: Filling up shuffle buffer (this may take a while): 14333 of 14766\n"
     ]
    },
    {
     "name": "stdout",
     "output_type": "stream",
     "text": [
      " 15/462 [..............................] - ETA: 3s - loss: 0.0441 - accuracy: 0.9917 - auc: 0.9979 - specificity: 0.9956 - sensitivity: 0.9874 - f1_score: 0.9981    "
     ]
    },
    {
     "name": "stderr",
     "output_type": "stream",
     "text": [
      "2025-01-11 14:20:03.083266: I tensorflow/core/kernels/data/shuffle_dataset_op.cc:452] Shuffle buffer filled.\n"
     ]
    },
    {
     "name": "stdout",
     "output_type": "stream",
     "text": [
      "462/462 [==============================] - 93s 1ms/step - loss: 0.0392 - accuracy: 0.9933 - auc: 0.9972 - specificity: 0.9953 - sensitivity: 0.9888 - f1_score: 0.9949 - val_loss: 0.0390 - val_accuracy: 0.9945 - val_auc: 0.9977 - val_specificity: 0.9951 - val_sensitivity: 0.9917 - val_f1_score: 0.9961 - lr: 1.0000e-04\n",
      "Epoch 26/50\n"
     ]
    },
    {
     "name": "stderr",
     "output_type": "stream",
     "text": [
      "2025-01-11 14:20:13.840601: I tensorflow/core/kernels/data/shuffle_dataset_op.cc:422] ShuffleDatasetV3:1: Filling up shuffle buffer (this may take a while): 8314 of 14766\n",
      "2025-01-11 14:20:33.846703: I tensorflow/core/kernels/data/shuffle_dataset_op.cc:422] ShuffleDatasetV3:1: Filling up shuffle buffer (this may take a while): 9295 of 14766\n",
      "2025-01-11 14:20:53.821503: I tensorflow/core/kernels/data/shuffle_dataset_op.cc:422] ShuffleDatasetV3:1: Filling up shuffle buffer (this may take a while): 10453 of 14766\n",
      "2025-01-11 14:21:03.823131: I tensorflow/core/kernels/data/shuffle_dataset_op.cc:422] ShuffleDatasetV3:1: Filling up shuffle buffer (this may take a while): 10967 of 14766\n",
      "2025-01-11 14:21:13.857571: I tensorflow/core/kernels/data/shuffle_dataset_op.cc:422] ShuffleDatasetV3:1: Filling up shuffle buffer (this may take a while): 11203 of 14766\n",
      "2025-01-11 14:21:33.830429: I tensorflow/core/kernels/data/shuffle_dataset_op.cc:422] ShuffleDatasetV3:1: Filling up shuffle buffer (this may take a while): 12394 of 14766\n",
      "2025-01-11 14:21:53.820554: I tensorflow/core/kernels/data/shuffle_dataset_op.cc:422] ShuffleDatasetV3:1: Filling up shuffle buffer (this may take a while): 12991 of 14766\n",
      "2025-01-11 14:22:03.853200: I tensorflow/core/kernels/data/shuffle_dataset_op.cc:422] ShuffleDatasetV3:1: Filling up shuffle buffer (this may take a while): 13358 of 14766\n",
      "2025-01-11 14:22:23.856418: I tensorflow/core/kernels/data/shuffle_dataset_op.cc:422] ShuffleDatasetV3:1: Filling up shuffle buffer (this may take a while): 13954 of 14766\n"
     ]
    },
    {
     "name": "stdout",
     "output_type": "stream",
     "text": [
      " 98/462 [=====>........................] - ETA: 0s - loss: 0.0368 - accuracy: 0.9943 - auc: 0.9978 - specificity: 0.9976 - sensitivity: 0.9887 - f1_score: 0.9963    "
     ]
    },
    {
     "name": "stderr",
     "output_type": "stream",
     "text": [
      "2025-01-11 14:22:35.082628: I tensorflow/core/kernels/data/shuffle_dataset_op.cc:452] Shuffle buffer filled.\n"
     ]
    },
    {
     "name": "stdout",
     "output_type": "stream",
     "text": [
      "462/462 [==============================] - 152s 1ms/step - loss: 0.0381 - accuracy: 0.9937 - auc: 0.9971 - specificity: 0.9966 - sensitivity: 0.9885 - f1_score: 0.9954 - val_loss: 0.0382 - val_accuracy: 0.9955 - val_auc: 0.9986 - val_specificity: 0.9951 - val_sensitivity: 0.9936 - val_f1_score: 0.9970 - lr: 1.0000e-04\n",
      "Epoch 27/50\n"
     ]
    },
    {
     "name": "stderr",
     "output_type": "stream",
     "text": [
      "2025-01-11 14:22:45.725152: I tensorflow/core/kernels/data/shuffle_dataset_op.cc:422] ShuffleDatasetV3:1: Filling up shuffle buffer (this may take a while): 8616 of 14766\n",
      "2025-01-11 14:22:55.773670: I tensorflow/core/kernels/data/shuffle_dataset_op.cc:422] ShuffleDatasetV3:1: Filling up shuffle buffer (this may take a while): 9475 of 14766\n",
      "2025-01-11 14:23:15.756447: I tensorflow/core/kernels/data/shuffle_dataset_op.cc:422] ShuffleDatasetV3:1: Filling up shuffle buffer (this may take a while): 10203 of 14766\n",
      "2025-01-11 14:23:35.721600: I tensorflow/core/kernels/data/shuffle_dataset_op.cc:422] ShuffleDatasetV3:1: Filling up shuffle buffer (this may take a while): 10917 of 14766\n",
      "2025-01-11 14:23:45.729991: I tensorflow/core/kernels/data/shuffle_dataset_op.cc:422] ShuffleDatasetV3:1: Filling up shuffle buffer (this may take a while): 11267 of 14766\n",
      "2025-01-11 14:23:55.768156: I tensorflow/core/kernels/data/shuffle_dataset_op.cc:422] ShuffleDatasetV3:1: Filling up shuffle buffer (this may take a while): 11964 of 14766\n",
      "2025-01-11 14:24:15.756674: I tensorflow/core/kernels/data/shuffle_dataset_op.cc:422] ShuffleDatasetV3:1: Filling up shuffle buffer (this may take a while): 13068 of 14766\n",
      "2025-01-11 14:24:25.759401: I tensorflow/core/kernels/data/shuffle_dataset_op.cc:422] ShuffleDatasetV3:1: Filling up shuffle buffer (this may take a while): 13500 of 14766\n",
      "2025-01-11 14:24:45.722042: I tensorflow/core/kernels/data/shuffle_dataset_op.cc:422] ShuffleDatasetV3:1: Filling up shuffle buffer (this may take a while): 14699 of 14766\n"
     ]
    },
    {
     "name": "stdout",
     "output_type": "stream",
     "text": [
      " 95/462 [=====>........................] - ETA: 0s - loss: 0.0391 - accuracy: 0.9944 - auc: 0.9976 - specificity: 0.9976 - sensitivity: 0.9886 - f1_score: 0.9962    "
     ]
    },
    {
     "name": "stderr",
     "output_type": "stream",
     "text": [
      "2025-01-11 14:24:49.209574: I tensorflow/core/kernels/data/shuffle_dataset_op.cc:452] Shuffle buffer filled.\n"
     ]
    },
    {
     "name": "stdout",
     "output_type": "stream",
     "text": [
      "462/462 [==============================] - 134s 1ms/step - loss: 0.0383 - accuracy: 0.9938 - auc: 0.9974 - specificity: 0.9959 - sensitivity: 0.9892 - f1_score: 0.9955 - val_loss: 0.0385 - val_accuracy: 0.9929 - val_auc: 0.9968 - val_specificity: 0.9964 - val_sensitivity: 0.9872 - val_f1_score: 0.9953 - lr: 1.0000e-04\n",
      "Epoch 28/50\n"
     ]
    },
    {
     "name": "stderr",
     "output_type": "stream",
     "text": [
      "2025-01-11 14:24:59.872412: I tensorflow/core/kernels/data/shuffle_dataset_op.cc:422] ShuffleDatasetV3:1: Filling up shuffle buffer (this may take a while): 9322 of 14766\n",
      "2025-01-11 14:25:19.858937: I tensorflow/core/kernels/data/shuffle_dataset_op.cc:422] ShuffleDatasetV3:1: Filling up shuffle buffer (this may take a while): 10048 of 14766\n",
      "2025-01-11 14:25:39.872831: I tensorflow/core/kernels/data/shuffle_dataset_op.cc:422] ShuffleDatasetV3:1: Filling up shuffle buffer (this may take a while): 12109 of 14766\n",
      "2025-01-11 14:25:49.874687: I tensorflow/core/kernels/data/shuffle_dataset_op.cc:422] ShuffleDatasetV3:1: Filling up shuffle buffer (this may take a while): 12454 of 14766\n",
      "2025-01-11 14:26:09.849522: I tensorflow/core/kernels/data/shuffle_dataset_op.cc:422] ShuffleDatasetV3:1: Filling up shuffle buffer (this may take a while): 13204 of 14766\n",
      "2025-01-11 14:26:29.872561: I tensorflow/core/kernels/data/shuffle_dataset_op.cc:422] ShuffleDatasetV3:1: Filling up shuffle buffer (this may take a while): 13875 of 14766\n",
      "2025-01-11 14:26:49.858068: I tensorflow/core/kernels/data/shuffle_dataset_op.cc:422] ShuffleDatasetV3:1: Filling up shuffle buffer (this may take a while): 14590 of 14766\n"
     ]
    },
    {
     "name": "stdout",
     "output_type": "stream",
     "text": [
      "122/462 [======>.......................] - ETA: 0s - loss: 0.0370 - accuracy: 0.9949 - auc: 0.9974 - specificity: 0.9976 - sensitivity: 0.9901 - f1_score: 0.9960    "
     ]
    },
    {
     "name": "stderr",
     "output_type": "stream",
     "text": [
      "2025-01-11 14:26:52.361904: I tensorflow/core/kernels/data/shuffle_dataset_op.cc:452] Shuffle buffer filled.\n"
     ]
    },
    {
     "name": "stdout",
     "output_type": "stream",
     "text": [
      "462/462 [==============================] - 123s 1ms/step - loss: 0.0378 - accuracy: 0.9935 - auc: 0.9973 - specificity: 0.9960 - sensitivity: 0.9885 - f1_score: 0.9954 - val_loss: 0.0386 - val_accuracy: 0.9904 - val_auc: 0.9972 - val_specificity: 0.9974 - val_sensitivity: 0.9835 - val_f1_score: 0.9964 - lr: 1.0000e-04\n",
      "Epoch 29/50\n"
     ]
    },
    {
     "name": "stderr",
     "output_type": "stream",
     "text": [
      "2025-01-11 14:27:02.971035: I tensorflow/core/kernels/data/shuffle_dataset_op.cc:422] ShuffleDatasetV3:1: Filling up shuffle buffer (this may take a while): 3757 of 14766\n",
      "2025-01-11 14:27:12.980102: I tensorflow/core/kernels/data/shuffle_dataset_op.cc:422] ShuffleDatasetV3:1: Filling up shuffle buffer (this may take a while): 10242 of 14766\n",
      "2025-01-11 14:27:32.980103: I tensorflow/core/kernels/data/shuffle_dataset_op.cc:422] ShuffleDatasetV3:1: Filling up shuffle buffer (this may take a while): 11348 of 14766\n",
      "2025-01-11 14:27:42.980976: I tensorflow/core/kernels/data/shuffle_dataset_op.cc:422] ShuffleDatasetV3:1: Filling up shuffle buffer (this may take a while): 11848 of 14766\n",
      "2025-01-11 14:27:52.991063: I tensorflow/core/kernels/data/shuffle_dataset_op.cc:422] ShuffleDatasetV3:1: Filling up shuffle buffer (this may take a while): 12442 of 14766\n",
      "2025-01-11 14:28:12.975936: I tensorflow/core/kernels/data/shuffle_dataset_op.cc:422] ShuffleDatasetV3:1: Filling up shuffle buffer (this may take a while): 13612 of 14766\n",
      "2025-01-11 14:28:32.950421: I tensorflow/core/kernels/data/shuffle_dataset_op.cc:422] ShuffleDatasetV3:1: Filling up shuffle buffer (this may take a while): 14471 of 14766\n"
     ]
    },
    {
     "name": "stdout",
     "output_type": "stream",
     "text": [
      "139/462 [========>.....................] - ETA: 0s - loss: 0.0355 - accuracy: 0.9960 - auc: 0.9984 - specificity: 0.9973 - sensitivity: 0.9918 - f1_score: 0.9972    "
     ]
    },
    {
     "name": "stderr",
     "output_type": "stream",
     "text": [
      "2025-01-11 14:28:36.494614: I tensorflow/core/kernels/data/shuffle_dataset_op.cc:452] Shuffle buffer filled.\n"
     ]
    },
    {
     "name": "stdout",
     "output_type": "stream",
     "text": [
      "462/462 [==============================] - 104s 1ms/step - loss: 0.0370 - accuracy: 0.9949 - auc: 0.9979 - specificity: 0.9969 - sensitivity: 0.9905 - f1_score: 0.9962 - val_loss: 0.0372 - val_accuracy: 0.9945 - val_auc: 0.9981 - val_specificity: 0.9937 - val_sensitivity: 0.9917 - val_f1_score: 0.9962 - lr: 1.0000e-04\n",
      "Epoch 30/50\n"
     ]
    },
    {
     "name": "stderr",
     "output_type": "stream",
     "text": [
      "2025-01-11 14:28:47.056737: I tensorflow/core/kernels/data/shuffle_dataset_op.cc:422] ShuffleDatasetV3:1: Filling up shuffle buffer (this may take a while): 9316 of 14766\n",
      "2025-01-11 14:28:57.066369: I tensorflow/core/kernels/data/shuffle_dataset_op.cc:422] ShuffleDatasetV3:1: Filling up shuffle buffer (this may take a while): 10062 of 14766\n",
      "2025-01-11 14:29:17.098138: I tensorflow/core/kernels/data/shuffle_dataset_op.cc:422] ShuffleDatasetV3:1: Filling up shuffle buffer (this may take a while): 11295 of 14766\n",
      "2025-01-11 14:29:37.073284: I tensorflow/core/kernels/data/shuffle_dataset_op.cc:422] ShuffleDatasetV3:1: Filling up shuffle buffer (this may take a while): 12214 of 14766\n",
      "2025-01-11 14:29:57.066109: I tensorflow/core/kernels/data/shuffle_dataset_op.cc:422] ShuffleDatasetV3:1: Filling up shuffle buffer (this may take a while): 13435 of 14766\n",
      "2025-01-11 14:30:17.061508: I tensorflow/core/kernels/data/shuffle_dataset_op.cc:422] ShuffleDatasetV3:1: Filling up shuffle buffer (this may take a while): 14442 of 14766\n"
     ]
    },
    {
     "name": "stdout",
     "output_type": "stream",
     "text": [
      "125/462 [=======>......................] - ETA: 0s - loss: 0.0368 - accuracy: 0.9948 - auc: 0.9970 - specificity: 0.9951 - sensitivity: 0.9909 - f1_score: 0.9952    "
     ]
    },
    {
     "name": "stderr",
     "output_type": "stream",
     "text": [
      "2025-01-11 14:30:23.895538: I tensorflow/core/kernels/data/shuffle_dataset_op.cc:452] Shuffle buffer filled.\n"
     ]
    },
    {
     "name": "stdout",
     "output_type": "stream",
     "text": [
      "462/462 [==============================] - 107s 1ms/step - loss: 0.0368 - accuracy: 0.9944 - auc: 0.9975 - specificity: 0.9959 - sensitivity: 0.9898 - f1_score: 0.9956 - val_loss: 0.0386 - val_accuracy: 0.9960 - val_auc: 0.9984 - val_specificity: 0.9894 - val_sensitivity: 0.9963 - val_f1_score: 0.9955 - lr: 1.0000e-04\n",
      "Epoch 31/50\n"
     ]
    },
    {
     "name": "stderr",
     "output_type": "stream",
     "text": [
      "2025-01-11 14:30:34.539780: I tensorflow/core/kernels/data/shuffle_dataset_op.cc:422] ShuffleDatasetV3:1: Filling up shuffle buffer (this may take a while): 9574 of 14766\n",
      "2025-01-11 14:30:54.535667: I tensorflow/core/kernels/data/shuffle_dataset_op.cc:422] ShuffleDatasetV3:1: Filling up shuffle buffer (this may take a while): 11362 of 14766\n",
      "2025-01-11 14:31:14.501996: I tensorflow/core/kernels/data/shuffle_dataset_op.cc:422] ShuffleDatasetV3:1: Filling up shuffle buffer (this may take a while): 12085 of 14766\n",
      "2025-01-11 14:31:24.509321: I tensorflow/core/kernels/data/shuffle_dataset_op.cc:422] ShuffleDatasetV3:1: Filling up shuffle buffer (this may take a while): 12427 of 14766\n",
      "2025-01-11 14:31:44.531818: I tensorflow/core/kernels/data/shuffle_dataset_op.cc:422] ShuffleDatasetV3:1: Filling up shuffle buffer (this may take a while): 13021 of 14766\n",
      "2025-01-11 14:32:04.532913: I tensorflow/core/kernels/data/shuffle_dataset_op.cc:422] ShuffleDatasetV3:1: Filling up shuffle buffer (this may take a while): 13743 of 14766\n",
      "2025-01-11 14:32:14.533154: I tensorflow/core/kernels/data/shuffle_dataset_op.cc:422] ShuffleDatasetV3:1: Filling up shuffle buffer (this may take a while): 14157 of 14766\n"
     ]
    },
    {
     "name": "stdout",
     "output_type": "stream",
     "text": [
      "104/462 [=====>........................] - ETA: 0s - loss: 0.0377 - accuracy: 0.9955 - auc: 0.9979 - specificity: 0.9952 - sensitivity: 0.9928 - f1_score: 0.9954    "
     ]
    },
    {
     "name": "stderr",
     "output_type": "stream",
     "text": [
      "2025-01-11 14:32:19.329451: I tensorflow/core/kernels/data/shuffle_dataset_op.cc:452] Shuffle buffer filled.\n"
     ]
    },
    {
     "name": "stdout",
     "output_type": "stream",
     "text": [
      "462/462 [==============================] - 116s 1ms/step - loss: 0.0365 - accuracy: 0.9952 - auc: 0.9982 - specificity: 0.9960 - sensitivity: 0.9912 - f1_score: 0.9963 - val_loss: 0.0380 - val_accuracy: 0.9955 - val_auc: 0.9980 - val_specificity: 0.9904 - val_sensitivity: 0.9945 - val_f1_score: 0.9952 - lr: 1.0000e-04\n",
      "Epoch 32/50\n"
     ]
    },
    {
     "name": "stderr",
     "output_type": "stream",
     "text": [
      "2025-01-11 14:32:30.004760: I tensorflow/core/kernels/data/shuffle_dataset_op.cc:422] ShuffleDatasetV3:1: Filling up shuffle buffer (this may take a while): 9166 of 14766\n",
      "2025-01-11 14:32:40.036252: I tensorflow/core/kernels/data/shuffle_dataset_op.cc:422] ShuffleDatasetV3:1: Filling up shuffle buffer (this may take a while): 10990 of 14766\n",
      "2025-01-11 14:32:59.999738: I tensorflow/core/kernels/data/shuffle_dataset_op.cc:422] ShuffleDatasetV3:1: Filling up shuffle buffer (this may take a while): 11708 of 14766\n",
      "2025-01-11 14:33:10.035879: I tensorflow/core/kernels/data/shuffle_dataset_op.cc:422] ShuffleDatasetV3:1: Filling up shuffle buffer (this may take a while): 12237 of 14766\n",
      "2025-01-11 14:33:30.015552: I tensorflow/core/kernels/data/shuffle_dataset_op.cc:422] ShuffleDatasetV3:1: Filling up shuffle buffer (this may take a while): 13334 of 14766\n",
      "2025-01-11 14:33:40.034976: I tensorflow/core/kernels/data/shuffle_dataset_op.cc:422] ShuffleDatasetV3:1: Filling up shuffle buffer (this may take a while): 13771 of 14766\n"
     ]
    },
    {
     "name": "stdout",
     "output_type": "stream",
     "text": [
      " 96/462 [=====>........................] - ETA: 0s - loss: 0.0351 - accuracy: 0.9964 - auc: 0.9984 - specificity: 0.9975 - sensitivity: 0.9929 - f1_score: 0.9970    "
     ]
    },
    {
     "name": "stderr",
     "output_type": "stream",
     "text": [
      "2025-01-11 14:33:50.045884: I tensorflow/core/kernels/data/shuffle_dataset_op.cc:422] ShuffleDatasetV3:1: Filling up shuffle buffer (this may take a while): 14581 of 14766\n",
      "2025-01-11 14:33:50.079643: I tensorflow/core/kernels/data/shuffle_dataset_op.cc:452] Shuffle buffer filled.\n"
     ]
    },
    {
     "name": "stdout",
     "output_type": "stream",
     "text": [
      "462/462 [==============================] - 91s 1ms/step - loss: 0.0366 - accuracy: 0.9938 - auc: 0.9979 - specificity: 0.9959 - sensitivity: 0.9893 - f1_score: 0.9957 - val_loss: 0.0383 - val_accuracy: 0.9909 - val_auc: 0.9963 - val_specificity: 0.9974 - val_sensitivity: 0.9835 - val_f1_score: 0.9953 - lr: 1.0000e-04\n",
      "Epoch 33/50\n"
     ]
    },
    {
     "name": "stderr",
     "output_type": "stream",
     "text": [
      "2025-01-11 14:34:00.712863: I tensorflow/core/kernels/data/shuffle_dataset_op.cc:422] ShuffleDatasetV3:1: Filling up shuffle buffer (this may take a while): 11173 of 14766\n",
      "2025-01-11 14:34:20.727765: I tensorflow/core/kernels/data/shuffle_dataset_op.cc:422] ShuffleDatasetV3:1: Filling up shuffle buffer (this may take a while): 12000 of 14766\n",
      "2025-01-11 14:34:30.736890: I tensorflow/core/kernels/data/shuffle_dataset_op.cc:422] ShuffleDatasetV3:1: Filling up shuffle buffer (this may take a while): 12575 of 14766\n",
      "2025-01-11 14:34:50.723105: I tensorflow/core/kernels/data/shuffle_dataset_op.cc:422] ShuffleDatasetV3:1: Filling up shuffle buffer (this may take a while): 13359 of 14766\n",
      "2025-01-11 14:35:00.730862: I tensorflow/core/kernels/data/shuffle_dataset_op.cc:422] ShuffleDatasetV3:1: Filling up shuffle buffer (this may take a while): 13774 of 14766\n"
     ]
    },
    {
     "name": "stdout",
     "output_type": "stream",
     "text": [
      " 76/462 [===>..........................] - ETA: 0s - loss: 0.0341 - accuracy: 0.9942 - auc: 0.9980 - specificity: 0.9992 - sensitivity: 0.9895 - f1_score: 0.9976     "
     ]
    },
    {
     "name": "stderr",
     "output_type": "stream",
     "text": [
      "2025-01-11 14:35:16.422880: I tensorflow/core/kernels/data/shuffle_dataset_op.cc:452] Shuffle buffer filled.\n"
     ]
    },
    {
     "name": "stdout",
     "output_type": "stream",
     "text": [
      "462/462 [==============================] - 86s 1ms/step - loss: 0.0351 - accuracy: 0.9952 - auc: 0.9982 - specificity: 0.9973 - sensitivity: 0.9912 - f1_score: 0.9971 - val_loss: 0.0369 - val_accuracy: 0.9950 - val_auc: 0.9981 - val_specificity: 0.9951 - val_sensitivity: 0.9917 - val_f1_score: 0.9966 - lr: 1.0000e-05\n",
      "Epoch 34/50\n"
     ]
    },
    {
     "name": "stderr",
     "output_type": "stream",
     "text": [
      "2025-01-11 14:35:27.097657: I tensorflow/core/kernels/data/shuffle_dataset_op.cc:422] ShuffleDatasetV3:1: Filling up shuffle buffer (this may take a while): 10171 of 14766\n",
      "2025-01-11 14:35:47.146522: I tensorflow/core/kernels/data/shuffle_dataset_op.cc:422] ShuffleDatasetV3:1: Filling up shuffle buffer (this may take a while): 11264 of 14766\n",
      "2025-01-11 14:36:07.089329: I tensorflow/core/kernels/data/shuffle_dataset_op.cc:422] ShuffleDatasetV3:1: Filling up shuffle buffer (this may take a while): 12204 of 14766\n",
      "2025-01-11 14:36:17.121353: I tensorflow/core/kernels/data/shuffle_dataset_op.cc:422] ShuffleDatasetV3:1: Filling up shuffle buffer (this may take a while): 12558 of 14766\n",
      "2025-01-11 14:36:37.123547: I tensorflow/core/kernels/data/shuffle_dataset_op.cc:422] ShuffleDatasetV3:1: Filling up shuffle buffer (this may take a while): 13256 of 14766\n",
      "2025-01-11 14:36:47.132725: I tensorflow/core/kernels/data/shuffle_dataset_op.cc:422] ShuffleDatasetV3:1: Filling up shuffle buffer (this may take a while): 13627 of 14766\n",
      "2025-01-11 14:37:07.117424: I tensorflow/core/kernels/data/shuffle_dataset_op.cc:422] ShuffleDatasetV3:1: Filling up shuffle buffer (this may take a while): 14178 of 14766\n"
     ]
    },
    {
     "name": "stdout",
     "output_type": "stream",
     "text": [
      "109/462 [======>.......................] - ETA: 0s - loss: 0.0354 - accuracy: 0.9960 - auc: 0.9994 - specificity: 0.9968 - sensitivity: 0.9927 - f1_score: 0.9976    "
     ]
    },
    {
     "name": "stderr",
     "output_type": "stream",
     "text": [
      "2025-01-11 14:37:21.749977: I tensorflow/core/kernels/data/shuffle_dataset_op.cc:452] Shuffle buffer filled.\n"
     ]
    },
    {
     "name": "stdout",
     "output_type": "stream",
     "text": [
      "462/462 [==============================] - 125s 1ms/step - loss: 0.0350 - accuracy: 0.9957 - auc: 0.9987 - specificity: 0.9973 - sensitivity: 0.9921 - f1_score: 0.9972 - val_loss: 0.0368 - val_accuracy: 0.9955 - val_auc: 0.9981 - val_specificity: 0.9937 - val_sensitivity: 0.9936 - val_f1_score: 0.9962 - lr: 1.0000e-05\n",
      "Epoch 35/50\n"
     ]
    },
    {
     "name": "stderr",
     "output_type": "stream",
     "text": [
      "2025-01-11 14:37:32.464060: I tensorflow/core/kernels/data/shuffle_dataset_op.cc:422] ShuffleDatasetV3:1: Filling up shuffle buffer (this may take a while): 9662 of 14766\n",
      "2025-01-11 14:37:42.489608: I tensorflow/core/kernels/data/shuffle_dataset_op.cc:422] ShuffleDatasetV3:1: Filling up shuffle buffer (this may take a while): 10806 of 14766\n",
      "2025-01-11 14:38:02.453054: I tensorflow/core/kernels/data/shuffle_dataset_op.cc:422] ShuffleDatasetV3:1: Filling up shuffle buffer (this may take a while): 12205 of 14766\n",
      "2025-01-11 14:38:22.444774: I tensorflow/core/kernels/data/shuffle_dataset_op.cc:422] ShuffleDatasetV3:1: Filling up shuffle buffer (this may take a while): 13031 of 14766\n",
      "2025-01-11 14:38:32.491870: I tensorflow/core/kernels/data/shuffle_dataset_op.cc:422] ShuffleDatasetV3:1: Filling up shuffle buffer (this may take a while): 13307 of 14766\n",
      "2025-01-11 14:38:52.488480: I tensorflow/core/kernels/data/shuffle_dataset_op.cc:422] ShuffleDatasetV3:1: Filling up shuffle buffer (this may take a while): 14176 of 14766\n"
     ]
    },
    {
     "name": "stdout",
     "output_type": "stream",
     "text": [
      "126/462 [=======>......................] - ETA: 0s - loss: 0.0349 - accuracy: 0.9973 - auc: 0.9987 - specificity: 0.9980 - sensitivity: 0.9944 - f1_score: 0.9976    "
     ]
    },
    {
     "name": "stderr",
     "output_type": "stream",
     "text": [
      "2025-01-11 14:39:10.477000: I tensorflow/core/kernels/data/shuffle_dataset_op.cc:452] Shuffle buffer filled.\n"
     ]
    },
    {
     "name": "stdout",
     "output_type": "stream",
     "text": [
      "462/462 [==============================] - 109s 1ms/step - loss: 0.0347 - accuracy: 0.9963 - auc: 0.9986 - specificity: 0.9977 - sensitivity: 0.9928 - f1_score: 0.9972 - val_loss: 0.0367 - val_accuracy: 0.9955 - val_auc: 0.9981 - val_specificity: 0.9951 - val_sensitivity: 0.9927 - val_f1_score: 0.9966 - lr: 1.0000e-05\n",
      "Epoch 36/50\n"
     ]
    },
    {
     "name": "stderr",
     "output_type": "stream",
     "text": [
      "2025-01-11 14:39:21.071004: I tensorflow/core/kernels/data/shuffle_dataset_op.cc:422] ShuffleDatasetV3:1: Filling up shuffle buffer (this may take a while): 9531 of 14766\n",
      "2025-01-11 14:39:31.112607: I tensorflow/core/kernels/data/shuffle_dataset_op.cc:422] ShuffleDatasetV3:1: Filling up shuffle buffer (this may take a while): 10380 of 14766\n",
      "2025-01-11 14:39:51.123142: I tensorflow/core/kernels/data/shuffle_dataset_op.cc:422] ShuffleDatasetV3:1: Filling up shuffle buffer (this may take a while): 11133 of 14766\n",
      "2025-01-11 14:40:11.099285: I tensorflow/core/kernels/data/shuffle_dataset_op.cc:422] ShuffleDatasetV3:1: Filling up shuffle buffer (this may take a while): 12554 of 14766\n",
      "2025-01-11 14:40:21.102736: I tensorflow/core/kernels/data/shuffle_dataset_op.cc:422] ShuffleDatasetV3:1: Filling up shuffle buffer (this may take a while): 12903 of 14766\n",
      "2025-01-11 14:40:41.108987: I tensorflow/core/kernels/data/shuffle_dataset_op.cc:422] ShuffleDatasetV3:1: Filling up shuffle buffer (this may take a while): 13814 of 14766\n",
      "2025-01-11 14:41:01.078682: I tensorflow/core/kernels/data/shuffle_dataset_op.cc:422] ShuffleDatasetV3:1: Filling up shuffle buffer (this may take a while): 14531 of 14766\n"
     ]
    },
    {
     "name": "stdout",
     "output_type": "stream",
     "text": [
      "114/462 [======>.......................] - ETA: 0s - loss: 0.0346 - accuracy: 0.9984 - auc: 0.9994 - specificity: 1.0000 - sensitivity: 0.9967 - f1_score: 0.9995    "
     ]
    },
    {
     "name": "stderr",
     "output_type": "stream",
     "text": [
      "2025-01-11 14:41:06.177156: I tensorflow/core/kernels/data/shuffle_dataset_op.cc:452] Shuffle buffer filled.\n"
     ]
    },
    {
     "name": "stdout",
     "output_type": "stream",
     "text": [
      "462/462 [==============================] - 116s 1ms/step - loss: 0.0349 - accuracy: 0.9960 - auc: 0.9986 - specificity: 0.9985 - sensitivity: 0.9926 - f1_score: 0.9978 - val_loss: 0.0367 - val_accuracy: 0.9955 - val_auc: 0.9981 - val_specificity: 0.9937 - val_sensitivity: 0.9927 - val_f1_score: 0.9962 - lr: 1.0000e-05\n",
      "Epoch 37/50\n"
     ]
    },
    {
     "name": "stderr",
     "output_type": "stream",
     "text": [
      "2025-01-11 14:41:16.839310: I tensorflow/core/kernels/data/shuffle_dataset_op.cc:422] ShuffleDatasetV3:1: Filling up shuffle buffer (this may take a while): 9036 of 14766\n",
      "2025-01-11 14:41:36.803644: I tensorflow/core/kernels/data/shuffle_dataset_op.cc:422] ShuffleDatasetV3:1: Filling up shuffle buffer (this may take a while): 10860 of 14766\n",
      "2025-01-11 14:41:56.842476: I tensorflow/core/kernels/data/shuffle_dataset_op.cc:422] ShuffleDatasetV3:1: Filling up shuffle buffer (this may take a while): 11506 of 14766\n",
      "2025-01-11 14:42:16.804192: I tensorflow/core/kernels/data/shuffle_dataset_op.cc:422] ShuffleDatasetV3:1: Filling up shuffle buffer (this may take a while): 12565 of 14766\n",
      "2025-01-11 14:42:26.822352: I tensorflow/core/kernels/data/shuffle_dataset_op.cc:422] ShuffleDatasetV3:1: Filling up shuffle buffer (this may take a while): 12925 of 14766\n",
      "2025-01-11 14:42:46.813241: I tensorflow/core/kernels/data/shuffle_dataset_op.cc:422] ShuffleDatasetV3:1: Filling up shuffle buffer (this may take a while): 13810 of 14766\n",
      "2025-01-11 14:43:06.796847: I tensorflow/core/kernels/data/shuffle_dataset_op.cc:422] ShuffleDatasetV3:1: Filling up shuffle buffer (this may take a while): 14536 of 14766\n"
     ]
    },
    {
     "name": "stdout",
     "output_type": "stream",
     "text": [
      " 80/462 [====>.........................] - ETA: 0s - loss: 0.0372 - accuracy: 0.9949 - auc: 0.9984 - specificity: 0.9970 - sensitivity: 0.9897 - f1_score: 0.9974    "
     ]
    },
    {
     "name": "stderr",
     "output_type": "stream",
     "text": [
      "2025-01-11 14:43:14.098735: I tensorflow/core/kernels/data/shuffle_dataset_op.cc:452] Shuffle buffer filled.\n"
     ]
    },
    {
     "name": "stdout",
     "output_type": "stream",
     "text": [
      "462/462 [==============================] - 128s 2ms/step - loss: 0.0352 - accuracy: 0.9957 - auc: 0.9986 - specificity: 0.9972 - sensitivity: 0.9915 - f1_score: 0.9972 - val_loss: 0.0367 - val_accuracy: 0.9955 - val_auc: 0.9981 - val_specificity: 0.9937 - val_sensitivity: 0.9936 - val_f1_score: 0.9962 - lr: 1.0000e-05\n",
      "Epoch 38/50\n"
     ]
    },
    {
     "name": "stderr",
     "output_type": "stream",
     "text": [
      "2025-01-11 14:43:25.084913: I tensorflow/core/kernels/data/shuffle_dataset_op.cc:422] ShuffleDatasetV3:1: Filling up shuffle buffer (this may take a while): 9420 of 14766\n",
      "2025-01-11 14:43:45.104676: I tensorflow/core/kernels/data/shuffle_dataset_op.cc:422] ShuffleDatasetV3:1: Filling up shuffle buffer (this may take a while): 10340 of 14766\n",
      "2025-01-11 14:44:05.107951: I tensorflow/core/kernels/data/shuffle_dataset_op.cc:422] ShuffleDatasetV3:1: Filling up shuffle buffer (this may take a while): 12187 of 14766\n"
     ]
    },
    {
     "name": "stdout",
     "output_type": "stream",
     "text": [
      " 93/462 [=====>........................] - ETA: 0s - loss: 0.0368 - accuracy: 0.9980 - auc: 0.9997 - specificity: 0.9963 - sensitivity: 0.9973 - f1_score: 0.9982   "
     ]
    },
    {
     "name": "stderr",
     "output_type": "stream",
     "text": [
      "2025-01-11 14:44:20.551259: I tensorflow/core/kernels/data/shuffle_dataset_op.cc:452] Shuffle buffer filled.\n"
     ]
    },
    {
     "name": "stdout",
     "output_type": "stream",
     "text": [
      "462/462 [==============================] - 66s 1ms/step - loss: 0.0350 - accuracy: 0.9957 - auc: 0.9983 - specificity: 0.9978 - sensitivity: 0.9920 - f1_score: 0.9973 - val_loss: 0.0366 - val_accuracy: 0.9960 - val_auc: 0.9981 - val_specificity: 0.9937 - val_sensitivity: 0.9936 - val_f1_score: 0.9962 - lr: 1.0000e-05\n",
      "Epoch 39/50\n"
     ]
    },
    {
     "name": "stderr",
     "output_type": "stream",
     "text": [
      "2025-01-11 14:44:31.187231: I tensorflow/core/kernels/data/shuffle_dataset_op.cc:422] ShuffleDatasetV3:1: Filling up shuffle buffer (this may take a while): 9720 of 14766\n",
      "2025-01-11 14:44:41.213477: I tensorflow/core/kernels/data/shuffle_dataset_op.cc:422] ShuffleDatasetV3:1: Filling up shuffle buffer (this may take a while): 10597 of 14766\n",
      "2025-01-11 14:45:01.187485: I tensorflow/core/kernels/data/shuffle_dataset_op.cc:422] ShuffleDatasetV3:1: Filling up shuffle buffer (this may take a while): 11832 of 14766\n",
      "2025-01-11 14:45:21.191174: I tensorflow/core/kernels/data/shuffle_dataset_op.cc:422] ShuffleDatasetV3:1: Filling up shuffle buffer (this may take a while): 13165 of 14766\n",
      "2025-01-11 14:45:31.214614: I tensorflow/core/kernels/data/shuffle_dataset_op.cc:422] ShuffleDatasetV3:1: Filling up shuffle buffer (this may take a while): 13567 of 14766\n",
      "2025-01-11 14:45:51.213435: I tensorflow/core/kernels/data/shuffle_dataset_op.cc:422] ShuffleDatasetV3:1: Filling up shuffle buffer (this may take a while): 14176 of 14766\n"
     ]
    },
    {
     "name": "stdout",
     "output_type": "stream",
     "text": [
      "123/462 [======>.......................] - ETA: 0s - loss: 0.0333 - accuracy: 0.9970 - auc: 0.9995 - specificity: 0.9974 - sensitivity: 0.9944 - f1_score: 0.9982    "
     ]
    },
    {
     "name": "stderr",
     "output_type": "stream",
     "text": [
      "2025-01-11 14:46:06.286049: I tensorflow/core/kernels/data/shuffle_dataset_op.cc:452] Shuffle buffer filled.\n"
     ]
    },
    {
     "name": "stdout",
     "output_type": "stream",
     "text": [
      "462/462 [==============================] - 106s 1ms/step - loss: 0.0350 - accuracy: 0.9957 - auc: 0.9984 - specificity: 0.9977 - sensitivity: 0.9919 - f1_score: 0.9973 - val_loss: 0.0366 - val_accuracy: 0.9955 - val_auc: 0.9981 - val_specificity: 0.9951 - val_sensitivity: 0.9927 - val_f1_score: 0.9966 - lr: 1.0000e-05\n",
      "Epoch 40/50\n"
     ]
    },
    {
     "name": "stderr",
     "output_type": "stream",
     "text": [
      "2025-01-11 14:46:16.946223: I tensorflow/core/kernels/data/shuffle_dataset_op.cc:422] ShuffleDatasetV3:1: Filling up shuffle buffer (this may take a while): 9146 of 14766\n",
      "2025-01-11 14:46:36.916237: I tensorflow/core/kernels/data/shuffle_dataset_op.cc:422] ShuffleDatasetV3:1: Filling up shuffle buffer (this may take a while): 10376 of 14766\n",
      "2025-01-11 14:46:46.919508: I tensorflow/core/kernels/data/shuffle_dataset_op.cc:422] ShuffleDatasetV3:1: Filling up shuffle buffer (this may take a while): 10804 of 14766\n",
      "2025-01-11 14:47:06.913550: I tensorflow/core/kernels/data/shuffle_dataset_op.cc:422] ShuffleDatasetV3:1: Filling up shuffle buffer (this may take a while): 11998 of 14766\n",
      "2025-01-11 14:47:26.890454: I tensorflow/core/kernels/data/shuffle_dataset_op.cc:422] ShuffleDatasetV3:1: Filling up shuffle buffer (this may take a while): 12812 of 14766\n",
      "2025-01-11 14:47:46.892682: I tensorflow/core/kernels/data/shuffle_dataset_op.cc:422] ShuffleDatasetV3:1: Filling up shuffle buffer (this may take a while): 13430 of 14766\n",
      "2025-01-11 14:47:56.935053: I tensorflow/core/kernels/data/shuffle_dataset_op.cc:422] ShuffleDatasetV3:1: Filling up shuffle buffer (this may take a while): 13991 of 14766\n",
      "2025-01-11 14:48:06.939708: I tensorflow/core/kernels/data/shuffle_dataset_op.cc:422] ShuffleDatasetV3:1: Filling up shuffle buffer (this may take a while): 14358 of 14766\n"
     ]
    },
    {
     "name": "stdout",
     "output_type": "stream",
     "text": [
      "126/462 [=======>......................] - ETA: 0s - loss: 0.0352 - accuracy: 0.9950 - auc: 0.9985 - specificity: 0.9981 - sensitivity: 0.9911 - f1_score: 0.9975    "
     ]
    },
    {
     "name": "stderr",
     "output_type": "stream",
     "text": [
      "2025-01-11 14:48:12.727088: I tensorflow/core/kernels/data/shuffle_dataset_op.cc:452] Shuffle buffer filled.\n"
     ]
    },
    {
     "name": "stdout",
     "output_type": "stream",
     "text": [
      "462/462 [==============================] - 126s 1ms/step - loss: 0.0350 - accuracy: 0.9957 - auc: 0.9980 - specificity: 0.9982 - sensitivity: 0.9919 - f1_score: 0.9970 - val_loss: 0.0366 - val_accuracy: 0.9955 - val_auc: 0.9981 - val_specificity: 0.9937 - val_sensitivity: 0.9927 - val_f1_score: 0.9962 - lr: 1.0000e-05\n",
      "Epoch 41/50\n"
     ]
    },
    {
     "name": "stderr",
     "output_type": "stream",
     "text": [
      "2025-01-11 14:48:23.336459: I tensorflow/core/kernels/data/shuffle_dataset_op.cc:422] ShuffleDatasetV3:1: Filling up shuffle buffer (this may take a while): 10231 of 14766\n",
      "2025-01-11 14:48:43.327009: I tensorflow/core/kernels/data/shuffle_dataset_op.cc:422] ShuffleDatasetV3:1: Filling up shuffle buffer (this may take a while): 11301 of 14766\n",
      "2025-01-11 14:48:53.355880: I tensorflow/core/kernels/data/shuffle_dataset_op.cc:422] ShuffleDatasetV3:1: Filling up shuffle buffer (this may take a while): 11746 of 14766\n",
      "2025-01-11 14:49:13.355596: I tensorflow/core/kernels/data/shuffle_dataset_op.cc:422] ShuffleDatasetV3:1: Filling up shuffle buffer (this may take a while): 12877 of 14766\n",
      "2025-01-11 14:49:33.332015: I tensorflow/core/kernels/data/shuffle_dataset_op.cc:422] ShuffleDatasetV3:1: Filling up shuffle buffer (this may take a while): 13536 of 14766\n",
      "2025-01-11 14:49:43.338031: I tensorflow/core/kernels/data/shuffle_dataset_op.cc:422] ShuffleDatasetV3:1: Filling up shuffle buffer (this may take a while): 13807 of 14766\n",
      "2025-01-11 14:49:53.348530: I tensorflow/core/kernels/data/shuffle_dataset_op.cc:422] ShuffleDatasetV3:1: Filling up shuffle buffer (this may take a while): 14180 of 14766\n"
     ]
    },
    {
     "name": "stdout",
     "output_type": "stream",
     "text": [
      "122/462 [======>.......................] - ETA: 0s - loss: 0.0351 - accuracy: 0.9941 - auc: 0.9987 - specificity: 0.9971 - sensitivity: 0.9890 - f1_score: 0.9972    "
     ]
    },
    {
     "name": "stderr",
     "output_type": "stream",
     "text": [
      "2025-01-11 14:50:03.369962: I tensorflow/core/kernels/data/shuffle_dataset_op.cc:422] ShuffleDatasetV3:1: Filling up shuffle buffer (this may take a while): 14544 of 14766\n",
      "2025-01-11 14:50:03.387483: I tensorflow/core/kernels/data/shuffle_dataset_op.cc:452] Shuffle buffer filled.\n"
     ]
    },
    {
     "name": "stdout",
     "output_type": "stream",
     "text": [
      "462/462 [==============================] - 111s 1ms/step - loss: 0.0351 - accuracy: 0.9952 - auc: 0.9985 - specificity: 0.9976 - sensitivity: 0.9909 - f1_score: 0.9972 - val_loss: 0.0365 - val_accuracy: 0.9955 - val_auc: 0.9981 - val_specificity: 0.9937 - val_sensitivity: 0.9927 - val_f1_score: 0.9962 - lr: 1.0000e-05\n",
      "Epoch 42/50\n"
     ]
    },
    {
     "name": "stderr",
     "output_type": "stream",
     "text": [
      "2025-01-11 14:50:13.987591: I tensorflow/core/kernels/data/shuffle_dataset_op.cc:422] ShuffleDatasetV3:1: Filling up shuffle buffer (this may take a while): 9671 of 14766\n",
      "2025-01-11 14:50:24.010961: I tensorflow/core/kernels/data/shuffle_dataset_op.cc:422] ShuffleDatasetV3:1: Filling up shuffle buffer (this may take a while): 10407 of 14766\n",
      "2025-01-11 14:50:44.017815: I tensorflow/core/kernels/data/shuffle_dataset_op.cc:422] ShuffleDatasetV3:1: Filling up shuffle buffer (this may take a while): 11382 of 14766\n",
      "2025-01-11 14:51:03.981899: I tensorflow/core/kernels/data/shuffle_dataset_op.cc:422] ShuffleDatasetV3:1: Filling up shuffle buffer (this may take a while): 12086 of 14766\n",
      "2025-01-11 14:51:13.996716: I tensorflow/core/kernels/data/shuffle_dataset_op.cc:422] ShuffleDatasetV3:1: Filling up shuffle buffer (this may take a while): 12428 of 14766\n",
      "2025-01-11 14:51:34.020569: I tensorflow/core/kernels/data/shuffle_dataset_op.cc:422] ShuffleDatasetV3:1: Filling up shuffle buffer (this may take a while): 13152 of 14766\n",
      "2025-01-11 14:51:54.027256: I tensorflow/core/kernels/data/shuffle_dataset_op.cc:422] ShuffleDatasetV3:1: Filling up shuffle buffer (this may take a while): 13741 of 14766\n",
      "2025-01-11 14:52:14.014559: I tensorflow/core/kernels/data/shuffle_dataset_op.cc:422] ShuffleDatasetV3:1: Filling up shuffle buffer (this may take a while): 14454 of 14766\n"
     ]
    },
    {
     "name": "stdout",
     "output_type": "stream",
     "text": [
      "119/462 [======>.......................] - ETA: 0s - loss: 0.0357 - accuracy: 0.9953 - auc: 0.9984 - specificity: 0.9969 - sensitivity: 0.9913 - f1_score: 0.9969    "
     ]
    },
    {
     "name": "stderr",
     "output_type": "stream",
     "text": [
      "2025-01-11 14:52:23.067323: I tensorflow/core/kernels/data/shuffle_dataset_op.cc:452] Shuffle buffer filled.\n"
     ]
    },
    {
     "name": "stdout",
     "output_type": "stream",
     "text": [
      "462/462 [==============================] - 140s 1ms/step - loss: 0.0344 - accuracy: 0.9960 - auc: 0.9986 - specificity: 0.9983 - sensitivity: 0.9921 - f1_score: 0.9977 - val_loss: 0.0365 - val_accuracy: 0.9955 - val_auc: 0.9981 - val_specificity: 0.9937 - val_sensitivity: 0.9927 - val_f1_score: 0.9962 - lr: 1.0000e-06\n",
      "Epoch 43/50\n"
     ]
    },
    {
     "name": "stderr",
     "output_type": "stream",
     "text": [
      "2025-01-11 14:52:33.716637: I tensorflow/core/kernels/data/shuffle_dataset_op.cc:422] ShuffleDatasetV3:1: Filling up shuffle buffer (this may take a while): 11013 of 14766\n",
      "2025-01-11 14:52:53.683052: I tensorflow/core/kernels/data/shuffle_dataset_op.cc:422] ShuffleDatasetV3:1: Filling up shuffle buffer (this may take a while): 13373 of 14766\n"
     ]
    },
    {
     "name": "stdout",
     "output_type": "stream",
     "text": [
      "128/462 [=======>......................] - ETA: 0s - loss: 0.0350 - accuracy: 0.9961 - auc: 0.9990 - specificity: 0.9960 - sensitivity: 0.9933 - f1_score: 0.9972   "
     ]
    },
    {
     "name": "stderr",
     "output_type": "stream",
     "text": [
      "2025-01-11 14:53:06.619968: I tensorflow/core/kernels/data/shuffle_dataset_op.cc:452] Shuffle buffer filled.\n"
     ]
    },
    {
     "name": "stdout",
     "output_type": "stream",
     "text": [
      "462/462 [==============================] - 44s 1ms/step - loss: 0.0347 - accuracy: 0.9961 - auc: 0.9988 - specificity: 0.9976 - sensitivity: 0.9928 - f1_score: 0.9976 - val_loss: 0.0365 - val_accuracy: 0.9955 - val_auc: 0.9981 - val_specificity: 0.9937 - val_sensitivity: 0.9927 - val_f1_score: 0.9962 - lr: 1.0000e-06\n",
      "Epoch 44/50\n"
     ]
    },
    {
     "name": "stderr",
     "output_type": "stream",
     "text": [
      "2025-01-11 14:53:17.213894: I tensorflow/core/kernels/data/shuffle_dataset_op.cc:422] ShuffleDatasetV3:1: Filling up shuffle buffer (this may take a while): 10399 of 14766\n",
      "2025-01-11 14:53:37.227515: I tensorflow/core/kernels/data/shuffle_dataset_op.cc:422] ShuffleDatasetV3:1: Filling up shuffle buffer (this may take a while): 12415 of 14766\n",
      "2025-01-11 14:53:47.230819: I tensorflow/core/kernels/data/shuffle_dataset_op.cc:422] ShuffleDatasetV3:1: Filling up shuffle buffer (this may take a while): 12821 of 14766\n",
      "2025-01-11 14:54:07.205702: I tensorflow/core/kernels/data/shuffle_dataset_op.cc:422] ShuffleDatasetV3:1: Filling up shuffle buffer (this may take a while): 13878 of 14766\n"
     ]
    },
    {
     "name": "stdout",
     "output_type": "stream",
     "text": [
      " 79/462 [====>.........................] - ETA: 0s - loss: 0.0366 - accuracy: 0.9953 - auc: 0.9984 - specificity: 0.9984 - sensitivity: 0.9914 - f1_score: 0.9976    "
     ]
    },
    {
     "name": "stderr",
     "output_type": "stream",
     "text": [
      "2025-01-11 14:54:17.213840: I tensorflow/core/kernels/data/shuffle_dataset_op.cc:422] ShuffleDatasetV3:1: Filling up shuffle buffer (this may take a while): 14552 of 14766\n",
      "2025-01-11 14:54:17.283767: I tensorflow/core/kernels/data/shuffle_dataset_op.cc:452] Shuffle buffer filled.\n"
     ]
    },
    {
     "name": "stdout",
     "output_type": "stream",
     "text": [
      "462/462 [==============================] - 71s 1ms/step - loss: 0.0346 - accuracy: 0.9965 - auc: 0.9988 - specificity: 0.9982 - sensitivity: 0.9935 - f1_score: 0.9978 - val_loss: 0.0365 - val_accuracy: 0.9955 - val_auc: 0.9981 - val_specificity: 0.9937 - val_sensitivity: 0.9927 - val_f1_score: 0.9962 - lr: 1.0000e-06\n",
      "Epoch 45/50\n"
     ]
    },
    {
     "name": "stderr",
     "output_type": "stream",
     "text": [
      "2025-01-11 14:54:27.922508: I tensorflow/core/kernels/data/shuffle_dataset_op.cc:422] ShuffleDatasetV3:1: Filling up shuffle buffer (this may take a while): 10398 of 14766\n",
      "2025-01-11 14:54:37.927398: I tensorflow/core/kernels/data/shuffle_dataset_op.cc:422] ShuffleDatasetV3:1: Filling up shuffle buffer (this may take a while): 10992 of 14766\n",
      "2025-01-11 14:54:47.935746: I tensorflow/core/kernels/data/shuffle_dataset_op.cc:422] ShuffleDatasetV3:1: Filling up shuffle buffer (this may take a while): 11395 of 14766\n",
      "2025-01-11 14:55:07.906100: I tensorflow/core/kernels/data/shuffle_dataset_op.cc:422] ShuffleDatasetV3:1: Filling up shuffle buffer (this may take a while): 12207 of 14766\n",
      "2025-01-11 14:55:17.921126: I tensorflow/core/kernels/data/shuffle_dataset_op.cc:422] ShuffleDatasetV3:1: Filling up shuffle buffer (this may take a while): 12591 of 14766\n",
      "2025-01-11 14:55:37.892753: I tensorflow/core/kernels/data/shuffle_dataset_op.cc:422] ShuffleDatasetV3:1: Filling up shuffle buffer (this may take a while): 13653 of 14766\n",
      "2025-01-11 14:55:47.907547: I tensorflow/core/kernels/data/shuffle_dataset_op.cc:422] ShuffleDatasetV3:1: Filling up shuffle buffer (this may take a while): 14047 of 14766\n",
      "2025-01-11 14:55:57.937767: I tensorflow/core/kernels/data/shuffle_dataset_op.cc:422] ShuffleDatasetV3:1: Filling up shuffle buffer (this may take a while): 14411 of 14766\n"
     ]
    },
    {
     "name": "stdout",
     "output_type": "stream",
     "text": [
      " 32/462 [=>............................] - ETA: 1s - loss: 0.0322 - accuracy: 0.9961 - auc: 0.9990 - specificity: 1.0000 - sensitivity: 0.9924 - f1_score: 0.9990     "
     ]
    },
    {
     "name": "stderr",
     "output_type": "stream",
     "text": [
      "2025-01-11 14:56:02.736003: I tensorflow/core/kernels/data/shuffle_dataset_op.cc:452] Shuffle buffer filled.\n"
     ]
    },
    {
     "name": "stdout",
     "output_type": "stream",
     "text": [
      "462/462 [==============================] - 106s 2ms/step - loss: 0.0344 - accuracy: 0.9957 - auc: 0.9989 - specificity: 0.9982 - sensitivity: 0.9917 - f1_score: 0.9980 - val_loss: 0.0365 - val_accuracy: 0.9955 - val_auc: 0.9981 - val_specificity: 0.9937 - val_sensitivity: 0.9927 - val_f1_score: 0.9962 - lr: 1.0000e-06\n",
      "Epoch 46/50\n"
     ]
    },
    {
     "name": "stderr",
     "output_type": "stream",
     "text": [
      "2025-01-11 14:56:13.610937: I tensorflow/core/kernels/data/shuffle_dataset_op.cc:422] ShuffleDatasetV3:1: Filling up shuffle buffer (this may take a while): 9390 of 14766\n",
      "2025-01-11 14:56:33.583542: I tensorflow/core/kernels/data/shuffle_dataset_op.cc:422] ShuffleDatasetV3:1: Filling up shuffle buffer (this may take a while): 10690 of 14766\n",
      "2025-01-11 14:56:43.589100: I tensorflow/core/kernels/data/shuffle_dataset_op.cc:422] ShuffleDatasetV3:1: Filling up shuffle buffer (this may take a while): 11159 of 14766\n",
      "2025-01-11 14:56:53.604054: I tensorflow/core/kernels/data/shuffle_dataset_op.cc:422] ShuffleDatasetV3:1: Filling up shuffle buffer (this may take a while): 11567 of 14766\n",
      "2025-01-11 14:57:13.590351: I tensorflow/core/kernels/data/shuffle_dataset_op.cc:422] ShuffleDatasetV3:1: Filling up shuffle buffer (this may take a while): 12346 of 14766\n",
      "2025-01-11 14:57:33.594180: I tensorflow/core/kernels/data/shuffle_dataset_op.cc:422] ShuffleDatasetV3:1: Filling up shuffle buffer (this may take a while): 13092 of 14766\n",
      "2025-01-11 14:57:43.625708: I tensorflow/core/kernels/data/shuffle_dataset_op.cc:422] ShuffleDatasetV3:1: Filling up shuffle buffer (this may take a while): 13484 of 14766\n",
      "2025-01-11 14:58:03.584400: I tensorflow/core/kernels/data/shuffle_dataset_op.cc:422] ShuffleDatasetV3:1: Filling up shuffle buffer (this may take a while): 14120 of 14766\n",
      "2025-01-11 14:58:13.623868: I tensorflow/core/kernels/data/shuffle_dataset_op.cc:422] ShuffleDatasetV3:1: Filling up shuffle buffer (this may take a while): 14479 of 14766\n"
     ]
    },
    {
     "name": "stdout",
     "output_type": "stream",
     "text": [
      "121/462 [======>.......................] - ETA: 0s - loss: 0.0365 - accuracy: 0.9948 - auc: 0.9985 - specificity: 0.9974 - sensitivity: 0.9898 - f1_score: 0.9970    "
     ]
    },
    {
     "name": "stderr",
     "output_type": "stream",
     "text": [
      "2025-01-11 14:58:21.226659: I tensorflow/core/kernels/data/shuffle_dataset_op.cc:452] Shuffle buffer filled.\n"
     ]
    },
    {
     "name": "stdout",
     "output_type": "stream",
     "text": [
      "462/462 [==============================] - 138s 1ms/step - loss: 0.0350 - accuracy: 0.9951 - auc: 0.9984 - specificity: 0.9975 - sensitivity: 0.9907 - f1_score: 0.9970 - val_loss: 0.0365 - val_accuracy: 0.9955 - val_auc: 0.9981 - val_specificity: 0.9937 - val_sensitivity: 0.9927 - val_f1_score: 0.9962 - lr: 1.0000e-06\n",
      "Epoch 47/50\n"
     ]
    },
    {
     "name": "stderr",
     "output_type": "stream",
     "text": [
      "2025-01-11 14:58:31.854368: I tensorflow/core/kernels/data/shuffle_dataset_op.cc:422] ShuffleDatasetV3:1: Filling up shuffle buffer (this may take a while): 9558 of 14766\n",
      "2025-01-11 14:58:51.872583: I tensorflow/core/kernels/data/shuffle_dataset_op.cc:422] ShuffleDatasetV3:1: Filling up shuffle buffer (this may take a while): 10366 of 14766\n",
      "2025-01-11 14:59:11.827424: I tensorflow/core/kernels/data/shuffle_dataset_op.cc:422] ShuffleDatasetV3:1: Filling up shuffle buffer (this may take a while): 12075 of 14766\n",
      "2025-01-11 14:59:31.837435: I tensorflow/core/kernels/data/shuffle_dataset_op.cc:422] ShuffleDatasetV3:1: Filling up shuffle buffer (this may take a while): 12997 of 14766\n",
      "2025-01-11 14:59:51.828920: I tensorflow/core/kernels/data/shuffle_dataset_op.cc:422] ShuffleDatasetV3:1: Filling up shuffle buffer (this may take a while): 13795 of 14766\n",
      "2025-01-11 15:00:01.864741: I tensorflow/core/kernels/data/shuffle_dataset_op.cc:422] ShuffleDatasetV3:1: Filling up shuffle buffer (this may take a while): 14179 of 14766\n"
     ]
    },
    {
     "name": "stdout",
     "output_type": "stream",
     "text": [
      "124/462 [=======>......................] - ETA: 0s - loss: 0.0352 - accuracy: 0.9960 - auc: 0.9992 - specificity: 0.9964 - sensitivity: 0.9931 - f1_score: 0.9979    "
     ]
    },
    {
     "name": "stderr",
     "output_type": "stream",
     "text": [
      "2025-01-11 15:00:17.651621: I tensorflow/core/kernels/data/shuffle_dataset_op.cc:452] Shuffle buffer filled.\n"
     ]
    },
    {
     "name": "stdout",
     "output_type": "stream",
     "text": [
      "462/462 [==============================] - 116s 1ms/step - loss: 0.0346 - accuracy: 0.9963 - auc: 0.9990 - specificity: 0.9976 - sensitivity: 0.9932 - f1_score: 0.9979 - val_loss: 0.0365 - val_accuracy: 0.9955 - val_auc: 0.9981 - val_specificity: 0.9937 - val_sensitivity: 0.9927 - val_f1_score: 0.9962 - lr: 1.0000e-06\n",
      "Epoch 48/50\n"
     ]
    },
    {
     "name": "stderr",
     "output_type": "stream",
     "text": [
      "2025-01-11 15:00:28.285757: I tensorflow/core/kernels/data/shuffle_dataset_op.cc:422] ShuffleDatasetV3:1: Filling up shuffle buffer (this may take a while): 10367 of 14766\n",
      "2025-01-11 15:00:38.305217: I tensorflow/core/kernels/data/shuffle_dataset_op.cc:422] ShuffleDatasetV3:1: Filling up shuffle buffer (this may take a while): 10661 of 14766\n",
      "2025-01-11 15:00:58.327353: I tensorflow/core/kernels/data/shuffle_dataset_op.cc:422] ShuffleDatasetV3:1: Filling up shuffle buffer (this may take a while): 11982 of 14766\n",
      "2025-01-11 15:01:18.283323: I tensorflow/core/kernels/data/shuffle_dataset_op.cc:422] ShuffleDatasetV3:1: Filling up shuffle buffer (this may take a while): 12684 of 14766\n",
      "2025-01-11 15:01:28.286130: I tensorflow/core/kernels/data/shuffle_dataset_op.cc:422] ShuffleDatasetV3:1: Filling up shuffle buffer (this may take a while): 13028 of 14766\n",
      "2025-01-11 15:01:38.302922: I tensorflow/core/kernels/data/shuffle_dataset_op.cc:422] ShuffleDatasetV3:1: Filling up shuffle buffer (this may take a while): 13362 of 14766\n",
      "2025-01-11 15:01:58.319402: I tensorflow/core/kernels/data/shuffle_dataset_op.cc:422] ShuffleDatasetV3:1: Filling up shuffle buffer (this may take a while): 14037 of 14766\n",
      "2025-01-11 15:02:08.336391: I tensorflow/core/kernels/data/shuffle_dataset_op.cc:422] ShuffleDatasetV3:1: Filling up shuffle buffer (this may take a while): 14420 of 14766\n"
     ]
    },
    {
     "name": "stdout",
     "output_type": "stream",
     "text": [
      "104/462 [=====>........................] - ETA: 0s - loss: 0.0362 - accuracy: 0.9955 - auc: 0.9984 - specificity: 0.9963 - sensitivity: 0.9915 - f1_score: 0.9966    "
     ]
    },
    {
     "name": "stderr",
     "output_type": "stream",
     "text": [
      "2025-01-11 15:02:15.036663: I tensorflow/core/kernels/data/shuffle_dataset_op.cc:452] Shuffle buffer filled.\n"
     ]
    },
    {
     "name": "stdout",
     "output_type": "stream",
     "text": [
      "462/462 [==============================] - 117s 1ms/step - loss: 0.0346 - accuracy: 0.9962 - auc: 0.9987 - specificity: 0.9980 - sensitivity: 0.9928 - f1_score: 0.9976 - val_loss: 0.0365 - val_accuracy: 0.9955 - val_auc: 0.9981 - val_specificity: 0.9937 - val_sensitivity: 0.9927 - val_f1_score: 0.9962 - lr: 1.0000e-06\n",
      "Epoch 49/50\n"
     ]
    },
    {
     "name": "stderr",
     "output_type": "stream",
     "text": [
      "2025-01-11 15:02:25.723434: I tensorflow/core/kernels/data/shuffle_dataset_op.cc:422] ShuffleDatasetV3:1: Filling up shuffle buffer (this may take a while): 9597 of 14766\n",
      "2025-01-11 15:02:45.694004: I tensorflow/core/kernels/data/shuffle_dataset_op.cc:422] ShuffleDatasetV3:1: Filling up shuffle buffer (this may take a while): 11307 of 14766\n",
      "2025-01-11 15:02:55.707550: I tensorflow/core/kernels/data/shuffle_dataset_op.cc:422] ShuffleDatasetV3:1: Filling up shuffle buffer (this may take a while): 11866 of 14766\n",
      "2025-01-11 15:03:15.681639: I tensorflow/core/kernels/data/shuffle_dataset_op.cc:422] ShuffleDatasetV3:1: Filling up shuffle buffer (this may take a while): 12872 of 14766\n",
      "2025-01-11 15:03:25.708599: I tensorflow/core/kernels/data/shuffle_dataset_op.cc:422] ShuffleDatasetV3:1: Filling up shuffle buffer (this may take a while): 13216 of 14766\n",
      "2025-01-11 15:03:45.699362: I tensorflow/core/kernels/data/shuffle_dataset_op.cc:422] ShuffleDatasetV3:1: Filling up shuffle buffer (this may take a while): 14205 of 14766\n",
      "2025-01-11 15:03:55.705253: I tensorflow/core/kernels/data/shuffle_dataset_op.cc:422] ShuffleDatasetV3:1: Filling up shuffle buffer (this may take a while): 14555 of 14766\n"
     ]
    },
    {
     "name": "stdout",
     "output_type": "stream",
     "text": [
      "124/462 [=======>......................] - ETA: 0s - loss: 0.0351 - accuracy: 0.9970 - auc: 0.9985 - specificity: 0.9985 - sensitivity: 0.9939 - f1_score: 0.9977    "
     ]
    },
    {
     "name": "stderr",
     "output_type": "stream",
     "text": [
      "2025-01-11 15:04:03.548551: I tensorflow/core/kernels/data/shuffle_dataset_op.cc:452] Shuffle buffer filled.\n"
     ]
    },
    {
     "name": "stdout",
     "output_type": "stream",
     "text": [
      "462/462 [==============================] - 108s 1ms/step - loss: 0.0347 - accuracy: 0.9957 - auc: 0.9989 - specificity: 0.9978 - sensitivity: 0.9917 - f1_score: 0.9978 - val_loss: 0.0365 - val_accuracy: 0.9955 - val_auc: 0.9981 - val_specificity: 0.9937 - val_sensitivity: 0.9927 - val_f1_score: 0.9962 - lr: 1.0000e-06\n",
      "Epoch 50/50\n"
     ]
    },
    {
     "name": "stderr",
     "output_type": "stream",
     "text": [
      "2025-01-11 15:04:14.193101: I tensorflow/core/kernels/data/shuffle_dataset_op.cc:422] ShuffleDatasetV3:1: Filling up shuffle buffer (this may take a while): 9365 of 14766\n",
      "2025-01-11 15:04:34.157200: I tensorflow/core/kernels/data/shuffle_dataset_op.cc:422] ShuffleDatasetV3:1: Filling up shuffle buffer (this may take a while): 11790 of 14766\n",
      "2025-01-11 15:04:44.171410: I tensorflow/core/kernels/data/shuffle_dataset_op.cc:422] ShuffleDatasetV3:1: Filling up shuffle buffer (this may take a while): 12149 of 14766\n",
      "2025-01-11 15:04:54.178964: I tensorflow/core/kernels/data/shuffle_dataset_op.cc:422] ShuffleDatasetV3:1: Filling up shuffle buffer (this may take a while): 12504 of 14766\n",
      "2025-01-11 15:05:14.155186: I tensorflow/core/kernels/data/shuffle_dataset_op.cc:422] ShuffleDatasetV3:1: Filling up shuffle buffer (this may take a while): 13190 of 14766\n",
      "2025-01-11 15:05:34.176130: I tensorflow/core/kernels/data/shuffle_dataset_op.cc:422] ShuffleDatasetV3:1: Filling up shuffle buffer (this may take a while): 13928 of 14766\n",
      "2025-01-11 15:05:44.202198: I tensorflow/core/kernels/data/shuffle_dataset_op.cc:422] ShuffleDatasetV3:1: Filling up shuffle buffer (this may take a while): 14150 of 14766\n"
     ]
    },
    {
     "name": "stdout",
     "output_type": "stream",
     "text": [
      "117/462 [======>.......................] - ETA: 0s - loss: 0.0337 - accuracy: 0.9960 - auc: 0.9989 - specificity: 0.9986 - sensitivity: 0.9936 - f1_score: 0.9982    "
     ]
    },
    {
     "name": "stderr",
     "output_type": "stream",
     "text": [
      "2025-01-11 15:06:00.300901: I tensorflow/core/kernels/data/shuffle_dataset_op.cc:452] Shuffle buffer filled.\n"
     ]
    },
    {
     "name": "stdout",
     "output_type": "stream",
     "text": [
      "462/462 [==============================] - 117s 1ms/step - loss: 0.0345 - accuracy: 0.9961 - auc: 0.9989 - specificity: 0.9974 - sensitivity: 0.9928 - f1_score: 0.9976 - val_loss: 0.0365 - val_accuracy: 0.9955 - val_auc: 0.9981 - val_specificity: 0.9937 - val_sensitivity: 0.9927 - val_f1_score: 0.9962 - lr: 1.0000e-06\n"
     ]
    },
    {
     "data": {
      "text/plain": [
       "<keras.src.callbacks.History at 0x28508c090>"
      ]
     },
     "execution_count": 24,
     "metadata": {},
     "output_type": "execute_result"
    }
   ],
   "source": [
    "model.fit(\n",
    "    train_ds,\n",
    "    validation_data=val_ds,\n",
    "    epochs=50,\n",
    "    callbacks=[early_stopping, lr_scheduler]\n",
    ")"
   ]
  },
  {
   "cell_type": "code",
   "execution_count": 57,
   "id": "34f252a4-da38-4dea-9694-1fade088b22d",
   "metadata": {
    "scrolled": true
   },
   "outputs": [
    {
     "name": "stdout",
     "output_type": "stream",
     "text": [
      "Epoch 1/50\n",
      "124/124 [==============================] - 0s 1ms/step - loss: 0.0429 - accuracy: 0.9919 - auc: 0.9971 - specificity: 0.9908 - sensitivity: 0.9874 - f1_score: 0.9926\n",
      "Epoch 2/50\n",
      "124/124 [==============================] - 0s 1ms/step - loss: 0.0429 - accuracy: 0.9924 - auc: 0.9971 - specificity: 0.9910 - sensitivity: 0.9893 - f1_score: 0.9926\n",
      "Epoch 3/50\n",
      "124/124 [==============================] - 0s 1ms/step - loss: 0.0432 - accuracy: 0.9924 - auc: 0.9966 - specificity: 0.9938 - sensitivity: 0.9883 - f1_score: 0.9938\n",
      "Epoch 4/50\n",
      "124/124 [==============================] - 0s 1ms/step - loss: 0.0434 - accuracy: 0.9919 - auc: 0.9973 - specificity: 0.9917 - sensitivity: 0.9879 - f1_score: 0.9936\n",
      "Epoch 5/50\n",
      "124/124 [==============================] - 0s 1ms/step - loss: 0.0426 - accuracy: 0.9922 - auc: 0.9957 - specificity: 0.9938 - sensitivity: 0.9874 - f1_score: 0.9932\n",
      "Epoch 6/50\n",
      "124/124 [==============================] - 0s 1ms/step - loss: 0.0433 - accuracy: 0.9917 - auc: 0.9966 - specificity: 0.9936 - sensitivity: 0.9869 - f1_score: 0.9940\n",
      "Epoch 7/50\n",
      "124/124 [==============================] - 0s 1ms/step - loss: 0.0431 - accuracy: 0.9917 - auc: 0.9973 - specificity: 0.9923 - sensitivity: 0.9888 - f1_score: 0.9937\n",
      "Epoch 8/50\n",
      "124/124 [==============================] - 0s 1ms/step - loss: 0.0432 - accuracy: 0.9927 - auc: 0.9969 - specificity: 0.9944 - sensitivity: 0.9883 - f1_score: 0.9944\n",
      "Epoch 9/50\n",
      "124/124 [==============================] - 0s 1ms/step - loss: 0.0416 - accuracy: 0.9937 - auc: 0.9966 - specificity: 0.9938 - sensitivity: 0.9897 - f1_score: 0.9939\n",
      "Epoch 10/50\n",
      "124/124 [==============================] - 0s 1ms/step - loss: 0.0423 - accuracy: 0.9932 - auc: 0.9961 - specificity: 0.9942 - sensitivity: 0.9883 - f1_score: 0.9940\n",
      "Epoch 11/50\n",
      "124/124 [==============================] - 0s 1ms/step - loss: 0.0422 - accuracy: 0.9919 - auc: 0.9974 - specificity: 0.9932 - sensitivity: 0.9869 - f1_score: 0.9941\n",
      "Epoch 12/50\n",
      "124/124 [==============================] - 0s 2ms/step - loss: 0.0425 - accuracy: 0.9909 - auc: 0.9974 - specificity: 0.9927 - sensitivity: 0.9864 - f1_score: 0.9940\n",
      "Epoch 13/50\n",
      "124/124 [==============================] - 0s 2ms/step - loss: 0.0426 - accuracy: 0.9927 - auc: 0.9974 - specificity: 0.9920 - sensitivity: 0.9879 - f1_score: 0.9936\n",
      "Epoch 14/50\n",
      "124/124 [==============================] - 0s 1ms/step - loss: 0.0432 - accuracy: 0.9927 - auc: 0.9964 - specificity: 0.9922 - sensitivity: 0.9879 - f1_score: 0.9926\n",
      "Epoch 15/50\n",
      "124/124 [==============================] - 0s 1ms/step - loss: 0.0421 - accuracy: 0.9919 - auc: 0.9974 - specificity: 0.9927 - sensitivity: 0.9874 - f1_score: 0.9937\n",
      "Epoch 16/50\n",
      "124/124 [==============================] - 0s 1ms/step - loss: 0.0419 - accuracy: 0.9927 - auc: 0.9976 - specificity: 0.9931 - sensitivity: 0.9879 - f1_score: 0.9944\n",
      "Epoch 17/50\n",
      "124/124 [==============================] - 0s 1ms/step - loss: 0.0427 - accuracy: 0.9944 - auc: 0.9966 - specificity: 0.9926 - sensitivity: 0.9907 - f1_score: 0.9935\n",
      "Epoch 18/50\n",
      "124/124 [==============================] - 0s 1ms/step - loss: 0.0418 - accuracy: 0.9932 - auc: 0.9961 - specificity: 0.9954 - sensitivity: 0.9893 - f1_score: 0.9943\n",
      "Epoch 19/50\n",
      "124/124 [==============================] - 0s 1ms/step - loss: 0.0421 - accuracy: 0.9934 - auc: 0.9969 - specificity: 0.9926 - sensitivity: 0.9897 - f1_score: 0.9939\n",
      "Epoch 20/50\n",
      "124/124 [==============================] - 0s 1ms/step - loss: 0.0419 - accuracy: 0.9929 - auc: 0.9976 - specificity: 0.9948 - sensitivity: 0.9888 - f1_score: 0.9950\n",
      "Epoch 21/50\n",
      "124/124 [==============================] - 0s 1ms/step - loss: 0.0416 - accuracy: 0.9932 - auc: 0.9973 - specificity: 0.9938 - sensitivity: 0.9893 - f1_score: 0.9945\n",
      "Epoch 22/50\n",
      "124/124 [==============================] - 0s 1ms/step - loss: 0.0423 - accuracy: 0.9919 - auc: 0.9976 - specificity: 0.9921 - sensitivity: 0.9864 - f1_score: 0.9939\n",
      "Epoch 23/50\n",
      "124/124 [==============================] - 0s 1ms/step - loss: 0.0423 - accuracy: 0.9927 - auc: 0.9976 - specificity: 0.9933 - sensitivity: 0.9879 - f1_score: 0.9943\n",
      "Epoch 24/50\n",
      "124/124 [==============================] - 0s 1ms/step - loss: 0.0419 - accuracy: 0.9929 - auc: 0.9966 - specificity: 0.9935 - sensitivity: 0.9883 - f1_score: 0.9940\n",
      "Epoch 25/50\n",
      "124/124 [==============================] - 0s 1ms/step - loss: 0.0420 - accuracy: 0.9917 - auc: 0.9976 - specificity: 0.9929 - sensitivity: 0.9879 - f1_score: 0.9940\n",
      "Epoch 26/50\n",
      "124/124 [==============================] - 0s 1ms/step - loss: 0.0430 - accuracy: 0.9917 - auc: 0.9976 - specificity: 0.9919 - sensitivity: 0.9860 - f1_score: 0.9937\n",
      "Epoch 27/50\n",
      "124/124 [==============================] - 0s 2ms/step - loss: 0.0421 - accuracy: 0.9932 - auc: 0.9969 - specificity: 0.9946 - sensitivity: 0.9893 - f1_score: 0.9948\n",
      "Epoch 28/50\n",
      "124/124 [==============================] - 0s 1ms/step - loss: 0.0421 - accuracy: 0.9927 - auc: 0.9974 - specificity: 0.9950 - sensitivity: 0.9874 - f1_score: 0.9946\n",
      "Epoch 29/50\n",
      "124/124 [==============================] - 0s 1ms/step - loss: 0.0415 - accuracy: 0.9934 - auc: 0.9976 - specificity: 0.9954 - sensitivity: 0.9888 - f1_score: 0.9953\n",
      "Epoch 30/50\n",
      "124/124 [==============================] - 0s 1ms/step - loss: 0.0431 - accuracy: 0.9912 - auc: 0.9973 - specificity: 0.9903 - sensitivity: 0.9869 - f1_score: 0.9929\n",
      "Epoch 31/50\n",
      "124/124 [==============================] - 0s 1ms/step - loss: 0.0423 - accuracy: 0.9924 - auc: 0.9959 - specificity: 0.9943 - sensitivity: 0.9888 - f1_score: 0.9934\n",
      "Epoch 32/50\n",
      "124/124 [==============================] - 0s 1ms/step - loss: 0.0426 - accuracy: 0.9922 - auc: 0.9967 - specificity: 0.9915 - sensitivity: 0.9879 - f1_score: 0.9926\n",
      "Epoch 33/50\n",
      "124/124 [==============================] - 0s 1ms/step - loss: 0.0412 - accuracy: 0.9950 - auc: 0.9983 - specificity: 0.9946 - sensitivity: 0.9911 - f1_score: 0.9959\n",
      "Epoch 34/50\n",
      "124/124 [==============================] - 0s 1ms/step - loss: 0.0427 - accuracy: 0.9929 - auc: 0.9962 - specificity: 0.9926 - sensitivity: 0.9888 - f1_score: 0.9927\n",
      "Epoch 35/50\n",
      "124/124 [==============================] - 0s 1ms/step - loss: 0.0424 - accuracy: 0.9932 - auc: 0.9976 - specificity: 0.9934 - sensitivity: 0.9883 - f1_score: 0.9948\n",
      "Epoch 36/50\n",
      "124/124 [==============================] - 0s 1ms/step - loss: 0.0419 - accuracy: 0.9934 - auc: 0.9974 - specificity: 0.9936 - sensitivity: 0.9888 - f1_score: 0.9941\n",
      "Epoch 37/50\n",
      "124/124 [==============================] - 0s 1ms/step - loss: 0.0435 - accuracy: 0.9899 - auc: 0.9964 - specificity: 0.9914 - sensitivity: 0.9846 - f1_score: 0.9928\n",
      "Epoch 38/50\n",
      "124/124 [==============================] - 0s 1ms/step - loss: 0.0426 - accuracy: 0.9922 - auc: 0.9964 - specificity: 0.9927 - sensitivity: 0.9860 - f1_score: 0.9932\n",
      "Epoch 39/50\n",
      "124/124 [==============================] - 0s 1ms/step - loss: 0.0422 - accuracy: 0.9929 - auc: 0.9969 - specificity: 0.9926 - sensitivity: 0.9888 - f1_score: 0.9934\n",
      "Epoch 40/50\n",
      "124/124 [==============================] - 0s 1ms/step - loss: 0.0414 - accuracy: 0.9939 - auc: 0.9974 - specificity: 0.9941 - sensitivity: 0.9893 - f1_score: 0.9948\n",
      "Epoch 41/50\n",
      "124/124 [==============================] - 0s 1ms/step - loss: 0.0419 - accuracy: 0.9942 - auc: 0.9979 - specificity: 0.9917 - sensitivity: 0.9911 - f1_score: 0.9942\n",
      "Epoch 42/50\n",
      "124/124 [==============================] - 0s 1ms/step - loss: 0.0422 - accuracy: 0.9922 - auc: 0.9978 - specificity: 0.9935 - sensitivity: 0.9874 - f1_score: 0.9947\n",
      "Epoch 43/50\n",
      "124/124 [==============================] - 0s 1ms/step - loss: 0.0408 - accuracy: 0.9947 - auc: 0.9976 - specificity: 0.9930 - sensitivity: 0.9916 - f1_score: 0.9944\n",
      "Epoch 44/50\n",
      "124/124 [==============================] - 0s 1ms/step - loss: 0.0412 - accuracy: 0.9929 - auc: 0.9978 - specificity: 0.9949 - sensitivity: 0.9888 - f1_score: 0.9960\n",
      "Epoch 45/50\n",
      "124/124 [==============================] - 0s 1ms/step - loss: 0.0424 - accuracy: 0.9922 - auc: 0.9973 - specificity: 0.9928 - sensitivity: 0.9874 - f1_score: 0.9940\n",
      "Epoch 46/50\n",
      "124/124 [==============================] - 0s 1ms/step - loss: 0.0414 - accuracy: 0.9929 - auc: 0.9972 - specificity: 0.9937 - sensitivity: 0.9888 - f1_score: 0.9943\n",
      "Epoch 47/50\n",
      "124/124 [==============================] - 0s 1ms/step - loss: 0.0430 - accuracy: 0.9912 - auc: 0.9969 - specificity: 0.9912 - sensitivity: 0.9850 - f1_score: 0.9933\n",
      "Epoch 48/50\n",
      "124/124 [==============================] - 0s 1ms/step - loss: 0.0417 - accuracy: 0.9932 - auc: 0.9967 - specificity: 0.9956 - sensitivity: 0.9888 - f1_score: 0.9946\n",
      "Epoch 49/50\n",
      "124/124 [==============================] - 0s 1ms/step - loss: 0.0418 - accuracy: 0.9937 - auc: 0.9973 - specificity: 0.9932 - sensitivity: 0.9902 - f1_score: 0.9944\n",
      "Epoch 50/50\n",
      "124/124 [==============================] - 0s 1ms/step - loss: 0.0423 - accuracy: 0.9927 - auc: 0.9976 - specificity: 0.9947 - sensitivity: 0.9874 - f1_score: 0.9951\n"
     ]
    },
    {
     "data": {
      "text/plain": [
       "<keras.src.callbacks.History at 0x1039d6050>"
      ]
     },
     "execution_count": 57,
     "metadata": {},
     "output_type": "execute_result"
    }
   ],
   "source": [
    "model.fit(\n",
    "    test_ds,\n",
    "    epochs=50,\n",
    ")"
   ]
  },
  {
   "cell_type": "code",
   "execution_count": 58,
   "id": "855d016f-285c-42e8-8fd3-24739ca64c95",
   "metadata": {},
   "outputs": [],
   "source": [
    "weights = model.get_weights()\n"
   ]
  },
  {
   "cell_type": "code",
   "execution_count": 59,
   "id": "49f46c23-093a-4ce1-a0ed-b38bc7f794c6",
   "metadata": {
    "scrolled": true
   },
   "outputs": [],
   "source": [
    "first_layer_weights = weights[0]  \n",
    "\n",
    "weight_df = pd.DataFrame(\n",
    "    first_layer_weights[:8],  \n",
    "    columns=[f'Hidden_Node_{i}' for i in range(first_layer_weights.shape[1])], \n",
    "    index=X_train.columns[:8]  \n",
    ")"
   ]
  },
  {
   "cell_type": "code",
   "execution_count": 60,
   "id": "3089289e-8bd3-464a-8917-fd0ce74a52e8",
   "metadata": {},
   "outputs": [
    {
     "name": "stdout",
     "output_type": "stream",
     "text": [
      "raceeth    4.103426\n",
      "q7         3.959653\n",
      "q64        3.787702\n",
      "q2         3.423419\n",
      "q3         3.236468\n",
      "q6         3.150844\n",
      "q1         3.137364\n",
      "q4         2.557290\n",
      "dtype: float32\n"
     ]
    }
   ],
   "source": [
    "feature_importance = weight_df.abs().sum(axis=1).sort_values(ascending=False)\n",
    "\n",
    "print(feature_importance)"
   ]
  },
  {
   "cell_type": "code",
   "execution_count": 61,
   "id": "4ca7fd38-4cf8-49cd-9507-2f04932078d8",
   "metadata": {},
   "outputs": [
    {
     "name": "stdout",
     "output_type": "stream",
     "text": [
      "q27        6.554233\n",
      "q74        5.102590\n",
      "q75        4.820109\n",
      "q92        4.515880\n",
      "q51        4.273222\n",
      "raceeth    4.103426\n",
      "q82        4.100723\n",
      "q60        4.030385\n",
      "q81        4.025431\n",
      "q7         3.959653\n",
      "q54        3.788153\n",
      "q64        3.787702\n",
      "q53        3.697364\n",
      "q17        3.667910\n",
      "q61        3.638649\n",
      "q84        3.559189\n",
      "q10        3.557141\n",
      "q59        3.547775\n",
      "q52        3.528288\n",
      "q12        3.478007\n",
      "q80        3.446143\n",
      "q79        3.428434\n",
      "q2         3.423419\n",
      "q8         3.411996\n",
      "q65        3.405296\n",
      "q29        3.277498\n",
      "q85        3.266492\n",
      "q3         3.236468\n",
      "q58        3.202972\n",
      "q55        3.198673\n",
      "q6         3.150844\n",
      "q1         3.137364\n",
      "q28        3.130185\n",
      "q49        3.115456\n",
      "q9         2.943944\n",
      "q11        2.846949\n",
      "q19        2.791596\n",
      "q87        2.756713\n",
      "q26        2.717906\n",
      "q31        2.600180\n",
      "q4         2.557290\n",
      "q50        2.425624\n",
      "q39        1.500961\n",
      "q46        1.463239\n",
      "q30        1.371177\n",
      "q35        1.107665\n",
      "q38        0.798624\n",
      "dtype: float32\n"
     ]
    }
   ],
   "source": [
    "weight_mb = pd.DataFrame(first_layer_weights, columns=[f'Hidden_Node_{i}' for i in range(first_layer_weights.shape[1])], index=X_train.columns)\n",
    "\n",
    "mb_importance = weight_mb.abs().sum(axis=1).sort_values(ascending=False)\n",
    "print(mb_importance)"
   ]
  }
 ],
 "metadata": {
  "kernelspec": {
   "display_name": "Python [conda env:base] *",
   "language": "python",
   "name": "conda-base-py"
  },
  "language_info": {
   "codemirror_mode": {
    "name": "ipython",
    "version": 3
   },
   "file_extension": ".py",
   "mimetype": "text/x-python",
   "name": "python",
   "nbconvert_exporter": "python",
   "pygments_lexer": "ipython3",
   "version": "3.11.5"
  }
 },
 "nbformat": 4,
 "nbformat_minor": 5
}
