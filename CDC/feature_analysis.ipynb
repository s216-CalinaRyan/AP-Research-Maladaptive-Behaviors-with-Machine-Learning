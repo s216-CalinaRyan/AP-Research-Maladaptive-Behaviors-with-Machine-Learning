{
 "cells": [
  {
   "cell_type": "code",
   "execution_count": 1,
   "id": "a44f0045-df72-4646-a677-0dd8c210a716",
   "metadata": {},
   "outputs": [],
   "source": [
    "import pandas as pd"
   ]
  },
  {
   "cell_type": "code",
   "execution_count": 2,
   "id": "bc6a49cb-f1f1-4140-bcf2-cdf06bfaaf8b",
   "metadata": {},
   "outputs": [],
   "source": [
    "df = pd.read_csv('final.csv')"
   ]
  },
  {
   "cell_type": "code",
   "execution_count": 3,
   "id": "caa7858b-ccb1-43a6-abf0-d28d58efbb0e",
   "metadata": {},
   "outputs": [],
   "source": [
    "df = df[df['MB'] == 1]"
   ]
  },
  {
   "cell_type": "code",
   "execution_count": 4,
   "id": "03383a12-1e01-464a-8c7c-bd2f2a5fc0f1",
   "metadata": {},
   "outputs": [
    {
     "name": "stdout",
     "output_type": "stream",
     "text": [
      "<class 'pandas.core.frame.DataFrame'>\n",
      "Index: 3455 entries, 2 to 19592\n",
      "Data columns (total 39 columns):\n",
      " #   Column  Non-Null Count  Dtype  \n",
      "---  ------  --------------  -----  \n",
      " 0   q8      3455 non-null   float64\n",
      " 1   q9      3455 non-null   float64\n",
      " 2   q10     3455 non-null   float64\n",
      " 3   q11     3455 non-null   float64\n",
      " 4   q12     3455 non-null   float64\n",
      " 5   q17     3455 non-null   float64\n",
      " 6   q19     3455 non-null   float64\n",
      " 7   q26     3455 non-null   float64\n",
      " 8   q27     3455 non-null   float64\n",
      " 9   q28     3455 non-null   float64\n",
      " 10  q29     3455 non-null   float64\n",
      " 11  q30     3455 non-null   float64\n",
      " 12  q31     3455 non-null   float64\n",
      " 13  q35     3455 non-null   float64\n",
      " 14  q38     3455 non-null   float64\n",
      " 15  q39     3455 non-null   float64\n",
      " 16  q46     3455 non-null   float64\n",
      " 17  q49     3455 non-null   float64\n",
      " 18  q50     3455 non-null   float64\n",
      " 19  q51     3455 non-null   float64\n",
      " 20  q52     3455 non-null   float64\n",
      " 21  q53     3455 non-null   float64\n",
      " 22  q54     3455 non-null   float64\n",
      " 23  q55     3455 non-null   float64\n",
      " 24  q58     3455 non-null   float64\n",
      " 25  q59     3455 non-null   float64\n",
      " 26  q60     3455 non-null   float64\n",
      " 27  q61     3455 non-null   float64\n",
      " 28  q74     3455 non-null   float64\n",
      " 29  q75     3455 non-null   float64\n",
      " 30  q79     3455 non-null   float64\n",
      " 31  q80     3455 non-null   float64\n",
      " 32  q81     3455 non-null   float64\n",
      " 33  q82     3455 non-null   float64\n",
      " 34  q84     3455 non-null   float64\n",
      " 35  q85     3455 non-null   float64\n",
      " 36  q87     3455 non-null   float64\n",
      " 37  q92     3455 non-null   float64\n",
      " 38  MB      3455 non-null   float64\n",
      "dtypes: float64(39)\n",
      "memory usage: 1.1 MB\n"
     ]
    }
   ],
   "source": [
    "df.info()"
   ]
  },
  {
   "cell_type": "code",
   "execution_count": 5,
   "id": "925cfe90-90b1-4fb7-b9e6-631fd758267e",
   "metadata": {},
   "outputs": [],
   "source": [
    "MB = df[['q30', 'q17', 'q79', 'q84', 'q75', 'q51', 'q92', 'q38', 'q85', 'q82']]"
   ]
  },
  {
   "cell_type": "code",
   "execution_count": 6,
   "id": "8f16c9e6-01ca-435c-9954-40a3c167a2bf",
   "metadata": {},
   "outputs": [
    {
     "data": {
      "text/html": [
       "<div>\n",
       "<style scoped>\n",
       "    .dataframe tbody tr th:only-of-type {\n",
       "        vertical-align: middle;\n",
       "    }\n",
       "\n",
       "    .dataframe tbody tr th {\n",
       "        vertical-align: top;\n",
       "    }\n",
       "\n",
       "    .dataframe thead th {\n",
       "        text-align: right;\n",
       "    }\n",
       "</style>\n",
       "<table border=\"1\" class=\"dataframe\">\n",
       "  <thead>\n",
       "    <tr style=\"text-align: right;\">\n",
       "      <th></th>\n",
       "      <th>q30</th>\n",
       "      <th>q17</th>\n",
       "      <th>q79</th>\n",
       "      <th>q84</th>\n",
       "      <th>q75</th>\n",
       "      <th>q51</th>\n",
       "      <th>q92</th>\n",
       "      <th>q38</th>\n",
       "      <th>q85</th>\n",
       "      <th>q82</th>\n",
       "    </tr>\n",
       "  </thead>\n",
       "  <tbody>\n",
       "    <tr>\n",
       "      <th>2</th>\n",
       "      <td>0.0</td>\n",
       "      <td>0.000000</td>\n",
       "      <td>0.00</td>\n",
       "      <td>0.25</td>\n",
       "      <td>0.000000</td>\n",
       "      <td>0.2</td>\n",
       "      <td>0.0</td>\n",
       "      <td>0.000000</td>\n",
       "      <td>1.000000</td>\n",
       "      <td>0.0</td>\n",
       "    </tr>\n",
       "    <tr>\n",
       "      <th>3</th>\n",
       "      <td>0.0</td>\n",
       "      <td>0.000000</td>\n",
       "      <td>0.00</td>\n",
       "      <td>0.50</td>\n",
       "      <td>1.000000</td>\n",
       "      <td>0.2</td>\n",
       "      <td>0.0</td>\n",
       "      <td>0.000000</td>\n",
       "      <td>0.500000</td>\n",
       "      <td>0.0</td>\n",
       "    </tr>\n",
       "    <tr>\n",
       "      <th>4</th>\n",
       "      <td>0.0</td>\n",
       "      <td>0.000000</td>\n",
       "      <td>0.25</td>\n",
       "      <td>0.50</td>\n",
       "      <td>0.714286</td>\n",
       "      <td>0.0</td>\n",
       "      <td>0.0</td>\n",
       "      <td>0.333333</td>\n",
       "      <td>0.666667</td>\n",
       "      <td>0.0</td>\n",
       "    </tr>\n",
       "    <tr>\n",
       "      <th>6</th>\n",
       "      <td>0.0</td>\n",
       "      <td>0.000000</td>\n",
       "      <td>0.25</td>\n",
       "      <td>0.50</td>\n",
       "      <td>1.000000</td>\n",
       "      <td>0.0</td>\n",
       "      <td>0.0</td>\n",
       "      <td>0.000000</td>\n",
       "      <td>0.833333</td>\n",
       "      <td>0.0</td>\n",
       "    </tr>\n",
       "    <tr>\n",
       "      <th>8</th>\n",
       "      <td>0.5</td>\n",
       "      <td>0.142857</td>\n",
       "      <td>0.00</td>\n",
       "      <td>0.50</td>\n",
       "      <td>0.571429</td>\n",
       "      <td>0.0</td>\n",
       "      <td>0.0</td>\n",
       "      <td>0.000000</td>\n",
       "      <td>1.000000</td>\n",
       "      <td>0.0</td>\n",
       "    </tr>\n",
       "  </tbody>\n",
       "</table>\n",
       "</div>"
      ],
      "text/plain": [
       "   q30       q17   q79   q84       q75  q51  q92       q38       q85  q82\n",
       "2  0.0  0.000000  0.00  0.25  0.000000  0.2  0.0  0.000000  1.000000  0.0\n",
       "3  0.0  0.000000  0.00  0.50  1.000000  0.2  0.0  0.000000  0.500000  0.0\n",
       "4  0.0  0.000000  0.25  0.50  0.714286  0.0  0.0  0.333333  0.666667  0.0\n",
       "6  0.0  0.000000  0.25  0.50  1.000000  0.0  0.0  0.000000  0.833333  0.0\n",
       "8  0.5  0.142857  0.00  0.50  0.571429  0.0  0.0  0.000000  1.000000  0.0"
      ]
     },
     "execution_count": 6,
     "metadata": {},
     "output_type": "execute_result"
    }
   ],
   "source": [
    "MB.head()"
   ]
  },
  {
   "cell_type": "code",
   "execution_count": 9,
   "id": "f5c52655-c2be-4cef-9683-988291682fba",
   "metadata": {},
   "outputs": [
    {
     "name": "stdout",
     "output_type": "stream",
     "text": [
      "q30    0.000000\n",
      "q17    0.000000\n",
      "q79    0.000000\n",
      "q84    0.750000\n",
      "q75    1.000000\n",
      "q51    0.000000\n",
      "q92    0.000000\n",
      "q38    0.000000\n",
      "q85    0.666667\n",
      "q82    0.000000\n",
      "Name: 0, dtype: float64\n"
     ]
    }
   ],
   "source": [
    "MB_most = MB.mode().iloc[0]\n",
    "print(MB_most)"
   ]
  },
  {
   "cell_type": "code",
   "execution_count": 11,
   "id": "f307877d-a0d8-4d5f-950c-c862c604c40f",
   "metadata": {},
   "outputs": [
    {
     "name": "stdout",
     "output_type": "stream",
     "text": [
      "q30    1.000000\n",
      "q17    0.857143\n",
      "q79    0.750000\n",
      "q84    0.000000\n",
      "q75    0.142857\n",
      "q51    0.800000\n",
      "q92    0.800000\n",
      "q38    0.833333\n",
      "q85    0.000000\n",
      "q82    0.500000\n",
      "dtype: float64\n"
     ]
    }
   ],
   "source": [
    "MB_least = MB.apply(lambda col: col.value_counts().idxmin())\n",
    "print(MB_least)"
   ]
  },
  {
   "cell_type": "code",
   "execution_count": 26,
   "id": "d5e8ef30-57d8-44cf-9b59-72641b0da791",
   "metadata": {},
   "outputs": [],
   "source": [
    "df1 = pd.read_csv('demographic.csv')"
   ]
  },
  {
   "cell_type": "code",
   "execution_count": 30,
   "id": "820fa1bc-db0f-430d-9253-b50c346ecf62",
   "metadata": {},
   "outputs": [],
   "source": [
    "demographic = df1[['raceeth', 'q7', 'q64', 'q6', 'q1', 'q4']]"
   ]
  },
  {
   "cell_type": "code",
   "execution_count": 32,
   "id": "2ce9e7db-3e4c-494a-9dd9-60e04952504b",
   "metadata": {},
   "outputs": [
    {
     "name": "stdout",
     "output_type": "stream",
     "text": [
      "raceeth    0.571429\n",
      "q7         0.249643\n",
      "q64        0.000000\n",
      "q6         0.530048\n",
      "q1         0.500000\n",
      "q4         1.000000\n",
      "Name: 0, dtype: float64\n"
     ]
    }
   ],
   "source": [
    "demographic_most = demographic.mode().iloc[0]\n",
    "print(demographic_most)"
   ]
  },
  {
   "cell_type": "code",
   "execution_count": 34,
   "id": "1dcb1e0b-e4a6-4e50-90bc-ecd179ecb435",
   "metadata": {
    "scrolled": true
   },
   "outputs": [
    {
     "name": "stdout",
     "output_type": "stream",
     "text": [
      "raceeth    0.428571\n",
      "q7         0.866658\n",
      "q64        1.000000\n",
      "q6         0.000000\n",
      "q1         0.166667\n",
      "q4         0.799704\n",
      "dtype: float64\n"
     ]
    }
   ],
   "source": [
    "demographic_least = demographic.apply(lambda col: col.value_counts().idxmin())\n",
    "print(demographic_least)"
   ]
  },
  {
   "cell_type": "code",
   "execution_count": null,
   "id": "c186fe97-2a36-454b-8347-22fb1c5d708e",
   "metadata": {},
   "outputs": [],
   "source": []
  }
 ],
 "metadata": {
  "kernelspec": {
   "display_name": "Python [conda env:base] *",
   "language": "python",
   "name": "conda-base-py"
  },
  "language_info": {
   "codemirror_mode": {
    "name": "ipython",
    "version": 3
   },
   "file_extension": ".py",
   "mimetype": "text/x-python",
   "name": "python",
   "nbconvert_exporter": "python",
   "pygments_lexer": "ipython3",
   "version": "3.11.5"
  }
 },
 "nbformat": 4,
 "nbformat_minor": 5
}
