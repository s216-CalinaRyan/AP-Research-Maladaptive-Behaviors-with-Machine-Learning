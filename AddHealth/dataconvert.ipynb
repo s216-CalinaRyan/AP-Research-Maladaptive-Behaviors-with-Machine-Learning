{
 "cells": [
  {
   "cell_type": "code",
   "execution_count": 13,
   "id": "3c40360b-fb05-489c-a915-a82d0e602aef",
   "metadata": {},
   "outputs": [],
   "source": [
    "import pandas as pd"
   ]
  },
  {
   "cell_type": "code",
   "execution_count": 3,
   "id": "cfc44412-5e2a-4dae-963e-aa1f702bdf7e",
   "metadata": {},
   "outputs": [],
   "source": [
    "import pyreadstat "
   ]
  },
  {
   "cell_type": "code",
   "execution_count": 6,
   "id": "dcf3082e-d223-4e1e-88fe-b2af2d5c18d1",
   "metadata": {},
   "outputs": [
    {
     "name": "stdout",
     "output_type": "stream",
     "text": [
      "        AID  IMONTH  IDAY  IYEAR  SCH_YR  BIO_SEX VERSION  SMP01  SMP03  \\\n",
      "0  57100270     6.0  23.0   95.0     1.0      2.0       4    0.0    1.0   \n",
      "1  57101310     5.0   5.0   95.0     1.0      2.0       1    1.0    0.0   \n",
      "2  57103171     6.0  27.0   95.0     0.0      1.0       4    1.0    0.0   \n",
      "3  57103869     7.0  14.0   95.0     0.0      1.0       4    1.0    0.0   \n",
      "4  57104553     7.0  14.0   95.0     1.0      2.0       4    1.0    0.0   \n",
      "\n",
      "   H1GI1M  ...  PD4A  PD4B  PD4C  PD4D  PD4E  PD4F  PD5  PD5A  AH_PVT  AH_RAW  \n",
      "0    10.0  ...   7.0   7.0   7.0   7.0   7.0   7.0  1.0   1.0    86.0    55.0  \n",
      "1    11.0  ...   NaN   NaN   NaN   NaN   NaN   NaN  NaN   NaN    88.0    58.0  \n",
      "2    10.0  ...   7.0   7.0   7.0   7.0   7.0   7.0  1.0   0.0   120.0    79.0  \n",
      "3     1.0  ...   7.0   7.0   7.0   7.0   7.0   7.0  NaN   NaN    85.0    56.0  \n",
      "4     6.0  ...   7.0   7.0   7.0   7.0   7.0   7.0  1.0   0.0    90.0    59.0  \n",
      "\n",
      "[5 rows x 2794 columns]\n"
     ]
    }
   ],
   "source": [
    "raw_data_path = \"/Users/calinaryan/Downloads/NN_MB/AddHealth/w1inhome.sas7bdat\"\n",
    "formats_path = \"/Users/calinaryan/Downloads/NN_MB/AddHealth/w1context_format.sas7bcat\"\n",
    "\n",
    "raw_data, meta = pyreadstat.read_sas7bdat(raw_data_path, catalog_file=formats_path)\n",
    "\n",
    "print(raw_data.head())\n"
   ]
  },
  {
   "cell_type": "code",
   "execution_count": 8,
   "id": "c5e8e5dc-1a43-454b-95e7-65fcc06caf2f",
   "metadata": {},
   "outputs": [],
   "source": [
    "output_csv_path = \"/Users/calinaryan/Downloads/NN_MB/AddHealth/w1inhome.csv\"\n",
    "\n",
    "raw_data.to_csv(output_csv_path, index=False)\n"
   ]
  },
  {
   "cell_type": "code",
   "execution_count": null,
   "id": "622b7242-0c74-4deb-ad47-5b2d37beb521",
   "metadata": {},
   "outputs": [],
   "source": []
  }
 ],
 "metadata": {
  "kernelspec": {
   "display_name": "Python [conda env:base] *",
   "language": "python",
   "name": "conda-base-py"
  },
  "language_info": {
   "codemirror_mode": {
    "name": "ipython",
    "version": 3
   },
   "file_extension": ".py",
   "mimetype": "text/x-python",
   "name": "python",
   "nbconvert_exporter": "python",
   "pygments_lexer": "ipython3",
   "version": "3.11.5"
  }
 },
 "nbformat": 4,
 "nbformat_minor": 5
}
